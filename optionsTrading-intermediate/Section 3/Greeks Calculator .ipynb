{
 "cells": [
  {
   "cell_type": "markdown",
   "metadata": {},
   "source": [
    "# Notebook Instructions\n",
    "<i>You can run the notebook document sequentially (one cell a time) by pressing <b> shift + enter</b>. While a cell is running, a [*] will display on the left. When it has been run, a number will display indicating the order in which it was run in the notebook [8].</i>\n",
    "\n",
    "<i>Enter edit mode by pressing <b>`Enter`</b> or using the mouse to click on a cell's editor area. Edit mode is indicated by a green cell border and a prompt showing in the editor area.</i>"
   ]
  },
  {
   "cell_type": "markdown",
   "metadata": {},
   "source": [
    "# Greeks calculator\n",
    "\n",
    "It is now time to learn how to calculate the Greeks (Delta, Gamma, Vega, Theta, and Rho) in Python using the mibian library."
   ]
  },
  {
   "cell_type": "markdown",
   "metadata": {},
   "source": [
    "# Import the libraries\n",
    "\n",
    "Mibian is an open source python library for options pricing and computing Options Greeks. It can be used to calculate the call price, the put price, the implied volatility, the greeks of an option using the Black-Scholes Model (BS). Mibian is compatible with python 2.7 and 3.x. \n",
    "\n",
    "To install mibian in your pc/laptop type following line from a Jupyter notebook or Python shell:\n",
    "\n",
    "!pip install mibian"
   ]
  },
  {
   "cell_type": "code",
   "execution_count": 1,
   "metadata": {
    "collapsed": true
   },
   "outputs": [],
   "source": [
    "# Import Library\n",
    "import mibian\n",
    "from tabulate import tabulate"
   ]
  },
  {
   "cell_type": "markdown",
   "metadata": {},
   "source": [
    "# Define parameters for call option contract\n",
    "\n",
    "stock_price: This is the price at which the stock is trading.\n",
    "\n",
    "strike_price: This is the price at which the option will be exercised.\n",
    "\n",
    "interest_rate: This is the risk-free rate prevailing in the economy. In our example, we will take future price as the stock_price and consider the interest rate as 0. This is because the future price includes the interest rate.\n",
    "\n",
    "days_to_expiry: This the number of calendar days left to expiry.\n",
    "\n",
    "Volatility: This is the option's implied volatility."
   ]
  },
  {
   "cell_type": "code",
   "execution_count": 2,
   "metadata": {
    "collapsed": true
   },
   "outputs": [],
   "source": [
    "stock_price = 340.3\n",
    "strike_price = 350\n",
    "interest_rate = 0\n",
    "days_to_expiry = 29\n",
    "volatility = 30.0"
   ]
  },
  {
   "cell_type": "markdown",
   "metadata": {},
   "source": [
    "# Compute Greeks\n",
    "\n",
    "BS (Black-Scholes) is used for pricing European options on the stocks without dividends. The syntax is as follows:\n",
    "\n",
    "BS([stock_price, strike_price, interest_rate, days_to_expiry], volatility=x, callPrice=y, putPrice=z).\n",
    "\n",
    "The BS function returns  the following callPrice, putPrice, callDelta, putDelta, callTheta, putTheta, callRho, putRho, vega, and gamma\t\n"
   ]
  },
  {
   "cell_type": "code",
   "execution_count": 3,
   "metadata": {
    "collapsed": true
   },
   "outputs": [],
   "source": [
    "greeks = mibian.BS([stock_price, strike_price, interest_rate, days_to_expiry], \\\n",
    "                   volatility=volatility)"
   ]
  },
  {
   "cell_type": "markdown",
   "metadata": {},
   "source": [
    "# Greeks for Call Option"
   ]
  },
  {
   "cell_type": "code",
   "execution_count": 6,
   "metadata": {},
   "outputs": [
    {
     "name": "stdout",
     "output_type": "stream",
     "text": [
      "| Greeks   |      Value |\n",
      "|----------+------------|\n",
      "| Delta    |  0.385875  |\n",
      "| Gamma    |  0.0132923 |\n",
      "| Vega     |  0.366903  |\n",
      "| Theta    | -0.189778  |\n",
      "| Rho      |  0.0984302 |\n",
      "\n",
      "Call price is: 7.42690503148\n"
     ]
    }
   ],
   "source": [
    "print tabulate(\n",
    "        [             \n",
    "            ['Delta', greeks.callDelta],\n",
    "            ['Gamma', greeks.gamma],                  \n",
    "            ['Vega', greeks.vega],\n",
    "            ['Theta', greeks.callTheta],\n",
    "            ['Rho', greeks.callRho]\n",
    "        ], \n",
    "        headers=['Greeks', 'Value'], tablefmt='orgtbl')\n",
    "\n",
    "print \"\"\n",
    "print \"Call price is:\",greeks.callPrice"
   ]
  },
  {
   "cell_type": "markdown",
   "metadata": {},
   "source": [
    "# Greeks for Put Option"
   ]
  },
  {
   "cell_type": "code",
   "execution_count": 5,
   "metadata": {},
   "outputs": [
    {
     "name": "stdout",
     "output_type": "stream",
     "text": [
      "| Greeks   |      Value |\n",
      "|----------+------------|\n",
      "| Delta    | -0.614125  |\n",
      "| Gamma    |  0.0132923 |\n",
      "| Vega     |  0.366903  |\n",
      "| Theta    | -0.189778  |\n",
      "| Rho      | -0.179652  |\n",
      "\n",
      "Put price is: 17.1269050315\n"
     ]
    }
   ],
   "source": [
    "print tabulate(\n",
    "        [             \n",
    "            ['Delta', greeks.putDelta],\n",
    "            ['Gamma', greeks.gamma],                  \n",
    "            ['Vega', greeks.vega],\n",
    "            ['Theta', greeks.putTheta],\n",
    "            ['Rho', greeks.putRho]\n",
    "        ], \n",
    "        headers=['Greeks', 'Value'], tablefmt='orgtbl')\n",
    "print \"\"\n",
    "print \"Put price is:\",greeks.putPrice"
   ]
  },
  {
   "cell_type": "markdown",
   "metadata": {},
   "source": [
    "Below the Options Greeks table, the price of 100 strike call and 100 strike put is calculated. This is the theoretical option price as per the Black-Scholes options pricing model. This should ideally match with the option price in the market. In the upcoming units, we will discuss in depth all the important Options Greeks and their sensitivity.\n",
    "<BR>\n"
   ]
  }
 ],
 "metadata": {
  "anaconda-cloud": {},
  "kernelspec": {
   "display_name": "Python 2",
   "language": "python",
   "name": "python2"
  },
  "language_info": {
   "codemirror_mode": {
    "name": "ipython",
    "version": 2
   },
   "file_extension": ".py",
   "mimetype": "text/x-python",
   "name": "python",
   "nbconvert_exporter": "python",
   "pygments_lexer": "ipython2",
   "version": "2.7.13"
  }
 },
 "nbformat": 4,
 "nbformat_minor": 2
}
