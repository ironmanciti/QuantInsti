{
 "cells": [
  {
   "cell_type": "markdown",
   "metadata": {},
   "source": [
    "# Notebook Instructions\n",
    "<i>You can run the notebook document sequentially (one cell a time) by pressing <b> shift + enter</b>. While a cell is running, a [*] will display on the left. When it has been run, a number will display indicating the order in which it was run in the notebook [8].</i>\n",
    "\n",
    "<i>Enter edit mode by pressing <b>`Enter`</b> or using the mouse to click on a cell's editor area. Edit mode is indicated by a green cell border and a prompt showing in the editor area.</i>"
   ]
  },
  {
   "cell_type": "markdown",
   "metadata": {},
   "source": [
    "# Call price using Delta and Gamma\n",
    "\n",
    "In this notebook, we will calculate approximate price of call option using Delta and Gamma. The formula to compute the call option price using Taylor series expansion is given as:\n",
    "\n",
    "<i><b>Price of a call option = Initial Option Price + Delta x (change in the stock price) + 0.5 x Gamma x (change in the stock price)^2</b></i>\n",
    "\n"
   ]
  },
  {
   "cell_type": "markdown",
   "metadata": {},
   "source": [
    "# Delta and Gamma when stock price is at 100"
   ]
  },
  {
   "cell_type": "code",
   "execution_count": 1,
   "metadata": {},
   "outputs": [
    {
     "name": "stdout",
     "output_type": "stream",
     "text": [
      "| Stock Price | 100         |\n",
      "| Call Price  |   5.02709   |\n",
      "| Delta       |   0.525135  |\n",
      "| Gamma       |   0.0315757 |\n"
     ]
    }
   ],
   "source": [
    "# Import Library\n",
    "import mibian\n",
    "from tabulate import tabulate\n",
    "\n",
    "# Define parameters for call option contract\n",
    "stock_price = 100\n",
    "strike_price = 100\n",
    "interest_rate = 0\n",
    "days_to_expiry = 40\n",
    "volatility = 38.09\n",
    "\n",
    "# Compute greeks\n",
    "greeks_stock_price_100 = mibian.BS([stock_price, strike_price, interest_rate, days_to_expiry], \\\n",
    "                   volatility=volatility)\n",
    "\n",
    "# Print Delta and Gamma\n",
    "print tabulate(\n",
    "        [             \n",
    "            ['Stock Price', 100],\n",
    "            ['Call Price', greeks_stock_price_100.callPrice],\n",
    "            ['Delta', greeks_stock_price_100.callDelta],\n",
    "            ['Gamma', greeks_stock_price_100.gamma]            \n",
    "        ], \n",
    "        tablefmt='orgtbl')"
   ]
  },
  {
   "cell_type": "markdown",
   "metadata": {},
   "source": [
    "# Call price when stock is at 101 using Delta and Gamma"
   ]
  },
  {
   "cell_type": "code",
   "execution_count": 2,
   "metadata": {},
   "outputs": [
    {
     "name": "stdout",
     "output_type": "stream",
     "text": [
      "5.56801680203\n"
     ]
    }
   ],
   "source": [
    "# Change in stock price is Rs. 1 from 100 to 101\n",
    "call_price_at_101 = greeks_stock_price_100.callPrice \\\n",
    "                  + greeks_stock_price_100.callDelta * (101 - 100) \\\n",
    "                  + 0.5 * greeks_stock_price_100.gamma * (101 - 100)**2\n",
    "print call_price_at_101"
   ]
  },
  {
   "cell_type": "markdown",
   "metadata": {},
   "source": [
    "# Actual call price when stock is at 101"
   ]
  },
  {
   "cell_type": "code",
   "execution_count": 3,
   "metadata": {},
   "outputs": [
    {
     "name": "stdout",
     "output_type": "stream",
     "text": [
      "5.56793020593\n"
     ]
    }
   ],
   "source": [
    "stock_price = 101\n",
    "actual_call_price_at_101 = mibian.BS([stock_price, strike_price, interest_rate, days_to_expiry], \\\n",
    "                   volatility=volatility).callPrice\n",
    "\n",
    "print actual_call_price_at_101"
   ]
  },
  {
   "cell_type": "markdown",
   "metadata": {},
   "source": [
    "Thus the call price computed using Delta and Gamma of 5.5680 is pretty much close to the actual price of 5.5679. The call price is not equal to actual price due to the fact that there are higher order Greeks than Gamma. But as seen here they do not have much of an impact."
   ]
  }
 ],
 "metadata": {
  "anaconda-cloud": {},
  "kernelspec": {
   "display_name": "Python 2",
   "language": "python",
   "name": "python2"
  },
  "language_info": {
   "codemirror_mode": {
    "name": "ipython",
    "version": 2
   },
   "file_extension": ".py",
   "mimetype": "text/x-python",
   "name": "python",
   "nbconvert_exporter": "python",
   "pygments_lexer": "ipython2",
   "version": "2.7.13"
  }
 },
 "nbformat": 4,
 "nbformat_minor": 2
}
