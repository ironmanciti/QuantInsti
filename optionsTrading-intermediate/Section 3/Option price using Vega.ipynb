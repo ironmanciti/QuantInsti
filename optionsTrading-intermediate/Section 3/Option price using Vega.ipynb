{
 "cells": [
  {
   "cell_type": "markdown",
   "metadata": {},
   "source": [
    "# Notebook Instructions\n",
    "<i>You can run the notebook document sequentially (one cell a time) by pressing <b> shift + enter</b>. While a cell is running, a [*] will display on the left. When it has been run, a number will display indicating the order in which it was run in the notebook [8].</i>\n",
    "\n",
    "<i>Enter edit mode by pressing <b>`Enter`</b> or using the mouse to click on a cell's editor area. Edit mode is indicated by a green cell border and a prompt showing in the editor area.</i>"
   ]
  },
  {
   "cell_type": "markdown",
   "metadata": {},
   "source": [
    "# Call price using Vega\n",
    "\n",
    "In this notebook, we will calculate approximate price of call option using Vega. The formula to compute the call option price is given as:\n",
    "\n",
    "<i><b>Price of a call option = Initial Option Price + Vega x (change in the Volatility) * 100</b></i>\n",
    "\n"
   ]
  },
  {
   "cell_type": "markdown",
   "metadata": {},
   "source": [
    "# Vega when implied volatility is 30%"
   ]
  },
  {
   "cell_type": "code",
   "execution_count": 5,
   "metadata": {},
   "outputs": [
    {
     "name": "stdout",
     "output_type": "stream",
     "text": [
      "| Stock Price | 100        |\n",
      "| Call Price  |   3.96038  |\n",
      "| Vega        |   0.131904 |\n"
     ]
    }
   ],
   "source": [
    "# Import Library\n",
    "import mibian\n",
    "from tabulate import tabulate\n",
    "\n",
    "# Define parameters for call option contract\n",
    "stock_price = 100\n",
    "strike_price = 100\n",
    "interest_rate = 0\n",
    "days_to_expiry = 40\n",
    "volatility = 30\n",
    "\n",
    "# Compute greeks\n",
    "greeks_stock_price_100 = mibian.BS([stock_price, strike_price, interest_rate, days_to_expiry], \\\n",
    "                   volatility=volatility)\n",
    "\n",
    "# Print Vega\n",
    "print tabulate(\n",
    "        [             \n",
    "            ['Stock Price', 100],\n",
    "            ['Call Price', greeks_stock_price_100.callPrice],\n",
    "            ['Vega', greeks_stock_price_100.vega]                       \n",
    "        ], \n",
    "        tablefmt='orgtbl')"
   ]
  },
  {
   "cell_type": "markdown",
   "metadata": {},
   "source": [
    "# Call price using Vega when implied volatility is 31%"
   ]
  },
  {
   "cell_type": "code",
   "execution_count": 7,
   "metadata": {},
   "outputs": [
    {
     "name": "stdout",
     "output_type": "stream",
     "text": [
      "4.09228021743\n"
     ]
    }
   ],
   "source": [
    "call_price_at_31 = greeks_stock_price_100.callPrice \\\n",
    "                  + greeks_stock_price_100.vega * (0.31 - 0.30) * 100\n",
    "                  \n",
    "print call_price_at_31"
   ]
  },
  {
   "cell_type": "markdown",
   "metadata": {},
   "source": [
    "# Actual call price when implied volatility is 31%"
   ]
  },
  {
   "cell_type": "code",
   "execution_count": 8,
   "metadata": {},
   "outputs": [
    {
     "name": "stdout",
     "output_type": "stream",
     "text": [
      "4.09227473664\n"
     ]
    }
   ],
   "source": [
    "volatility = 31\n",
    "actual_call_price_at_31 = mibian.BS([stock_price, strike_price, interest_rate, days_to_expiry], \\\n",
    "                   volatility=volatility).callPrice\n",
    "\n",
    "print actual_call_price_at_31"
   ]
  },
  {
   "cell_type": "markdown",
   "metadata": {},
   "source": [
    "Thus the call price computed using Vega of 4.09228 is pretty much close to the actual price of 4.09227. The call price is not equal to actual price due to the fact that there are higher order Greeks than Vega. But as seen here they do not have much of an impact."
   ]
  }
 ],
 "metadata": {
  "anaconda-cloud": {},
  "kernelspec": {
   "display_name": "Python 2",
   "language": "python",
   "name": "python2"
  },
  "language_info": {
   "codemirror_mode": {
    "name": "ipython",
    "version": 2
   },
   "file_extension": ".py",
   "mimetype": "text/x-python",
   "name": "python",
   "nbconvert_exporter": "python",
   "pygments_lexer": "ipython2",
   "version": "2.7.13"
  }
 },
 "nbformat": 4,
 "nbformat_minor": 2
}
