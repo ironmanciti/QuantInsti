{
 "cells": [
  {
   "cell_type": "markdown",
   "metadata": {},
   "source": [
    "# Notebook Instructions\n",
    "<i>You can run the notebook document sequentially (one cell a time) by pressing <b> shift + enter</b>. While a cell is running, a [*] will display on the left. When it has been run, a number will display indicating the order in which it was run in the notebook [8].</i>\n",
    "\n",
    "<i>Enter edit mode by pressing <b>`Enter`</b> or using the mouse to click on a cell's editor area. Edit mode is indicated by a green cell border and a prompt showing in the editor area.</i>"
   ]
  },
  {
   "cell_type": "markdown",
   "metadata": {},
   "source": [
    "# Calendar Spread Payoff\n",
    "\n",
    "A calendar spread strategy profits from the time decay and/or increase in the implied volatility of the options. In this notebook, we will create a payoff graph of calendar spread at the expiry of front-month option."
   ]
  },
  {
   "cell_type": "markdown",
   "metadata": {},
   "source": [
    "## Import the libraries"
   ]
  },
  {
   "cell_type": "code",
   "execution_count": 98,
   "metadata": {
    "collapsed": true
   },
   "outputs": [],
   "source": [
    "# Data manipulation\n",
    "import numpy as np\n",
    "import pandas as pd\n",
    "\n",
    "# To plot\n",
    "import matplotlib.pyplot as plt\n",
    "import seaborn\n",
    "\n",
    "# BS Model\n",
    "import mibian"
   ]
  },
  {
   "cell_type": "markdown",
   "metadata": {},
   "source": [
    "## Setup\n",
    "Calendar spread involves options of the same underlying asset, the same strike price but with different expiration dates. \n",
    "\n",
    "- Sell a call (or put) with near-term expiration — <font color=blue>“front-month”</font>\n",
    "- Buy a call (or put) with long-term expiration — <font color=blue>“back-month”</font>"
   ]
  },
  {
   "cell_type": "markdown",
   "metadata": {},
   "source": [
    "## Calendar spread on Nifty\n",
    "We will setup the calendar spread on Nifty as shown below.\n",
    "\n",
    "- Sell 10400 strike call @ INR 50.50 expiring on 28 November 2017 — <font color=blue>“front-month”</font>\n",
    "- Buy 10400 strike call @ INR 148.50 expiring on 30 December 2017 — <font color=blue>“back-month”</font>"
   ]
  },
  {
   "cell_type": "code",
   "execution_count": 123,
   "metadata": {
    "collapsed": true
   },
   "outputs": [],
   "source": [
    "# Nifty futures price \n",
    "nifty_nov_fut = 10350.00\n",
    "nifty_dec_fut = 10387.00\n",
    "\n",
    "strike_price = 10400\n",
    "nov_call_price = 50.50\n",
    "dec_call_price = 148.50\n",
    "setup_cost = dec_call_price - nov_call_price\n",
    "\n",
    "# Today's date is 21 November 2017. Therefore, days to November expiry is 7 days and days to December expiry is 34 days.\n",
    "days_to_expiry_nov_call = 7\n",
    "days_to_expiry_dec_call = 34\n",
    "\n",
    "# Range of values for Nifty\n",
    "sT = np.arange(0.92*nifty_nov_fut,1.1*nifty_nov_fut,1) \n",
    "\n",
    "#interest rate for input to Black-Scholes model\n",
    "interest_rate = 0.0"
   ]
  },
  {
   "cell_type": "markdown",
   "metadata": {},
   "source": [
    "## Implied volatility\n",
    "\n",
    "We will calculate the implied volatilities for the front-month and back-month call option using Black-Scholes model. This implied volatility will be later used as input to Black-Scholes model to calculate the call price for diiferent values of Nifty."
   ]
  },
  {
   "cell_type": "code",
   "execution_count": 124,
   "metadata": {},
   "outputs": [
    {
     "name": "stdout",
     "output_type": "stream",
     "text": [
      "Front Month IV 12.70 %\n",
      "Back Month IV 12.25 %\n"
     ]
    }
   ],
   "source": [
    "# Front-month IV\n",
    "nov_call_iv = mibian.BS([nifty_nov_fut, strike_price, interest_rate, days_to_expiry_nov_call], \n",
    "                        callPrice=nov_call_price).impliedVolatility\n",
    "print \"Front Month IV %.2f\" % nov_call_iv,\"%\"\n",
    "\n",
    "# Back-month IV\n",
    "dec_call_iv = mibian.BS([nifty_dec_fut, strike_price, interest_rate, days_to_expiry_dec_call], \n",
    "                        callPrice=dec_call_price).impliedVolatility\n",
    "print \"Back Month IV %.2f\" % dec_call_iv,\"%\""
   ]
  },
  {
   "cell_type": "markdown",
   "metadata": {},
   "source": [
    "## Calculating the call price for front and back month option\n",
    "Since, there are two expiration dates for the options in the calendar spread, Black-Scholes pricing model is used to guesstimate the price of the front-month and back-month 10400 strike call at the front-month call expiry. You may change the days to expiry below to see how payoff changes.\n",
    "\n",
    "Note: We have assumed that all other things such as implied volatility and interest rates remain constant."
   ]
  },
  {
   "cell_type": "code",
   "execution_count": 125,
   "metadata": {},
   "outputs": [
    {
     "data": {
      "text/html": [
       "<div>\n",
       "<table border=\"1\" class=\"dataframe\">\n",
       "  <thead>\n",
       "    <tr style=\"text-align: right;\">\n",
       "      <th></th>\n",
       "      <th>nifty_price</th>\n",
       "      <th>nov_call_price</th>\n",
       "      <th>dec_call_price</th>\n",
       "    </tr>\n",
       "  </thead>\n",
       "  <tbody>\n",
       "    <tr>\n",
       "      <th>0</th>\n",
       "      <td>9522.0</td>\n",
       "      <td>0.0</td>\n",
       "      <td>0.806387</td>\n",
       "    </tr>\n",
       "    <tr>\n",
       "      <th>1</th>\n",
       "      <td>9523.0</td>\n",
       "      <td>0.0</td>\n",
       "      <td>0.813929</td>\n",
       "    </tr>\n",
       "    <tr>\n",
       "      <th>2</th>\n",
       "      <td>9524.0</td>\n",
       "      <td>0.0</td>\n",
       "      <td>0.821534</td>\n",
       "    </tr>\n",
       "    <tr>\n",
       "      <th>3</th>\n",
       "      <td>9525.0</td>\n",
       "      <td>0.0</td>\n",
       "      <td>0.829203</td>\n",
       "    </tr>\n",
       "    <tr>\n",
       "      <th>4</th>\n",
       "      <td>9526.0</td>\n",
       "      <td>0.0</td>\n",
       "      <td>0.836937</td>\n",
       "    </tr>\n",
       "  </tbody>\n",
       "</table>\n",
       "</div>"
      ],
      "text/plain": [
       "   nifty_price  nov_call_price  dec_call_price\n",
       "0       9522.0             0.0        0.806387\n",
       "1       9523.0             0.0        0.813929\n",
       "2       9524.0             0.0        0.821534\n",
       "3       9525.0             0.0        0.829203\n",
       "4       9526.0             0.0        0.836937"
      ]
     },
     "execution_count": 125,
     "metadata": {},
     "output_type": "execute_result"
    }
   ],
   "source": [
    "# Changing days to expiry to a day before the front-month expiry\n",
    "days_to_expiry_nov_call = 0.001\n",
    "days_to_expiry_dec_call = 29 - days_to_expiry_nov_call\n",
    "\n",
    "df = pd.DataFrame()\n",
    "df['nifty_price'] = sT\n",
    "df['nov_call_price'] = np.nan\n",
    "df['dec_call_price'] = np.nan\n",
    "\n",
    "# Calculating call price for different possible values of Nifty\n",
    "for i in range(0,len(df)):\n",
    "    df.loc[i,'nov_call_price'] = mibian.BS([df.iloc[i]['nifty_price'], strike_price, interest_rate, days_to_expiry_nov_call], \n",
    "                                           volatility=nov_call_iv).callPrice\n",
    "    \n",
    "    # Since, interest rate is considered 0%, 35 is added to the nifty price to get the Nifty December futures price. \n",
    "    df.loc[i,'dec_call_price'] = mibian.BS([df.iloc[i]['nifty_price']+35, strike_price, interest_rate, days_to_expiry_dec_call], \n",
    "                                           volatility=dec_call_iv).callPrice\n",
    "df.head()"
   ]
  },
  {
   "cell_type": "markdown",
   "metadata": {},
   "source": [
    "## Payoff"
   ]
  },
  {
   "cell_type": "code",
   "execution_count": 126,
   "metadata": {},
   "outputs": [
    {
     "data": {
      "image/png": "[encoded data removed]",
      "text/plain": [
       "<matplotlib.figure.Figure at 0xda7d4a8>"
      ]
     },
     "metadata": {},
     "output_type": "display_data"
    }
   ],
   "source": [
    "df['payoff'] = df.dec_call_price - df.nov_call_price - setup_cost\n",
    "plt.figure(figsize=(10,5))\n",
    "plt.ylabel(\"payoff\")\n",
    "plt.xlabel(\"Nifty Price\")\n",
    "plt.plot(sT,df.payoff)\n",
    "plt.show()"
   ]
  },
  {
   "cell_type": "markdown",
   "metadata": {},
   "source": [
    "The key takeaways from the graphs are - \n",
    "\n",
    "1. The maximum profit is realized when the nifty price on expiry of front-month is at strike price of INR 10400 \n",
    "2. The profit decreases as we move away from strike price of INR 10400 in either direction. \n",
    "3. The maximum loss is realized as the option moves deep ITM or deep OTM."
   ]
  }
 ],
 "metadata": {
  "kernelspec": {
   "display_name": "Python 2",
   "language": "python",
   "name": "python2"
  },
  "language_info": {
   "codemirror_mode": {
    "name": "ipython",
    "version": 2
   },
   "file_extension": ".py",
   "mimetype": "text/x-python",
   "name": "python",
   "nbconvert_exporter": "python",
   "pygments_lexer": "ipython2",
   "version": "2.7.13"
  }
 },
 "nbformat": 4,
 "nbformat_minor": 2
}
