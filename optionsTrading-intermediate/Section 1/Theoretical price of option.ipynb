{
 "cells": [
  {
   "cell_type": "markdown",
   "metadata": {},
   "source": [
    "# Notebook Instructions\n",
    "<i>You can run the notebook document sequentially (one cell a time) by pressing <b> shift + enter</b>. While a cell is running, a [*] will display on the left. When it has been run, a number will display indicating the order in which it was run in the notebook [8].</i>\n",
    "\n",
    "<i>Enter edit mode by pressing <b>`Enter`</b> or using the mouse to click on a cell's editor area. Edit mode is indicated by a green cell border and a prompt showing in the editor area.</i>"
   ]
  },
  {
   "cell_type": "markdown",
   "metadata": {},
   "source": [
    "# Theoretical price of option\n",
    "\n",
    "In this IPython notebook, we will learn how to calculate the put and call prices using the mibian package."
   ]
  },
  {
   "cell_type": "markdown",
   "metadata": {},
   "source": [
    "## Install Mibian \n",
    "\n",
    "To install mibian in your pc/laptop type following line from a Jupyter notebook or Python shell:\n",
    "\n",
    "!pip install mibian"
   ]
  },
  {
   "cell_type": "markdown",
   "metadata": {},
   "source": [
    "## Importing Mibian\n",
    "\n",
    "Mibian is an open source python library for options pricing and computing Options Greeks. It can be used to calculate the call price, the put price, the implied volatility, the Options Greeks such as Delta, Vega, and Theta using the Black-Scholes Model (BS). Mibian is compatible with python 2.7 and 3.x. "
   ]
  },
  {
   "cell_type": "code",
   "execution_count": 1,
   "metadata": {
    "collapsed": true
   },
   "outputs": [],
   "source": [
    "import mibian"
   ]
  },
  {
   "cell_type": "markdown",
   "metadata": {},
   "source": [
    "## Black-Scholes function\n",
    "\n",
    "The BS function builds the Black-Scholes model in this library. The syntax for this function is as follows:\n",
    "\n",
    "\n",
    "<font color=blue> BS([underlyingPrice, strikePrice, interestRate, daysToExpiration], volatility=x)</font>\n",
    "\n",
    "1. underlyingPrice: This is the price at which the stock is trading.\n",
    "\n",
    "2. strikePrice: This is the price at which the option will be exercised.\n",
    "\n",
    "3. interestRate: This is the risk-free rate prevailing in the economy. In our example, we will take future price as the underlyingPrice and consider the interest rate as 0. This is because the future price includes the interest rate.\n",
    "\n",
    "3. daysToExpiration: This the number of calendar days left to expiry.\n",
    "\n",
    "4. volatility: This is the option's implied volatility.\n"
   ]
  },
  {
   "cell_type": "markdown",
   "metadata": {},
   "source": [
    "## Passing the arguments\n",
    "\n",
    "We will call the 'BS' function from the mibian library and pass the following arguments:\n",
    "1. 'underlyingprice' as '10421.5'\n",
    "2. 'strikePrice' as '10450' \n",
    "3. 'interestRate' or risk-free interest rate as '0' and \n",
    "4. 'daysToExpiration' as 20 days\n",
    "5. 'volatility' as '15'"
   ]
  },
  {
   "cell_type": "code",
   "execution_count": 2,
   "metadata": {
    "collapsed": true
   },
   "outputs": [],
   "source": [
    "c = mibian.BS([10421.5, 10450, 0, 20], volatility=15)"
   ]
  },
  {
   "cell_type": "markdown",
   "metadata": {},
   "source": [
    "We will use the attribute 'callPrice' of variable 'c' to calculate the call price of the option."
   ]
  },
  {
   "cell_type": "code",
   "execution_count": 3,
   "metadata": {},
   "outputs": [
    {
     "data": {
      "text/plain": [
       "132.36625205500786"
      ]
     },
     "execution_count": 3,
     "metadata": {},
     "output_type": "execute_result"
    }
   ],
   "source": [
    "c.callPrice"
   ]
  },
  {
   "cell_type": "markdown",
   "metadata": {},
   "source": [
    "We will use the attribute 'putPrice' of variable 'c' to calculate the put price of the option."
   ]
  },
  {
   "cell_type": "code",
   "execution_count": 4,
   "metadata": {},
   "outputs": [
    {
     "data": {
      "text/plain": [
       "160.86625205500968"
      ]
     },
     "execution_count": 4,
     "metadata": {},
     "output_type": "execute_result"
    }
   ],
   "source": [
    "c.putPrice"
   ]
  },
  {
   "cell_type": "markdown",
   "metadata": {},
   "source": [
    "You can change the parameters to the BS function and see how the call and put price changes. In the next unit, there will be an interactive exercise to calculate the call price and put price using BS function.\n",
    "<BR>"
   ]
  }
 ],
 "metadata": {
  "kernelspec": {
   "display_name": "Python 2",
   "language": "python",
   "name": "python2"
  },
  "language_info": {
   "codemirror_mode": {
    "name": "ipython",
    "version": 2
   },
   "file_extension": ".py",
   "mimetype": "text/x-python",
   "name": "python",
   "nbconvert_exporter": "python",
   "pygments_lexer": "ipython2",
   "version": "2.7.13"
  }
 },
 "nbformat": 4,
 "nbformat_minor": 2
}
