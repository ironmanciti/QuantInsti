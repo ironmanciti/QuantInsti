{
 "cells": [
  {
   "cell_type": "markdown",
   "metadata": {},
   "source": [
    "# Notebook Instructions\n",
    "<i>You can run the notebook document sequentially (one cell a time) by pressing <b> shift + enter</b>. While a cell is running, a [*] will display on the left. When it has been run, a number will display indicating the order in which it was run in the notebook [8].</i>\n",
    "\n",
    "<i>Enter edit mode by pressing <b>`Enter`</b> or using the mouse to click on a cell's editor area. Edit mode is indicated by a green cell border and a prompt showing in the editor area.</i>"
   ]
  },
  {
   "cell_type": "markdown",
   "metadata": {},
   "source": [
    "# Forward Volatility\n",
    "\n",
    "In this notebook, we will create a forward volatility strategy on Nifty call option."
   ]
  },
  {
   "cell_type": "markdown",
   "metadata": {},
   "source": [
    "# Import the libraries\n",
    "\n",
    "You can use the command <font color=red>!pip install mibian</font> to install the mibian library."
   ]
  },
  {
   "cell_type": "code",
   "execution_count": 63,
   "metadata": {
    "collapsed": true
   },
   "outputs": [],
   "source": [
    "# To calculate implied volatility\n",
    "import mibian as m\n",
    "\n",
    "# For data manipulation and mathematical function\n",
    "import pandas as pd\n",
    "import numpy as np\n",
    "\n",
    "# To plot\n",
    "import matplotlib.pyplot as plt\n",
    "import seaborn"
   ]
  },
  {
   "cell_type": "markdown",
   "metadata": {},
   "source": [
    "# Importing data\n",
    "\n",
    "We import the csv file containing the Nifty call option data. This data is taken from the NSE website. We store the data in the dataframe nifty_data."
   ]
  },
  {
   "cell_type": "code",
   "execution_count": 64,
   "metadata": {},
   "outputs": [
    {
     "data": {
      "text/html": [
       "<div>\n",
       "<table border=\"1\" class=\"dataframe\">\n",
       "  <thead>\n",
       "    <tr style=\"text-align: right;\">\n",
       "      <th></th>\n",
       "      <th>symbol</th>\n",
       "      <th>date</th>\n",
       "      <th>fut_near_month_close</th>\n",
       "      <th>fut_far_month_close</th>\n",
       "      <th>strike_price</th>\n",
       "      <th>near_month_expiry</th>\n",
       "      <th>LTP_near_month</th>\n",
       "      <th>far_month_expiry</th>\n",
       "      <th>LTP_far_month</th>\n",
       "    </tr>\n",
       "    <tr>\n",
       "      <th>date</th>\n",
       "      <th></th>\n",
       "      <th></th>\n",
       "      <th></th>\n",
       "      <th></th>\n",
       "      <th></th>\n",
       "      <th></th>\n",
       "      <th></th>\n",
       "      <th></th>\n",
       "      <th></th>\n",
       "    </tr>\n",
       "  </thead>\n",
       "  <tbody>\n",
       "    <tr>\n",
       "      <th>2017-08-28</th>\n",
       "      <td>NIFTY</td>\n",
       "      <td>2017-08-28</td>\n",
       "      <td>9950.80</td>\n",
       "      <td>9980.65</td>\n",
       "      <td>9800</td>\n",
       "      <td>2017-09-28</td>\n",
       "      <td>226.45</td>\n",
       "      <td>2017-10-26</td>\n",
       "      <td>293.6</td>\n",
       "    </tr>\n",
       "    <tr>\n",
       "      <th>2017-08-29</th>\n",
       "      <td>NIFTY</td>\n",
       "      <td>2017-08-29</td>\n",
       "      <td>9829.40</td>\n",
       "      <td>9860.15</td>\n",
       "      <td>9800</td>\n",
       "      <td>2017-09-28</td>\n",
       "      <td>150.80</td>\n",
       "      <td>2017-10-26</td>\n",
       "      <td>219.7</td>\n",
       "    </tr>\n",
       "    <tr>\n",
       "      <th>2017-08-30</th>\n",
       "      <td>NIFTY</td>\n",
       "      <td>2017-08-30</td>\n",
       "      <td>9912.45</td>\n",
       "      <td>9939.75</td>\n",
       "      <td>9800</td>\n",
       "      <td>2017-09-28</td>\n",
       "      <td>191.20</td>\n",
       "      <td>2017-10-26</td>\n",
       "      <td>259.7</td>\n",
       "    </tr>\n",
       "    <tr>\n",
       "      <th>2017-08-31</th>\n",
       "      <td>NIFTY</td>\n",
       "      <td>2017-08-31</td>\n",
       "      <td>9937.20</td>\n",
       "      <td>9963.35</td>\n",
       "      <td>9800</td>\n",
       "      <td>2017-09-28</td>\n",
       "      <td>201.85</td>\n",
       "      <td>2017-10-26</td>\n",
       "      <td>266.2</td>\n",
       "    </tr>\n",
       "    <tr>\n",
       "      <th>2017-09-01</th>\n",
       "      <td>NIFTY</td>\n",
       "      <td>2017-09-01</td>\n",
       "      <td>10007.30</td>\n",
       "      <td>10034.20</td>\n",
       "      <td>9800</td>\n",
       "      <td>2017-09-28</td>\n",
       "      <td>251.50</td>\n",
       "      <td>2017-10-26</td>\n",
       "      <td>312.3</td>\n",
       "    </tr>\n",
       "  </tbody>\n",
       "</table>\n",
       "</div>"
      ],
      "text/plain": [
       "           symbol       date  fut_near_month_close  fut_far_month_close  \\\n",
       "date                                                                      \n",
       "2017-08-28  NIFTY 2017-08-28               9950.80              9980.65   \n",
       "2017-08-29  NIFTY 2017-08-29               9829.40              9860.15   \n",
       "2017-08-30  NIFTY 2017-08-30               9912.45              9939.75   \n",
       "2017-08-31  NIFTY 2017-08-31               9937.20              9963.35   \n",
       "2017-09-01  NIFTY 2017-09-01              10007.30             10034.20   \n",
       "\n",
       "            strike_price near_month_expiry  LTP_near_month far_month_expiry  \\\n",
       "date                                                                          \n",
       "2017-08-28          9800        2017-09-28          226.45       2017-10-26   \n",
       "2017-08-29          9800        2017-09-28          150.80       2017-10-26   \n",
       "2017-08-30          9800        2017-09-28          191.20       2017-10-26   \n",
       "2017-08-31          9800        2017-09-28          201.85       2017-10-26   \n",
       "2017-09-01          9800        2017-09-28          251.50       2017-10-26   \n",
       "\n",
       "            LTP_far_month  \n",
       "date                       \n",
       "2017-08-28          293.6  \n",
       "2017-08-29          219.7  \n",
       "2017-08-30          259.7  \n",
       "2017-08-31          266.2  \n",
       "2017-09-01          312.3  "
      ]
     },
     "execution_count": 64,
     "metadata": {},
     "output_type": "execute_result"
    }
   ],
   "source": [
    "# Read CSV\n",
    "nifty_data=pd.read_csv(\"Nifty.csv\")\n",
    "\n",
    "# Convert the date fields into pandas datetime object\n",
    "nifty_data.date=pd.to_datetime(nifty_data.date)\n",
    "nifty_data.near_month_expiry=pd.to_datetime(nifty_data.near_month_expiry)\n",
    "nifty_data.far_month_expiry=pd.to_datetime(nifty_data.far_month_expiry)\n",
    "\n",
    "nifty_data.index=nifty_data.date\n",
    "\n",
    "nifty_data.head()"
   ]
  },
  {
   "cell_type": "markdown",
   "metadata": {
    "collapsed": true
   },
   "source": [
    "# Time to expiry\n",
    "\n",
    "We calculate the time to expiry for near_month and far_month contracts, and store it in near_month_days_to_expiry and far_month_days_to_expiry respectively."
   ]
  },
  {
   "cell_type": "code",
   "execution_count": 65,
   "metadata": {},
   "outputs": [
    {
     "data": {
      "text/html": [
       "<div>\n",
       "<table border=\"1\" class=\"dataframe\">\n",
       "  <thead>\n",
       "    <tr style=\"text-align: right;\">\n",
       "      <th></th>\n",
       "      <th>near_month_expiry</th>\n",
       "      <th>near_month_days_to_expiry</th>\n",
       "      <th>far_month_expiry</th>\n",
       "      <th>far_month_days_to_expiry</th>\n",
       "    </tr>\n",
       "    <tr>\n",
       "      <th>date</th>\n",
       "      <th></th>\n",
       "      <th></th>\n",
       "      <th></th>\n",
       "      <th></th>\n",
       "    </tr>\n",
       "  </thead>\n",
       "  <tbody>\n",
       "    <tr>\n",
       "      <th>2017-08-28</th>\n",
       "      <td>2017-09-28</td>\n",
       "      <td>31</td>\n",
       "      <td>2017-10-26</td>\n",
       "      <td>59</td>\n",
       "    </tr>\n",
       "    <tr>\n",
       "      <th>2017-08-29</th>\n",
       "      <td>2017-09-28</td>\n",
       "      <td>30</td>\n",
       "      <td>2017-10-26</td>\n",
       "      <td>58</td>\n",
       "    </tr>\n",
       "    <tr>\n",
       "      <th>2017-08-30</th>\n",
       "      <td>2017-09-28</td>\n",
       "      <td>29</td>\n",
       "      <td>2017-10-26</td>\n",
       "      <td>57</td>\n",
       "    </tr>\n",
       "    <tr>\n",
       "      <th>2017-08-31</th>\n",
       "      <td>2017-09-28</td>\n",
       "      <td>28</td>\n",
       "      <td>2017-10-26</td>\n",
       "      <td>56</td>\n",
       "    </tr>\n",
       "    <tr>\n",
       "      <th>2017-09-01</th>\n",
       "      <td>2017-09-28</td>\n",
       "      <td>27</td>\n",
       "      <td>2017-10-26</td>\n",
       "      <td>55</td>\n",
       "    </tr>\n",
       "  </tbody>\n",
       "</table>\n",
       "</div>"
      ],
      "text/plain": [
       "           near_month_expiry  near_month_days_to_expiry far_month_expiry  \\\n",
       "date                                                                       \n",
       "2017-08-28        2017-09-28                         31       2017-10-26   \n",
       "2017-08-29        2017-09-28                         30       2017-10-26   \n",
       "2017-08-30        2017-09-28                         29       2017-10-26   \n",
       "2017-08-31        2017-09-28                         28       2017-10-26   \n",
       "2017-09-01        2017-09-28                         27       2017-10-26   \n",
       "\n",
       "            far_month_days_to_expiry  \n",
       "date                                  \n",
       "2017-08-28                        59  \n",
       "2017-08-29                        58  \n",
       "2017-08-30                        57  \n",
       "2017-08-31                        56  \n",
       "2017-09-01                        55  "
      ]
     },
     "execution_count": 65,
     "metadata": {},
     "output_type": "execute_result"
    }
   ],
   "source": [
    "nifty_data['near_month_days_to_expiry'] = (nifty_data.near_month_expiry - nifty_data.index).dt.days\n",
    "nifty_data['far_month_days_to_expiry']= (nifty_data.far_month_expiry - nifty_data.index).dt.days\n",
    "nifty_data.loc[:,['near_month_expiry','near_month_days_to_expiry','far_month_expiry','far_month_days_to_expiry']].head()"
   ]
  },
  {
   "cell_type": "markdown",
   "metadata": {},
   "source": [
    "# Implied volatility (IV)\n",
    "\n",
    "To calcualte the IV (implied volatility), we use the impliedVolatility function of the BS (Black Scholes) class in the mibian library. The input for this function is the futures close price, the strike price, the interest rate, the time to expiry in days, and the call price. \n",
    "\n",
    "Since we took futures price as underlying price, the interest rate is set to zero."
   ]
  },
  {
   "cell_type": "code",
   "execution_count": 66,
   "metadata": {
    "collapsed": true
   },
   "outputs": [],
   "source": [
    "nifty_data['IV_near_month'] = 0\n",
    "nifty_data['IV_far_month'] = 0\n",
    "\n",
    "for row in range(len(nifty_data)):\n",
    "    nifty_data.iloc[row,nifty_data.columns.get_loc('IV_near_month')] = m.BS( [\n",
    "                 nifty_data.iloc[row]['fut_near_month_close'], \\\n",
    "                 nifty_data.iloc[row]['strike_price'], \\\n",
    "                 0, \\\n",
    "                 nifty_data.iloc[row]['near_month_days_to_expiry'] \\\n",
    "               ],\n",
    "               callPrice = nifty_data.iloc[row]['LTP_near_month'] \\\n",
    "             ).impliedVolatility\n",
    "\n",
    "    nifty_data.iloc[row,nifty_data.columns.get_loc('IV_far_month')] = m.BS( [\n",
    "                 nifty_data.iloc[row]['fut_far_month_close'], \\\n",
    "                 nifty_data.iloc[row]['strike_price'], \\\n",
    "                 0, \\\n",
    "                 nifty_data.iloc[row]['far_month_days_to_expiry'] \\\n",
    "               ],\n",
    "               callPrice = nifty_data.iloc[row]['LTP_far_month'] \\\n",
    "             ).impliedVolatility"
   ]
  },
  {
   "cell_type": "markdown",
   "metadata": {},
   "source": [
    "# Forward volatility"
   ]
  },
  {
   "cell_type": "code",
   "execution_count": 67,
   "metadata": {},
   "outputs": [],
   "source": [
    "# Calculate the variance for near month and far month\n",
    "nifty_data['variance_near_month'] = (nifty_data.IV_near_month**2/365)*nifty_data.near_month_days_to_expiry\n",
    "nifty_data['variance_far_month'] = (nifty_data.IV_far_month**2/365)*nifty_data.far_month_days_to_expiry\n",
    "# Calculate the difference in far month and near month variance\n",
    "nifty_data['variance_diff'] = nifty_data.variance_far_month - nifty_data.variance_near_month\n",
    "nifty_data['forward_variance_days'] = nifty_data.far_month_days_to_expiry - nifty_data.near_month_days_to_expiry\n",
    "# Calculate forward volatility from forward varinace\n",
    "nifty_data['forward_volatility'] = (nifty_data.variance_diff*365/nifty_data.forward_variance_days)**0.5"
   ]
  },
  {
   "cell_type": "markdown",
   "metadata": {},
   "source": [
    "Refer to the video on forward volatility for details on the above calculations."
   ]
  },
  {
   "cell_type": "markdown",
   "metadata": {},
   "source": [
    "# Trading signal\n",
    "\n",
    "If forward volatility is more than near month volatility then it indicates that far month option is costlier when compared to near month option. Therefore, sell far month option and buy near month option. -1 is stored in the signal column to indicate this.\n",
    "\n",
    "If forward volatility is less than near month volatility then we buy far month option and sell near month option. +1 is stored in the signal column to indicate this."
   ]
  },
  {
   "cell_type": "code",
   "execution_count": 68,
   "metadata": {},
   "outputs": [
    {
     "data": {
      "text/html": [
       "<div>\n",
       "<table border=\"1\" class=\"dataframe\">\n",
       "  <thead>\n",
       "    <tr style=\"text-align: right;\">\n",
       "      <th></th>\n",
       "      <th>forward_volatility</th>\n",
       "      <th>IV_near_month</th>\n",
       "      <th>signal</th>\n",
       "    </tr>\n",
       "    <tr>\n",
       "      <th>date</th>\n",
       "      <th></th>\n",
       "      <th></th>\n",
       "      <th></th>\n",
       "    </tr>\n",
       "  </thead>\n",
       "  <tbody>\n",
       "    <tr>\n",
       "      <th>2017-08-28</th>\n",
       "      <td>11.884269</td>\n",
       "      <td>12.033463</td>\n",
       "      <td>1</td>\n",
       "    </tr>\n",
       "    <tr>\n",
       "      <th>2017-08-29</th>\n",
       "      <td>11.982315</td>\n",
       "      <td>12.077332</td>\n",
       "      <td>1</td>\n",
       "    </tr>\n",
       "    <tr>\n",
       "      <th>2017-08-30</th>\n",
       "      <td>11.836732</td>\n",
       "      <td>11.474609</td>\n",
       "      <td>-1</td>\n",
       "    </tr>\n",
       "    <tr>\n",
       "      <th>2017-08-31</th>\n",
       "      <td>11.218733</td>\n",
       "      <td>11.104584</td>\n",
       "      <td>-1</td>\n",
       "    </tr>\n",
       "    <tr>\n",
       "      <th>2017-09-01</th>\n",
       "      <td>10.958989</td>\n",
       "      <td>11.215210</td>\n",
       "      <td>1</td>\n",
       "    </tr>\n",
       "  </tbody>\n",
       "</table>\n",
       "</div>"
      ],
      "text/plain": [
       "            forward_volatility  IV_near_month  signal\n",
       "date                                                 \n",
       "2017-08-28           11.884269      12.033463       1\n",
       "2017-08-29           11.982315      12.077332       1\n",
       "2017-08-30           11.836732      11.474609      -1\n",
       "2017-08-31           11.218733      11.104584      -1\n",
       "2017-09-01           10.958989      11.215210       1"
      ]
     },
     "execution_count": 68,
     "metadata": {},
     "output_type": "execute_result"
    }
   ],
   "source": [
    "nifty_data['signal'] = np.where(nifty_data.forward_volatility > nifty_data.IV_near_month, -1, 1)\n",
    "nifty_data.loc[:,['forward_volatility','IV_near_month','signal']].head()"
   ]
  },
  {
   "cell_type": "markdown",
   "metadata": {},
   "source": [
    "# Strategy returns\n",
    "\n",
    "Strategy returns are computed by taking difference between far month and near months returns."
   ]
  },
  {
   "cell_type": "code",
   "execution_count": 69,
   "metadata": {},
   "outputs": [
    {
     "data": {
      "image/png": "[encoded data removed]",
      "text/plain": [
       "<matplotlib.figure.Figure at 0xc751630>"
      ]
     },
     "metadata": {},
     "output_type": "display_data"
    }
   ],
   "source": [
    "nifty_data['far_month_ret']= np.log(nifty_data.LTP_far_month/nifty_data.LTP_far_month.shift(1))\n",
    "nifty_data['near_month_ret']= np.log(nifty_data.LTP_near_month/nifty_data.LTP_near_month.shift(1))\n",
    "nifty_data['strategy_return'] = nifty_data.signal.shift(1) * (nifty_data.far_month_ret - nifty_data.near_month_ret)\n",
    "plt.figure(figsize=(10,6))\n",
    "plt.plot(nifty_data.strategy_return.cumsum())\n",
    "plt.show()"
   ]
  },
  {
   "cell_type": "markdown",
   "metadata": {},
   "source": [
    "The strategy yields close to 25% returns in a single month."
   ]
  }
 ],
 "metadata": {
  "kernelspec": {
   "display_name": "Python 2",
   "language": "python",
   "name": "python2"
  },
  "language_info": {
   "codemirror_mode": {
    "name": "ipython",
    "version": 2
   },
   "file_extension": ".py",
   "mimetype": "text/x-python",
   "name": "python",
   "nbconvert_exporter": "python",
   "pygments_lexer": "ipython2",
   "version": "2.7.13"
  }
 },
 "nbformat": 4,
 "nbformat_minor": 2
}
