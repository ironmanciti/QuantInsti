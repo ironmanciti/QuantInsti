{
 "cells": [
  {
   "cell_type": "markdown",
   "metadata": {},
   "source": [
    "# Notebook Instructions\n",
    "<i>You can run the notebook document sequentially (one cell a time) by pressing <b> shift + enter</b>. While a cell is running, a [*] will display on the left. When it has been run, a number will display indicating the order in which it was run in the notebook [8].</i>\n",
    "\n",
    "<i>Enter edit mode by pressing <b>`Enter`</b> or using the mouse to click on a cell's editor area. Edit mode is indicated by a green cell border and a prompt showing in the editor area.</i>"
   ]
  },
  {
   "cell_type": "markdown",
   "metadata": {},
   "source": [
    "## Volatility Smile\n",
    "\n",
    "In this notebook, we will create a trading strategy using volatility smile on the Nifty call options."
   ]
  },
  {
   "cell_type": "markdown",
   "metadata": {},
   "source": [
    "### Importing Libraries\n",
    "\n",
    "Importing the relevant libraries for coding the strategy based on volatility smile. Mibian is used to compute implied volatilities, Pandas is used for taking advantage of its powerful dataframes and matplotlib.pyplot is used to plot the volatility smile."
   ]
  },
  {
   "cell_type": "code",
   "execution_count": 20,
   "metadata": {
    "collapsed": true
   },
   "outputs": [],
   "source": [
    "from mibian import BS\n",
    "import pandas as pd\n",
    "import matplotlib.pyplot as plt"
   ]
  },
  {
   "cell_type": "markdown",
   "metadata": {},
   "source": [
    "### Fetching Data\n",
    "We fetch data from a csv file which contains call option data for a week of NIFTY50 call options expiring on Dec 28, 2017. We store this data in the dataframe nifty_data. Next, we define a new column in the dataframe with the header 'IV' and initialize it to 0. The implied volatilities will be stored under this header.\n"
   ]
  },
  {
   "cell_type": "code",
   "execution_count": null,
   "metadata": {},
   "outputs": [],
   "source": [
    "nifty_data = pd.read_csv(\"Option_data_NIFTY.csv\")\n",
    "nifty_data['IV'] = 0"
   ]
  },
  {
   "cell_type": "markdown",
   "metadata": {},
   "source": [
    "### Computing Implied volatilites\n",
    "Here, we will be computing the implied volatilities by making use of a for loop and the BS function that we have imported earlier from the Mibian library. The values of Implied Volatilities are stored in the dataframe nifty_option under the column header 'IV'."
   ]
  },
  {
   "cell_type": "code",
   "execution_count": null,
   "metadata": {},
   "outputs": [],
   "source": [
    "for row in range(0,len(nifty_data)):       \n",
    "    underlyingPrice = nifty_data.iloc[row]['Underlying Value']\n",
    "    strikePrice = nifty_data.iloc[row]['Strike Price']\n",
    "    interestRate = 0\n",
    "    daysToExpiration = nifty_data.iloc[row]['Time to Expiry']\n",
    "    \n",
    "    callPrice = nifty_data.iloc[row]['LTP']\n",
    "    \n",
    "    result = BS([underlyingPrice, strikePrice, interestRate, daysToExpiration],\n",
    "                callPrice = callPrice)\n",
    "    \n",
    "    nifty_data.iloc[row,nifty_data.columns.get_loc('IV')] = result.impliedVolatility"
   ]
  },
  {
   "cell_type": "markdown",
   "metadata": {},
   "source": [
    "### Defining Plot_smile function\n",
    "Here, we will be defining a function to plot the smile for a particular date of the dataset by taking the value of the row index as its inputs. This function will be called later to plot the volatility smiles when we identify a bump or an anomaly. \n"
   ]
  },
  {
   "cell_type": "code",
   "execution_count": 15,
   "metadata": {
    "collapsed": true
   },
   "outputs": [],
   "source": [
    "def Plot_smile(row):\n",
    "    option_data = nifty_data[nifty_data['Date'] == nifty_data.iloc[row]['Date']]\n",
    "    plt.plot(option_data['Strike Price'],option_data['IV'])\n",
    "    plt.legend(option_data['Date'])\n",
    "    plt.ylabel('Implied Volatility')\n",
    "    plt.xlabel('Strike Price')           \n",
    "    plt.show()"
   ]
  },
  {
   "cell_type": "markdown",
   "metadata": {},
   "source": [
    "### Initializing Columns\n",
    "We then initialize the Signal, PNL and MTM columns with 0 values. These columns will be used to store the generation of trading signals, PNL and MTM of trades. "
   ]
  },
  {
   "cell_type": "code",
   "execution_count": null,
   "metadata": {},
   "outputs": [],
   "source": [
    "nifty_data['Signal'] = 0\n",
    "nifty_data['PNL'] = 0\n",
    "nifty_data['MTM'] = 0"
   ]
  },
  {
   "cell_type": "markdown",
   "metadata": {},
   "source": [
    "### Using a for loop for checking bumps in the volatility smile\n",
    "We create a variable total_rows and then use a for loop to iterate over all the rows of the dataframe to identify a bump in the volatility smile curve. "
   ]
  },
  {
   "cell_type": "code",
   "execution_count": null,
   "metadata": {},
   "outputs": [],
   "source": [
    "total_rows = len(nifty_data)\n",
    "for row in range(1,total_rows -1):\n",
    "\n",
    "# Identifying bumps in the volatility smile \n",
    "# In this part of the code, we will be opening trading positions if there are no open positions. \n",
    "# We check this using the value stored in the Signal column. A value of 0 implies that there are no open trading positions. \n",
    "# We then define 4 binomial variables storing True or False depending on the conditions:\n",
    "# - ITM_check : If the underlying value is greater than the Strike Price, the option will be in the money\n",
    "# - OTM_check : If the underlying value is less than the Strike Price, the option will be out of the money\n",
    "# - same_day_check_ahead : This variable will store True, if the dates for the current and the next rows are the same\n",
    "# - same_day_check_behind: This varibale will store True, if the dates for the current and the previous rows are the same\n",
    "\n",
    "# Moneyness and days will be checked for defining the condition for identifying an anomaly in the volatility smile.\n",
    "    \n",
    "    if nifty_data.iloc[row]['Signal'] == 0:\n",
    "      \n",
    "        ITM_check = nifty_data.iloc[row]['Underlying Value'] > nifty_data.iloc[row]['Strike Price'] \n",
    "        OTM_check = nifty_data.iloc[row]['Underlying Value'] < nifty_data.iloc[row]['Strike Price'] \n",
    "        same_day_check_ahead = nifty_data.iloc[row]['Date'] == nifty_data.iloc[row + 1]['Date']\n",
    "        same_day_check_behind = nifty_data.iloc[row]['Date'] == nifty_data.iloc[row - 1]['Date']\n",
    "\n",
    "\n",
    "# Generating Open Buy positions\n",
    "\n",
    "# Here, we will be buying butterfly spreads once a bump or anomaly has been identified in the volatility smile. \n",
    "# The comments shown below will take you through how we identify trading opportunities.\n",
    "\n",
    "# The first check is for in the money options and ensuring that the previous row data is of the same date \n",
    "        if ITM_check and same_day_check_behind:\n",
    "\n",
    "            # Next, we check whether there is a bump in the smile. This is done by comparing the IV of \n",
    "            # higher strike (stored in row) by the IV of lower strike (stored in row -1) plus 1.5. \n",
    "            # The 1.5 term is added to include only the significant bumps as trading opportunities.\n",
    " \n",
    "            if nifty_data.iloc[row]['IV'] > (nifty_data.iloc[row - 1]['IV'] + 1.5):\n",
    "                \n",
    "                # Setting signal to 1            \n",
    "                nifty_data.iloc[row,nifty_data.columns.get_loc('Signal')] = 1 \n",
    "                \n",
    "                # Setting PNL to the cost of buying the butterfly spread, by writing two call options at \n",
    "                # the Strike of current row and buying call options at the strikes on rows ahead and behind\n",
    "                # the current row.\n",
    "                nifty_data.iloc[row,nifty_data.columns.get_loc('PNL')] = 2*nifty_data.iloc[row]['LTP'] \\\n",
    "                               - nifty_data.iloc[row + 1]['LTP'] - nifty_data.iloc[row - 1]['LTP']\n",
    "                \n",
    "                # Set Open_position to row, this variable will be used later to match the strike price,\n",
    "                # while closing the open buy position.\n",
    "                Open_position = row\n",
    "                \n",
    "                # Plotting smile by calling the Plot_smile() function\n",
    "                Plot_smile(row)\n",
    "                \n",
    "                # Printing the output of the open position\n",
    "                if nifty_data.iloc[row]['PNL'] > 0:\n",
    "                    PnL = [\"Money Received: INR\", nifty_data.iloc[row]['PNL']]\n",
    "                elif nifty_data.iloc[row]['PNL'] < 0:\n",
    "                    PnL = [\"Money Paid: INR\", -nifty_data.iloc[row]['PNL']]\n",
    "                print \"Position opened\", \"\\nDate:\", nifty_data.iloc[row]['Date'], \"\\nStrike Price:\", \\\n",
    "                       nifty_data.iloc[row]['Strike Price'], \"\\n\",PnL[0],PnL[1]\n",
    "\n",
    "# The second check is for out of the money options and ensuring that the next row data is of the same date \n",
    "        elif OTM_check and same_day_check_ahead:\n",
    "            \n",
    "            # Checking for a significant bump in the voaltility smile.\n",
    "            if nifty_data.iloc[row]['IV'] > (nifty_data.iloc[row + 1]['IV'] + 1.5):\n",
    "\n",
    "                # Setting signal to 1                  \n",
    "                nifty_data.iloc[row,nifty_data.columns.get_loc('Signal')] = 1\n",
    "                \n",
    "                # Setting PNL to the cost of buying the butterfly spread, by writing two call options at \n",
    "                # the Strike of current row and buying call options at the strikes on rows ahead and behind\n",
    "                # the current row.                \n",
    "                nifty_data.iloc[row,nifty_data.columns.get_loc('PNL')] = 2*nifty_data.iloc[row]['LTP'] \\\n",
    "                               - nifty_data.iloc[row + 1]['LTP'] - nifty_data.iloc[row - 1]['LTP']\n",
    "                # Set Open_position to row, this variable will be used later to match the strike price,\n",
    "                # while closing the open buy position.\n",
    "                Open_position = row\n",
    "                \n",
    "                # Plotting smile by calling the Plot_smile() function\n",
    "                Plot_smile(row)\n",
    "                \n",
    "                # Printing the output of the open position\n",
    "                if nifty_data.iloc[row]['PNL'] > 0:\n",
    "                    PnL = [\"Money Received: INR\", nifty_data.iloc[row]['PNL']]\n",
    "                elif nifty_data.iloc[row]['PNL'] < 0:\n",
    "                    PnL = [\"Money Paid: INR\", -nifty_data.iloc[row]['PNL']]\n",
    "                print \"Position opened\", \"\\nDate:\", nifty_data.iloc[row]['Date'], \"\\nStrike Price:\", \\\n",
    "                       nifty_data.iloc[row]['Strike Price'], \"\\n\",PnL[0],PnL[1]\n",
    "\n",
    "                    \n",
    "# Closing positions by selling the spread\n",
    "\n",
    "# We will now generate a sell signal by observing the smile curve regain its original expected shape, i.e. once the bump is removed.\n",
    "\n",
    "\n",
    "# Check for an open position and the same Strike as that for which the open position was generated\n",
    "    elif nifty_data.iloc[row]['Signal'] == 1 and nifty_data.iloc[row]['Strike Price'] == nifty_data.iloc[Open_position]['Strike Price']:\n",
    "        \n",
    "        # Checking whether the Option is in the money\n",
    "        if nifty_data.iloc[row]['Underlying Value'] > nifty_data.iloc[row]['Strike Price']:\n",
    "            \n",
    "            # Checking whether the bump has gone\n",
    "            if nifty_data.iloc[row]['IV'] < nifty_data.iloc[row - 1]['IV']:\n",
    "                \n",
    "                # Setting signal to 0\n",
    "                nifty_data.iloc[row,nifty_data.columns.get_loc('Signal')] = 0\n",
    "                \n",
    "                # Setting the PNL by selling the spread\n",
    "                nifty_data.iloc[row,nifty_data.columns.get_loc('PNL')] = - 2*nifty_data.iloc[row]['LTP'] \\\n",
    "                               + nifty_data.iloc[row + 1]['LTP'] + nifty_data.iloc[row - 1]['LTP']\n",
    "                \n",
    "                # Plotting the volatility smile\n",
    "                Plot_smile(row)\n",
    "                \n",
    "                # Printing the output of selling a butterfly spread\n",
    "                if nifty_data.iloc[row]['PNL'] > 0:\n",
    "                    PnL = [\"Money Received: INR\", nifty_data.iloc[row]['PNL']]\n",
    "                elif nifty_data.iloc[row]['PNL'] < 0:\n",
    "                    PnL = [\"Money Paid: INR\", -nifty_data.iloc[row]['PNL']]\n",
    "                print \"Position closed\", \"\\nDate:\", nifty_data.iloc[row]['Date'], \"\\nStrike Price:\", \\\n",
    "                       nifty_data.iloc[row]['Strike Price'], \"\\n\",PnL[0],PnL[1]                             \n",
    "        \n",
    "        # Checking whether the Option is out of the money    \n",
    "        elif nifty_data.iloc[row]['Underlying Value'] < nifty_data.iloc[row]['Strike Price']:\n",
    "            \n",
    "            # Checking whether the bump has gone\n",
    "            if nifty_data.iloc[row]['IV'] < nifty_data.iloc[row + 1]['IV']:\n",
    "                \n",
    "                # Setting signal to 0\n",
    "                nifty_data.iloc[row,nifty_data.columns.get_loc('Signal')] = 0\n",
    "                \n",
    "                # Setting the PNL by selling the spread\n",
    "                nifty_data.iloc[row,nifty_data.columns.get_loc('PNL')] = - 2*nifty_data.iloc[row]['LTP'] \\\n",
    "                               + nifty_data.iloc[row + 1]['LTP'] + nifty_data.iloc[row - 1]['LTP']                  \n",
    "                \n",
    "                # Plotting the volatility smile\n",
    "                Plot_smile(row)\n",
    "                \n",
    "                # Printing the output of selling a butterfly spread\n",
    "                if nifty_data.iloc[row]['PNL'] > 0:\n",
    "                    PnL = [\"Money Received: INR\", nifty_data.iloc[row]['PNL']]\n",
    "                elif nifty_data.iloc[row]['PNL'] < 0:\n",
    "                    PnL = [\"Money Paid: INR\", -nifty_data.iloc[row]['PNL']]\n",
    "                print \"Position closed\", \"\\nDate:\", nifty_data.iloc[row]['Date'], \"\\nStrike Price:\", \\\n",
    "                       nifty_data.iloc[row]['Strike Price'], \"\\n\",PnL[0],PnL[1]          \n",
    "\n",
    "        # Computing MTM of trades\n",
    "        # Here, we compute the MTM of trades, MTM is the mark to market value and it represents the value \n",
    "        # of the assets that we have purchased. The code below demonstrates the calculation. \n",
    "        # We then set the next value of Signal to be one, if the current value of Signal is one.\n",
    "        nifty_data.iloc[row,nifty_data.columns.get_loc('MTM')] = 2*nifty_data.iloc[row]['LTP'] \\\n",
    "                               - nifty_data.iloc[row + 1]['LTP'] - nifty_data.iloc[row - 1]['LTP']\n",
    "        \n",
    "    if nifty_data.iloc[row]['Signal'] == 1:\n",
    "        nifty_data.iloc[row+1,nifty_data.columns.get_loc('Signal')] = 1"
   ]
  },
  {
   "cell_type": "markdown",
   "metadata": {},
   "source": [
    "### Computing cumulative PNL\n",
    "Here, we compute the cumulative PNL by buying and selling the butterfly spread. We make use of the cumsum function."
   ]
  },
  {
   "cell_type": "code",
   "execution_count": null,
   "metadata": {},
   "outputs": [],
   "source": [
    "nifty_data['Cumulative PNL'] = nifty_data.PNL.cumsum()\n",
    "\n",
    "print \"\\n\\nCumulative PNL from volatility smile trading strategy: INR\", nifty_data.iloc[row]['Cumulative PNL']"
   ]
  },
  {
   "cell_type": "markdown",
   "metadata": {},
   "source": [
    "### Exporting output to a CSV file \n"
   ]
  },
  {
   "cell_type": "code",
   "execution_count": null,
   "metadata": {},
   "outputs": [],
   "source": [
    "nifty_data.to_csv('out.csv')"
   ]
  }
 ],
 "metadata": {
  "kernelspec": {
   "display_name": "Python 3",
   "language": "python",
   "name": "python3"
  },
  "language_info": {
   "codemirror_mode": {
    "name": "ipython",
    "version": 3
   },
   "file_extension": ".py",
   "mimetype": "text/x-python",
   "name": "python",
   "nbconvert_exporter": "python",
   "pygments_lexer": "ipython3",
   "version": "3.6.4"
  }
 },
 "nbformat": 4,
 "nbformat_minor": 2
}
