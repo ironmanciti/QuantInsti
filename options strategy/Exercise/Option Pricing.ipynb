{
 "cells": [
  {
   "cell_type": "markdown",
   "metadata": {},
   "source": [
    "# Option 가격 결정 모형\n",
    "\n",
    "    BS([underlyingPrice, strikePrice, interestRate, daysToExpiration], volatility=x, callPrice=y, putPrice=z)\n",
    "\n",
    "    eg: \n",
    "\n",
    "    c = mibian.BS([1.4565, 1.45, 1, 30], volatility=20)\n",
    "    c.callPrice\tReturns the call price\n",
    "    c.putPrice\tReturns the put price\n",
    "    c.callDelta\tReturns the call delta\n",
    "    c.putDelta\tReturns the put delta\n",
    "    c.callDelta2\tReturns the call dual delta\n",
    "    c.putDelta2\tReturns the put dual delta\n",
    "    c.callTheta\tReturns the call theta\n",
    "    c.putTheta\tReturns the put theta\n",
    "    c.callRho\tReturns the call rho\n",
    "    c.putRho\tReturns the put rho\n",
    "    c.vega\tReturns the option vega\n",
    "    c.gamma\tReturns the option gamma\n",
    "\n",
    "\n",
    "    c = mibian.BS([1.4565, 1.45, 1, 30], callPrice=0.0359)\n",
    "    c.impliedVolatility\tReturns the implied volatility from the call price\n",
    "\n",
    "\n",
    "    c = mibian.BS([1.4565, 1.45, 1, 30], putPrice=0.0306)\n",
    "    c.impliedVolatility\tReturns the implied volatility from the put price\n",
    "\n",
    "\n",
    "    c = mibian.BS([1.4565, 1.45, 1, 30], callPrice=0.0359, putPrice=0.0306)\n",
    "    c.putCallParity\tReturns the put-call parity"
   ]
  },
  {
   "cell_type": "code",
   "execution_count": 1,
   "metadata": {},
   "outputs": [],
   "source": [
    "import os\n",
    "import sys\n",
    "sys.path.append(os.path.dirname(os.path.abspath(os.path.dirname('./'))))\n",
    "\n",
    "from payoff import *"
   ]
  },
  {
   "cell_type": "markdown",
   "metadata": {},
   "source": [
    "청솔주식회사의 주가는 현재 20,000 원이다. 이 주식의 콜옵션은 만기 6개월이고 행사가격은 21,000 원이다. 주식 연각 수익률의 표준편차는 0.8 이고, 무위험 이자율은 10% 이다.\n",
    "\n",
    "블랙숄즈 모델에 의한 콜옵션의 현재 가치 계산\n",
    "\n",
    "헤지비율은 얼마인가 ?\n",
    "\n",
    "위의 콜옵션과 동일한 행사가격과 만기를 가진 풋옵션의 현재 가치는 ?"
   ]
  },
  {
   "cell_type": "code",
   "execution_count": 18,
   "metadata": {},
   "outputs": [],
   "source": [
    "#BS([underlyingPrice, strikePrice, interestRate, daysToExpiration], volatility=x, \n",
    "#    callPrice=y, putPrice=z)\n",
    "\n",
    "c = mibian.BS([20000, 21000, 10, 183], volatility=80)"
   ]
  },
  {
   "cell_type": "code",
   "execution_count": 21,
   "metadata": {},
   "outputs": [
    {
     "data": {
      "text/plain": [
       "4470.4578970212115"
      ]
     },
     "execution_count": 21,
     "metadata": {},
     "output_type": "execute_result"
    }
   ],
   "source": [
    "C = c.callPrice\n",
    "C"
   ]
  },
  {
   "cell_type": "code",
   "execution_count": 22,
   "metadata": {},
   "outputs": [
    {
     "data": {
      "text/plain": [
       "4446.275811536207"
      ]
     },
     "execution_count": 22,
     "metadata": {},
     "output_type": "execute_result"
    }
   ],
   "source": [
    "# P = C - S + X e**-rT\n",
    "C - 20000 + 21000 * np.exp(-0.1*0.5)"
   ]
  },
  {
   "cell_type": "code",
   "execution_count": null,
   "metadata": {},
   "outputs": [],
   "source": []
  }
 ],
 "metadata": {
  "kernelspec": {
   "display_name": "Python 3",
   "language": "python",
   "name": "python3"
  },
  "language_info": {
   "codemirror_mode": {
    "name": "ipython",
    "version": 3
   },
   "file_extension": ".py",
   "mimetype": "text/x-python",
   "name": "python",
   "nbconvert_exporter": "python",
   "pygments_lexer": "ipython3",
   "version": "3.6.6"
  }
 },
 "nbformat": 4,
 "nbformat_minor": 2
}
