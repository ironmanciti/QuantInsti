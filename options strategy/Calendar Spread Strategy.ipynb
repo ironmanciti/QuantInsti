{
 "cells": [
  {
   "cell_type": "markdown",
   "metadata": {},
   "source": [
    "# Calendar Spread Payoff\n",
    "\n",
    "current month 의 option 을 팔고 그에 대한 protection 으로 1 개월 후 option 을 매수하는 것.\n",
    "\n",
    "만기가 다가온 option 의 time decay 가 훨씬 빠르므로, 주가가 움직이지 않고 제자리에 있다면 time decay 의 속도 차이에서 이익을 낼 수 있다."
   ]
  },
  {
   "cell_type": "code",
   "execution_count": 2,
   "metadata": {},
   "outputs": [],
   "source": [
    "import numpy as np\n",
    "import pandas as pd\n",
    "import matplotlib.pyplot as plt\n",
    "import seaborn\n",
    "import mibian"
   ]
  },
  {
   "cell_type": "markdown",
   "metadata": {},
   "source": [
    "## Setup\n",
    "\n",
    "Calendar Spread 는 동일 기초자산, 동일 행사가의 서로 다른 만기 옵션으로 구성된다.\n",
    "\n",
    "* 근월물 call (put) 매도 - \"front-month\"\n",
    "\n",
    "* 원월물 call (put) 매수 - \"back-month\"\n",
    "\n",
    "\n",
    "    * 2018 11 월 28 만기 KOSPI200 10400 행사가 call 을 50.50 에 매도 - \"front-month\"\n",
    "    * 2018 12 월 30 만기 KOSPI200 10400 행사가 call 을 148.50 에 매수 - \"back-month\""
   ]
  },
  {
   "cell_type": "code",
   "execution_count": 5,
   "metadata": {},
   "outputs": [],
   "source": [
    "# 선물 시세\n",
    "kospi_nov_fut = 10350.00\n",
    "kospi_dec_fut = 10387.00\n",
    "\n",
    "strike_price = 10400\n",
    "nov_call_price = 50.50\n",
    "dec_call_price = 148.50\n",
    "setup_cost = dec_call_price - nov_call_price\n",
    "\n",
    "# 거래 진입일을 2018 년 11 월 21 일이라 가정하면 잔존일수는 다음과 같다.\n",
    "days_to_expiry_nov_call = 7\n",
    "days_to_expiry_dec_call = 34\n",
    "\n",
    "#kospi200 의 변동성 범위\n",
    "sT = np.arange(0.92*kospi_nov_fut, 1.1*kospi_dec_fut, 1)\n",
    "\n",
    "# 이자율\n",
    "interest_rate = 0.0"
   ]
  },
  {
   "cell_type": "markdown",
   "metadata": {},
   "source": [
    "# Implied volatility 계산\n",
    "\n",
    "블랙숄즈 모델을 이용하여 front-month 와 back-month call option 의 내재 변동성 계산. 이 내재변동성은 kospi200 의 서로 다른 value 에 대한 call price  계산에 이용할 것임."
   ]
  },
  {
   "cell_type": "code",
   "execution_count": 11,
   "metadata": {},
   "outputs": [
    {
     "name": "stdout",
     "output_type": "stream",
     "text": [
      "Front-month IV : 12.70 %\n",
      "Back-month IV : 12.25 %\n"
     ]
    }
   ],
   "source": [
    "# Front-month IV\n",
    "nov_call_iv = mibian.BS([kospi_nov_fut, strike_price, interest_rate, days_to_expiry_nov_call],\n",
    "                       callPrice=nov_call_price).impliedVolatility\n",
    "print(\"Front-month IV : {:.2f} %\".format(nov_call_iv))\n",
    "\n",
    "# Back-month IV\n",
    "dec_call_iv = mibian.BS([kospi_dec_fut, strike_price, interest_rate, days_to_expiry_dec_call],\n",
    "                       callPrice=dec_call_price).impliedVolatility\n",
    "print(\"Back-month IV : {:.2f} %\".format(dec_call_iv))"
   ]
  },
  {
   "cell_type": "markdown",
   "metadata": {},
   "source": [
    "## front 와 back month option 에 대한 call price 계산\n",
    "\n"
   ]
  },
  {
   "cell_type": "code",
   "execution_count": 15,
   "metadata": {},
   "outputs": [],
   "source": [
    "days_to_expiry_nov_call = 0.001\n",
    "days_to_expiry_dec_call = 29 - days_to_expiry_nov_call\n",
    "\n",
    "df = pd.DataFrame()\n",
    "df['kospi200_price'] = sT\n",
    "df['nov_call_price'] = np.nan\n",
    "df['dec_call_price'] = np.nan\n",
    "\n",
    "# kospi200 의 가능한 다른 value 에 대한 call price 계산\n",
    "for i in range(0, len(df)):\n",
    "    df.loc[i, 'nov_call_price'] = mibian.BS([df.iloc[i]['kospi200_price'], strike_price, interest_rate, days_to_expiry_nov_call],\n",
    "                                                           volatility=nov_call_iv).callPrice\n",
    "    # inerest rate 가 0 이므로 12월 선물 가격을 구하기 위해 35 를 더해줌\n",
    "    df.loc[i, 'dec_call_price'] = mibian.BS([df.iloc[i]['kospi200_price']+35, strike_price, interest_rate, days_to_expiry_dec_call],\n",
    "                                                           volatility=dec_call_iv).callPrice"
   ]
  },
  {
   "cell_type": "code",
   "execution_count": 16,
   "metadata": {},
   "outputs": [
    {
     "data": {
      "text/html": [
       "<div>\n",
       "<style scoped>\n",
       "    .dataframe tbody tr th:only-of-type {\n",
       "        vertical-align: middle;\n",
       "    }\n",
       "\n",
       "    .dataframe tbody tr th {\n",
       "        vertical-align: top;\n",
       "    }\n",
       "\n",
       "    .dataframe thead th {\n",
       "        text-align: right;\n",
       "    }\n",
       "</style>\n",
       "<table border=\"1\" class=\"dataframe\">\n",
       "  <thead>\n",
       "    <tr style=\"text-align: right;\">\n",
       "      <th></th>\n",
       "      <th>kospi200_price</th>\n",
       "      <th>nov_call_price</th>\n",
       "      <th>dec_call_price</th>\n",
       "    </tr>\n",
       "  </thead>\n",
       "  <tbody>\n",
       "    <tr>\n",
       "      <th>0</th>\n",
       "      <td>9522.0</td>\n",
       "      <td>0.0</td>\n",
       "      <td>0.806387</td>\n",
       "    </tr>\n",
       "    <tr>\n",
       "      <th>1</th>\n",
       "      <td>9523.0</td>\n",
       "      <td>0.0</td>\n",
       "      <td>0.813929</td>\n",
       "    </tr>\n",
       "    <tr>\n",
       "      <th>2</th>\n",
       "      <td>9524.0</td>\n",
       "      <td>0.0</td>\n",
       "      <td>0.821534</td>\n",
       "    </tr>\n",
       "    <tr>\n",
       "      <th>3</th>\n",
       "      <td>9525.0</td>\n",
       "      <td>0.0</td>\n",
       "      <td>0.829203</td>\n",
       "    </tr>\n",
       "    <tr>\n",
       "      <th>4</th>\n",
       "      <td>9526.0</td>\n",
       "      <td>0.0</td>\n",
       "      <td>0.836937</td>\n",
       "    </tr>\n",
       "  </tbody>\n",
       "</table>\n",
       "</div>"
      ],
      "text/plain": [
       "   kospi200_price  nov_call_price  dec_call_price\n",
       "0          9522.0             0.0        0.806387\n",
       "1          9523.0             0.0        0.813929\n",
       "2          9524.0             0.0        0.821534\n",
       "3          9525.0             0.0        0.829203\n",
       "4          9526.0             0.0        0.836937"
      ]
     },
     "execution_count": 16,
     "metadata": {},
     "output_type": "execute_result"
    }
   ],
   "source": [
    "df.head()"
   ]
  },
  {
   "cell_type": "markdown",
   "metadata": {},
   "source": [
    "## Payoff"
   ]
  },
  {
   "cell_type": "code",
   "execution_count": 19,
   "metadata": {},
   "outputs": [
    {
     "data": {
      "image/png": "[encoded data removed]",
      "text/plain": [
       "<Figure size 720x360 with 1 Axes>"
      ]
     },
     "metadata": {},
     "output_type": "display_data"
    }
   ],
   "source": [
    "df['payoff'] = df.dec_call_price - df.nov_call_price - setup_cost\n",
    "plt.figure(figsize=(10, 5))\n",
    "plt.ylabel('payoff')\n",
    "plt.xlabel('kospi200')\n",
    "plt.plot(sT, df.payoff)\n",
    "plt.plot([9500, 11500],[0,0])\n",
    "plt.grid()"
   ]
  },
  {
   "cell_type": "markdown",
   "metadata": {},
   "source": [
    "The key takeaways from the graphs are - \n",
    "\n",
    "1. front-month 만기일의 kospi200 선물 가격이 옵션 행사가격 일때 최대 이익이 실현된다. \n",
    "2. 옵션의 행사가격에서 양방향으로 멀어질 수록 이익이 감소한다. \n",
    "3. 옵션이 deep ITM 이나 deep OTM 으로 움직이면 최대 손실이 발생한다. "
   ]
  },
  {
   "cell_type": "code",
   "execution_count": null,
   "metadata": {},
   "outputs": [],
   "source": []
  }
 ],
 "metadata": {
  "kernelspec": {
   "display_name": "Python 3",
   "language": "python",
   "name": "python3"
  },
  "language_info": {
   "codemirror_mode": {
    "name": "ipython",
    "version": 3
   },
   "file_extension": ".py",
   "mimetype": "text/x-python",
   "name": "python",
   "nbconvert_exporter": "python",
   "pygments_lexer": "ipython3",
   "version": "3.6.4"
  }
 },
 "nbformat": 4,
 "nbformat_minor": 2
}
