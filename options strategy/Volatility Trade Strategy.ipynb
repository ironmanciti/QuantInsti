{
 "cells": [
  {
   "cell_type": "code",
   "execution_count": 1,
   "metadata": {},
   "outputs": [],
   "source": [
    "%matplotlib inline\n",
    "import numpy as np\n",
    "import matplotlib.pyplot as plt\n",
    "import seaborn as sns"
   ]
  },
  {
   "cell_type": "code",
   "execution_count": 20,
   "metadata": {},
   "outputs": [],
   "source": [
    "def call_payoff(sT, strike_price, premium, contracts=1, multiplier=1):\n",
    "    pnl = np.where(sT > strike_price, sT - strike_price, 0) - premium\n",
    "    return pnl * contracts * multiplier\n",
    "\n",
    "def put_payoff(sT, strike_price, premium, contracts=1, multiplier=1):\n",
    "    pnl = np.where(sT < strike_price, strike_price - sT, 0) - premium\n",
    "    return pnl * contracts * multiplier"
   ]
  },
  {
   "cell_type": "markdown",
   "metadata": {},
   "source": [
    "## Volatility 가 높을 때\n",
    "\n",
    "ex) Netflex 는 2016 년 Jan 29 에 $91.15 에 close 되었다.  이것은 연초부터 현재까지 20% 하락한 것이다. \n",
    "\n",
    "2015 년에는 2 배 이상 뛰었었다. 주가가 계속 떨어질 것으로 예상하는 trader 는 $90 행사가의 2016 년 6월 만기 PUT 을 살 수 있다.\n",
    "\n",
    "이 PUT 의 IV 는 2016 년 Jan 29 에 53% 였고, 가격은 $11.40 이었다.\n",
    "\n",
    "이 것은 Netflex 가 $12.55 혹은 14% 하락해야 PUT position 에 수익이 난다는 뜻이다. \n",
    "\n",
    "이 전략은 단순하지만, expensive 하다. 따라서 trader 는 long PUT position 을 취하기 위한 cost 를 줄이기 위해 좀 더 out-of-the money 인 PUT 을 사거나, 더 낮은 가격의 PUT position 을 short 하여 cost 를 줄일 수 있는데 이 것이 bear put spread 로 알려진 전략이다.\n",
    "\n",
    "Netflex 의 경우, trader 는 다음과 같이 position 을 취할 수 있다.\n",
    "\n",
    "    1) 더 out-of-the money 인 Put   구매 : June $80 put 을 $7.15 에 BUY ($90 PUT 보다 $4.25 또는 37% 싸다) \n",
    "\n",
    "    2) $11.40  에 $90 PUT BUY, $6.75 에 $80 PUT SELL : net cost 는 $3.65  ==> Bear Put Spread"
   ]
  },
  {
   "cell_type": "markdown",
   "metadata": {},
   "source": [
    "## Bear Put Spread"
   ]
  },
  {
   "cell_type": "code",
   "execution_count": 76,
   "metadata": {},
   "outputs": [
    {
     "name": "stdout",
     "output_type": "stream",
     "text": [
      "Bear Put Spread 손익\n",
      "\n",
      "높은행사가의 풋 구입 : 90\n",
      "낮은행사가의 풋 매도 : 80\n",
      "만기일주가, 손익\n",
      "   99    -4.65\n",
      "   90    -4.65\n",
      "   170    -4.65\n",
      "   80    5.35\n",
      "   72    5.35\n"
     ]
    }
   ],
   "source": [
    "# 현물 가격\n",
    "spot_price = 91.15\n",
    "\n",
    "# Long call : 풋옵션 구입\n",
    "strike_price_long_put = 90 \n",
    "premium_long_put = 11.40 \n",
    "\n",
    "# Short call : 같은 만기일 더 낮은 행사가의 풋옵션 매도\n",
    "strike_price_short_put = 80 \n",
    "premium_short_put = 6.75\n",
    "\n",
    "# 만기일 주가\n",
    "sT_expiry = [np.int(strike_price_long_put * 1.1), strike_price_long_put, \n",
    "             np.int((strike_price_long_put + strike_price_short_put)), \n",
    "             strike_price_short_put, np.int(strike_price_short_put * 0.9)]\n",
    "\n",
    "print('Bear Put Spread 손익\\n')\n",
    "print('높은행사가의 풋 구입 :', strike_price_long_put)\n",
    "print('낮은행사가의 풋 매도 :', strike_price_short_put)\n",
    "print('만기일주가, 손익')\n",
    "\n",
    "for sT in sT_expiry:\n",
    "    payoff_long_put = put_payoff(sT, strike_price_long_put, premium_long_put)\n",
    "    payoff_short_put = -put_payoff(sT, strike_price_short_put, premium_short_put)\n",
    "    payoff_bear_put_spread = payoff_long_put + payoff_short_put\n",
    "    print('  ', sT, '  ', payoff_bear_put_spread)"
   ]
  },
  {
   "cell_type": "code",
   "execution_count": 77,
   "metadata": {},
   "outputs": [
    {
     "name": "stdout",
     "output_type": "stream",
     "text": [
      "Max Profit : 3.314999999999989\n",
      "Max Loss : -4.65\n"
     ]
    },
    {
     "data": {
      "image/png": "[encoded data removed]",
      "text/plain": [
       "<Figure size 432x288 with 1 Axes>"
      ]
     },
     "metadata": {},
     "output_type": "display_data"
    }
   ],
   "source": [
    "# Stock price range at expiration of the call\n",
    "sT = np.arange(0.9*spot_price,1.05*spot_price,1) \n",
    "\n",
    "payoff_long_put = put_payoff(sT, strike_price_long_put, premium_long_put)\n",
    "payoff_short_put =  -put_payoff(sT, strike_price_short_put, premium_short_put)\n",
    "payoff_bear_put_spread = payoff_long_put + payoff_short_put\n",
    "\n",
    "fig, ax = plt.subplots()\n",
    "ax.spines[\"bottom\"].set_position(\"zero\")\n",
    "ax.plot(sT, payoff_long_put, 'r--', \n",
    "        label=\"long \"+str(strike_price_long_put)+\" strike put\")\n",
    "\n",
    "ax.plot(sT, payoff_short_put, 'g--', \n",
    "        label=\"short \"+str(strike_price_short_put)+\" strike put\")\n",
    "\n",
    "ax.plot(sT, payoff_bear_put_spread, 'b-', label=\"Bear Put Spread\")\n",
    "plt.grid(True)\n",
    "plt.ylabel('P & L')\n",
    "plt.legend()\n",
    "print(\"Max Profit :\", max(payoff_bear_put_spread))\n",
    "print(\"Max Loss :\", min(payoff_bear_put_spread))"
   ]
  },
  {
   "cell_type": "code",
   "execution_count": null,
   "metadata": {},
   "outputs": [],
   "source": []
  },
  {
   "cell_type": "code",
   "execution_count": null,
   "metadata": {},
   "outputs": [],
   "source": []
  }
 ],
 "metadata": {
  "kernelspec": {
   "display_name": "Python 3",
   "language": "python",
   "name": "python3"
  },
  "language_info": {
   "codemirror_mode": {
    "name": "ipython",
    "version": 3
   },
   "file_extension": ".py",
   "mimetype": "text/x-python",
   "name": "python",
   "nbconvert_exporter": "python",
   "pygments_lexer": "ipython3",
   "version": "3.5.5"
  }
 },
 "nbformat": 4,
 "nbformat_minor": 2
}
