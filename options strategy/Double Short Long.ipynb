{
 "cells": [
  {
   "cell_type": "code",
   "execution_count": 2,
   "metadata": {},
   "outputs": [],
   "source": [
    "%matplotlib inline\n",
    "import numpy as np\n",
    "import matplotlib.pyplot as plt\n",
    "import seaborn as sns"
   ]
  },
  {
   "cell_type": "code",
   "execution_count": 3,
   "metadata": {},
   "outputs": [],
   "source": [
    "def call_payoff(sT, strike_price, premium, contracts=1, multiplier=1):\n",
    "    pnl = np.where(sT > strike_price, sT - strike_price, 0) - premium\n",
    "    return pnl * contracts * multiplier\n",
    "\n",
    "def put_payoff(sT, strike_price, premium, contracts=1, multiplier=1):\n",
    "    pnl = np.where(sT < strike_price, strike_price - sT, 0) - premium\n",
    "    return pnl * contracts * multiplier"
   ]
  },
  {
   "cell_type": "markdown",
   "metadata": {},
   "source": [
    "## 양매도\n",
    "\n",
    "만기시 주가가 call 행사가보다 낮고 put 행사가보다 높아야 한다. 예측이 빗나가면 손실은 무한대가 된다."
   ]
  },
  {
   "cell_type": "code",
   "execution_count": 26,
   "metadata": {},
   "outputs": [
    {
     "name": "stdout",
     "output_type": "stream",
     "text": [
      "콜옵션 매수 : 310 2.052\n",
      "콜옵션 매수 : 310 2.052\n",
      "풋옵션 매수 : 305 1.37\n",
      "풋옵션 매수 : 310 2.052\n"
     ]
    },
    {
     "ename": "NameError",
     "evalue": "name 'tot_payoff' is not defined",
     "output_type": "error",
     "traceback": [
      "\u001b[0;31m---------------------------------------------------------------------------\u001b[0m",
      "\u001b[0;31mNameError\u001b[0m                                 Traceback (most recent call last)",
      "\u001b[0;32m<ipython-input-26-9c291d8054ea>\u001b[0m in \u001b[0;36m<module>\u001b[0;34m()\u001b[0m\n\u001b[1;32m     50\u001b[0m \u001b[0mput\u001b[0m  \u001b[0;34m=\u001b[0m \u001b[0;34m[\u001b[0m\u001b[0;34m(\u001b[0m\u001b[0;36m1\u001b[0m\u001b[0;34m,\u001b[0m \u001b[0;36m305\u001b[0m\u001b[0;34m,\u001b[0m \u001b[0;36m1.370\u001b[0m\u001b[0;34m,\u001b[0m \u001b[0;36m10\u001b[0m\u001b[0;34m)\u001b[0m\u001b[0;34m,\u001b[0m \u001b[0;34m(\u001b[0m\u001b[0;36m1\u001b[0m\u001b[0;34m,\u001b[0m \u001b[0;36m310\u001b[0m\u001b[0;34m,\u001b[0m \u001b[0;36m2.052\u001b[0m\u001b[0;34m,\u001b[0m \u001b[0;36m10\u001b[0m\u001b[0;34m)\u001b[0m\u001b[0;34m]\u001b[0m\u001b[0;34m\u001b[0m\u001b[0m\n\u001b[1;32m     51\u001b[0m \u001b[0;34m\u001b[0m\u001b[0m\n\u001b[0;32m---> 52\u001b[0;31m \u001b[0mstraddle\u001b[0m\u001b[0;34m(\u001b[0m\u001b[0;36m1\u001b[0m\u001b[0;34m,\u001b[0m \u001b[0mcall\u001b[0m\u001b[0;34m,\u001b[0m \u001b[0mput\u001b[0m\u001b[0;34m)\u001b[0m\u001b[0;34m\u001b[0m\u001b[0m\n\u001b[0m",
      "\u001b[0;32m<ipython-input-26-9c291d8054ea>\u001b[0m in \u001b[0;36mstraddle\u001b[0;34m(opt, call, put)\u001b[0m\n\u001b[1;32m     25\u001b[0m \u001b[0;34m\u001b[0m\u001b[0m\n\u001b[1;32m     26\u001b[0m     \u001b[0;32mfor\u001b[0m \u001b[0mi\u001b[0m \u001b[0;32min\u001b[0m \u001b[0mrange\u001b[0m\u001b[0;34m(\u001b[0m\u001b[0;36m0\u001b[0m\u001b[0;34m,\u001b[0m \u001b[0mlen\u001b[0m\u001b[0;34m(\u001b[0m\u001b[0mpayoff_straddle\u001b[0m\u001b[0;34m)\u001b[0m\u001b[0;34m)\u001b[0m\u001b[0;34m:\u001b[0m\u001b[0;34m\u001b[0m\u001b[0m\n\u001b[0;32m---> 27\u001b[0;31m         \u001b[0mtot_payoff\u001b[0m\u001b[0;34m[\u001b[0m\u001b[0mi\u001b[0m\u001b[0;34m]\u001b[0m \u001b[0;34m+=\u001b[0m \u001b[0mpayoff_straddle\u001b[0m\u001b[0;34m[\u001b[0m\u001b[0mi\u001b[0m\u001b[0;34m]\u001b[0m\u001b[0;34m[\u001b[0m\u001b[0;36m0\u001b[0m\u001b[0;34m]\u001b[0m\u001b[0;34m\u001b[0m\u001b[0m\n\u001b[0m\u001b[1;32m     28\u001b[0m \u001b[0;34m\u001b[0m\u001b[0m\n\u001b[1;32m     29\u001b[0m \u001b[0;34m\u001b[0m\u001b[0m\n",
      "\u001b[0;31mNameError\u001b[0m: name 'tot_payoff' is not defined"
     ]
    }
   ],
   "source": [
    "def straddle(opt, call, put):\n",
    "        \n",
    "    payoff_call = []\n",
    "    payoff_put = []\n",
    "    payoff_straddle = []\n",
    "    \n",
    "    sT_expiry = np.arange(0.7*put[0][1],1.3*call[0][1],1) \n",
    "\n",
    "    for op, st, pr, contracts in call:\n",
    "        payoff_call.append(op * call_payoff(sT_expiry, st, pr))\n",
    "        if op == 1:\n",
    "            print('콜옵션 매수 :', st, pr)\n",
    "        else:\n",
    "            print('콜옵션 매도 :', st, pr)\n",
    "\n",
    "    for op, st, pr, contracts in put:\n",
    "        payoff_put.append(op * put_payoff(sT_expiry, st, pr))\n",
    "        if op == 1:\n",
    "            print('풋옵션 매수 :', st, pr)\n",
    "        else:\n",
    "            print('풋옵션 매도 :', st, pr)\n",
    "\n",
    "    for i in range(len(payoff_call)):\n",
    "        payoff_straddle.append(payoff_call[i] + payoff_put[i])\n",
    "        \n",
    "    for i in range(0, len(payoff_straddle)):\n",
    "        tot_payoff[i] += payoff_straddle[i][0]\n",
    "        \n",
    "    \n",
    "    fig, ax = plt.subplots()\n",
    "    ax.spines['bottom'].set_position('zero')\n",
    "    \n",
    "    for i in range(len(call)):\n",
    "        ax.plot(sT_expiry, payoff_call[i], 'r--',\n",
    "                label=\"short \"+str(call[i][1])+\" strike call\")\n",
    "        ax.plot(sT_expiry, payoff_put[i], 'g--',\n",
    "                label=\"short \"+str(put[i][1])+\" strike put\")  \n",
    "        \n",
    "    ax.plot(sT_expiry, tot_payoff, 'b-', label='Straddle Payoff')\n",
    "    \n",
    "    plt.legend()\n",
    "    plt.grid(True)\n",
    "    plt.xlabel('stock A')\n",
    "    plt.ylabel('P & L')\n",
    "    plt.title('Straddle short');\n",
    "    plt.show()\n",
    "\n",
    "   \n",
    "call = [(1, 310, 2.052, 10), (1, 310, 2.052, 10)] # long/short, strike, premium, contracts\n",
    "put  = [(1, 305, 1.370, 10), (1, 310, 2.052, 10)]\n",
    "\n",
    "straddle(1, call, put)"
   ]
  },
  {
   "cell_type": "code",
   "execution_count": null,
   "metadata": {},
   "outputs": [],
   "source": []
  }
 ],
 "metadata": {
  "kernelspec": {
   "display_name": "Python 3",
   "language": "python",
   "name": "python3"
  },
  "language_info": {
   "codemirror_mode": {
    "name": "ipython",
    "version": 3
   },
   "file_extension": ".py",
   "mimetype": "text/x-python",
   "name": "python",
   "nbconvert_exporter": "python",
   "pygments_lexer": "ipython3",
   "version": "3.6.5"
  }
 },
 "nbformat": 4,
 "nbformat_minor": 2
}
