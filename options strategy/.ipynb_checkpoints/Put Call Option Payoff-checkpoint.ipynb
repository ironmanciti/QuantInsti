{
 "cells": [
  {
   "cell_type": "markdown",
   "metadata": {},
   "source": [
    "### Mac 한글 폰트 지정\n",
    "\n",
    "set([f.name for f in matplotlib.font_manager.fontManager.ttflist])\n",
    "\n",
    "### 그래프에서 마이너스 폰트 깨지는 문제에 대한 대처\n",
    "mpl.rcParams['axes.unicode_minus'] = False"
   ]
  },
  {
   "cell_type": "code",
   "execution_count": 18,
   "metadata": {},
   "outputs": [],
   "source": [
    "%matplotlib inline\n",
    "import numpy as np\n",
    "import matplotlib.pyplot as plt\n",
    "import seaborn\n",
    "import matplotlib\n",
    "matplotlib.rc('font', family='NanumGothic')\n",
    "matplotlib.rcParams['axes.unicode_minus'] = False\n",
    "# set([f.name for f in matplotlib.font_manager.fontManager.ttflist])\n"
   ]
  },
  {
   "cell_type": "markdown",
   "metadata": {},
   "source": [
    "# PUT Option 만기일 손익"
   ]
  },
  {
   "cell_type": "code",
   "execution_count": 19,
   "metadata": {},
   "outputs": [],
   "source": [
    "def put_payoff(sT, strike_price, premium, contracts=1, multiplier=1):\n",
    "    pnl = np.where(sT < strike_price, strike_price - sT, 0) - premium\n",
    "    return pnl * contracts * multiplier\n",
    "\n",
    "def call_payoff(sT, strike_price, premium, contracts=1, multiplier=1):\n",
    "    pnl = np.where(sT > strike_price, sT - strike_price, 0) - premium\n",
    "    return pnl * contracts * multiplier"
   ]
  },
  {
   "cell_type": "code",
   "execution_count": 20,
   "metadata": {},
   "outputs": [
    {
     "name": "stdout",
     "output_type": "stream",
     "text": [
      "0 WON\n"
     ]
    }
   ],
   "source": [
    "# Infosys stock price \n",
    "spot_price = 255.00      # KOSPI200 현재가\n",
    "\n",
    "# Call strike price and cost\n",
    "strike_price = 260.00    # put option 행사가\n",
    "premium = 5              # 계약당 premium\n",
    "contracts = 10           # 계약수\n",
    "multiplier = 500000      # 거래승수\n",
    "\n",
    "pnl = put_payoff(spot_price, strike_price, premium,contracts, multiplier)\n",
    "\n",
    "print(\"{:,.0f} WON\".format(pnl))"
   ]
  },
  {
   "cell_type": "markdown",
   "metadata": {},
   "source": [
    "# Define parameters\n",
    "\n",
    "We will define the spot price(현물가격), the strike price, premium, and a range of possible values for the Infosys stock price at expiry."
   ]
  },
  {
   "cell_type": "code",
   "execution_count": 21,
   "metadata": {},
   "outputs": [],
   "source": [
    "# Infosys stock price\n",
    "spot_price = 900\n",
    "\n",
    "# Put strike price and cost\n",
    "strike_price = 900\n",
    "premium = 20\n",
    "\n",
    "# Stock price range at the expiration of the put\n",
    "# We have defined range for the stock price at expiry as +/- 10% from spot price\n",
    "# Syntax: numpy.arange(start price, stop price)\n",
    "sT = np.arange(0.9*spot_price,1.1*spot_price)\n",
    "put_long_payoff = put_payoff(sT, strike_price, premium)"
   ]
  },
  {
   "cell_type": "markdown",
   "metadata": {},
   "source": [
    "# Put option buyer payoff (수익)"
   ]
  },
  {
   "cell_type": "code",
   "execution_count": 22,
   "metadata": {},
   "outputs": [
    {
     "data": {
      "image/png": "[encoded data removed]",
      "text/plain": [
       "<Figure size 432x288 with 1 Axes>"
      ]
     },
     "metadata": {},
     "output_type": "display_data"
    }
   ],
   "source": [
    "fig, ax = plt.subplots()\n",
    "ax.spines[\"bottom\"].set_position(\"zero\")\n",
    "plt.plot(sT, put_long_payoff, label=\"풋옵션구매자의 수익\")\n",
    "plt.grid(True)\n",
    "plt.xlabel('infosys 주가')\n",
    "plt.ylabel('손익')\n",
    "plt.legend();"
   ]
  },
  {
   "cell_type": "markdown",
   "metadata": {},
   "source": [
    "So what do you observe? \n",
    "\n",
    "1. Even if the price of Infosys goes above the strike price of 900, the maximum loss seems to be just ₹20/-. Therefore, the loss to the put option buyer is restricted to the extent of the premium he has paid.\n",
    "\n",
    "2. The profit from this put option seems to increase linearly as and when Infosys starts to move below the strike price of 900. Therefore, the lower the spot price goes, the higher will be the profit.\n",
    "\n",
    "3. Though the put option is supposed to make a profit when the spot price moves below the strike price, the put option buyer first needs to recover the premium he has paid.\n",
    "\n",
    "From the above points we can say that the buyer of the put option has a limited risk and a potential to make an unlimited profit."
   ]
  },
  {
   "cell_type": "markdown",
   "metadata": {},
   "source": [
    "# Put option 판매자의 보상 (seller payoff)\n",
    "\n",
    "To get the payoff graph for option seller, we have multiplied the payoff of option buyer by -1.0, as the option buyer makes profit, the option seller will lose the exact same amount and vice-versa."
   ]
  },
  {
   "cell_type": "code",
   "execution_count": 23,
   "metadata": {},
   "outputs": [
    {
     "data": {
      "image/png": "[encoded data removed]",
      "text/plain": [
       "<Figure size 432x288 with 1 Axes>"
      ]
     },
     "metadata": {},
     "output_type": "display_data"
    }
   ],
   "source": [
    "put_short_payoff = -1 * put_long_payoff\n",
    "\n",
    "fig, ax = plt.subplots()\n",
    "plt.plot(sT, put_short_payoff, label=\"풋옵션 판매자의 수익\", color='r')\n",
    "ax.spines['bottom'].set_position('zero')\n",
    "plt.grid(True)\n",
    "plt.legend()\n",
    "plt.xlabel('infosys 주가')\n",
    "plt.ylabel('손익');"
   ]
  },
  {
   "cell_type": "markdown",
   "metadata": {},
   "source": [
    "The put option seller payoff looks like a mirror image of the put option buyer payoff. \n",
    "\n",
    "1. The profit is restricted to ₹20/- as long as the spot price is trading at any price above the strike price of 900.\n",
    "2. From 900 to 880, we can see the profits getting reduced.\n",
    "3. Below 880, the put option seller starts losing money. The losses increases with decrease in stock price.\n",
    "\n",
    "Therefore, you sell a put option only when your view is that the underlying asset will not fall beyond the strike price"
   ]
  },
  {
   "cell_type": "code",
   "execution_count": 24,
   "metadata": {},
   "outputs": [
    {
     "data": {
      "text/html": [
       "<div>\n",
       "<style scoped>\n",
       "    .dataframe tbody tr th:only-of-type {\n",
       "        vertical-align: middle;\n",
       "    }\n",
       "\n",
       "    .dataframe tbody tr th {\n",
       "        vertical-align: top;\n",
       "    }\n",
       "\n",
       "    .dataframe thead th {\n",
       "        text-align: right;\n",
       "    }\n",
       "</style>\n",
       "<table border=\"1\" class=\"dataframe\">\n",
       "  <thead>\n",
       "    <tr style=\"text-align: right;\">\n",
       "      <th></th>\n",
       "      <th>payoff_put</th>\n",
       "      <th>stock_price</th>\n",
       "    </tr>\n",
       "  </thead>\n",
       "  <tbody>\n",
       "    <tr>\n",
       "      <th>0</th>\n",
       "      <td>5.6</td>\n",
       "      <td>421.4</td>\n",
       "    </tr>\n",
       "    <tr>\n",
       "      <th>1</th>\n",
       "      <td>4.6</td>\n",
       "      <td>422.4</td>\n",
       "    </tr>\n",
       "    <tr>\n",
       "      <th>2</th>\n",
       "      <td>3.6</td>\n",
       "      <td>423.4</td>\n",
       "    </tr>\n",
       "    <tr>\n",
       "      <th>3</th>\n",
       "      <td>2.6</td>\n",
       "      <td>424.4</td>\n",
       "    </tr>\n",
       "    <tr>\n",
       "      <th>4</th>\n",
       "      <td>1.6</td>\n",
       "      <td>425.4</td>\n",
       "    </tr>\n",
       "    <tr>\n",
       "      <th>5</th>\n",
       "      <td>0.6</td>\n",
       "      <td>426.4</td>\n",
       "    </tr>\n",
       "    <tr>\n",
       "      <th>6</th>\n",
       "      <td>-0.4</td>\n",
       "      <td>427.4</td>\n",
       "    </tr>\n",
       "    <tr>\n",
       "      <th>7</th>\n",
       "      <td>-1.4</td>\n",
       "      <td>428.4</td>\n",
       "    </tr>\n",
       "    <tr>\n",
       "      <th>8</th>\n",
       "      <td>-2.4</td>\n",
       "      <td>429.4</td>\n",
       "    </tr>\n",
       "    <tr>\n",
       "      <th>9</th>\n",
       "      <td>-3.0</td>\n",
       "      <td>430.4</td>\n",
       "    </tr>\n",
       "    <tr>\n",
       "      <th>10</th>\n",
       "      <td>-3.0</td>\n",
       "      <td>431.4</td>\n",
       "    </tr>\n",
       "    <tr>\n",
       "      <th>11</th>\n",
       "      <td>-3.0</td>\n",
       "      <td>432.4</td>\n",
       "    </tr>\n",
       "    <tr>\n",
       "      <th>12</th>\n",
       "      <td>-3.0</td>\n",
       "      <td>433.4</td>\n",
       "    </tr>\n",
       "    <tr>\n",
       "      <th>13</th>\n",
       "      <td>-3.0</td>\n",
       "      <td>434.4</td>\n",
       "    </tr>\n",
       "    <tr>\n",
       "      <th>14</th>\n",
       "      <td>-3.0</td>\n",
       "      <td>435.4</td>\n",
       "    </tr>\n",
       "    <tr>\n",
       "      <th>15</th>\n",
       "      <td>-3.0</td>\n",
       "      <td>436.4</td>\n",
       "    </tr>\n",
       "    <tr>\n",
       "      <th>16</th>\n",
       "      <td>-3.0</td>\n",
       "      <td>437.4</td>\n",
       "    </tr>\n",
       "    <tr>\n",
       "      <th>17</th>\n",
       "      <td>-3.0</td>\n",
       "      <td>438.4</td>\n",
       "    </tr>\n",
       "    <tr>\n",
       "      <th>18</th>\n",
       "      <td>-3.0</td>\n",
       "      <td>439.4</td>\n",
       "    </tr>\n",
       "    <tr>\n",
       "      <th>19</th>\n",
       "      <td>-3.0</td>\n",
       "      <td>440.4</td>\n",
       "    </tr>\n",
       "  </tbody>\n",
       "</table>\n",
       "</div>"
      ],
      "text/plain": [
       "    payoff_put  stock_price\n",
       "0          5.6        421.4\n",
       "1          4.6        422.4\n",
       "2          3.6        423.4\n",
       "3          2.6        424.4\n",
       "4          1.6        425.4\n",
       "5          0.6        426.4\n",
       "6         -0.4        427.4\n",
       "7         -1.4        428.4\n",
       "8         -2.4        429.4\n",
       "9         -3.0        430.4\n",
       "10        -3.0        431.4\n",
       "11        -3.0        432.4\n",
       "12        -3.0        433.4\n",
       "13        -3.0        434.4\n",
       "14        -3.0        435.4\n",
       "15        -3.0        436.4\n",
       "16        -3.0        437.4\n",
       "17        -3.0        438.4\n",
       "18        -3.0        439.4\n",
       "19        -3.0        440.4"
      ]
     },
     "execution_count": 24,
     "metadata": {},
     "output_type": "execute_result"
    }
   ],
   "source": [
    "import numpy as np\n",
    "import pandas as pd\n",
    "# Tata motors stock price \n",
    "spot_price = 430 \n",
    "# Stock price range at expiration of the call\n",
    "sT = np.arange(0.98*spot_price,1.03*spot_price)\n",
    "# Put\n",
    "strike_price = 430 \n",
    "premium = 3\n",
    "# Type your code here\n",
    "payoff_put = np.where(sT < strike_price, strike_price - sT, 0) \n",
    "payoff_put = payoff_put - premium\n",
    "df = pd.DataFrame({'stock_price':sT, 'payoff_put':payoff_put})\n",
    "df.head(20)"
   ]
  },
  {
   "cell_type": "markdown",
   "metadata": {},
   "source": [
    "# Call payoff"
   ]
  },
  {
   "cell_type": "markdown",
   "metadata": {},
   "source": [
    "# Call Option 만기일 손익"
   ]
  },
  {
   "cell_type": "code",
   "execution_count": 25,
   "metadata": {},
   "outputs": [
    {
     "name": "stdout",
     "output_type": "stream",
     "text": [
      "-25,000,000 WON\n"
     ]
    }
   ],
   "source": [
    "# Infosys stock price \n",
    "spot_price = 258.80      # KOSPI200 현재가\n",
    "\n",
    "# Call strike price and cost\n",
    "strike_price = 260.00    # call option 행사가\n",
    "premium = 5              # 계약당 premium\n",
    "contracts = 10           # 계약수\n",
    "multiplier = 500000      # 거래승수\n",
    "\n",
    "pnl = call_payoff(spot_price, strike_price, premium,contracts, multiplier)\n",
    "\n",
    "print(\"{:,.0f} WON\".format(pnl))"
   ]
  },
  {
   "cell_type": "code",
   "execution_count": 26,
   "metadata": {},
   "outputs": [],
   "source": [
    "# Infosys stock price \n",
    "spot_price = 900 # 주식 현재가\n",
    "\n",
    "# Call strike price and cost\n",
    "strike_price = 900 # 행사가\n",
    "premium = 20       # 계약당 premium\n",
    "\n",
    "# Stock price range at the expiration of the call\n",
    "# We have defined range for the stock price at expiry as +/- 10% from spot price\n",
    "# Syntax: numpy.arange(start price, stop price)\n",
    "sT = np.arange(0.9*spot_price,1.1*spot_price) "
   ]
  },
  {
   "cell_type": "code",
   "execution_count": 27,
   "metadata": {},
   "outputs": [
    {
     "data": {
      "image/png": "[encoded data removed]",
      "text/plain": [
       "<Figure size 432x288 with 1 Axes>"
      ]
     },
     "metadata": {},
     "output_type": "display_data"
    }
   ],
   "source": [
    "call_long_profit = call_payoff(sT, strike_price, premium)\n",
    "call_short_profit = - call_long_profit\n",
    "\n",
    "fig, ax = plt.subplots()\n",
    "ax.spines['bottom'].set_position('zero')\n",
    "plt.plot(sT, call_long_profit, label='콜옵션 구매자의 수익')\n",
    "plt.plot(sT, call_short_profit, label='콜옵션 판매자의 수익')\n",
    "\n",
    "plt.legend()\n",
    "plt.grid(True)\n",
    "plt.xlabel('infosys 주가')\n",
    "plt.ylabel('손익');"
   ]
  },
  {
   "cell_type": "markdown",
   "metadata": {},
   "source": [
    "# put-call parity\n",
    "\n",
    "Put-Call parity 는 동일한 기초자산, 동일 만기, 동일 행사가의 유럽형 풋옵션과 콜옵션의 관계를 정의한 것이다. 풋옵션 매도와 콜옵션 매수를 동시에 하면 그 기초자산(주식) 의 선물을 보유한 것과 같은 수익을 얻는다 (동일 만기, 행사가와 동일한 선물가격)\n",
    "\n",
    "만약, 이 관계가 성립 않으면 차익거래 기회가 생긴다. 이러한 risk-free profit 기회는 드물고 금방 사라진다.\n",
    "\n",
    "**call option 매수 + put option 매도**\n",
    "\n",
    "    행사가 500, 만기 1 년, 프리미엄 100 인 call option 매수\n",
    "\n",
    "    행사가 500, 만기 1 년, 프리미엄 100 인 put option 매도\n",
    "    \n",
    "* 유럽형 옵션에만 해당. 미국형은 만기까지 보유할 때 해당"
   ]
  },
  {
   "cell_type": "code",
   "execution_count": 28,
   "metadata": {},
   "outputs": [],
   "source": [
    "strike_price = 500    # 행사가\n",
    "premium = 100        # 프리미엄\n",
    "sT = np.arange(100,800)   # 가격 범위"
   ]
  },
  {
   "cell_type": "code",
   "execution_count": 29,
   "metadata": {},
   "outputs": [
    {
     "data": {
      "image/png": "[encoded data removed]",
      "text/plain": [
       "<Figure size 432x288 with 1 Axes>"
      ]
     },
     "metadata": {},
     "output_type": "display_data"
    }
   ],
   "source": [
    "call_long_profit = call_payoff(sT, strike_price, premium)\n",
    "put_short_profit = - put_payoff(sT, strike_price, premium)\n",
    "total_profit = call_long_profit + put_short_profit\n",
    "fig, ax = plt.subplots()\n",
    "ax.spines['bottom'].set_position('zero')\n",
    "plt.plot(sT, call_long_profit, label='콜옵션 구매자의 수익')\n",
    "plt.plot(sT, put_short_profit, label='풋옵션 메도자의 수익')\n",
    "plt.plot(sT, total_profit, label='콜/풋 합성 수익')\n",
    "plt.annotate(\"선물계약과 동일\", xy=(300,-200), xytext=(500,-300), fontsize=15,\n",
    "             arrowprops={'arrowstyle': '->'})\n",
    "\n",
    "plt.legend()\n",
    "plt.ylabel('손익');"
   ]
  },
  {
   "cell_type": "markdown",
   "metadata": {},
   "source": [
    "# Arbitrage 거래"
   ]
  },
  {
   "cell_type": "markdown",
   "metadata": {},
   "source": [
    "1) portfolio A :\n",
    "\n",
    "call option 매수 + zero coupon bond 매수\n",
    "\n",
    "    행사가 500, 만기 1 년, call option 매수\n",
    "\n",
    "    만기 1 년, 500(행사가와 동일 금액 수령) 채권 매수\n",
    "    \n",
    "2) portfolio B :\n",
    "\n",
    "put option 매수 + underlying asset\n",
    "    \n",
    "    행사가 500, 만기 1 년, put option 매수\n",
    "\n",
    "    underlying asset 500 매수\n",
    "    \n",
    "    \n",
    "* 채권 중에는 제로쿠폰(zero coupon, zero coupon bond)이란 것이 있다. 즉, 이자가 전혀 없다는 것으로 무이자 채권이다. 제로쿠폰은 이자가 없지만 대신 발행할 때 미리 그 이자에 상당하는 금액을 할인해 준다. 5년 만기 20% 할인율의 100만원 짜리 제로쿠폰이 있다고 하면, 이것을 살 때는 80만원만 지급하면 되고 5년이 지난 뒤에 이 채권을 제시하면 100만원을 받게 된다."
   ]
  },
  {
   "cell_type": "code",
   "execution_count": 30,
   "metadata": {},
   "outputs": [],
   "source": [
    "strike_price = 500 \n",
    "premium = 0\n",
    "sT = np.arange(0,1000) "
   ]
  },
  {
   "cell_type": "code",
   "execution_count": 42,
   "metadata": {},
   "outputs": [
    {
     "data": {
      "image/png": "[encoded data removed]",
      "text/plain": [
       "<Figure size 432x288 with 2 Axes>"
      ]
     },
     "metadata": {},
     "output_type": "display_data"
    }
   ],
   "source": [
    "call_long_profit = call_payoff(sT, strike_price, premium)\n",
    "put_long_profit = put_payoff(sT, strike_price, premium)\n",
    "bond = 500\n",
    "plt.subplot(121)\n",
    "plt.plot(sT, call_long_profit, label='콜옵션매수')\n",
    "plt.plot([0, 1000],[500, 500],'k-', label='채권매수')\n",
    "plt.title('Portfolio A')\n",
    "plt.legend(loc='center left')\n",
    "plt.ylim(-10, 600)\n",
    "\n",
    "plt.subplot(122)\n",
    "plt.plot(sT, put_long_profit, label='풋옵션매수')\n",
    "plt.plot(sT, sT, label='주식매수');\n",
    "plt.title('Portfolio B');\n",
    "plt.legend(loc='center right')\n",
    "plt.ylim(-10, 600)\n",
    "\n",
    "plt.subplots_adjust(left=0.2, wspace=0.8, top=0.8)"
   ]
  },
  {
   "cell_type": "markdown",
   "metadata": {},
   "source": [
    "| 행사가 | 만기주가 | Porfolio A | Portfolio B        \n",
    "| :- |-------------: | :-: |\n",
    "|500| 600 | 100+500 = 600 | 0 + 600\n",
    "|500| 400 | 0 + 500 | 100 + 400 = 500\n",
    "\n",
    "Portfolio A = $C + X\\exp^{-rt}$\n",
    "\n",
    "Portfolio B = P + $S_0$\n",
    "\n",
    "C = Call price\n",
    "\n",
    "P = Put price\n",
    "\n",
    "X = 행사가\n",
    "\n",
    "$S_0$ = initial price of underlying\n",
    "\n",
    "r = interest rate\n",
    "\n",
    "t = time to expiry\n",
    "\n",
    "$e^{-rt}$ : 할인율"
   ]
  },
  {
   "cell_type": "markdown",
   "metadata": {
    "collapsed": true
   },
   "source": []
  },
  {
   "cell_type": "code",
   "execution_count": null,
   "metadata": {
    "collapsed": true
   },
   "outputs": [],
   "source": []
  }
 ],
 "metadata": {
  "kernelspec": {
   "display_name": "Python 3",
   "language": "python",
   "name": "python3"
  },
  "language_info": {
   "codemirror_mode": {
    "name": "ipython",
    "version": 3
   },
   "file_extension": ".py",
   "mimetype": "text/x-python",
   "name": "python",
   "nbconvert_exporter": "python",
   "pygments_lexer": "ipython3",
   "version": "3.6.4"
  }
 },
 "nbformat": 4,
 "nbformat_minor": 2
}
