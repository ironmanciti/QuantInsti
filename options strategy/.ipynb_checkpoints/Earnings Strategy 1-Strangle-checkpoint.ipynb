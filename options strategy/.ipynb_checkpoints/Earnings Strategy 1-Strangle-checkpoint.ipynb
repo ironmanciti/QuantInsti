{
 "cells": [
  {
   "cell_type": "markdown",
   "metadata": {},
   "source": [
    "# Earnings Strategy 1 - 변동성에 betting"
   ]
  },
  {
   "cell_type": "code",
   "execution_count": 18,
   "metadata": {},
   "outputs": [],
   "source": [
    "%matplotlib inline\n",
    "import numpy as np\n",
    "import matplotlib.pyplot as plt\n",
    "import seaborn as sns"
   ]
  },
  {
   "cell_type": "code",
   "execution_count": 19,
   "metadata": {},
   "outputs": [],
   "source": [
    "def call_payoff(sT, strike_price, premium, contracts=1, multiplier=1):\n",
    "    price = sT - strike_price\n",
    "    pnl = np.where(sT > strike_price, price, 0) - premium\n",
    "    return pnl * contracts * multiplier\n",
    "\n",
    "def put_payoff(sT, strike_price, premium, contracts=1, multiplier=1):\n",
    "    pnl = np.where(sT < strike_price, strike_price - sT, 0) - premium\n",
    "    return pnl * contracts * multiplier"
   ]
  },
  {
   "cell_type": "markdown",
   "metadata": {},
   "source": [
    "# Buy the Strangle\n",
    "\n",
    "동일행사가, 동일만기의 put, call option 모두를 premium 지불하고 long position 취함.\n",
    "\n",
    "주가가 strike price 보다 많이 변동하면 이익. 변하지 않으면 손실\n",
    "\n",
    " The quarterly earnings announcement date for Infosys is 24 October 2017. \n",
    "\n",
    "A week before earnings announcement that is, on 17 October 2017, we set up the long strangle by buying the 960 strike call and the 900 strike put.\n",
    "\n",
    "17 October 2017 Infy October Futures Price is ₹934.60\n",
    "\n",
    "1. Buy 900 Strike Put @ ₹4.65\n",
    "2. Buy 960 Strike Call @ ₹7.50\n",
    "\n",
    "Total premium paid is ₹12.15\n",
    "\n",
    "Implied Volatility (IV)\n",
    "\n",
    "1. IV of 900 Strike Put is 28.7%\n",
    "2. IV of 960 Strike Call is 29.2%"
   ]
  },
  {
   "cell_type": "code",
   "execution_count": 36,
   "metadata": {},
   "outputs": [
    {
     "name": "stdout",
     "output_type": "stream",
     "text": [
      "Straddle 손익\n",
      "\n",
      "콜옵션 매수 : 960\n",
      "풋옵션 매수 : 900\n",
      "Total premium paid : 12.15\n"
     ]
    }
   ],
   "source": [
    "future_price = 934.60\n",
    "\n",
    "# 콜옵션 매수\n",
    "strike_price_long_call = 960\n",
    "premium_long_call = 7.50\n",
    "\n",
    "#  풋옵션 매수\n",
    "strike_price_long_put = 900\n",
    "premium_long_put = 4.65\n",
    "\n",
    "total_expense_enter = premium_long_call + premium_long_put\n",
    "\n",
    "print('Straddle 손익\\n')\n",
    "print('콜옵션 매수 :', strike_price_long_call)\n",
    "print('풋옵션 매수 :', strike_price_long_put)\n",
    "print('Total premium paid :', total_expense_enter)"
   ]
  },
  {
   "cell_type": "code",
   "execution_count": 37,
   "metadata": {},
   "outputs": [
    {
     "data": {
      "text/plain": [
       "Text(0,0.5,'P & L')"
      ]
     },
     "execution_count": 37,
     "metadata": {},
     "output_type": "execute_result"
    },
    {
     "data": {
      "image/png": "[encoded data removed]",
      "text/plain": [
       "<Figure size 432x288 with 1 Axes>"
      ]
     },
     "metadata": {},
     "output_type": "display_data"
    }
   ],
   "source": [
    "# Stock price range at expiration of the call\n",
    "sT = np.arange(0.7*strike_price_long_put,1.3*strike_price_long_call,1) \n",
    "\n",
    "payoff_long_call = call_payoff(sT, strike_price_long_call, premium_long_call)\n",
    "payoff_long_put = put_payoff(sT, strike_price_long_put, premium_long_put)\n",
    "payoff_straddle = payoff_long_call + payoff_long_put\n",
    "\n",
    "fig, ax = plt.subplots()\n",
    "ax.spines['bottom'].set_position('zero')\n",
    "ax.plot(sT,payoff_long_call, 'r--', \n",
    "        label=\"long \"+str(strike_price_long_call)+\" strike call\")\n",
    "ax.plot(sT,payoff_long_put, 'g--', \n",
    "        label=\"long \"+str(strike_price_long_put)+\" strike put\")\n",
    "ax.plot(sT, payoff_straddle , 'b-', label='Straddle Payoff')\n",
    "plt.legend()\n",
    "plt.grid(True)\n",
    "plt.xlabel('stock A')\n",
    "plt.ylabel('P & L')"
   ]
  },
  {
   "cell_type": "markdown",
   "metadata": {},
   "source": [
    "# Exit the Strangle\n",
    "\n",
    "The results were scheduled to be announced after market hours on 24 October 2017. Right before that, on 24 October 2017 around market closing time, we exited the long strangle positions.\n",
    "\n",
    "24 October 2017 Infy October Futures Price is ₹926.00\n",
    "\n",
    "Square off the existing positions\n",
    "1. Sell 900 Strike Put @ ₹8.75\n",
    "2. Sell 960 Strike Call @ ₹7.35\n",
    "\n",
    "Total premium received is ₹16.10"
   ]
  },
  {
   "cell_type": "code",
   "execution_count": 40,
   "metadata": {},
   "outputs": [
    {
     "name": "stdout",
     "output_type": "stream",
     "text": [
      "Total premium received : 16.1\n",
      "Net premium = 3.95\n"
     ]
    }
   ],
   "source": [
    "future_price = 926.00\n",
    "\n",
    "# 콜옵션 매도\n",
    "strike_price_short_call = 960\n",
    "premium_short_call = 7.35\n",
    "\n",
    "#  풋옵션 매도\n",
    "strike_price_short_put = 900\n",
    "premium_short_put = 8.75\n",
    "\n",
    "\n",
    "payoff_short_call = -call_payoff(future_price, strike_price_short_call, premium_short_call)\n",
    "payoff_short_put = -put_payoff(future_price, strike_price_short_put, premium_short_put)\n",
    "payoff_straddle = payoff_short_call + payoff_short_put \n",
    "net_pnl = payoff_straddle - total_expense_enter\n",
    "\n",
    "print('Total premium received :', payoff_straddle)\n",
    "print('Net premium = {:.2f}'.format(net_pnl))"
   ]
  },
  {
   "cell_type": "code",
   "execution_count": null,
   "metadata": {},
   "outputs": [],
   "source": []
  },
  {
   "cell_type": "code",
   "execution_count": null,
   "metadata": {},
   "outputs": [],
   "source": []
  }
 ],
 "metadata": {
  "kernelspec": {
   "display_name": "Python 3",
   "language": "python",
   "name": "python3"
  },
  "language_info": {
   "codemirror_mode": {
    "name": "ipython",
    "version": 3
   },
   "file_extension": ".py",
   "mimetype": "text/x-python",
   "name": "python",
   "nbconvert_exporter": "python",
   "pygments_lexer": "ipython3",
   "version": "3.6.4"
  }
 },
 "nbformat": 4,
 "nbformat_minor": 2
}
