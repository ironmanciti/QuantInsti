{
 "cells": [
  {
   "cell_type": "code",
<<<<<<< HEAD
   "execution_count": 2,
=======
   "execution_count": 4,
>>>>>>> 6a1e4f88260e9fa5edbc417e40a77ad903be7b53
   "metadata": {},
   "outputs": [],
   "source": [
    "%matplotlib inline\n",
    "import numpy as np\n",
    "import matplotlib.pyplot as plt\n",
    "import seaborn as sns"
   ]
  },
  {
   "cell_type": "code",
<<<<<<< HEAD
   "execution_count": 3,
=======
   "execution_count": 29,
>>>>>>> 6a1e4f88260e9fa5edbc417e40a77ad903be7b53
   "metadata": {},
   "outputs": [],
   "source": [
    "def call_payoff(sT, strike_price, premium, contracts=1, multiplier=250000):\n",
    "    pnl = np.where(sT > strike_price, sT - strike_price, 0) - premium\n",
    "    return pnl * contracts * multiplier\n",
    "\n",
    "def put_payoff(sT, strike_price, premium, contracts=1, multiplier=250000):\n",
    "    pnl = np.where(sT < strike_price, strike_price - sT, 0) - premium\n",
    "    return pnl * contracts * multiplier"
   ]
  },
  {
   "cell_type": "markdown",
   "metadata": {},
   "source": [
    "## 양매도\n",
    "\n",
    "만기시 주가가 call 행사가보다 낮고 put 행사가보다 높아야 한다. 예측이 빗나가면 손실은 무한대가 된다."
   ]
  },
  {
   "cell_type": "code",
<<<<<<< HEAD
   "execution_count": 26,
=======
   "execution_count": 41,
>>>>>>> 6a1e4f88260e9fa5edbc417e40a77ad903be7b53
   "metadata": {},
   "outputs": [
    {
     "name": "stdout",
     "output_type": "stream",
     "text": [
      "콜옵션 매수 : 310 2.052\n",
      "콜옵션 매수 : 310 2.052\n",
      "풋옵션 매수 : 305 1.37\n",
      "풋옵션 매수 : 310 2.052\n"
     ]
    },
    {
<<<<<<< HEAD
     "ename": "NameError",
     "evalue": "name 'tot_payoff' is not defined",
     "output_type": "error",
     "traceback": [
      "\u001b[0;31m---------------------------------------------------------------------------\u001b[0m",
      "\u001b[0;31mNameError\u001b[0m                                 Traceback (most recent call last)",
      "\u001b[0;32m<ipython-input-26-9c291d8054ea>\u001b[0m in \u001b[0;36m<module>\u001b[0;34m()\u001b[0m\n\u001b[1;32m     50\u001b[0m \u001b[0mput\u001b[0m  \u001b[0;34m=\u001b[0m \u001b[0;34m[\u001b[0m\u001b[0;34m(\u001b[0m\u001b[0;36m1\u001b[0m\u001b[0;34m,\u001b[0m \u001b[0;36m305\u001b[0m\u001b[0;34m,\u001b[0m \u001b[0;36m1.370\u001b[0m\u001b[0;34m,\u001b[0m \u001b[0;36m10\u001b[0m\u001b[0;34m)\u001b[0m\u001b[0;34m,\u001b[0m \u001b[0;34m(\u001b[0m\u001b[0;36m1\u001b[0m\u001b[0;34m,\u001b[0m \u001b[0;36m310\u001b[0m\u001b[0;34m,\u001b[0m \u001b[0;36m2.052\u001b[0m\u001b[0;34m,\u001b[0m \u001b[0;36m10\u001b[0m\u001b[0;34m)\u001b[0m\u001b[0;34m]\u001b[0m\u001b[0;34m\u001b[0m\u001b[0m\n\u001b[1;32m     51\u001b[0m \u001b[0;34m\u001b[0m\u001b[0m\n\u001b[0;32m---> 52\u001b[0;31m \u001b[0mstraddle\u001b[0m\u001b[0;34m(\u001b[0m\u001b[0;36m1\u001b[0m\u001b[0;34m,\u001b[0m \u001b[0mcall\u001b[0m\u001b[0;34m,\u001b[0m \u001b[0mput\u001b[0m\u001b[0;34m)\u001b[0m\u001b[0;34m\u001b[0m\u001b[0m\n\u001b[0m",
      "\u001b[0;32m<ipython-input-26-9c291d8054ea>\u001b[0m in \u001b[0;36mstraddle\u001b[0;34m(opt, call, put)\u001b[0m\n\u001b[1;32m     25\u001b[0m \u001b[0;34m\u001b[0m\u001b[0m\n\u001b[1;32m     26\u001b[0m     \u001b[0;32mfor\u001b[0m \u001b[0mi\u001b[0m \u001b[0;32min\u001b[0m \u001b[0mrange\u001b[0m\u001b[0;34m(\u001b[0m\u001b[0;36m0\u001b[0m\u001b[0;34m,\u001b[0m \u001b[0mlen\u001b[0m\u001b[0;34m(\u001b[0m\u001b[0mpayoff_straddle\u001b[0m\u001b[0;34m)\u001b[0m\u001b[0;34m)\u001b[0m\u001b[0;34m:\u001b[0m\u001b[0;34m\u001b[0m\u001b[0m\n\u001b[0;32m---> 27\u001b[0;31m         \u001b[0mtot_payoff\u001b[0m\u001b[0;34m[\u001b[0m\u001b[0mi\u001b[0m\u001b[0;34m]\u001b[0m \u001b[0;34m+=\u001b[0m \u001b[0mpayoff_straddle\u001b[0m\u001b[0;34m[\u001b[0m\u001b[0mi\u001b[0m\u001b[0;34m]\u001b[0m\u001b[0;34m[\u001b[0m\u001b[0;36m0\u001b[0m\u001b[0;34m]\u001b[0m\u001b[0;34m\u001b[0m\u001b[0m\n\u001b[0m\u001b[1;32m     28\u001b[0m \u001b[0;34m\u001b[0m\u001b[0m\n\u001b[1;32m     29\u001b[0m \u001b[0;34m\u001b[0m\u001b[0m\n",
      "\u001b[0;31mNameError\u001b[0m: name 'tot_payoff' is not defined"
=======
     "data": {
      "image/png": "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\n",
      "text/plain": [
       "<Figure size 432x288 with 1 Axes>"
      ]
     },
     "metadata": {},
     "output_type": "display_data"
    },
    {
     "name": "stdout",
     "output_type": "stream",
     "text": [
      "   302.5    -2,305,000.00 원\n",
      "   303.5    -4,805,000.00 원\n",
      "   304.5    -7,305,000.00 원\n",
      "   305.5    -8,555,000.00 원\n",
      "   306.5    -8,555,000.00 원\n",
      "   307.5    -8,555,000.00 원\n",
      "   308.5    -8,555,000.00 원\n",
      "   309.5    -8,555,000.00 원\n",
      "   310.5    -7,305,000.00 원\n",
      "   311.5    -4,805,000.00 원\n",
      "   312.5    -2,305,000.00 원\n"
>>>>>>> 6a1e4f88260e9fa5edbc417e40a77ad903be7b53
     ]
    }
   ],
   "source": [
    "def straddle(opt, call, put):\n",
    "        \n",
    "    payoff_call = []\n",
    "    payoff_put = []\n",
<<<<<<< HEAD
    "    payoff_straddle = []\n",
    "    \n",
    "    sT_expiry = np.arange(0.7*put[0][1],1.3*call[0][1],1) \n",
    "\n",
    "    for op, st, pr, contracts in call:\n",
    "        payoff_call.append(op * call_payoff(sT_expiry, st, pr))\n",
=======
    "\n",
    "    sT_expiry = np.arange(0.7*put[0][1],1.3*call[0][1],1) \n",
    "\n",
    "    for op, st, pr, cons in call:\n",
    "\n",
    "        payoff_call.append(op * call_payoff(sT_expiry, st, pr, cons))\n",
    "\n",
>>>>>>> 6a1e4f88260e9fa5edbc417e40a77ad903be7b53
    "        if op == 1:\n",
    "            print('콜옵션 매수 :', st, pr)\n",
    "        else:\n",
    "            print('콜옵션 매도 :', st, pr)\n",
    "\n",
    "\n",
    "    for op, st, pr, cons in put:\n",
    "\n",
    "        payoff_put.append(op * put_payoff(sT_expiry, st, pr, cons))\n",
    "\n",
    "        if op == 1:\n",
    "            print('풋옵션 매수 :', st, pr)\n",
    "        else:\n",
    "            print('풋옵션 매도 :', st, pr)\n",
    "\n",
<<<<<<< HEAD
    "    for i in range(len(payoff_call)):\n",
    "        payoff_straddle.append(payoff_call[i] + payoff_put[i])\n",
    "        \n",
    "    for i in range(0, len(payoff_straddle)):\n",
    "        tot_payoff[i] += payoff_straddle[i][0]\n",
=======
>>>>>>> 6a1e4f88260e9fa5edbc417e40a77ad903be7b53
    "        \n",
    "    \n",
    "    payoff_straddle = (np.asarray(payoff_call)+ np.asarray(payoff_put)).reshape(sT_expiry.shape[0],)\n",
    "\n",
    "    fig, ax = plt.subplots()\n",
    "    ax.spines['bottom'].set_position('zero')\n",
    "\n",
    "    for i in range(len(call)):\n",
    "        ax.plot(sT_expiry, payoff_call[i], 'r--',\n",
    "                label=\"short \"+str(call[i][1])+\" strike call\")\n",
    "        ax.plot(sT_expiry, payoff_put[i], 'g--',\n",
<<<<<<< HEAD
    "                label=\"short \"+str(put[i][1])+\" strike put\")  \n",
    "        \n",
    "    ax.plot(sT_expiry, tot_payoff, 'b-', label='Straddle Payoff')\n",
    "    \n",
=======
    "                label=\"short \"+str(put[i][1])+\" strike put\")    \n",
    "\n",
    "    ax.plot(sT_expiry, payoff_straddle.reshape(190,), 'b-', label='Straddle Payoff')\n",
    "\n",
>>>>>>> 6a1e4f88260e9fa5edbc417e40a77ad903be7b53
    "    plt.legend()\n",
    "    plt.grid(True)\n",
    "    plt.xlabel('stock A')\n",
    "    plt.ylabel('P & L')\n",
    "    plt.title('Straddle short');\n",
    "    plt.show()\n",
<<<<<<< HEAD
=======
    "\n",
    "    for i in range(len(payoff_straddle)):\n",
    "        if opt == 1:\n",
    "            if payoff_straddle[i] < 0:\n",
    "                print('  ', sT_expiry[i], '  ', '{0:,.2f}'.format(payoff_straddle[i]),'원')\n",
    "        else:\n",
    "            if payoff_straddle[i] > 0:\n",
    "                print('  ', sT_expiry[i], '  ', '{0:,.2f}'.format(payoff_straddle[i]),'원')\n",
>>>>>>> 6a1e4f88260e9fa5edbc417e40a77ad903be7b53
    "\n",
    "   \n",
    "call = [(1, 310, 2.052, 10), (1, 310, 2.052, 10)] # long/short, strike, premium, contracts\n",
    "put  = [(1, 305, 1.370, 10), (1, 310, 2.052, 10)]\n",
    "\n",
    "straddle(1, call, put)"
   ]
  },
  {
   "cell_type": "code",
   "execution_count": null,
   "metadata": {},
   "outputs": [],
   "source": []
  }
 ],
 "metadata": {
  "kernelspec": {
   "display_name": "Python 3",
   "language": "python",
   "name": "python3"
  }
 },
 "nbformat": 4,
 "nbformat_minor": 2
}
