{
 "cells": [
  {
   "cell_type": "markdown",
   "metadata": {},
   "source": [
    "# 옵션 이론가\n",
    "\n",
    "BS([underlyingPrice, strikePrice, interestRate, daysToExpiration],volatility=x)\n",
    "\n",
    "underlyingPrice : 현재 거래되는 주가\n",
    "\n",
    "strikePrice : 옵션 행사가\n",
    "\n",
    "interestRate : 무위험 이자율 (선물가격을 underlyingPrice 로 사용할 경우는 이미 future price 에 이자율이 포함되어 있으므로 0 으로 함)\n",
    "\n",
    "daysToExpiry : 잔존일수\n",
    "\n",
    "volatility : 옵션의 내재변동성"
   ]
  },
  {
   "cell_type": "code",
   "execution_count": 1,
   "metadata": {},
   "outputs": [],
   "source": [
    "import mibian\n",
    "from tabulate import tabulate"
   ]
  },
  {
   "cell_type": "code",
   "execution_count": 2,
   "metadata": {},
   "outputs": [],
   "source": [
    "stock_price = 340.3\n",
    "strike_price = 350\n",
    "interest_rate = 0\n",
    "days_to_expiry = 29\n",
    "volatility = 30.0\n",
    "\n",
    "c = mibian.BS([stock_price, strike_price, interest_rate, days_to_expiry], volatility=volatility)"
   ]
  },
  {
   "cell_type": "code",
   "execution_count": 3,
   "metadata": {},
   "outputs": [
    {
     "data": {
      "text/plain": [
       "7.426905031477048"
      ]
     },
     "execution_count": 3,
     "metadata": {},
     "output_type": "execute_result"
    }
   ],
   "source": [
    "c.callPrice"
   ]
  },
  {
   "cell_type": "code",
   "execution_count": 4,
   "metadata": {},
   "outputs": [
    {
     "data": {
      "text/plain": [
       "17.12690503147701"
      ]
     },
     "execution_count": 4,
     "metadata": {},
     "output_type": "execute_result"
    }
   ],
   "source": [
    "c.putPrice"
   ]
  },
  {
   "cell_type": "markdown",
   "metadata": {},
   "source": [
    "# Greek Calculator"
   ]
  },
  {
   "cell_type": "code",
   "execution_count": 5,
   "metadata": {},
   "outputs": [],
   "source": [
    "greeks = mibian.BS([stock_price, strike_price, interest_rate, days_to_expiry], volatility=volatility)"
   ]
  },
  {
   "cell_type": "markdown",
   "metadata": {},
   "source": [
    "# Greeks for call option"
   ]
  },
  {
   "cell_type": "code",
   "execution_count": 6,
   "metadata": {},
   "outputs": [
    {
     "name": "stdout",
     "output_type": "stream",
     "text": [
      "Greeks         Value\n",
      "--------  ----------\n",
      "Delta      0.385875\n",
      "Gamma      0.0132923\n",
      "Vega       0.366903\n",
      "Theta     -0.189778\n",
      "Rho        0.0984302\n",
      "\n",
      "Call price is: 7.426905031477048\n"
     ]
    }
   ],
   "source": [
    "print(tabulate(\n",
    "    [\n",
    "        ['Delta', greeks.callDelta],\n",
    "        ['Gamma', greeks.gamma],\n",
    "        ['Vega', greeks.vega],\n",
    "        ['Theta', greeks.callTheta],\n",
    "        ['Rho', greeks.callRho]\n",
    "    ],\n",
    "    headers=['Greeks', 'Value']))\n",
    "\n",
    "print(\"\")\n",
    "print('Call price is:', greeks.callPrice)"
   ]
  },
  {
   "cell_type": "markdown",
   "metadata": {},
   "source": [
    "# Greeks for put option"
   ]
  },
  {
   "cell_type": "code",
   "execution_count": 7,
   "metadata": {},
   "outputs": [
    {
     "name": "stdout",
     "output_type": "stream",
     "text": [
      "Greeks         Value\n",
      "--------  ----------\n",
      "Delta     -0.614125\n",
      "Gamma      0.0132923\n",
      "Vega       0.366903\n",
      "Theta     -0.189778\n",
      "Rho       -0.179652\n",
      "\n",
      "Put price is: 17.12690503147701\n"
     ]
    }
   ],
   "source": [
    "print(tabulate(\n",
    "    [\n",
    "        ['Delta', greeks.putDelta],\n",
    "        ['Gamma', greeks.gamma],\n",
    "        ['Vega', greeks.vega],\n",
    "        ['Theta', greeks.putTheta],\n",
    "        ['Rho', greeks.putRho]\n",
    "    ],\n",
    "    headers=['Greeks', 'Value']))\n",
    "\n",
    "print(\"\")\n",
    "print('Put price is:', greeks.putPrice)"
   ]
  },
  {
   "cell_type": "markdown",
   "metadata": {},
   "source": [
    "# Delta 와 Gamma 를 이용한 Call Price 계산\n",
    "\n",
    "**Call Option Price = Initial Option Price + Delta * (change in the stock price) + 0.5 * Gamma * (change in the stock price)^2**"
   ]
  },
  {
   "cell_type": "code",
   "execution_count": 19,
   "metadata": {},
   "outputs": [
    {
     "name": "stdout",
     "output_type": "stream",
     "text": [
      "+-------------+-------------+\n",
      "| 주가        | 100         |\n",
      "+-------------+-------------+\n",
      "| 콜옵션 가격 |   5.02709   |\n",
      "+-------------+-------------+\n",
      "| Delta       |   0.525135  |\n",
      "+-------------+-------------+\n",
      "| Gamma       |   0.0315757 |\n",
      "+-------------+-------------+\n"
     ]
    }
   ],
   "source": [
    "initial_stock_price = 100\n",
    "strike_price = 100\n",
    "interest_rate = 0\n",
    "days_to_expiry = 40\n",
    "volatility = 38.09\n",
    "\n",
    "# initial call option price\n",
    "greeks_stock_price_100 = mibian.BS([initial_stock_price, strike_price, interest_rate, days_to_expiry], volatility=volatility)\n",
    "\n",
    "print(tabulate(\n",
    "    [\n",
    "        ['주가', initial_stock_price],\n",
    "        ['콜옵션 가격', greeks_stock_price_100.callPrice],\n",
    "        ['Delta', greeks_stock_price_100.callDelta],\n",
    "        ['Gamma', greeks_stock_price_100.gamma]\n",
    "    ],\n",
    "    tablefmt=\"grid\"))"
   ]
  },
  {
   "cell_type": "markdown",
   "metadata": {},
   "source": [
    "### 위의 주식이 101 로 가격이 바뀔때 Delta 와 Gamm 를 이용한 call price 계산"
   ]
  },
  {
   "cell_type": "code",
   "execution_count": 20,
   "metadata": {},
   "outputs": [
    {
     "name": "stdout",
     "output_type": "stream",
     "text": [
      "5.56801680203463\n"
     ]
    }
   ],
   "source": [
    "# change in stock price from 100 to 101\n",
    "changed_stock_price = 101\n",
    "stock_price_change = changed_stock_price - initial_stock_price\n",
    "\n",
    "call_price_at_101 = greeks_stock_price_100.callPrice + greeks_stock_price_100.callDelta * stock_price_change \\\n",
    "                             + 0.5 * greeks_stock_price_100.gamma * stock_price_change**2\n",
    "    \n",
    "print(call_price_at_101)"
   ]
  },
  {
   "cell_type": "code",
   "execution_count": 23,
   "metadata": {},
   "outputs": [
    {
     "data": {
      "text/plain": [
       "5.567930205927425"
      ]
     },
     "execution_count": 23,
     "metadata": {},
     "output_type": "execute_result"
    }
   ],
   "source": [
    "# BS model 로 검증\n",
    "mibian.BS([changed_stock_price, strike_price, interest_rate, days_to_expiry], volatility=volatility).callPrice"
   ]
  },
  {
   "cell_type": "markdown",
   "metadata": {},
   "source": [
    "## Vega 를 이용한 call price 계산\n",
    "\n",
    "**Price of Call option = Initial Option price + Vega * (Change in Volatility) x 100**\n",
    "\n",
    "### 내재변동성이 30% 인 경우의 Vega 계산"
   ]
  },
  {
   "cell_type": "code",
   "execution_count": 30,
   "metadata": {},
   "outputs": [
    {
     "name": "stdout",
     "output_type": "stream",
     "text": [
      "+-------------+------------+\n",
      "| 주가        | 100        |\n",
      "+-------------+------------+\n",
      "| 콜옵션 가격 |   3.96038  |\n",
      "+-------------+------------+\n",
      "| Vega        |   0.131904 |\n",
      "+-------------+------------+\n"
     ]
    }
   ],
   "source": [
    "stock_price = 100\n",
    "strike_price = 100\n",
    "interest_rate = 0\n",
    "days_to_expiry = 40\n",
    "volatility = 30\n",
    "\n",
    "greeks_stock_price_100 = mibian.BS([stock_price, strike_price, interest_rate, days_to_expiry], volatility=volatility)\n",
    "\n",
    "print(tabulate(\n",
    "    [\n",
    "        ['주가', stock_price],\n",
    "        ['콜옵션 가격', greeks_stock_price_100.callPrice],\n",
    "        ['Vega', greeks_stock_price_100.vega]\n",
    "    ],\n",
    "    tablefmt=\"grid\"))"
   ]
  },
  {
   "cell_type": "markdown",
   "metadata": {},
   "source": [
    "### 위 옵션의 내재변동성이 31% 가 된 경우의 call price 계산"
   ]
  },
  {
   "cell_type": "code",
   "execution_count": 31,
   "metadata": {},
   "outputs": [
    {
     "name": "stdout",
     "output_type": "stream",
     "text": [
      "4.092280217433506\n"
     ]
    }
   ],
   "source": [
    "call_price_at_31 = greeks_stock_price_100.callPrice + greeks_stock_price_100.vega * (0.31 - 0.3) * 100\n",
    "\n",
    "print(call_price_at_31)"
   ]
  },
  {
   "cell_type": "code",
   "execution_count": 32,
   "metadata": {},
   "outputs": [
    {
     "data": {
      "text/plain": [
       "4.092274736640356"
      ]
     },
     "execution_count": 32,
     "metadata": {},
     "output_type": "execute_result"
    }
   ],
   "source": [
    "# BS model 로 검증\n",
    "mibian.BS([stock_price, strike_price, interest_rate, days_to_expiry], volatility=31).callPrice"
   ]
  },
  {
   "cell_type": "code",
   "execution_count": 33,
   "metadata": {},
   "outputs": [],
   "source": [
    "import numpy as np"
   ]
  },
  {
   "cell_type": "code",
   "execution_count": 35,
   "metadata": {},
   "outputs": [
    {
     "data": {
      "text/plain": [
       "7.588080225823887"
      ]
     },
     "execution_count": 35,
     "metadata": {},
     "output_type": "execute_result"
    }
   ],
   "source": [
    "np.exp(-0.06)*900 + 60 - 900"
   ]
  },
  {
   "cell_type": "code",
   "execution_count": null,
   "metadata": {},
   "outputs": [],
   "source": []
  }
 ],
 "metadata": {
  "kernelspec": {
   "display_name": "Python 3",
   "language": "python",
   "name": "python3"
  },
  "language_info": {
   "codemirror_mode": {
    "name": "ipython",
    "version": 3
   },
   "file_extension": ".py",
   "mimetype": "text/x-python",
   "name": "python",
   "nbconvert_exporter": "python",
   "pygments_lexer": "ipython3",
   "version": "3.6.4"
  }
 },
 "nbformat": 4,
 "nbformat_minor": 2
}
