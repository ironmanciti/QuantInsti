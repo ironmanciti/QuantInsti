{
 "cells": [
  {
   "cell_type": "code",
   "execution_count": 1,
   "metadata": {},
   "outputs": [],
   "source": [
    "import pandas as pd\n",
    "import quandl\n",
    "import matplotlib.pyplot as plt\n",
    "import math\n",
    "import datetime\n",
    "import yfinance as yf\n",
    "from sklearn.model_selection import train_test_split\n",
    "import tensorflow as tf\n",
    "import numpy as np\n",
    "from sklearn.preprocessing import StandardScaler\n",
    "\n",
    "from statsmodels.tsa.stattools import adfuller\n",
    "\n",
    "Data = pd.DataFrame()"
   ]
  },
  {
   "cell_type": "code",
   "execution_count": null,
   "metadata": {},
   "outputs": [],
   "source": [
    "start_date = datetime.datetime(2014,12,12)\n",
    "\n",
    "# S&P500 future data from \"CHRIS/CME_SP1\" database\n",
    "Data1 = quandl.get(\"CHRIS/CME_SP1\", authtoken=\"U_Gp39gZutpHmaFgC65Y\", start_date=start_date)\n",
    "# number of declining and advancing stocks\n",
    "declining = quandl.get(\"URC/NYSE_DEC\", authtoken=\"U_Gp39gZutpHmaFgC65Y\", start_date=start_date)\n",
    "advancing = quandl.get(\"URC/NYSE_ADV\", authtoken=\"U_Gp39gZutpHmaFgC65Y\", start_date=start_date)\n",
    "adv_vol = quandl.get(\"URC/NYSE_ADV_VOL\", authtoken=\"U_Gp39gZutpHmaFgC65Y\", start_date=start_date)\n",
    "dec_vol = quandl.get(\"URC/NYSE_DEC_VOL\", authtoken=\"U_Gp39gZutpHmaFgC65Y\", start_date=start_date)"
   ]
  },
  {
   "cell_type": "code",
   "execution_count": null,
   "metadata": {},
   "outputs": [],
   "source": [
    "Data['Close'] = Data1['Last']\n",
    "Data['declining'] = declining['Numbers of Stocks']\n",
    "Data['advancing'] = advancing['Numbers of Stocks']\n",
    "Data['dec_vol'] = dec_vol['Numbers of Stocks']\n",
    "Data['adv_vol'] = adv_vol['Numbers of Stocks']"
   ]
  },
  {
   "cell_type": "code",
   "execution_count": null,
   "metadata": {},
   "outputs": [],
   "source": [
    "Data.to_csv(\"data.csv\")"
   ]
  },
  {
   "cell_type": "code",
   "execution_count": 2,
   "metadata": {},
   "outputs": [],
   "source": [
    "Data = pd.read_csv(\"data.csv\", parse_dates=True, index_col='Date')"
   ]
  },
  {
   "cell_type": "code",
   "execution_count": 3,
   "metadata": {},
   "outputs": [
    {
     "data": {
      "text/html": [
       "<div>\n",
       "<style scoped>\n",
       "    .dataframe tbody tr th:only-of-type {\n",
       "        vertical-align: middle;\n",
       "    }\n",
       "\n",
       "    .dataframe tbody tr th {\n",
       "        vertical-align: top;\n",
       "    }\n",
       "\n",
       "    .dataframe thead th {\n",
       "        text-align: right;\n",
       "    }\n",
       "</style>\n",
       "<table border=\"1\" class=\"dataframe\">\n",
       "  <thead>\n",
       "    <tr style=\"text-align: right;\">\n",
       "      <th></th>\n",
       "      <th>Close</th>\n",
       "      <th>declining</th>\n",
       "      <th>advancing</th>\n",
       "      <th>dec_vol</th>\n",
       "      <th>adv_vol</th>\n",
       "    </tr>\n",
       "    <tr>\n",
       "      <th>Date</th>\n",
       "      <th></th>\n",
       "      <th></th>\n",
       "      <th></th>\n",
       "      <th></th>\n",
       "      <th></th>\n",
       "    </tr>\n",
       "  </thead>\n",
       "  <tbody>\n",
       "    <tr>\n",
       "      <th>2014-12-12</th>\n",
       "      <td>1997.5</td>\n",
       "      <td>2519.0</td>\n",
       "      <td>663.0</td>\n",
       "      <td>3.378800e+09</td>\n",
       "      <td>7.135342e+08</td>\n",
       "    </tr>\n",
       "    <tr>\n",
       "      <th>2014-12-15</th>\n",
       "      <td>1991.0</td>\n",
       "      <td>2407.0</td>\n",
       "      <td>778.0</td>\n",
       "      <td>3.433819e+09</td>\n",
       "      <td>8.482587e+08</td>\n",
       "    </tr>\n",
       "    <tr>\n",
       "      <th>2014-12-16</th>\n",
       "      <td>1971.2</td>\n",
       "      <td>1833.0</td>\n",
       "      <td>1335.0</td>\n",
       "      <td>2.611648e+09</td>\n",
       "      <td>2.256718e+09</td>\n",
       "    </tr>\n",
       "    <tr>\n",
       "      <th>2014-12-17</th>\n",
       "      <td>2013.0</td>\n",
       "      <td>373.0</td>\n",
       "      <td>2833.0</td>\n",
       "      <td>3.200824e+08</td>\n",
       "      <td>2.168293e+08</td>\n",
       "    </tr>\n",
       "    <tr>\n",
       "      <th>2014-12-18</th>\n",
       "      <td>2064.0</td>\n",
       "      <td>625.0</td>\n",
       "      <td>2570.0</td>\n",
       "      <td>5.098001e+08</td>\n",
       "      <td>4.112185e+09</td>\n",
       "    </tr>\n",
       "  </tbody>\n",
       "</table>\n",
       "</div>"
      ],
      "text/plain": [
       "             Close  declining  advancing       dec_vol       adv_vol\n",
       "Date                                                                \n",
       "2014-12-12  1997.5     2519.0      663.0  3.378800e+09  7.135342e+08\n",
       "2014-12-15  1991.0     2407.0      778.0  3.433819e+09  8.482587e+08\n",
       "2014-12-16  1971.2     1833.0     1335.0  2.611648e+09  2.256718e+09\n",
       "2014-12-17  2013.0      373.0     2833.0  3.200824e+08  2.168293e+08\n",
       "2014-12-18  2064.0      625.0     2570.0  5.098001e+08  4.112185e+09"
      ]
     },
     "execution_count": 3,
     "metadata": {},
     "output_type": "execute_result"
    }
   ],
   "source": [
    "Data.head()"
   ]
  },
  {
   "cell_type": "raw",
   "metadata": {},
   "source": [
    "result = adfuller(Data['MA40'].values)\n",
    "result"
   ]
  },
  {
   "cell_type": "code",
   "execution_count": 4,
   "metadata": {},
   "outputs": [],
   "source": [
    "Data2 = pd.read_csv(\"local_future.csv\")\n",
    "Data3  = pd.read_csv('local_data.csv')\n",
    "\n",
    "Data2['Date'] = pd.to_datetime(Data2['Date'])\n",
    "Data2.set_index('Date', inplace=True)\n",
    "\n",
    "Data3['Date'] = pd.to_datetime(Data3['Date'])\n",
    "Data3.set_index('Date', inplace=True)\n",
    "\n",
    "Data['PCR'] = Data3['S&P PUT-CALL RATIO']\n",
    "\n",
    "df = yf.Ticker('^VIX').history(start=\"2014-12-13\")\n",
    "\n",
    "Data['VIX'] = df['Close']\n",
    "\n",
    "# find the TRIN value using the number and volume of advancing and declining stocks\n",
    "AD_ratio = Data['advancing'] / Data['declining']\n",
    "AD_vol_ratio = Data['adv_vol'].divide(Data['dec_vol'])\n",
    "\n",
    "TRIN = AD_ratio / AD_vol_ratio\n",
    "\n",
    "Data['TRIN'] = TRIN\n",
    "\n",
    "Data['TRIN'] = Data['TRIN'].apply(lambda x: math.log(x))"
   ]
  },
  {
   "cell_type": "code",
   "execution_count": 5,
   "metadata": {},
   "outputs": [],
   "source": [
    "Data = Data.loc[:'2018-08-10']\n",
    "Data = Data.dropna()"
   ]
  },
  {
   "cell_type": "code",
   "execution_count": 6,
   "metadata": {},
   "outputs": [],
   "source": [
    "ma1 = 5\n",
    "ma2 = 15\n",
    "ma3 = 40\n",
    "window_size = 15\n",
    "predict_days = 1\n",
    "\n",
    "Data['Return'] = Data['Close'].pct_change()\n",
    "Data['MA'+str(ma1)] = Data['Return'].rolling(ma1).mean()\n",
    "Data['MA'+str(ma2)] = Data['Return'].rolling(ma2).mean()\n",
    "Data['MA'+str(ma3)] = Data['Return'].rolling(ma3).mean()"
   ]
  },
  {
   "cell_type": "code",
   "execution_count": 7,
   "metadata": {},
   "outputs": [],
   "source": [
    "Data['After_' + str(predict_days)] = Data['Close'].shift(-predict_days)"
   ]
  },
  {
   "cell_type": "code",
   "execution_count": 8,
   "metadata": {},
   "outputs": [],
   "source": [
    "threshold = 0.01\n",
    "for index, row in Data.iterrows():\n",
    "    if (row['After_' + str(predict_days)] / row['Close'] - 1) > threshold:\n",
    "        Data.loc[index, 'Label'] = 0\n",
    "    elif (row['After_' + str(predict_days)] / row['Close'] - 1) < -threshold:\n",
    "        Data.loc[index, 'Label'] = 1\n",
    "    else:\n",
    "        Data.loc[index, 'Label'] = 2"
   ]
  },
  {
   "cell_type": "code",
   "execution_count": 9,
   "metadata": {},
   "outputs": [
    {
     "name": "stdout",
     "output_type": "stream",
     "text": [
      "90\n",
      "73\n",
      "753\n"
     ]
    }
   ],
   "source": [
    "print(sum(Data['Label'] == 0))\n",
    "print(sum(Data['Label'] == 1))\n",
    "print(sum(Data['Label'] == 2))"
   ]
  },
  {
   "cell_type": "code",
   "execution_count": 10,
   "metadata": {
    "scrolled": false
   },
   "outputs": [
    {
     "data": {
      "text/html": [
       "<div>\n",
       "<style scoped>\n",
       "    .dataframe tbody tr th:only-of-type {\n",
       "        vertical-align: middle;\n",
       "    }\n",
       "\n",
       "    .dataframe tbody tr th {\n",
       "        vertical-align: top;\n",
       "    }\n",
       "\n",
       "    .dataframe thead th {\n",
       "        text-align: right;\n",
       "    }\n",
       "</style>\n",
       "<table border=\"1\" class=\"dataframe\">\n",
       "  <thead>\n",
       "    <tr style=\"text-align: right;\">\n",
       "      <th></th>\n",
       "      <th>Close</th>\n",
       "      <th>declining</th>\n",
       "      <th>advancing</th>\n",
       "      <th>dec_vol</th>\n",
       "      <th>adv_vol</th>\n",
       "      <th>PCR</th>\n",
       "      <th>VIX</th>\n",
       "      <th>TRIN</th>\n",
       "      <th>Return</th>\n",
       "      <th>MA5</th>\n",
       "      <th>MA15</th>\n",
       "      <th>MA40</th>\n",
       "      <th>After_1</th>\n",
       "      <th>Label</th>\n",
       "    </tr>\n",
       "    <tr>\n",
       "      <th>Date</th>\n",
       "      <th></th>\n",
       "      <th></th>\n",
       "      <th></th>\n",
       "      <th></th>\n",
       "      <th></th>\n",
       "      <th></th>\n",
       "      <th></th>\n",
       "      <th></th>\n",
       "      <th></th>\n",
       "      <th></th>\n",
       "      <th></th>\n",
       "      <th></th>\n",
       "      <th></th>\n",
       "      <th></th>\n",
       "    </tr>\n",
       "  </thead>\n",
       "  <tbody>\n",
       "    <tr>\n",
       "      <th>2014-12-12</th>\n",
       "      <td>1997.5</td>\n",
       "      <td>2519.0</td>\n",
       "      <td>663.0</td>\n",
       "      <td>3.378800e+09</td>\n",
       "      <td>7.135342e+08</td>\n",
       "      <td>2.49</td>\n",
       "      <td>21.080000</td>\n",
       "      <td>0.220203</td>\n",
       "      <td>NaN</td>\n",
       "      <td>NaN</td>\n",
       "      <td>NaN</td>\n",
       "      <td>NaN</td>\n",
       "      <td>1991.0</td>\n",
       "      <td>2.0</td>\n",
       "    </tr>\n",
       "    <tr>\n",
       "      <th>2014-12-15</th>\n",
       "      <td>1991.0</td>\n",
       "      <td>2407.0</td>\n",
       "      <td>778.0</td>\n",
       "      <td>3.433819e+09</td>\n",
       "      <td>8.482587e+08</td>\n",
       "      <td>2.46</td>\n",
       "      <td>20.420000</td>\n",
       "      <td>0.268833</td>\n",
       "      <td>-0.003254</td>\n",
       "      <td>NaN</td>\n",
       "      <td>NaN</td>\n",
       "      <td>NaN</td>\n",
       "      <td>1971.2</td>\n",
       "      <td>2.0</td>\n",
       "    </tr>\n",
       "    <tr>\n",
       "      <th>2014-12-16</th>\n",
       "      <td>1971.2</td>\n",
       "      <td>1833.0</td>\n",
       "      <td>1335.0</td>\n",
       "      <td>2.611648e+09</td>\n",
       "      <td>2.256718e+09</td>\n",
       "      <td>2.04</td>\n",
       "      <td>23.570000</td>\n",
       "      <td>-0.170953</td>\n",
       "      <td>-0.009945</td>\n",
       "      <td>NaN</td>\n",
       "      <td>NaN</td>\n",
       "      <td>NaN</td>\n",
       "      <td>2013.0</td>\n",
       "      <td>0.0</td>\n",
       "    </tr>\n",
       "    <tr>\n",
       "      <th>2014-12-17</th>\n",
       "      <td>2013.0</td>\n",
       "      <td>373.0</td>\n",
       "      <td>2833.0</td>\n",
       "      <td>3.200824e+08</td>\n",
       "      <td>2.168293e+08</td>\n",
       "      <td>2.63</td>\n",
       "      <td>19.440001</td>\n",
       "      <td>2.416981</td>\n",
       "      <td>0.021205</td>\n",
       "      <td>NaN</td>\n",
       "      <td>NaN</td>\n",
       "      <td>NaN</td>\n",
       "      <td>2064.0</td>\n",
       "      <td>0.0</td>\n",
       "    </tr>\n",
       "    <tr>\n",
       "      <th>2014-12-18</th>\n",
       "      <td>2064.0</td>\n",
       "      <td>625.0</td>\n",
       "      <td>2570.0</td>\n",
       "      <td>5.098001e+08</td>\n",
       "      <td>4.112185e+09</td>\n",
       "      <td>1.05</td>\n",
       "      <td>16.809999</td>\n",
       "      <td>-0.673781</td>\n",
       "      <td>0.025335</td>\n",
       "      <td>NaN</td>\n",
       "      <td>NaN</td>\n",
       "      <td>NaN</td>\n",
       "      <td>2066.7</td>\n",
       "      <td>2.0</td>\n",
       "    </tr>\n",
       "    <tr>\n",
       "      <th>2014-12-19</th>\n",
       "      <td>2066.7</td>\n",
       "      <td>1129.0</td>\n",
       "      <td>2042.0</td>\n",
       "      <td>1.765002e+09</td>\n",
       "      <td>3.944460e+09</td>\n",
       "      <td>1.70</td>\n",
       "      <td>16.490000</td>\n",
       "      <td>-0.211563</td>\n",
       "      <td>0.001308</td>\n",
       "      <td>0.006930</td>\n",
       "      <td>NaN</td>\n",
       "      <td>NaN</td>\n",
       "      <td>2072.5</td>\n",
       "      <td>2.0</td>\n",
       "    </tr>\n",
       "    <tr>\n",
       "      <th>2014-12-22</th>\n",
       "      <td>2072.5</td>\n",
       "      <td>1342.0</td>\n",
       "      <td>1837.0</td>\n",
       "      <td>1.561649e+09</td>\n",
       "      <td>1.731905e+09</td>\n",
       "      <td>1.53</td>\n",
       "      <td>15.250000</td>\n",
       "      <td>0.210493</td>\n",
       "      <td>0.002806</td>\n",
       "      <td>0.008142</td>\n",
       "      <td>NaN</td>\n",
       "      <td>NaN</td>\n",
       "      <td>2079.1</td>\n",
       "      <td>2.0</td>\n",
       "    </tr>\n",
       "    <tr>\n",
       "      <th>2014-12-23</th>\n",
       "      <td>2079.1</td>\n",
       "      <td>1153.0</td>\n",
       "      <td>2033.0</td>\n",
       "      <td>9.495466e+08</td>\n",
       "      <td>2.025055e+09</td>\n",
       "      <td>1.85</td>\n",
       "      <td>14.800000</td>\n",
       "      <td>-0.190222</td>\n",
       "      <td>0.003185</td>\n",
       "      <td>0.010768</td>\n",
       "      <td>NaN</td>\n",
       "      <td>NaN</td>\n",
       "      <td>2078.0</td>\n",
       "      <td>2.0</td>\n",
       "    </tr>\n",
       "    <tr>\n",
       "      <th>2014-12-24</th>\n",
       "      <td>2078.0</td>\n",
       "      <td>1577.0</td>\n",
       "      <td>1527.0</td>\n",
       "      <td>7.428663e+08</td>\n",
       "      <td>6.233064e+08</td>\n",
       "      <td>1.62</td>\n",
       "      <td>14.370000</td>\n",
       "      <td>0.143259</td>\n",
       "      <td>-0.000529</td>\n",
       "      <td>0.006421</td>\n",
       "      <td>NaN</td>\n",
       "      <td>NaN</td>\n",
       "      <td>2084.2</td>\n",
       "      <td>2.0</td>\n",
       "    </tr>\n",
       "    <tr>\n",
       "      <th>2014-12-26</th>\n",
       "      <td>2084.2</td>\n",
       "      <td>1041.0</td>\n",
       "      <td>2084.0</td>\n",
       "      <td>5.114200e+08</td>\n",
       "      <td>1.106867e+09</td>\n",
       "      <td>1.09</td>\n",
       "      <td>14.500000</td>\n",
       "      <td>-0.077990</td>\n",
       "      <td>0.002984</td>\n",
       "      <td>0.001951</td>\n",
       "      <td>NaN</td>\n",
       "      <td>NaN</td>\n",
       "      <td>2085.6</td>\n",
       "      <td>2.0</td>\n",
       "    </tr>\n",
       "  </tbody>\n",
       "</table>\n",
       "</div>"
      ],
      "text/plain": [
       "             Close  declining  advancing       dec_vol       adv_vol   PCR  \\\n",
       "Date                                                                         \n",
       "2014-12-12  1997.5     2519.0      663.0  3.378800e+09  7.135342e+08  2.49   \n",
       "2014-12-15  1991.0     2407.0      778.0  3.433819e+09  8.482587e+08  2.46   \n",
       "2014-12-16  1971.2     1833.0     1335.0  2.611648e+09  2.256718e+09  2.04   \n",
       "2014-12-17  2013.0      373.0     2833.0  3.200824e+08  2.168293e+08  2.63   \n",
       "2014-12-18  2064.0      625.0     2570.0  5.098001e+08  4.112185e+09  1.05   \n",
       "2014-12-19  2066.7     1129.0     2042.0  1.765002e+09  3.944460e+09  1.70   \n",
       "2014-12-22  2072.5     1342.0     1837.0  1.561649e+09  1.731905e+09  1.53   \n",
       "2014-12-23  2079.1     1153.0     2033.0  9.495466e+08  2.025055e+09  1.85   \n",
       "2014-12-24  2078.0     1577.0     1527.0  7.428663e+08  6.233064e+08  1.62   \n",
       "2014-12-26  2084.2     1041.0     2084.0  5.114200e+08  1.106867e+09  1.09   \n",
       "\n",
       "                  VIX      TRIN    Return       MA5  MA15  MA40  After_1  \\\n",
       "Date                                                                       \n",
       "2014-12-12  21.080000  0.220203       NaN       NaN   NaN   NaN   1991.0   \n",
       "2014-12-15  20.420000  0.268833 -0.003254       NaN   NaN   NaN   1971.2   \n",
       "2014-12-16  23.570000 -0.170953 -0.009945       NaN   NaN   NaN   2013.0   \n",
       "2014-12-17  19.440001  2.416981  0.021205       NaN   NaN   NaN   2064.0   \n",
       "2014-12-18  16.809999 -0.673781  0.025335       NaN   NaN   NaN   2066.7   \n",
       "2014-12-19  16.490000 -0.211563  0.001308  0.006930   NaN   NaN   2072.5   \n",
       "2014-12-22  15.250000  0.210493  0.002806  0.008142   NaN   NaN   2079.1   \n",
       "2014-12-23  14.800000 -0.190222  0.003185  0.010768   NaN   NaN   2078.0   \n",
       "2014-12-24  14.370000  0.143259 -0.000529  0.006421   NaN   NaN   2084.2   \n",
       "2014-12-26  14.500000 -0.077990  0.002984  0.001951   NaN   NaN   2085.6   \n",
       "\n",
       "            Label  \n",
       "Date               \n",
       "2014-12-12    2.0  \n",
       "2014-12-15    2.0  \n",
       "2014-12-16    0.0  \n",
       "2014-12-17    0.0  \n",
       "2014-12-18    2.0  \n",
       "2014-12-19    2.0  \n",
       "2014-12-22    2.0  \n",
       "2014-12-23    2.0  \n",
       "2014-12-24    2.0  \n",
       "2014-12-26    2.0  "
      ]
     },
     "execution_count": 10,
     "metadata": {},
     "output_type": "execute_result"
    }
   ],
   "source": [
    "Data.head(10)"
   ]
  },
  {
   "cell_type": "code",
   "execution_count": 11,
   "metadata": {},
   "outputs": [],
   "source": [
    "Data = pd.get_dummies(Data, columns = ['Label'] )"
   ]
  },
  {
   "cell_type": "code",
   "execution_count": 15,
   "metadata": {},
   "outputs": [
    {
     "data": {
      "text/html": [
       "<div>\n",
       "<style scoped>\n",
       "    .dataframe tbody tr th:only-of-type {\n",
       "        vertical-align: middle;\n",
       "    }\n",
       "\n",
       "    .dataframe tbody tr th {\n",
       "        vertical-align: top;\n",
       "    }\n",
       "\n",
       "    .dataframe thead th {\n",
       "        text-align: right;\n",
       "    }\n",
       "</style>\n",
       "<table border=\"1\" class=\"dataframe\">\n",
       "  <thead>\n",
       "    <tr style=\"text-align: right;\">\n",
       "      <th></th>\n",
       "      <th>Close</th>\n",
       "      <th>declining</th>\n",
       "      <th>advancing</th>\n",
       "      <th>dec_vol</th>\n",
       "      <th>adv_vol</th>\n",
       "      <th>PCR</th>\n",
       "      <th>VIX</th>\n",
       "      <th>TRIN</th>\n",
       "      <th>Return</th>\n",
       "      <th>MA5</th>\n",
       "      <th>MA15</th>\n",
       "      <th>MA40</th>\n",
       "      <th>After_1</th>\n",
       "      <th>Label_0.0</th>\n",
       "      <th>Label_1.0</th>\n",
       "      <th>Label_2.0</th>\n",
       "    </tr>\n",
       "    <tr>\n",
       "      <th>Date</th>\n",
       "      <th></th>\n",
       "      <th></th>\n",
       "      <th></th>\n",
       "      <th></th>\n",
       "      <th></th>\n",
       "      <th></th>\n",
       "      <th></th>\n",
       "      <th></th>\n",
       "      <th></th>\n",
       "      <th></th>\n",
       "      <th></th>\n",
       "      <th></th>\n",
       "      <th></th>\n",
       "      <th></th>\n",
       "      <th></th>\n",
       "      <th></th>\n",
       "    </tr>\n",
       "  </thead>\n",
       "  <tbody>\n",
       "    <tr>\n",
       "      <th>2014-12-12</th>\n",
       "      <td>1997.5</td>\n",
       "      <td>2519.0</td>\n",
       "      <td>663.0</td>\n",
       "      <td>3.378800e+09</td>\n",
       "      <td>713534163.0</td>\n",
       "      <td>2.49</td>\n",
       "      <td>21.08</td>\n",
       "      <td>0.220203</td>\n",
       "      <td>NaN</td>\n",
       "      <td>NaN</td>\n",
       "      <td>NaN</td>\n",
       "      <td>NaN</td>\n",
       "      <td>1991.0</td>\n",
       "      <td>0</td>\n",
       "      <td>0</td>\n",
       "      <td>1</td>\n",
       "    </tr>\n",
       "    <tr>\n",
       "      <th>2014-12-15</th>\n",
       "      <td>1991.0</td>\n",
       "      <td>2407.0</td>\n",
       "      <td>778.0</td>\n",
       "      <td>3.433819e+09</td>\n",
       "      <td>848258739.0</td>\n",
       "      <td>2.46</td>\n",
       "      <td>20.42</td>\n",
       "      <td>0.268833</td>\n",
       "      <td>-0.003254</td>\n",
       "      <td>NaN</td>\n",
       "      <td>NaN</td>\n",
       "      <td>NaN</td>\n",
       "      <td>1971.2</td>\n",
       "      <td>0</td>\n",
       "      <td>0</td>\n",
       "      <td>1</td>\n",
       "    </tr>\n",
       "  </tbody>\n",
       "</table>\n",
       "</div>"
      ],
      "text/plain": [
       "             Close  declining  advancing       dec_vol      adv_vol   PCR  \\\n",
       "Date                                                                        \n",
       "2014-12-12  1997.5     2519.0      663.0  3.378800e+09  713534163.0  2.49   \n",
       "2014-12-15  1991.0     2407.0      778.0  3.433819e+09  848258739.0  2.46   \n",
       "\n",
       "              VIX      TRIN    Return  MA5  MA15  MA40  After_1  Label_0.0  \\\n",
       "Date                                                                         \n",
       "2014-12-12  21.08  0.220203       NaN  NaN   NaN   NaN   1991.0          0   \n",
       "2014-12-15  20.42  0.268833 -0.003254  NaN   NaN   NaN   1971.2          0   \n",
       "\n",
       "            Label_1.0  Label_2.0  \n",
       "Date                              \n",
       "2014-12-12          0          1  \n",
       "2014-12-15          0          1  "
      ]
     },
     "execution_count": 15,
     "metadata": {},
     "output_type": "execute_result"
    }
   ],
   "source": [
    "Data.head(2)"
   ]
  },
  {
   "cell_type": "code",
   "execution_count": 16,
   "metadata": {},
   "outputs": [],
   "source": [
    "ml_data = Data.drop(['Close', 'After_' + str(predict_days)], axis=1)\n",
    "\n",
    "ml_data = ml_data.dropna()"
   ]
  },
  {
   "cell_type": "code",
   "execution_count": 17,
   "metadata": {},
   "outputs": [
    {
     "data": {
      "text/plain": [
       "(876, 14)"
      ]
     },
     "execution_count": 17,
     "metadata": {},
     "output_type": "execute_result"
    }
   ],
   "source": [
    "ml_data.values.shape"
   ]
  },
  {
   "cell_type": "code",
   "execution_count": 19,
   "metadata": {},
   "outputs": [
    {
     "data": {
      "text/html": [
       "<div>\n",
       "<style scoped>\n",
       "    .dataframe tbody tr th:only-of-type {\n",
       "        vertical-align: middle;\n",
       "    }\n",
       "\n",
       "    .dataframe tbody tr th {\n",
       "        vertical-align: top;\n",
       "    }\n",
       "\n",
       "    .dataframe thead th {\n",
       "        text-align: right;\n",
       "    }\n",
       "</style>\n",
       "<table border=\"1\" class=\"dataframe\">\n",
       "  <thead>\n",
       "    <tr style=\"text-align: right;\">\n",
       "      <th></th>\n",
       "      <th>declining</th>\n",
       "      <th>advancing</th>\n",
       "      <th>dec_vol</th>\n",
       "      <th>adv_vol</th>\n",
       "      <th>PCR</th>\n",
       "      <th>VIX</th>\n",
       "      <th>TRIN</th>\n",
       "      <th>Return</th>\n",
       "      <th>MA5</th>\n",
       "      <th>MA15</th>\n",
       "      <th>MA40</th>\n",
       "      <th>Label_0.0</th>\n",
       "      <th>Label_1.0</th>\n",
       "      <th>Label_2.0</th>\n",
       "    </tr>\n",
       "    <tr>\n",
       "      <th>Date</th>\n",
       "      <th></th>\n",
       "      <th></th>\n",
       "      <th></th>\n",
       "      <th></th>\n",
       "      <th></th>\n",
       "      <th></th>\n",
       "      <th></th>\n",
       "      <th></th>\n",
       "      <th></th>\n",
       "      <th></th>\n",
       "      <th></th>\n",
       "      <th></th>\n",
       "      <th></th>\n",
       "      <th></th>\n",
       "    </tr>\n",
       "  </thead>\n",
       "  <tbody>\n",
       "    <tr>\n",
       "      <th>2015-02-11</th>\n",
       "      <td>1700.0</td>\n",
       "      <td>1457.0</td>\n",
       "      <td>1.986305e+09</td>\n",
       "      <td>1.488967e+09</td>\n",
       "      <td>1.85</td>\n",
       "      <td>16.959999</td>\n",
       "      <td>0.133945</td>\n",
       "      <td>0.001600</td>\n",
       "      <td>0.003544</td>\n",
       "      <td>0.001304</td>\n",
       "      <td>0.000891</td>\n",
       "      <td>0</td>\n",
       "      <td>0</td>\n",
       "      <td>1</td>\n",
       "    </tr>\n",
       "    <tr>\n",
       "      <th>2015-02-12</th>\n",
       "      <td>733.0</td>\n",
       "      <td>2435.0</td>\n",
       "      <td>6.185335e+08</td>\n",
       "      <td>3.081230e+09</td>\n",
       "      <td>1.56</td>\n",
       "      <td>15.340000</td>\n",
       "      <td>-0.405176</td>\n",
       "      <td>0.008957</td>\n",
       "      <td>0.002872</td>\n",
       "      <td>0.000924</td>\n",
       "      <td>0.001196</td>\n",
       "      <td>0</td>\n",
       "      <td>0</td>\n",
       "      <td>1</td>\n",
       "    </tr>\n",
       "  </tbody>\n",
       "</table>\n",
       "</div>"
      ],
      "text/plain": [
       "            declining  advancing       dec_vol       adv_vol   PCR        VIX  \\\n",
       "Date                                                                            \n",
       "2015-02-11     1700.0     1457.0  1.986305e+09  1.488967e+09  1.85  16.959999   \n",
       "2015-02-12      733.0     2435.0  6.185335e+08  3.081230e+09  1.56  15.340000   \n",
       "\n",
       "                TRIN    Return       MA5      MA15      MA40  Label_0.0  \\\n",
       "Date                                                                      \n",
       "2015-02-11  0.133945  0.001600  0.003544  0.001304  0.000891          0   \n",
       "2015-02-12 -0.405176  0.008957  0.002872  0.000924  0.001196          0   \n",
       "\n",
       "            Label_1.0  Label_2.0  \n",
       "Date                              \n",
       "2015-02-11          0          1  \n",
       "2015-02-12          0          1  "
      ]
     },
     "execution_count": 19,
     "metadata": {},
     "output_type": "execute_result"
    }
   ],
   "source": [
    "ml_data.head(2)"
   ]
  },
  {
   "cell_type": "code",
   "execution_count": 20,
   "metadata": {},
   "outputs": [
    {
     "name": "stdout",
     "output_type": "stream",
     "text": [
      "(700, 14)\n",
      "(175, 14)\n"
     ]
    }
   ],
   "source": [
    "ml_train = ml_data[:700]\n",
    "ml_test = ml_data[700:875]\n",
    "\n",
    "sc = StandardScaler()\n",
    "ml_train = sc.fit_transform(ml_train)\n",
    "ml_test = sc.transform(ml_test)\n",
    "\n",
    "print(ml_train.shape)\n",
    "print(ml_test.shape)"
   ]
  },
  {
   "cell_type": "code",
   "execution_count": 21,
   "metadata": {},
   "outputs": [],
   "source": [
    "batch_size = 1\n",
    "\n",
    "def windowed_dataset(series, window_size, batch_size):\n",
    "    ds = tf.data.Dataset.from_tensor_slices(series)\n",
    "    ds = ds.window(window_size, shift=1, drop_remainder=True)\n",
    "    ds = ds.flat_map(lambda w: w.batch(window_size))\n",
    "    ds = ds.map(lambda w: (w[:window_size, :11], w[-1][11:]))\n",
    "    ds = ds.batch(batch_size).prefetch(1)\n",
    "    return ds"
   ]
  },
  {
   "cell_type": "code",
   "execution_count": 22,
   "metadata": {},
   "outputs": [
    {
     "data": {
      "text/plain": [
       "<PrefetchDataset shapes: ((None, None, 11), (None, 3)), types: (tf.float64, tf.float64)>"
      ]
     },
     "execution_count": 22,
     "metadata": {},
     "output_type": "execute_result"
    }
   ],
   "source": [
    "ds = windowed_dataset(ml_train, window_size, batch_size)\n",
    "ds"
   ]
  },
  {
   "cell_type": "code",
   "execution_count": 23,
   "metadata": {},
   "outputs": [],
   "source": [
    "from tensorflow.keras.models import Sequential\n",
    "from tensorflow.keras.layers import Dense, LSTM, Bidirectional\n",
    "\n",
    "model = Sequential([\n",
    "    Bidirectional(LSTM(40, return_sequences=True), input_shape=[window_size, 11]),\n",
    "    Bidirectional(LSTM(40, return_sequences=True)),\n",
    "    Dense(50, activation='relu'),\n",
    "    Dense(20, activation='relu'),\n",
    "    Dense(3, activation='softmax')\n",
    "])"
   ]
  },
  {
   "cell_type": "code",
   "execution_count": 24,
   "metadata": {
    "scrolled": true
   },
   "outputs": [
    {
     "name": "stdout",
     "output_type": "stream",
     "text": [
      "Model: \"sequential\"\n",
      "_________________________________________________________________\n",
      "Layer (type)                 Output Shape              Param #   \n",
      "=================================================================\n",
      "bidirectional (Bidirectional (None, 15, 80)            16640     \n",
      "_________________________________________________________________\n",
      "bidirectional_1 (Bidirection (None, 15, 80)            38720     \n",
      "_________________________________________________________________\n",
      "dense (Dense)                (None, 15, 50)            4050      \n",
      "_________________________________________________________________\n",
      "dense_1 (Dense)              (None, 15, 20)            1020      \n",
      "_________________________________________________________________\n",
      "dense_2 (Dense)              (None, 15, 3)             63        \n",
      "=================================================================\n",
      "Total params: 60,493\n",
      "Trainable params: 60,493\n",
      "Non-trainable params: 0\n",
      "_________________________________________________________________\n"
     ]
    }
   ],
   "source": [
    "model.summary()"
   ]
  },
  {
   "cell_type": "code",
   "execution_count": 25,
   "metadata": {},
   "outputs": [],
   "source": [
    "model.compile(loss='categorical_crossentropy', optimizer='adam', metrics=['accuracy'])"
   ]
  },
  {
   "cell_type": "code",
   "execution_count": 26,
   "metadata": {},
   "outputs": [
    {
     "name": "stderr",
     "output_type": "stream",
     "text": [
      "WARNING: Logging before flag parsing goes to stderr.\n",
      "W0916 18:24:04.099664 46004 deprecation.py:323] From C:\\Users\\trimu\\Miniconda3\\envs\\tf_20\\lib\\site-packages\\tensorflow\\python\\ops\\math_grad.py:1250: add_dispatch_support.<locals>.wrapper (from tensorflow.python.ops.array_ops) is deprecated and will be removed in a future version.\n",
      "Instructions for updating:\n",
      "Use tf.where in 2.0, which has the same broadcast rule as np.where\n"
     ]
    },
    {
     "name": "stdout",
     "output_type": "stream",
     "text": [
      "Epoch 1/100\n",
      "686/686 [==============================] - 16s 23ms/step - loss: -4.4997 - accuracy: 0.5909 loss: -4\n",
      "Epoch 2/100\n",
      "686/686 [==============================] - 10s 15ms/step - loss: -5.3230 - accuracy: 0.6344\n",
      "Epoch 3/100\n",
      "686/686 [==============================] - 10s 15ms/step - loss: -5.0086 - accuracy: 0.6804\n",
      "Epoch 4/100\n",
      "686/686 [==============================] - 10s 15ms/step - loss: -5.7318 - accuracy: 0.6096 1s - l\n",
      "Epoch 5/100\n",
      "686/686 [==============================] - 10s 15ms/step - loss: -6.2569 - accuracy: 0.6153\n",
      "Epoch 6/100\n",
      "686/686 [==============================] - 10s 15ms/step - loss: -6.4648 - accuracy: 0.6301\n",
      "Epoch 7/100\n",
      "686/686 [==============================] - 10s 15ms/step - loss: -5.9433 - accuracy: 0.7048\n",
      "Epoch 8/100\n",
      "686/686 [==============================] - 10s 15ms/step - loss: -6.6848 - accuracy: 0.7259\n",
      "Epoch 9/100\n",
      "686/686 [==============================] - 10s 15ms/step - loss: -6.4167 - accuracy: 0.7545\n",
      "Epoch 10/100\n",
      "686/686 [==============================] - 10s 15ms/step - loss: -6.9951 - accuracy: 0.7580 1s - \n",
      "Epoch 11/100\n",
      "686/686 [==============================] - 10s 15ms/step - loss: -5.2880 - accuracy: 0.7383\n",
      "Epoch 12/100\n",
      "686/686 [==============================] - 10s 15ms/step - loss: -6.7873 - accuracy: 0.7293\n",
      "Epoch 13/100\n",
      "686/686 [==============================] - 10s 15ms/step - loss: -6.9491 - accuracy: 0.7514\n",
      "Epoch 14/100\n",
      "686/686 [==============================] - 10s 15ms/step - loss: -7.2593 - accuracy: 0.7683\n",
      "Epoch 15/100\n",
      "686/686 [==============================] - 10s 15ms/step - loss: -5.8252 - accuracy: 0.7837\n",
      "Epoch 16/100\n",
      "686/686 [==============================] - 10s 15ms/step - loss: -6.0375 - accuracy: 0.7588\n",
      "Epoch 17/100\n",
      "686/686 [==============================] - 10s 15ms/step - loss: -6.5722 - accuracy: 0.7040\n",
      "Epoch 18/100\n",
      "686/686 [==============================] - 10s 15ms/step - loss: -6.9615 - accuracy: 0.6826\n",
      "Epoch 19/100\n",
      "686/686 [==============================] - 10s 15ms/step - loss: -6.3339 - accuracy: 0.7328\n",
      "Epoch 20/100\n",
      "686/686 [==============================] - 10s 15ms/step - loss: -7.8338 - accuracy: 0.7245\n",
      "Epoch 21/100\n",
      "686/686 [==============================] - 10s 15ms/step - loss: -7.7781 - accuracy: 0.7440\n",
      "Epoch 22/100\n",
      "686/686 [==============================] - 10s 15ms/step - loss: -7.4311 - accuracy: 0.6928\n",
      "Epoch 23/100\n",
      "686/686 [==============================] - 10s 15ms/step - loss: -7.0493 - accuracy: 0.5934\n",
      "Epoch 24/100\n",
      "686/686 [==============================] - 10s 15ms/step - loss: -6.1396 - accuracy: 0.5954\n",
      "Epoch 25/100\n",
      "686/686 [==============================] - 10s 15ms/step - loss: -6.1924 - accuracy: 0.5907\n",
      "Epoch 26/100\n",
      "686/686 [==============================] - 10s 15ms/step - loss: -7.4536 - accuracy: 0.6260\n",
      "Epoch 27/100\n",
      "686/686 [==============================] - 10s 15ms/step - loss: -7.0870 - accuracy: 0.6912\n",
      "Epoch 28/100\n",
      "686/686 [==============================] - 10s 15ms/step - loss: -6.7759 - accuracy: 0.6649\n",
      "Epoch 29/100\n",
      "686/686 [==============================] - 10s 15ms/step - loss: -7.3585 - accuracy: 0.6727\n",
      "Epoch 30/100\n",
      "686/686 [==============================] - 10s 15ms/step - loss: -8.1389 - accuracy: 0.6784\n",
      "Epoch 31/100\n",
      "686/686 [==============================] - 10s 15ms/step - loss: -8.2837 - accuracy: 0.6903\n",
      "Epoch 32/100\n",
      "686/686 [==============================] - 10s 15ms/step - loss: -8.2244 - accuracy: 0.6833\n",
      "Epoch 33/100\n",
      "686/686 [==============================] - 10s 15ms/step - loss: -8.3983 - accuracy: 0.6852\n",
      "Epoch 34/100\n",
      "686/686 [==============================] - 10s 15ms/step - loss: -8.3241 - accuracy: 0.7205\n",
      "Epoch 35/100\n",
      "686/686 [==============================] - 11s 15ms/step - loss: -7.7967 - accuracy: 0.6526\n",
      "Epoch 36/100\n",
      "686/686 [==============================] - 11s 16ms/step - loss: -7.2971 - accuracy: 0.6353\n",
      "Epoch 37/100\n",
      "686/686 [==============================] - 11s 15ms/step - loss: -7.5297 - accuracy: 0.7074\n",
      "Epoch 38/100\n",
      "686/686 [==============================] - 10s 15ms/step - loss: -7.6734 - accuracy: 0.6353\n",
      "Epoch 39/100\n",
      "686/686 [==============================] - 9s 14ms/step - loss: -7.9253 - accuracy: 0.7055\n",
      "Epoch 40/100\n",
      "686/686 [==============================] - 9s 14ms/step - loss: -7.9929 - accuracy: 0.7248\n",
      "Epoch 41/100\n",
      "686/686 [==============================] - 9s 14ms/step - loss: -7.8101 - accuracy: 0.7275\n",
      "Epoch 42/100\n",
      "686/686 [==============================] - 11s 15ms/step - loss: -7.7879 - accuracy: 0.6945\n",
      "Epoch 43/100\n",
      "686/686 [==============================] - 10s 14ms/step - loss: -8.2250 - accuracy: 0.7128\n",
      "Epoch 44/100\n",
      "686/686 [==============================] - 10s 14ms/step - loss: -8.2718 - accuracy: 0.7188\n",
      "Epoch 45/100\n",
      "686/686 [==============================] - 10s 14ms/step - loss: -8.4467 - accuracy: 0.7155\n",
      "Epoch 46/100\n",
      "686/686 [==============================] - 10s 14ms/step - loss: -8.5911 - accuracy: 0.7166\n",
      "Epoch 47/100\n",
      "686/686 [==============================] - 11s 16ms/step - loss: -8.8101 - accuracy: 0.7250\n",
      "Epoch 48/100\n",
      "686/686 [==============================] - 10s 15ms/step - loss: -8.8647 - accuracy: 0.7473\n",
      "Epoch 49/100\n",
      "686/686 [==============================] - 10s 15ms/step - loss: -8.2981 - accuracy: 0.6992\n",
      "Epoch 50/100\n",
      "686/686 [==============================] - 10s 15ms/step - loss: -7.3564 - accuracy: 0.7066\n",
      "Epoch 51/100\n",
      "686/686 [==============================] - 10s 14ms/step - loss: -8.0586 - accuracy: 0.7199\n",
      "Epoch 52/100\n",
      "686/686 [==============================] - 10s 14ms/step - loss: -8.0264 - accuracy: 0.7476\n",
      "Epoch 53/100\n",
      "686/686 [==============================] - 10s 14ms/step - loss: -7.9365 - accuracy: 0.7623\n",
      "Epoch 54/100\n",
      "686/686 [==============================] - 10s 14ms/step - loss: -8.4135 - accuracy: 0.7242\n",
      "Epoch 55/100\n",
      "686/686 [==============================] - 10s 14ms/step - loss: -8.6474 - accuracy: 0.7444\n",
      "Epoch 56/100\n",
      "686/686 [==============================] - 10s 14ms/step - loss: -7.0474 - accuracy: 0.8029\n",
      "Epoch 57/100\n",
      "686/686 [==============================] - 9s 14ms/step - loss: -5.8501 - accuracy: 0.8126\n",
      "Epoch 58/100\n",
      "686/686 [==============================] - 10s 14ms/step - loss: -7.3383 - accuracy: 0.7215\n",
      "Epoch 59/100\n",
      "686/686 [==============================] - 10s 14ms/step - loss: -8.3441 - accuracy: 0.7161\n",
      "Epoch 60/100\n",
      "686/686 [==============================] - 9s 14ms/step - loss: -8.2356 - accuracy: 0.7130\n",
      "Epoch 61/100\n",
      "686/686 [==============================] - 10s 15ms/step - loss: -8.4790 - accuracy: 0.7203\n",
      "Epoch 62/100\n",
      "686/686 [==============================] - 11s 16ms/step - loss: -8.8594 - accuracy: 0.7650\n",
      "Epoch 63/100\n",
      "686/686 [==============================] - 11s 16ms/step - loss: -8.0808 - accuracy: 0.7613\n",
      "Epoch 64/100\n",
      "686/686 [==============================] - 10s 14ms/step - loss: -8.8509 - accuracy: 0.7323\n",
      "Epoch 65/100\n",
      "686/686 [==============================] - 9s 14ms/step - loss: -8.8423 - accuracy: 0.7408\n",
      "Epoch 66/100\n",
      "686/686 [==============================] - 10s 14ms/step - loss: -8.7691 - accuracy: 0.7491\n",
      "Epoch 67/100\n",
      "686/686 [==============================] - 10s 14ms/step - loss: -8.5096 - accuracy: 0.7442\n",
      "Epoch 68/100\n",
      "686/686 [==============================] - 9s 14ms/step - loss: -9.0146 - accuracy: 0.7573\n",
      "Epoch 69/100\n",
      "686/686 [==============================] - 10s 15ms/step - loss: -8.7753 - accuracy: 0.7771\n",
      "Epoch 70/100\n",
      "686/686 [==============================] - 10s 14ms/step - loss: -8.9314 - accuracy: 0.7780\n",
      "Epoch 71/100\n",
      "686/686 [==============================] - 9s 14ms/step - loss: -8.5450 - accuracy: 0.7432\n",
      "Epoch 72/100\n",
      "686/686 [==============================] - 10s 14ms/step - loss: -7.8010 - accuracy: 0.7842\n",
      "Epoch 73/100\n",
      "686/686 [==============================] - 10s 14ms/step - loss: -7.9100 - accuracy: 0.7940\n",
      "Epoch 74/100\n",
      "686/686 [==============================] - 10s 15ms/step - loss: -8.5233 - accuracy: 0.7601 0s - loss: -8.5147 - accuracy: 0.75\n",
      "Epoch 75/100\n",
      "686/686 [==============================] - 10s 14ms/step - loss: -8.7243 - accuracy: 0.7395\n",
      "Epoch 76/100\n",
      "686/686 [==============================] - 10s 15ms/step - loss: -8.7610 - accuracy: 0.7798\n",
      "Epoch 77/100\n",
      "686/686 [==============================] - 10s 15ms/step - loss: -8.8705 - accuracy: 0.7894\n",
      "Epoch 78/100\n"
     ]
    },
    {
     "name": "stdout",
     "output_type": "stream",
     "text": [
      "686/686 [==============================] - 10s 15ms/step - loss: -8.9402 - accuracy: 0.7897\n",
      "Epoch 79/100\n",
      "686/686 [==============================] - 11s 15ms/step - loss: -8.8786 - accuracy: 0.7941\n",
      "Epoch 80/100\n",
      "686/686 [==============================] - 11s 16ms/step - loss: -8.7535 - accuracy: 0.7936\n",
      "Epoch 81/100\n",
      "686/686 [==============================] - 10s 15ms/step - loss: -9.1202 - accuracy: 0.8000\n",
      "Epoch 82/100\n",
      "686/686 [==============================] - 9s 14ms/step - loss: -8.6627 - accuracy: 0.7851\n",
      "Epoch 83/100\n",
      "686/686 [==============================] - 9s 14ms/step - loss: -8.4179 - accuracy: 0.8105\n",
      "Epoch 84/100\n",
      "686/686 [==============================] - 9s 13ms/step - loss: -8.7696 - accuracy: 0.8061\n",
      "Epoch 85/100\n",
      "686/686 [==============================] - 9s 14ms/step - loss: -8.5781 - accuracy: 0.8006\n",
      "Epoch 86/100\n",
      "686/686 [==============================] - 10s 14ms/step - loss: -8.5964 - accuracy: 0.7943\n",
      "Epoch 87/100\n",
      "686/686 [==============================] - 9s 14ms/step - loss: -8.8002 - accuracy: 0.7817\n",
      "Epoch 88/100\n",
      "686/686 [==============================] - 9s 14ms/step - loss: -8.8662 - accuracy: 0.7747\n",
      "Epoch 89/100\n",
      "686/686 [==============================] - 9s 13ms/step - loss: -9.0213 - accuracy: 0.8048\n",
      "Epoch 90/100\n",
      "686/686 [==============================] - 9s 14ms/step - loss: -8.5333 - accuracy: 0.7850\n",
      "Epoch 91/100\n",
      "686/686 [==============================] - 9s 14ms/step - loss: -7.0669 - accuracy: 0.7903\n",
      "Epoch 92/100\n",
      "686/686 [==============================] - 9s 13ms/step - loss: -8.3062 - accuracy: 0.7869\n",
      "Epoch 93/100\n",
      "686/686 [==============================] - 9s 14ms/step - loss: -8.4585 - accuracy: 0.7914\n",
      "Epoch 94/100\n",
      "686/686 [==============================] - 10s 14ms/step - loss: -7.9263 - accuracy: 0.7972\n",
      "Epoch 95/100\n",
      "686/686 [==============================] - 10s 15ms/step - loss: -7.5764 - accuracy: 0.8186\n",
      "Epoch 96/100\n",
      "686/686 [==============================] - 10s 15ms/step - loss: -8.0559 - accuracy: 0.7837 4s - loss:\n",
      "Epoch 97/100\n",
      "686/686 [==============================] - 10s 15ms/step - loss: -9.0721 - accuracy: 0.7772\n",
      "Epoch 98/100\n",
      "686/686 [==============================] - 10s 15ms/step - loss: -9.4022 - accuracy: 0.7933\n",
      "Epoch 99/100\n",
      "686/686 [==============================] - 10s 15ms/step - loss: -9.3634 - accuracy: 0.8127 0s - loss: -9.3530 - accu\n",
      "Epoch 100/100\n",
      "686/686 [==============================] - 10s 15ms/step - loss: -9.4059 - accuracy: 0.8151\n"
     ]
    }
   ],
   "source": [
    "history = model.fit(ds, epochs=100, verbose=1)"
   ]
  },
  {
   "cell_type": "code",
   "execution_count": 53,
   "metadata": {},
   "outputs": [],
   "source": [
    "prediction = model.predict(ds)"
   ]
  },
  {
   "cell_type": "code",
   "execution_count": 57,
   "metadata": {},
   "outputs": [
    {
     "data": {
      "text/plain": [
       "(686, 15, 3)"
      ]
     },
     "execution_count": 57,
     "metadata": {},
     "output_type": "execute_result"
    }
   ],
   "source": [
    "prediction.shape"
   ]
  },
  {
   "cell_type": "code",
   "execution_count": 48,
   "metadata": {},
   "outputs": [
    {
     "data": {
      "text/plain": [
       "array([0, 0, 2, 1, 0, 0, 0, 0, 1, 0, 0, 0, 0, 0, 0, 0, 0, 0, 0, 1, 2, 0,\n",
       "       0, 0, 0, 0, 0, 0, 0, 0, 0, 0, 0, 0, 0, 0, 0, 0, 0, 0, 0, 0, 0, 0,\n",
       "       0, 0, 0, 0, 0, 0, 0, 0, 0, 0, 0, 0, 0, 0, 0, 0, 0, 0, 0, 0, 0, 2,\n",
       "       2, 0, 0, 0, 0, 0, 0, 0, 0, 0, 0, 0, 0, 0, 0, 2, 1, 0, 0, 0, 1, 1,\n",
       "       1, 2, 0, 0, 0, 0, 0, 0, 0, 0, 0, 1, 1, 0, 0, 0, 0, 0, 0, 0, 2, 0,\n",
       "       0, 0, 0, 0, 0, 0, 0, 2, 2, 1, 1, 1, 1, 1, 1, 1, 2, 1, 1, 2, 1, 2,\n",
       "       1, 1, 1, 1, 0, 1, 1, 1, 2, 2, 2, 1, 2, 1, 1, 0, 0, 0, 0, 0, 0, 0,\n",
       "       0, 0, 0, 0, 0, 0, 0, 0, 0, 0, 0, 1, 0, 0, 0, 0, 0, 0, 0, 1, 1, 1,\n",
       "       1, 0, 0, 0, 0, 2, 2, 0, 0, 0, 0, 0, 0, 0, 2, 1, 1, 2, 2, 2, 1, 2,\n",
       "       2, 1, 1, 2, 1, 1, 2, 0, 0, 0, 0, 0, 1, 1, 1, 2, 1, 1, 1, 1, 1, 1,\n",
       "       1, 2, 1, 1, 1, 2, 1, 2, 1, 0, 1, 2, 1, 1, 2, 1, 2, 1, 1, 1, 1, 0,\n",
       "       0, 0, 2, 0, 1, 0, 1, 1, 0, 0, 0, 0, 0, 1, 1, 0, 0, 0, 0, 0, 0, 0,\n",
       "       0, 0, 0, 0, 0, 0, 0, 0, 0, 0, 0, 0, 1, 0, 0, 0, 0, 0, 0, 0, 0, 0,\n",
       "       0, 0, 0, 0, 0, 0, 0, 0, 0, 0, 0, 0, 0, 0, 0, 1, 0, 0, 0, 0, 0, 0,\n",
       "       0, 0, 0, 0, 0, 0, 0, 0, 0, 0, 0, 0, 0, 0, 0, 0, 0, 0, 0, 2, 0, 0,\n",
       "       2, 0, 0, 1, 0, 0, 0, 0, 0, 0, 0, 0, 0, 0, 0, 0, 0, 0, 0, 0, 0, 0,\n",
       "       0, 0, 0, 0, 0, 0, 0, 0, 0, 0, 0, 0, 0, 0, 0, 0, 0, 0, 0, 0, 0, 0,\n",
       "       0, 0, 0, 0, 0, 0, 0, 0, 0, 0, 0, 1, 0, 0, 0, 0, 0, 0, 0, 0, 0, 0,\n",
       "       0, 0, 0, 0, 0, 0, 0, 0, 0, 0, 0, 0, 0, 0, 0, 0, 0, 0, 0, 0, 0, 0,\n",
       "       2, 0, 0, 0, 0, 0, 0, 2, 0, 0, 0, 0, 0, 0, 0, 0, 0, 0, 0, 0, 0, 0,\n",
       "       0, 0, 0, 0, 0, 0, 0, 0, 0, 0, 0, 0, 0, 0, 0, 0, 0, 0, 0, 0, 0, 0,\n",
       "       0, 0, 0, 0, 0, 0, 0, 0, 0, 0, 0, 0, 0, 0, 0, 0, 0, 0, 0, 0, 0, 0,\n",
       "       0, 0, 0, 0, 0, 0, 0, 0, 0, 0, 0, 0, 0, 0, 0, 0, 0, 0, 0, 0, 0, 0,\n",
       "       0, 0, 0, 0, 0, 0, 0, 0, 0, 0, 0, 0, 0, 0, 0, 0, 0, 0, 0, 0, 0, 0,\n",
       "       0, 0, 0, 0, 0, 0, 0, 0, 0, 0, 0, 0, 0, 0, 0, 0, 0, 0, 0, 0, 0, 0,\n",
       "       0, 0, 0, 0, 0, 0, 0, 0, 0, 0, 0, 0, 0, 0, 0, 0, 0, 0, 0, 0, 0, 0,\n",
       "       0, 0, 0, 0, 0, 0, 0, 0, 0, 0, 0, 0, 0, 0, 0, 0, 0, 0, 0, 0, 0, 0,\n",
       "       0, 0, 0, 0, 0, 0, 0, 0, 0, 0, 0, 0, 0, 0, 0, 0, 0, 0, 0, 0, 0, 0,\n",
       "       0, 0, 2, 2, 1, 0, 0, 0, 0, 0, 0, 0, 0, 0, 0, 0, 0, 0, 0, 0, 0, 0,\n",
       "       0, 0, 0, 0, 0, 0, 0, 0, 0, 0, 0, 0, 0, 0, 0, 0, 0, 0, 0, 0, 0, 0,\n",
       "       0, 0, 0, 0, 0, 0, 0, 0, 0, 0, 0, 0, 0, 0, 0, 0, 0, 0, 0, 0, 0, 0,\n",
       "       0, 0, 0, 0], dtype=int64)"
      ]
     },
     "execution_count": 48,
     "metadata": {},
     "output_type": "execute_result"
    }
   ],
   "source": [
    "prediction"
   ]
  },
  {
   "cell_type": "code",
   "execution_count": 46,
   "metadata": {},
   "outputs": [
    {
     "data": {
      "text/plain": [
       "array([2, 2, 2, 2, 2, 2, 2, 2, 2, 2, 2, 2, 2, 2, 2, 1, 2, 1, 2, 0, 2, 0,\n",
       "       2, 0, 2, 2, 2, 2, 1, 2, 2, 0, 2, 2, 2, 2, 2, 2, 2, 2, 2, 2, 2, 2,\n",
       "       1, 2, 2, 2, 2, 2, 2, 2, 2, 2, 2, 2, 1, 2, 2, 0, 2, 2, 2, 0, 2, 2,\n",
       "       2, 2, 2, 2, 2, 2, 2, 2, 2, 2, 2, 2, 2, 2, 2, 0, 2, 2, 2, 2, 2, 0,\n",
       "       1, 2, 2, 2, 2, 2, 1, 2, 2, 2, 2, 2, 1, 2, 0, 0, 2, 2, 2, 2, 2, 2,\n",
       "       2, 2, 1, 2, 0, 2, 2, 2, 2, 2, 2, 2, 2, 0, 2, 2, 2, 2, 2, 2, 1, 1,\n",
       "       1, 1, 2, 0, 0, 2, 1, 1, 0, 2, 1, 0, 1, 2, 2, 2, 0, 2, 2, 1, 2, 1,\n",
       "       2, 2, 2, 1, 2, 0, 2, 0, 0, 2, 2, 2, 2, 2, 2, 2, 0, 2, 2, 2, 2, 0,\n",
       "       2, 2, 2, 0, 2, 2, 0, 2, 2, 2, 2, 1, 2, 2, 1, 1, 0, 2, 0, 2, 2, 2,\n",
       "       2, 2, 2, 2, 2, 2, 1, 0, 2, 1, 2, 2, 1, 2, 0, 0, 1, 1, 0, 0, 2, 2,\n",
       "       2, 0, 2, 2, 1, 2, 1, 1, 1, 2, 2, 1, 0, 1, 2, 1, 2, 0, 1, 0, 1, 2,\n",
       "       0, 2, 1, 2, 2, 1, 1, 2, 2, 1, 0, 0, 0, 2, 2, 0, 1, 2, 0, 2, 2, 0,\n",
       "       2, 2, 2, 2, 2, 2, 2, 0, 2, 2, 2, 2, 2, 2, 2, 2, 2, 2, 2, 2, 2, 2,\n",
       "       2, 2, 0, 1, 2, 2, 0, 2, 2, 2, 2, 2, 2, 2, 2, 2, 2, 2, 2, 2, 2, 2,\n",
       "       2, 2, 2, 2, 0, 2, 2, 2, 2, 2, 2, 2, 2, 2, 0, 2, 2, 2, 2, 2, 2, 2,\n",
       "       2, 2, 2, 2, 2, 2, 2, 2, 2, 2, 2, 2, 2, 0, 1, 1, 0, 0, 0, 2, 2, 2,\n",
       "       2, 0, 2, 2, 2, 2, 2, 2, 2, 2, 2, 2, 2, 2, 2, 2, 2, 2, 2, 2, 2, 2,\n",
       "       2, 2, 2, 2, 2, 2, 2, 2, 2, 2, 2, 2, 2, 2, 2, 2, 2, 2, 2, 2, 2, 2,\n",
       "       2, 1, 0, 1, 2, 0, 2, 2, 2, 0, 2, 2, 2, 2, 2, 2, 2, 2, 2, 2, 2, 2,\n",
       "       2, 1, 2, 2, 2, 2, 2, 2, 2, 2, 2, 2, 2, 2, 2, 2, 2, 2, 2, 2, 0, 2,\n",
       "       0, 2, 2, 2, 2, 2, 2, 2, 2, 2, 2, 2, 2, 2, 2, 2, 2, 2, 2, 0, 2, 2,\n",
       "       2, 2, 2, 2, 2, 2, 2, 2, 2, 2, 2, 2, 2, 2, 2, 2, 2, 2, 2, 2, 2, 2,\n",
       "       2, 2, 2, 2, 2, 2, 2, 2, 2, 2, 2, 2, 2, 2, 2, 2, 2, 2, 2, 2, 2, 2,\n",
       "       2, 2, 2, 2, 2, 2, 2, 2, 2, 0, 2, 2, 2, 2, 2, 2, 2, 2, 2, 2, 2, 2,\n",
       "       1, 2, 2, 2, 2, 2, 2, 2, 2, 2, 2, 2, 2, 2, 2, 2, 2, 2, 2, 2, 2, 2,\n",
       "       2, 2, 2, 2, 2, 2, 2, 2, 2, 2, 2, 2, 2, 2, 2, 2, 2, 2, 1, 2, 2, 2,\n",
       "       2, 2, 2, 2, 2, 2, 2, 2, 2, 2, 2, 2, 2, 2, 2, 2, 2, 2, 2, 2, 2, 2,\n",
       "       2, 2, 2, 2, 2, 2, 2, 2, 2, 2, 2, 2, 2, 2, 2, 2, 2, 2, 2, 2, 2, 2,\n",
       "       2, 2, 2, 2, 2, 2, 2, 2, 2, 2, 1, 2, 2, 2, 2, 1, 2, 2, 0, 2, 2, 2,\n",
       "       2, 2, 2, 2, 2, 2, 2, 2, 2, 2, 2, 2, 2, 2, 2, 2, 2, 2, 2, 2, 2, 2,\n",
       "       2, 2, 2, 2, 2, 2, 2, 2, 2, 2, 2, 2, 2, 2, 2, 2, 2, 2, 2, 2, 2, 2,\n",
       "       2, 2, 2, 2, 2, 2, 2, 2, 2, 2, 2, 2, 2, 2, 2, 2, 2, 2], dtype=int64)"
      ]
     },
     "execution_count": 46,
     "metadata": {},
     "output_type": "execute_result"
    }
   ],
   "source": [
    "original = np.argmax(ml_train[:, 11:], axis=1)\n",
    "original"
   ]
  },
  {
   "cell_type": "code",
   "execution_count": 43,
   "metadata": {},
   "outputs": [],
   "source": [
    "from sklearn.metrics import accuracy_score"
   ]
  },
  {
   "cell_type": "code",
   "execution_count": 44,
   "metadata": {},
   "outputs": [
    {
     "data": {
      "text/plain": [
       "0.12244897959183673"
      ]
     },
     "execution_count": 44,
     "metadata": {},
     "output_type": "execute_result"
    }
   ],
   "source": [
    "accuracy_score(original[14:], prediction)"
   ]
  },
  {
   "cell_type": "code",
   "execution_count": null,
   "metadata": {},
   "outputs": [],
   "source": [
    "ds = windowed_dataset(ml_test.values, window_size, batch_size)"
   ]
  },
  {
   "cell_type": "code",
   "execution_count": null,
   "metadata": {},
   "outputs": [],
   "source": [
    "prediction = model.predict(ds)\n",
    "prediction = prediction.argmax(axis=1)"
   ]
  },
  {
   "cell_type": "code",
   "execution_count": null,
   "metadata": {},
   "outputs": [],
   "source": [
    "prediction"
   ]
  },
  {
   "cell_type": "code",
   "execution_count": null,
   "metadata": {},
   "outputs": [],
   "source": [
    "original = np.argmax(ml_test[['0', '1','2']].values, axis=1)[:-4]"
   ]
  },
  {
   "cell_type": "code",
   "execution_count": null,
   "metadata": {},
   "outputs": [],
   "source": [
    "original"
   ]
  },
  {
   "cell_type": "code",
   "execution_count": null,
   "metadata": {},
   "outputs": [],
   "source": [
    "accuracy_score(original, prediction)"
   ]
  },
  {
   "cell_type": "code",
   "execution_count": null,
   "metadata": {},
   "outputs": [],
   "source": [
    "ml_train.shape"
   ]
  },
  {
   "cell_type": "code",
   "execution_count": null,
   "metadata": {},
   "outputs": [],
   "source": [
    "prediction.shape"
   ]
  },
  {
   "cell_type": "code",
   "execution_count": null,
   "metadata": {},
   "outputs": [],
   "source": [
    "ml_test.shape"
   ]
  },
  {
   "cell_type": "code",
   "execution_count": null,
   "metadata": {},
   "outputs": [],
   "source": []
  }
 ],
 "metadata": {
  "kernelspec": {
   "display_name": "Python 3",
   "language": "python",
   "name": "python3"
  },
  "language_info": {
   "codemirror_mode": {
    "name": "ipython",
    "version": 3
   },
   "file_extension": ".py",
   "mimetype": "text/x-python",
   "name": "python",
   "nbconvert_exporter": "python",
   "pygments_lexer": "ipython3",
   "version": "3.7.3"
  }
 },
 "nbformat": 4,
 "nbformat_minor": 2
}
