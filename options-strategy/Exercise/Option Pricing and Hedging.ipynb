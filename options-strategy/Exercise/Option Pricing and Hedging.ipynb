{
 "cells": [
  {
   "cell_type": "markdown",
   "metadata": {},
   "source": [
    "# Option 가격 결정 모형\n",
    "\n",
    "    BS([underlyingPrice, strikePrice, interestRate, daysToExpiration], volatility=x, callPrice=y, putPrice=z)\n",
    "\n",
    "    eg: \n",
    "\n",
    "    c = mibian.BS([1.4565, 1.45, 1, 30], volatility=20)\n",
    "    c.callPrice\tReturns the call price\n",
    "    c.putPrice\tReturns the put price\n",
    "    c.callDelta\tReturns the call delta\n",
    "    c.putDelta\tReturns the put delta\n",
    "    c.callDelta2\tReturns the call dual delta\n",
    "    c.putDelta2\tReturns the put dual delta\n",
    "    c.callTheta\tReturns the call theta\n",
    "    c.putTheta\tReturns the put theta\n",
    "    c.callRho\tReturns the call rho\n",
    "    c.putRho\tReturns the put rho\n",
    "    c.vega\tReturns the option vega\n",
    "    c.gamma\tReturns the option gamma\n",
    "\n",
    "\n",
    "    c = mibian.BS([1.4565, 1.45, 1, 30], callPrice=0.0359)\n",
    "    c.impliedVolatility\tReturns the implied volatility from the call price\n",
    "\n",
    "\n",
    "    c = mibian.BS([1.4565, 1.45, 1, 30], putPrice=0.0306)\n",
    "    c.impliedVolatility\tReturns the implied volatility from the put price\n",
    "\n",
    "\n",
    "    c = mibian.BS([1.4565, 1.45, 1, 30], callPrice=0.0359, putPrice=0.0306)\n",
    "    c.putCallParity\tReturns the put-call parity"
   ]
  },
  {
   "cell_type": "code",
   "execution_count": 14,
   "metadata": {},
   "outputs": [],
   "source": [
    "import os\n",
    "import sys\n",
    "sys.path.append(os.path.dirname(os.path.abspath(os.path.dirname('./'))))\n",
    "\n",
    "from payoff import *"
   ]
  },
  {
   "cell_type": "markdown",
   "metadata": {},
   "source": [
    "청솔주식회사의 주가는 현재 20,000 원이다. 이 주식의 콜옵션은 만기 6개월이고 행사가격은 21,000 원이다. 주식 연각 수익률의 표준편차는 0.8 이고, 무위험 이자율은 10% 이다.\n",
    "\n",
    "블랙숄즈 모델에 의한 콜옵션의 현재 가치 계산\n",
    "\n",
    "헤지비율은 얼마인가 ?\n",
    "\n",
    "위의 콜옵션과 동일한 행사가격과 만기를 가진 풋옵션의 현재 가치는 ?"
   ]
  },
  {
   "cell_type": "code",
   "execution_count": 18,
   "metadata": {},
   "outputs": [],
   "source": [
    "#BS([underlyingPrice, strikePrice, interestRate, daysToExpiration], volatility=x, \n",
    "#    callPrice=y, putPrice=z)\n",
    "\n",
    "c = mibian.BS([20000, 21000, 10, 183], volatility=80)"
   ]
  },
  {
   "cell_type": "code",
   "execution_count": 21,
   "metadata": {},
   "outputs": [
    {
     "data": {
      "text/plain": [
       "4470.4578970212115"
      ]
     },
     "execution_count": 21,
     "metadata": {},
     "output_type": "execute_result"
    }
   ],
   "source": [
    "C = c.callPrice\n",
    "C"
   ]
  },
  {
   "cell_type": "code",
   "execution_count": 22,
   "metadata": {},
   "outputs": [
    {
     "data": {
      "text/plain": [
       "4446.275811536207"
      ]
     },
     "execution_count": 22,
     "metadata": {},
     "output_type": "execute_result"
    }
   ],
   "source": [
    "# P = C - S + X e**-rT\n",
    "C - 20000 + 21000 * np.exp(-0.1*0.5)"
   ]
  },
  {
   "cell_type": "markdown",
   "metadata": {},
   "source": [
    "# 주식 옵션을 이용한 헷징\n",
    "\n",
    "투자자 갑은 콜옵션 200 계약 (주식 2000 주에 대한 옵션)을 매도하였다. 콜옵션의 가격은 10,000 원, 주식 가격은 100,000 원, 콜옵션의 델타는 0.6 이다. 델타 헤징에 필요한 주식 수를 구하라.\n",
    "\n",
    "$n_s + n_c\\Delta_c = 0$\n",
    "\n",
    "$n_c$ : 콜옵션의 매입 수량\n",
    "\n",
    "$n_s$ : 주식 매입 수량\n",
    "\n",
    "$\\Delta_c$ : 콜옵션의 델타"
   ]
  },
  {
   "cell_type": "code",
   "execution_count": 3,
   "metadata": {},
   "outputs": [
    {
     "data": {
      "text/plain": [
       "1200.0"
      ]
     },
     "execution_count": 3,
     "metadata": {},
     "output_type": "execute_result"
    }
   ],
   "source": [
    "0.6 * 2000"
   ]
  },
  {
   "cell_type": "markdown",
   "metadata": {},
   "source": [
    "현재 가지고 있는 주식 포트폴리오의 가치는 10 억원이며 KOSPI200 에 대한 포트폴리오의 베타($\\beta_s$)는 2.0 이다. KOSPI200 콜옵션의 가격과 델타 값은 각각 5.00, 0.80 이고, 풋옵션의 가격과 델타 값은 3.00, -0.40 이다. 현재 KOSPI200 지수는 260.00 이며, KOSPI200 옵션의 거래 승수는 1 포인트 당 50만원이다.\n",
    "\n",
    "(1) KOSPI200 콜옵션을 이용한 헤지전략 수립\n",
    "\n",
    "(2) KOSPI200 풋옵션을 이용한 헤지전략 수립\n",
    "\n",
    "$n_c = -\\frac{\\beta_s V_s}{I\\Delta_c}$\n",
    "\n",
    "$V_s$ : 주식포트폴리오의 가치\n",
    "\n",
    "$I$ : 주가지수의 가치\n",
    "\n",
    "$\\Delta_c$ : call option 의 델타\n",
    "\n",
    "$n_p = -\\frac{\\beta_s V_s}{I\\Delta_p}$"
   ]
  },
  {
   "cell_type": "code",
   "execution_count": 12,
   "metadata": {},
   "outputs": [
    {
     "name": "stdout",
     "output_type": "stream",
     "text": [
      "포트폴리오의 헤지를 위한 콜옵션 계약수 = -19.23\n"
     ]
    }
   ],
   "source": [
    "n_c = -1 * (2.0 * 1000000000) / (260 * 500000 * 0.8)\n",
    "print(\"포트폴리오의 헤지를 위한 콜옵션 계약수 = {:.2f}\".format(n_c))"
   ]
  },
  {
   "cell_type": "code",
   "execution_count": 11,
   "metadata": {},
   "outputs": [
    {
     "name": "stdout",
     "output_type": "stream",
     "text": [
      "포트폴리오의 헤지를 위한 풋옵션 계약수 = 38.46\n"
     ]
    }
   ],
   "source": [
    "n_p = -1 * (2.0 * 1000000000) / (260 * 500000 * -0.4)\n",
    "print(\"포트폴리오의 헤지를 위한 풋옵션 계약수 = {:.2f}\".format(n_p))"
   ]
  },
  {
   "cell_type": "code",
   "execution_count": 20,
   "metadata": {},
   "outputs": [
    {
     "name": "stdout",
     "output_type": "stream",
     "text": [
      "Covered Call 손익\n",
      "\n",
      "주식 매수가 : 260\n",
      "콜옵션 매도 : 260\n"
     ]
    },
    {
     "data": {
      "text/plain": [
       "Text(0,0.5,'P & L')"
      ]
     },
     "execution_count": 20,
     "metadata": {},
     "output_type": "execute_result"
    },
    {
     "data": {
      "image/png": "[encoded data removed]",
      "text/plain": [
       "<Figure size 432x288 with 1 Axes>"
      ]
     },
     "metadata": {},
     "output_type": "display_data"
    }
   ],
   "source": [
    "# 현재 KOSPI200\n",
    "spot_price = 260\n",
    "\n",
    "# 현재 KOSPI200 과 동일한 strike price (ATM) 콜옵션 매도 \n",
    "strike_price_short_call = 260\n",
    "premium_short_call = 5\n",
    "\n",
    "print('Covered Call 손익\\n')\n",
    "print('주식 매수가 :', spot_price)\n",
    "print('콜옵션 매도 :', strike_price_short_call)\n",
    "\n",
    "# Stock price range at expiration of the call\n",
    "sT = np.arange(0.9*spot_price,1.1*spot_price,1) \n",
    "\n",
    "payoff_short_call = short_call_payoff(sT, strike_price_short_call, premium_short_call)\n",
    "payoff_stock_A = sT - spot_price\n",
    "payoff_covered_call = payoff_short_call + payoff_stock_A\n",
    "\n",
    "fig, ax = plt.subplots()\n",
    "ax.spines['bottom'].set_position('zero')\n",
    "ax.plot(sT, payoff_short_call, 'r--', \n",
    "        label=\"short \"+str(strike_price_short_call)+\" strike call\")\n",
    "ax.plot(sT, payoff_stock_A, 'g--', label='Long stock A')\n",
    "ax.plot(sT, payoff_covered_call, 'b-', label='Covered Call')\n",
    "plt.legend()\n",
    "plt.grid(True)\n",
    "plt.xlabel('포트폴리오')\n",
    "plt.ylabel('P & L')"
   ]
  },
  {
   "cell_type": "code",
   "execution_count": 21,
   "metadata": {},
   "outputs": [
    {
     "name": "stdout",
     "output_type": "stream",
     "text": [
      "Protective Put 손익\n",
      "\n",
      "주식 매수가 : 260\n",
      "풋옵션 매수 : 260\n"
     ]
    },
    {
     "data": {
      "text/plain": [
       "Text(0,0.5,'P & L')"
      ]
     },
     "execution_count": 21,
     "metadata": {},
     "output_type": "execute_result"
    },
    {
     "data": {
      "image/png": "[encoded data removed]",
      "text/plain": [
       "<Figure size 432x288 with 1 Axes>"
      ]
     },
     "metadata": {},
     "output_type": "display_data"
    }
   ],
   "source": [
    "# 현재 KOSPI200\n",
    "spot_price = 260\n",
    "\n",
    "# 현재 KOSPI200 과 동일한 strike price (ATM) 콜옵션 매도 \n",
    "strike_price_long_put = 260\n",
    "premium_short_call = 3.0\n",
    "\n",
    "print('Protective Put 손익\\n')\n",
    "print('주식 매수가 :', spot_price)\n",
    "print('풋옵션 매수 :', strike_price_long_put)\n",
    "\n",
    "# Stock price range at expiration of the call\n",
    "sT = np.arange(0.9*spot_price,1.1*spot_price,1) \n",
    "\n",
    "payoff_short_call = long_put_payoff(sT, strike_price_short_call, premium_short_call)\n",
    "payoff_stock_A = sT - spot_price\n",
    "payoff_covered_call = payoff_short_call + payoff_stock_A\n",
    "\n",
    "fig, ax = plt.subplots()\n",
    "ax.spines['bottom'].set_position('zero')\n",
    "ax.plot(sT, payoff_short_call, 'r--', \n",
    "        label=\"short \"+str(strike_price_short_call)+\" strike call\")\n",
    "ax.plot(sT, payoff_stock_A, 'g--', label='Long stock A')\n",
    "ax.plot(sT, payoff_covered_call, 'b-', label='Covered Call')\n",
    "plt.legend()\n",
    "plt.grid(True)\n",
    "plt.xlabel('포트폴리오')\n",
    "plt.ylabel('P & L')"
   ]
  },
  {
   "cell_type": "code",
   "execution_count": null,
   "metadata": {},
   "outputs": [],
   "source": []
  }
 ],
 "metadata": {
  "kernelspec": {
   "display_name": "Python 3",
   "language": "python",
   "name": "python3"
  },
  "language_info": {
   "codemirror_mode": {
    "name": "ipython",
    "version": 3
   },
   "file_extension": ".py",
   "mimetype": "text/x-python",
   "name": "python",
   "nbconvert_exporter": "python",
   "pygments_lexer": "ipython3",
   "version": "3.6.6"
  }
 },
 "nbformat": 4,
 "nbformat_minor": 2
}
