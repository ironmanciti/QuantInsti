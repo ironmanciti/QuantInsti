{
 "cells": [
  {
   "cell_type": "markdown",
   "metadata": {},
   "source": [
    "# Earnings Strategy 2 - Vertical Spread (가격의 방향에 betting)\n",
    "\n",
    "* call option 을 사고 동시에 더 높은 행사가의 call option 을 파는 전략.\n",
    "\n",
    "* 이 전략의 목적은 주식의 작은 상승에서 이익을 얻는 것이다. 만기일 주가가 높은 행사가 이상으로 오르면 전략 성공\n",
    "\n",
    "* 최대수익과 최대 손실이 모두 제한되며, 약간의 강세장이 예상될 때의 투자 전략.\n",
    "\n",
    "\n",
    "실적발표후 내재 변동성의 하락은 주가의 발표 이전 움직임을 되돌릴 수 있다. 내재변동성의 하락에 의한 복잡함을 피하고 예상 주가로부터 이익을 취하는 전략. \n",
    "\n",
    "주가 상승이 예상되면 ATM bull call spread 를 살 수 있고, 주가 하락이 예상되면 ATM bear put spread 를 살 수 있다. ATM spread 의 경우 one leg 는 ATM 이고 다른 leg 는 약간 OTM 으로 한다. 대부분의 경우, 두 leg 의 내재변동성은 매우 비슷하여 서로 상쇄해 버리므로, 실적발표 후 내재변동성의 하락이 spread 의 net value 에 별로 영향을 주지 않는다.\n",
    " \n",
    "The quarterly earnings announcement date of Infosys is 24 October 2017.\n",
    "\n",
    "### Buy the bull call spread\n",
    "\n",
    "실적 발표 후 주가가 어느정도 오를 것으로 예측하는 경우. \n",
    "\n",
    "실적 발표 전에 ATM 920 strike call 을 사고 940 strike call 을 판다.\n",
    "\n",
    "24 October 2017\n",
    "\n",
    "Infy October Futures Price is ₹926.00\n",
    "\n",
    "1. Buy 920 Strike Call @ ₹21.50\n",
    "2. Sell 940 Strike Call @ ₹13.20\n",
    "\n",
    "Total premium paid is ₹8.30"
   ]
  },
  {
   "cell_type": "code",
   "execution_count": 54,
   "metadata": {},
   "outputs": [],
   "source": [
    "%matplotlib inline\n",
    "import numpy as np\n",
    "import matplotlib.pyplot as plt\n",
    "import seaborn as sns"
   ]
  },
  {
   "cell_type": "code",
   "execution_count": 55,
   "metadata": {},
   "outputs": [],
   "source": [
    "def call_payoff(sT, strike_price, premium, contracts=1, multiplier=1):\n",
    "    price =     pnl = np.where(sT > strike_price, sT - strike_price, 0) - premium\n",
    "    return pnl * contracts * multiplier\n",
    "\n",
    "def put_payoff(sT, strike_price, premium, contracts=1, multiplier=1):\n",
    "    pnl = np.where(sT < strike_price, strike_price - sT, 0) - premium\n",
    "    return pnl * contracts * multiplier"
   ]
  },
  {
   "cell_type": "code",
   "execution_count": 56,
   "metadata": {},
   "outputs": [
    {
     "name": "stdout",
     "output_type": "stream",
     "text": [
      "Bull Call Spread 손익\n",
      "\n",
      "낮은행사가의 콜 구입 : 920\n",
      "높은행사가의 콜 매도 : 940\n",
      "Total premium paid :  8.3\n"
     ]
    }
   ],
   "source": [
    "# 선물 가격\n",
    "future_price = 926\n",
    "\n",
    "# Long call : 콜옵션 구입\n",
    "strike_price_long_call = 920    # almost ATM\n",
    "premium_long_call = 21.50\n",
    "\n",
    "# Short call : 같은 만기일 더 높은 행사가의 콜옵션 매도\n",
    "strike_price_short_call = 940    # 약간 OTM\n",
    "premium_short_call = 13.20\n",
    "\n",
    "total_premium_paid = premium_long_call - premium_short_call\n",
    "\n",
    "print('Bull Call Spread 손익\\n')\n",
    "print('낮은행사가의 콜 구입 :', strike_price_long_call)\n",
    "print('높은행사가의 콜 매도 :', strike_price_short_call)\n",
    "print('Total premium paid : ', total_premium_paid)"
   ]
  },
  {
   "cell_type": "code",
   "execution_count": 57,
   "metadata": {},
   "outputs": [
    {
     "name": "stdout",
     "output_type": "stream",
     "text": [
      "Max Profit : 11.7\n",
      "Max Loss : -8.3\n"
     ]
    },
    {
     "data": {
      "image/png": "[encoded data removed]",
      "text/plain": [
       "<Figure size 432x288 with 1 Axes>"
      ]
     },
     "metadata": {},
     "output_type": "display_data"
    }
   ],
   "source": [
    "spot_price = future_price\n",
    "# 만기일 주가 범위\n",
    "sT = np.arange(0.95*spot_price,1.1*spot_price,1) \n",
    "\n",
    "payoff_long_call = call_payoff(sT, strike_price_long_call, premium_long_call)\n",
    "payoff_short_call = -call_payoff(sT, strike_price_short_call, premium_short_call)\n",
    "payoff_bull_call_spread = payoff_long_call + payoff_short_call\n",
    "\n",
    "fig, ax = plt.subplots()\n",
    "ax.spines[\"bottom\"].set_position(\"zero\")\n",
    "ax.plot(sT, payoff_long_call,'--', color='r', \n",
    "            label=\"long \"+str(strike_price_long_call)+\" strike call\")\n",
    "ax.plot(sT, payoff_short_call,'--',color='g', \n",
    "            label=\"short \"+str(strike_price_short_call)+\" strike call\")\n",
    "ax.plot(sT, payoff_bull_call_spread, 'b-', label=\"Bull Call Spread\")\n",
    "ax.grid(True)\n",
    "plt.legend()\n",
    "plt.ylabel('P & L')\n",
    "print(\"Max Profit : {:.1f}\".format(max(payoff_bull_call_spread)))\n",
    "print(\"Max Loss :\", min(payoff_bull_call_spread))"
   ]
  },
  {
   "cell_type": "markdown",
   "metadata": {},
   "source": [
    "### Exit the bull call spread\n",
    "\n",
    "예상한대로, 실적발표 다음날 선물 주가가 935 로 상승하면 bull call spread position 을 square off 한다.\n",
    "\n",
    "25 October 2017 Infy October Futures Price is ₹935.00\n",
    "\n",
    "Square off the existing positions\n",
    "\n",
    "1. Sell 920 Strike Call @ ₹16.60\n",
    "2. Buy 940 Strike Call @ ₹4.00\n",
    "\n",
    "Total premium received is ₹12.6"
   ]
  },
  {
   "cell_type": "code",
   "execution_count": 58,
   "metadata": {},
   "outputs": [
    {
     "name": "stdout",
     "output_type": "stream",
     "text": [
      "Bull Call Spread 손익\n",
      "\n",
      "낮은행사가의 콜 구입 : 920\n",
      "높은행사가의 콜 매도 : 940\n",
      "Total premium received : 12.60\n",
      "\n",
      "Net PnL : 4.30\n"
     ]
    }
   ],
   "source": [
    "# 선물 가격\n",
    "future_price = 935\n",
    "\n",
    "# 콜옵션 매도\n",
    "strike_price_long_call = 920 \n",
    "premium_long_call = 16.60\n",
    "\n",
    "# 콜옵션 매수\n",
    "strike_price_short_call = 940 \n",
    "premium_short_call = 4.00\n",
    "\n",
    "payoff_long_call = -call_payoff(future_price, strike_price_long_call, premium_long_call)\n",
    "payoff_short_call = call_payoff(future_price, strike_price_short_call, premium_short_call)\n",
    "payoff_bull_call_spread = payoff_long_call + payoff_short_call\n",
    "total_premium_received = premium_long_call - premium_short_call\n",
    "\n",
    "net_pnl = total_premium_received - total_premium_paid\n",
    "\n",
    "print('Bull Call Spread 손익\\n')\n",
    "print('낮은행사가의 콜 구입 :', strike_price_long_call)\n",
    "print('높은행사가의 콜 매도 :', strike_price_short_call)\n",
    "print('Total premium received : {:.2f}'.format(total_premium_received))\n",
    "print()\n",
    "print('Net PnL : {:.2f}'.format(net_pnl))"
   ]
  },
  {
   "cell_type": "markdown",
   "metadata": {},
   "source": [
    "# Bear put spread\n",
    "\n",
    "Bear put spread 전략은 풋옵션을 매수하고 동시에 더 낮은 행사가의 풋옵션을 매도하여 성립된다.\n",
    "\n",
    "전략의 목표는 주가의 작은 하락에서 이익을 얻는 것이다. \n",
    "\n",
    "### Buy the bull call spread\n",
    "\n",
    "실적 발표 후 주가가 어느정도 떨어질 것으로 예측하는 경우. \n",
    "\n",
    "실적 발표 전에 ATM 880 strike put 을 사고 860 strike put 을 판다.\n",
    "\n",
    "24 October 2017\n",
    "\n",
    "Infy October Futures Price is ₹900.00\n",
    "\n",
    "1. Buy 880 Strike Put @ ₹15.00\n",
    "2. Sell 860 Strike Put @ ₹10.00\n",
    "\n",
    "Total premium paid is ₹5.00"
   ]
  },
  {
   "cell_type": "code",
   "execution_count": 59,
   "metadata": {},
   "outputs": [
    {
     "name": "stdout",
     "output_type": "stream",
     "text": [
      "Bear Put Spread 손익\n",
      "\n",
      "높은행사가의 풋 구입 : 890\n",
      "낮은행사가의 풋 매도 : 870\n",
      "Total premium paid : 5.00\n"
     ]
    }
   ],
   "source": [
    "# 현물 가격\n",
    "spot_price = 900 \n",
    "\n",
    "# Long call : 풋옵션 구입\n",
    "strike_price_long_put = 890     # almost ATM\n",
    "premium_long_put = 15\n",
    "\n",
    "# Short call : 같은 만기일 더 낮은 행사가의 풋옵션 매도\n",
    "strike_price_short_put = 870    # 약간 OTM\n",
    "premium_short_put = 10\n",
    "\n",
    "total_premium_paid = premium_long_put - premium_short_put\n",
    "\n",
    "print('Bear Put Spread 손익\\n')\n",
    "print('높은행사가의 풋 구입 :', strike_price_long_put)\n",
    "print('낮은행사가의 풋 매도 :', strike_price_short_put)\n",
    "print('Total premium paid : {:.2f}'.format(total_premium_paid))"
   ]
  },
  {
   "cell_type": "code",
   "execution_count": 60,
   "metadata": {},
   "outputs": [
    {
     "name": "stdout",
     "output_type": "stream",
     "text": [
      "Max Profit : 15.0\n",
      "Max Loss : -5.0\n"
     ]
    },
    {
     "data": {
      "image/png": "[encoded data removed]",
      "text/plain": [
       "<Figure size 432x288 with 1 Axes>"
      ]
     },
     "metadata": {},
     "output_type": "display_data"
    }
   ],
   "source": [
    "# Stock price range at expiration of the call\n",
    "sT = np.arange(0.9*spot_price,1.05*spot_price,1) \n",
    "\n",
    "payoff_long_put = put_payoff(sT, strike_price_long_put, premium_long_put)\n",
    "payoff_short_put = - put_payoff(sT, strike_price_short_put, premium_short_put)\n",
    "payoff_bear_put_spread = payoff_long_put + payoff_short_put\n",
    "\n",
    "fig, ax = plt.subplots()\n",
    "ax.spines[\"bottom\"].set_position(\"zero\")\n",
    "ax.plot(sT, payoff_long_put, 'r--', \n",
    "        label=\"long \"+str(strike_price_long_put)+\" strike put\")\n",
    "\n",
    "ax.plot(sT, payoff_short_put, 'g--', \n",
    "        label=\"short \"+str(strike_price_short_put)+\" strike put\")\n",
    "\n",
    "ax.plot(sT, payoff_bear_put_spread, 'b-', label=\"Bear Put Spread\")\n",
    "plt.grid(True)\n",
    "plt.ylabel('P & L')\n",
    "plt.legend()\n",
    "print(\"Max Profit :\", max(payoff_bear_put_spread))\n",
    "print(\"Max Loss :\", min(payoff_bear_put_spread))"
   ]
  },
  {
   "cell_type": "markdown",
   "metadata": {},
   "source": [
    "최대수익과 최대 손실이 모두 제한되며, 약간의 약세장이 예상될 때의 투자 전략.\n",
    "\n",
    "### Exit the bull call spread\n",
    "\n",
    "예상한대로, 실적발표 다음날 선물 주가가 890 로 하락하면 bear put spread position 을 square off 한다.\n",
    "\n",
    "25 October 2017 Infy October Futures Price is ₹890.00\n",
    "\n",
    "Square off the existing positions\n",
    "\n",
    "1. Sell 880 Strike Put @ ₹25.00\n",
    "2. Buy 860 Strike Put @ ₹15.00\n",
    "\n",
    "Total premium received is ₹10"
   ]
  },
  {
   "cell_type": "code",
   "execution_count": 61,
   "metadata": {},
   "outputs": [
    {
     "name": "stdout",
     "output_type": "stream",
     "text": [
      "Bull Call Spread 손익\n",
      "\n",
      "높은행사가의 풋 구입 : 880\n",
      "낮은행사가의 풋 매도 : 860\n",
      "Total premium received : 10.000000\n",
      "\n",
      "Net PnL : 5.00\n"
     ]
    }
   ],
   "source": [
    "# 선물 가격\n",
    "future_price = 890\n",
    "\n",
    "# 풋옵션 매도\n",
    "strike_price_short_put = 880 \n",
    "premium_short_put = 25.00\n",
    "\n",
    "# 풋옵션 매수\n",
    "strike_price_long_put = 860 \n",
    "premium_long_put = 15\n",
    "\n",
    "total_premium_received = premium_short_put - premium_long_put\n",
    "\n",
    "net_pnl = total_premium_received - total_premium_paid\n",
    "\n",
    "print('Bull Call Spread 손익\\n')\n",
    "print('높은행사가의 풋 구입 :', strike_price_short_put)\n",
    "print('낮은행사가의 풋 매도 :', strike_price_long_put)\n",
    "print('Total premium received : {:2f}'.format(total_premium_received))\n",
    "print()\n",
    "print('Net PnL : {:.2f}'.format(net_pnl))"
   ]
  },
  {
   "cell_type": "code",
   "execution_count": null,
   "metadata": {},
   "outputs": [],
   "source": []
  }
 ],
 "metadata": {
  "kernelspec": {
   "display_name": "Python 3",
   "language": "python",
   "name": "python3"
  },
  "language_info": {
   "codemirror_mode": {
    "name": "ipython",
    "version": 3
   },
   "file_extension": ".py",
   "mimetype": "text/x-python",
   "name": "python",
   "nbconvert_exporter": "python",
   "pygments_lexer": "ipython3",
   "version": "3.6.4"
  }
 },
 "nbformat": 4,
 "nbformat_minor": 2
}
