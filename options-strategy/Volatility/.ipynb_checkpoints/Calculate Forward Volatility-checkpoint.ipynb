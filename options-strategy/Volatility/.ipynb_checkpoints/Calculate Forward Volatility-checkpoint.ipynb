{
 "cells": [
  {
   "cell_type": "markdown",
   "metadata": {},
   "source": [
    "# Forward Volatility 는 미래 일정기간의 Volatility\n",
    "\n",
    "동일 기초자산의 행사가격이 같은 Option A 와 Option B 의 잔존기간이 30 일과 60 일로 서로 다를 때, 30~60 일 사이에 아무런 event 가 발생 않는다면 두 option 의 volatility 는 같아야 한다.\n",
    "\n",
    "잔존기간 30일인 Option A 의 annualized IV 가 23% 이고, 잔존기간 60일인 Option B 의 annualized IV 가 24% 라면 두개 Option 중 어느 것을 Long 하고 Short 할지 결정하라. \n",
    "\n",
    "싼 것을 Long 하고 비싼 것을 Short 해야 하므로 두 Option 의 IV 가 높은 것 (비싼 것)을 Short 하고 낮은 것 (싼 것)을 Long 하면 차익거래가 가능하다. 따라서 직관적으로는 Option A 를 사고 Option B 를 파는 것이 이익이다.\n",
    "\n",
    "Option B 는 0-30 과 30-60 의 두 기간으로 나눌 수 있고, Option B 의 0-30 기간 IV 는 Option A 와 같아야하므로, 먼저 Option A 의 30 일간 IV 를 구하고, 그 것과 Option B 의 IV 의 차이를 구하면 그 것이 Option B 의 30-60 기간 Forward IV 가 된다.\n",
    "\n",
    "Volatility 는 Variance "
   ]
  },
  {
   "cell_type": "code",
   "execution_count": null,
   "metadata": {},
   "outputs": [],
   "source": [
    "# Option A 의 30 일간 IV 계산\n",
    "# Step 1 : "
   ]
  }
 ],
 "metadata": {
  "kernelspec": {
   "display_name": "Python 3",
   "language": "python",
   "name": "python3"
  },
  "language_info": {
   "codemirror_mode": {
    "name": "ipython",
    "version": 3
   },
   "file_extension": ".py",
   "mimetype": "text/x-python",
   "name": "python",
   "nbconvert_exporter": "python",
   "pygments_lexer": "ipython3",
   "version": "3.6.6"
  }
 },
 "nbformat": 4,
 "nbformat_minor": 2
}
