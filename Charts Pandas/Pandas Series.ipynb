{
 "cells": [
  {
   "cell_type": "code",
   "execution_count": 12,
   "metadata": {},
   "outputs": [],
   "source": [
    "import pandas as pd\n",
    "import numpy as np"
   ]
  },
  {
   "cell_type": "code",
   "execution_count": 4,
   "metadata": {},
   "outputs": [
    {
     "name": "stdout",
     "output_type": "stream",
     "text": [
      "0    10.1\n",
      "1    20.2\n",
      "2    30.4\n",
      "3    40.4\n",
      "4    50.5\n",
      "5    60.6\n",
      "dtype: float64\n"
     ]
    }
   ],
   "source": [
    "My_Series_flt = pd.Series ([10.1, 20.2, 30.4, 40.4, 50.5, 60.6]) # Series created using a list\n",
    "\n",
    "print (My_Series_flt)"
   ]
  },
  {
   "cell_type": "code",
   "execution_count": 5,
   "metadata": {},
   "outputs": [
    {
     "name": "stdout",
     "output_type": "stream",
     "text": [
      "0    10.1\n",
      "1      20\n",
      "2     jay\n",
      "3    40.4\n",
      "dtype: object\n"
     ]
    }
   ],
   "source": [
    "My_Series_mixed = pd.Series ([10.1, 20, 'jay' , 40.4]) # Series created using a list\n",
    "\n",
    "print (My_Series_mixed)"
   ]
  },
  {
   "cell_type": "code",
   "execution_count": 6,
   "metadata": {},
   "outputs": [
    {
     "data": {
      "text/plain": [
       "India      Narendra Modi\n",
       "USA         Donald Trump\n",
       "Japan         Shinzo Abe\n",
       "Russia    Vladimir Putin\n",
       "China          Xi Jinpin\n",
       "dtype: object"
      ]
     },
     "execution_count": 6,
     "metadata": {},
     "output_type": "execute_result"
    }
   ],
   "source": [
    "countries = ['India', 'USA', 'Japan', 'Russia', 'China']\n",
    "leaders = ['Narendra Modi', 'Donald Trump', 'Shinzo Abe', 'Vladimir Putin', 'Xi Jinpin']\n",
    "\n",
    "S = pd.Series (leaders, index=countries) # Index is explicitly defined here \n",
    "S"
   ]
  },
  {
   "cell_type": "code",
   "execution_count": 8,
   "metadata": {},
   "outputs": [
    {
     "name": "stdout",
     "output_type": "stream",
     "text": [
      "Alphabet    100\n",
      "IBM         250\n",
      "Tesla       300\n",
      "Infosys     500\n",
      "dtype: int64\n",
      "\n",
      "\n",
      "Alphabet    500\n",
      "Facebook    700\n",
      "Tesla       110\n",
      "Infosys     700\n",
      "dtype: int64\n",
      "\n",
      "\n",
      "Alphabet     600.0\n",
      "Facebook       NaN\n",
      "IBM            NaN\n",
      "Infosys     1200.0\n",
      "Tesla        410.0\n",
      "dtype: float64\n"
     ]
    }
   ],
   "source": [
    "stocks_set1 = ['Alphabet', 'IBM', 'Tesla', 'Infosys']\n",
    "stocks_set2 = ['Alphabet', 'Facebook', 'Tesla', 'Infosys']\n",
    "\n",
    "S3 = pd.Series([100, 250, 300, 500], index = stocks_set1)\n",
    "S4 = pd.Series([500, 700, 110, 700], index = stocks_set2)\n",
    "\n",
    "\n",
    "print (S3)\n",
    "print(\"\\n\")\n",
    "\n",
    "print (S4)\n",
    "print(\"\\n\")\n",
    "\n",
    "print(S3+S4)"
   ]
  },
  {
   "cell_type": "code",
   "execution_count": 9,
   "metadata": {},
   "outputs": [
    {
     "data": {
      "text/plain": [
       "Alphabet    False\n",
       "Facebook     True\n",
       "IBM          True\n",
       "Infosys     False\n",
       "Tesla       False\n",
       "dtype: bool"
      ]
     },
     "execution_count": 9,
     "metadata": {},
     "output_type": "execute_result"
    }
   ],
   "source": [
    "(S3 + S4).isnull()"
   ]
  },
  {
   "cell_type": "code",
   "execution_count": 10,
   "metadata": {},
   "outputs": [
    {
     "name": "stdout",
     "output_type": "stream",
     "text": [
      "Alphabet     600.0\n",
      "Infosys     1200.0\n",
      "Tesla        410.0\n",
      "dtype: float64\n"
     ]
    }
   ],
   "source": [
    "print ((S3 + S4).dropna())"
   ]
  },
  {
   "cell_type": "code",
   "execution_count": 13,
   "metadata": {},
   "outputs": [
    {
     "data": {
      "text/plain": [
       "0   -0.544021\n",
       "1    0.912945\n",
       "2   -0.988032\n",
       "3    0.745113\n",
       "4   -0.262375\n",
       "5   -0.304811\n",
       "dtype: float64"
      ]
     },
     "execution_count": 13,
     "metadata": {},
     "output_type": "execute_result"
    }
   ],
   "source": [
    "My_Series = pd.Series([10, 20, 30, 40, 50, 60]) \n",
    "\n",
    "My_Series.apply(np.sin) # Find 'sine' of each value in the series"
   ]
  },
  {
   "cell_type": "code",
   "execution_count": null,
   "metadata": {},
   "outputs": [],
   "source": []
  }
 ],
 "metadata": {
  "kernelspec": {
   "display_name": "Python 3",
   "language": "python",
   "name": "python3"
  },
  "language_info": {
   "codemirror_mode": {
    "name": "ipython",
    "version": 3
   },
   "file_extension": ".py",
   "mimetype": "text/x-python",
   "name": "python",
   "nbconvert_exporter": "python",
   "pygments_lexer": "ipython3",
   "version": "3.6.6"
  }
 },
 "nbformat": 4,
 "nbformat_minor": 2
}
