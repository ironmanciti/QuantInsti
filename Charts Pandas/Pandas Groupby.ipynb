{
 "cells": [
  {
   "cell_type": "markdown",
   "metadata": {},
   "source": [
    "a. Aggregation − Computing a summary statistic. Eg: Compute group sums or means.\n",
    "\n",
    "b. Transformation − perform some group-specific operation. Eg: Standarizing data (computing zscore) within the group.\n",
    "\n",
    "c. Filtration − discarding the data with some condition."
   ]
  },
  {
   "cell_type": "code",
   "execution_count": 2,
   "metadata": {},
   "outputs": [
    {
     "data": {
      "text/html": [
       "<div>\n",
       "<style scoped>\n",
       "    .dataframe tbody tr th:only-of-type {\n",
       "        vertical-align: middle;\n",
       "    }\n",
       "\n",
       "    .dataframe tbody tr th {\n",
       "        vertical-align: top;\n",
       "    }\n",
       "\n",
       "    .dataframe thead th {\n",
       "        text-align: right;\n",
       "    }\n",
       "</style>\n",
       "<table border=\"1\" class=\"dataframe\">\n",
       "  <thead>\n",
       "    <tr style=\"text-align: right;\">\n",
       "      <th></th>\n",
       "      <th>Sector</th>\n",
       "      <th>Company</th>\n",
       "      <th>MarketCap</th>\n",
       "      <th>Share Price</th>\n",
       "      <th>Amount Invested</th>\n",
       "    </tr>\n",
       "  </thead>\n",
       "  <tbody>\n",
       "    <tr>\n",
       "      <th>0</th>\n",
       "      <td>IT</td>\n",
       "      <td>Infosys</td>\n",
       "      <td>Large Cap</td>\n",
       "      <td>1120</td>\n",
       "      <td>24000</td>\n",
       "    </tr>\n",
       "    <tr>\n",
       "      <th>1</th>\n",
       "      <td>FMCG</td>\n",
       "      <td>Dabur</td>\n",
       "      <td>Large Cap</td>\n",
       "      <td>341</td>\n",
       "      <td>16000</td>\n",
       "    </tr>\n",
       "    <tr>\n",
       "      <th>2</th>\n",
       "      <td>Finance</td>\n",
       "      <td>DHFL</td>\n",
       "      <td>Mid Cap</td>\n",
       "      <td>610</td>\n",
       "      <td>50000</td>\n",
       "    </tr>\n",
       "    <tr>\n",
       "      <th>3</th>\n",
       "      <td>Pharma</td>\n",
       "      <td>Divis Lab</td>\n",
       "      <td>Mid Cap</td>\n",
       "      <td>1123</td>\n",
       "      <td>23000</td>\n",
       "    </tr>\n",
       "    <tr>\n",
       "      <th>4</th>\n",
       "      <td>Pharma</td>\n",
       "      <td>Lupin</td>\n",
       "      <td>Mid Cap</td>\n",
       "      <td>741</td>\n",
       "      <td>45000</td>\n",
       "    </tr>\n",
       "    <tr>\n",
       "      <th>5</th>\n",
       "      <td>FMCG</td>\n",
       "      <td>Ruchira Papers</td>\n",
       "      <td>Small Cap</td>\n",
       "      <td>185</td>\n",
       "      <td>12000</td>\n",
       "    </tr>\n",
       "    <tr>\n",
       "      <th>6</th>\n",
       "      <td>FMCG</td>\n",
       "      <td>Britianna</td>\n",
       "      <td>Mid Cap</td>\n",
       "      <td>5351</td>\n",
       "      <td>52000</td>\n",
       "    </tr>\n",
       "    <tr>\n",
       "      <th>7</th>\n",
       "      <td>IT</td>\n",
       "      <td>Persistent Systems</td>\n",
       "      <td>Small Cap</td>\n",
       "      <td>720</td>\n",
       "      <td>18000</td>\n",
       "    </tr>\n",
       "    <tr>\n",
       "      <th>8</th>\n",
       "      <td>Finance</td>\n",
       "      <td>Bajaj Finance</td>\n",
       "      <td>Large Cap</td>\n",
       "      <td>1937</td>\n",
       "      <td>5000</td>\n",
       "    </tr>\n",
       "    <tr>\n",
       "      <th>9</th>\n",
       "      <td>Real Estate</td>\n",
       "      <td>DLF</td>\n",
       "      <td>Mid Cap</td>\n",
       "      <td>217</td>\n",
       "      <td>3500</td>\n",
       "    </tr>\n",
       "  </tbody>\n",
       "</table>\n",
       "</div>"
      ],
      "text/plain": [
       "        Sector             Company  MarketCap  Share Price  Amount Invested\n",
       "0           IT             Infosys  Large Cap         1120            24000\n",
       "1         FMCG               Dabur  Large Cap          341            16000\n",
       "2      Finance                DHFL    Mid Cap          610            50000\n",
       "3       Pharma           Divis Lab    Mid Cap         1123            23000\n",
       "4       Pharma               Lupin    Mid Cap          741            45000\n",
       "5         FMCG      Ruchira Papers  Small Cap          185            12000\n",
       "6         FMCG           Britianna    Mid Cap         5351            52000\n",
       "7           IT  Persistent Systems  Small Cap          720            18000\n",
       "8      Finance       Bajaj Finance  Large Cap         1937             5000\n",
       "9  Real Estate                 DLF    Mid Cap          217             3500"
      ]
     },
     "execution_count": 2,
     "metadata": {},
     "output_type": "execute_result"
    }
   ],
   "source": [
    "# Creating a data frame\n",
    "\n",
    "import pandas as pd\n",
    "\n",
    "my_portfolio = {'Sector': ['IT', 'FMCG', 'Finance', 'Pharma', 'Pharma',\n",
    "                          'FMCG', 'FMCG', 'IT', 'Finance', 'Real Estate'],\n",
    "            \n",
    "            'Company':   ['Infosys', 'Dabur', 'DHFL', 'Divis Lab', 'Lupin',\n",
    "                         'Ruchira Papers', 'Britianna','Persistent Systems','Bajaj Finance', 'DLF'],\n",
    "            \n",
    "            'MarketCap': ['Large Cap','Large Cap','Mid Cap','Mid Cap','Mid Cap',\n",
    "                         'Small Cap','Mid Cap','Small Cap','Large Cap','Mid Cap'],\n",
    "            \n",
    "            'Share Price': [1120,341,610,1123,741,185,5351,720,1937,217],\n",
    "                \n",
    "            'Amount Invested': [24000,16000,50000,23000,45000,12000,52000,18000,5000,3500]}\n",
    "\n",
    "mp = pd.DataFrame(my_portfolio)\n",
    "\n",
    "mp"
   ]
  },
  {
   "cell_type": "markdown",
   "metadata": {},
   "source": [
    "# View Groups"
   ]
  },
  {
   "cell_type": "code",
   "execution_count": 3,
   "metadata": {},
   "outputs": [
    {
     "name": "stdout",
     "output_type": "stream",
     "text": [
      "{'Large Cap': Int64Index([0, 1, 8], dtype='int64'), 'Mid Cap': Int64Index([2, 3, 4, 6, 9], dtype='int64'), 'Small Cap': Int64Index([5, 7], dtype='int64')}\n"
     ]
    }
   ],
   "source": [
    "print (mp.groupby('MarketCap').groups)"
   ]
  },
  {
   "cell_type": "code",
   "execution_count": 7,
   "metadata": {},
   "outputs": [
    {
     "data": {
      "text/plain": [
       "{'FMCG': Int64Index([1, 5, 6], dtype='int64'),\n",
       " 'Finance': Int64Index([2, 8], dtype='int64'),\n",
       " 'IT': Int64Index([0, 7], dtype='int64'),\n",
       " 'Pharma': Int64Index([3, 4], dtype='int64'),\n",
       " 'Real Estate': Int64Index([9], dtype='int64')}"
      ]
     },
     "execution_count": 7,
     "metadata": {},
     "output_type": "execute_result"
    }
   ],
   "source": [
    "mp.groupby('Sector').groups"
   ]
  },
  {
   "cell_type": "code",
   "execution_count": 9,
   "metadata": {},
   "outputs": [
    {
     "data": {
      "text/plain": [
       "{('FMCG', 'Large Cap'): Int64Index([1], dtype='int64'),\n",
       " ('FMCG', 'Mid Cap'): Int64Index([6], dtype='int64'),\n",
       " ('FMCG', 'Small Cap'): Int64Index([5], dtype='int64'),\n",
       " ('Finance', 'Large Cap'): Int64Index([8], dtype='int64'),\n",
       " ('Finance', 'Mid Cap'): Int64Index([2], dtype='int64'),\n",
       " ('IT', 'Large Cap'): Int64Index([0], dtype='int64'),\n",
       " ('IT', 'Small Cap'): Int64Index([7], dtype='int64'),\n",
       " ('Pharma', 'Mid Cap'): Int64Index([3, 4], dtype='int64'),\n",
       " ('Real Estate', 'Mid Cap'): Int64Index([9], dtype='int64')}"
      ]
     },
     "execution_count": 9,
     "metadata": {},
     "output_type": "execute_result"
    }
   ],
   "source": [
    "mp.groupby(['Sector', 'MarketCap']).groups"
   ]
  },
  {
   "cell_type": "code",
   "execution_count": 10,
   "metadata": {},
   "outputs": [
    {
     "name": "stdout",
     "output_type": "stream",
     "text": [
      "FMCG\n",
      "  Sector         Company  MarketCap  Share Price  Amount Invested\n",
      "1   FMCG           Dabur  Large Cap          341            16000\n",
      "5   FMCG  Ruchira Papers  Small Cap          185            12000\n",
      "6   FMCG       Britianna    Mid Cap         5351            52000\n",
      "Finance\n",
      "    Sector        Company  MarketCap  Share Price  Amount Invested\n",
      "2  Finance           DHFL    Mid Cap          610            50000\n",
      "8  Finance  Bajaj Finance  Large Cap         1937             5000\n",
      "IT\n",
      "  Sector             Company  MarketCap  Share Price  Amount Invested\n",
      "0     IT             Infosys  Large Cap         1120            24000\n",
      "7     IT  Persistent Systems  Small Cap          720            18000\n",
      "Pharma\n",
      "   Sector    Company MarketCap  Share Price  Amount Invested\n",
      "3  Pharma  Divis Lab   Mid Cap         1123            23000\n",
      "4  Pharma      Lupin   Mid Cap          741            45000\n",
      "Real Estate\n",
      "        Sector Company MarketCap  Share Price  Amount Invested\n",
      "9  Real Estate     DLF   Mid Cap          217             3500\n"
     ]
    }
   ],
   "source": [
    "grouped = mp.groupby('Sector')\n",
    "\n",
    "for name,group in grouped: \n",
    "    print (name)\n",
    "    print (group)"
   ]
  },
  {
   "cell_type": "code",
   "execution_count": 11,
   "metadata": {},
   "outputs": [
    {
     "name": "stdout",
     "output_type": "stream",
     "text": [
      "Large Cap\n",
      "    Sector        Company  MarketCap  Share Price  Amount Invested\n",
      "0       IT        Infosys  Large Cap         1120            24000\n",
      "1     FMCG          Dabur  Large Cap          341            16000\n",
      "8  Finance  Bajaj Finance  Large Cap         1937             5000\n",
      "Mid Cap\n",
      "        Sector    Company MarketCap  Share Price  Amount Invested\n",
      "2      Finance       DHFL   Mid Cap          610            50000\n",
      "3       Pharma  Divis Lab   Mid Cap         1123            23000\n",
      "4       Pharma      Lupin   Mid Cap          741            45000\n",
      "6         FMCG  Britianna   Mid Cap         5351            52000\n",
      "9  Real Estate        DLF   Mid Cap          217             3500\n",
      "Small Cap\n",
      "  Sector             Company  MarketCap  Share Price  Amount Invested\n",
      "5   FMCG      Ruchira Papers  Small Cap          185            12000\n",
      "7     IT  Persistent Systems  Small Cap          720            18000\n"
     ]
    }
   ],
   "source": [
    "grouped = mp.groupby('MarketCap')\n",
    "\n",
    "for name,group in grouped:  # We will learn 'for' loop in further sections. It is usually used for iterations \n",
    "    print (name)\n",
    "    print (group)"
   ]
  },
  {
   "cell_type": "code",
   "execution_count": 12,
   "metadata": {},
   "outputs": [
    {
     "name": "stdout",
     "output_type": "stream",
     "text": [
      "MarketCap\n",
      "Large Cap    15000\n",
      "Mid Cap      34700\n",
      "Small Cap    15000\n",
      "Name: Amount Invested, dtype: int64\n"
     ]
    }
   ],
   "source": [
    "import numpy as np\n",
    "\n",
    "grouped = mp.groupby('MarketCap')\n",
    "\n",
    "print (grouped['Amount Invested'].agg(np.mean))"
   ]
  },
  {
   "cell_type": "code",
   "execution_count": 13,
   "metadata": {},
   "outputs": [
    {
     "name": "stdout",
     "output_type": "stream",
     "text": [
      "           Sector  Company  Share Price  Amount Invested\n",
      "MarketCap                                               \n",
      "Large Cap       3        3            3                3\n",
      "Mid Cap         5        5            5                5\n",
      "Small Cap       2        2            2                2\n"
     ]
    }
   ],
   "source": [
    "grouped = mp.groupby('MarketCap')\n",
    "\n",
    "print (grouped.agg(np.size))"
   ]
  },
  {
   "cell_type": "code",
   "execution_count": 14,
   "metadata": {},
   "outputs": [
    {
     "name": "stdout",
     "output_type": "stream",
     "text": [
      "              sum   mean\n",
      "MarketCap               \n",
      "Large Cap   45000  15000\n",
      "Mid Cap    173500  34700\n",
      "Small Cap   30000  15000\n"
     ]
    }
   ],
   "source": [
    "# Applying multiple aggregation functions at once\n",
    "\n",
    "grouped = mp.groupby('MarketCap')\n",
    "\n",
    "print (grouped['Amount Invested'].agg([np.sum, np.mean]))"
   ]
  },
  {
   "cell_type": "markdown",
   "metadata": {},
   "source": [
    "# groupby object 에는 transform 을 사용한다"
   ]
  },
  {
   "cell_type": "code",
   "execution_count": 21,
   "metadata": {},
   "outputs": [
    {
     "name": "stdout",
     "output_type": "stream",
     "text": [
      "   Share Price  Amount Invested\n",
      "0    -0.015872         0.943456\n",
      "1    -0.991970         0.104828\n",
      "2    -0.471596         0.731522\n",
      "3    -0.229280        -0.559399\n",
      "4    -0.409718         0.492462\n",
      "5    -0.707107        -0.707107\n",
      "6     1.767825         0.827145\n",
      "7     0.707107         0.707107\n",
      "8     1.007841        -1.048285\n",
      "9    -0.657231        -1.491731\n"
     ]
    }
   ],
   "source": [
    "grouped = mp.groupby('MarketCap')\n",
    "\n",
    "z_score = lambda x: (x - x.mean()) / x.std()\n",
    "\n",
    "print (grouped.transform(z_score))"
   ]
  },
  {
   "cell_type": "code",
   "execution_count": 22,
   "metadata": {},
   "outputs": [
    {
     "data": {
      "text/plain": [
       "0    112000\n",
       "1     34100\n",
       "2     61000\n",
       "3    112300\n",
       "4     74100\n",
       "5     18500\n",
       "6    535100\n",
       "7     72000\n",
       "8    193700\n",
       "9     21700\n",
       "Name: Share Price, dtype: int64"
      ]
     },
     "execution_count": 22,
     "metadata": {},
     "output_type": "execute_result"
    }
   ],
   "source": [
    "mp['Share Price'].apply(lambda x: x*100)"
   ]
  },
  {
   "cell_type": "code",
   "execution_count": 23,
   "metadata": {},
   "outputs": [
    {
     "name": "stdout",
     "output_type": "stream",
     "text": [
      "        Sector        Company  MarketCap  Share Price  Amount Invested\n",
      "0           IT        Infosys  Large Cap         1120            24000\n",
      "1         FMCG          Dabur  Large Cap          341            16000\n",
      "2      Finance           DHFL    Mid Cap          610            50000\n",
      "3       Pharma      Divis Lab    Mid Cap         1123            23000\n",
      "4       Pharma          Lupin    Mid Cap          741            45000\n",
      "6         FMCG      Britianna    Mid Cap         5351            52000\n",
      "8      Finance  Bajaj Finance  Large Cap         1937             5000\n",
      "9  Real Estate            DLF    Mid Cap          217             3500\n"
     ]
    }
   ],
   "source": [
    "print (mp.groupby('MarketCap').filter(lambda x: len(x)>= 3))"
   ]
  },
  {
   "cell_type": "markdown",
   "metadata": {},
   "source": [
    "# Merge / Join"
   ]
  },
  {
   "cell_type": "code",
   "execution_count": 25,
   "metadata": {},
   "outputs": [],
   "source": [
    "import pandas as pd\n",
    "\n",
    "\n",
    "left_df = pd.DataFrame({\n",
    "         'id':[1,2,3,4,5],\n",
    "         'Company': ['Infosys', 'SBI', 'Asian Paints', 'Maruti', 'Sun Pharma'],\n",
    "         'Sector':['IT','Banks','Paints and Varnishes','Auto','Pharma']})\n",
    "\n",
    "right_df = pd.DataFrame(\n",
    "         {'id':[1,2,3,4,5],\n",
    "         'Company': ['NTPC', 'TCS', 'Lupin', 'ICICI', 'M&M'],\n",
    "         'Sector':['Power','IT','Pharma','Banks','Auto']})"
   ]
  },
  {
   "cell_type": "code",
   "execution_count": 26,
   "metadata": {},
   "outputs": [
    {
     "data": {
      "text/html": [
       "<div>\n",
       "<style scoped>\n",
       "    .dataframe tbody tr th:only-of-type {\n",
       "        vertical-align: middle;\n",
       "    }\n",
       "\n",
       "    .dataframe tbody tr th {\n",
       "        vertical-align: top;\n",
       "    }\n",
       "\n",
       "    .dataframe thead th {\n",
       "        text-align: right;\n",
       "    }\n",
       "</style>\n",
       "<table border=\"1\" class=\"dataframe\">\n",
       "  <thead>\n",
       "    <tr style=\"text-align: right;\">\n",
       "      <th></th>\n",
       "      <th>id</th>\n",
       "      <th>Company</th>\n",
       "      <th>Sector</th>\n",
       "    </tr>\n",
       "  </thead>\n",
       "  <tbody>\n",
       "    <tr>\n",
       "      <th>0</th>\n",
       "      <td>1</td>\n",
       "      <td>Infosys</td>\n",
       "      <td>IT</td>\n",
       "    </tr>\n",
       "    <tr>\n",
       "      <th>1</th>\n",
       "      <td>2</td>\n",
       "      <td>SBI</td>\n",
       "      <td>Banks</td>\n",
       "    </tr>\n",
       "    <tr>\n",
       "      <th>2</th>\n",
       "      <td>3</td>\n",
       "      <td>Asian Paints</td>\n",
       "      <td>Paints and Varnishes</td>\n",
       "    </tr>\n",
       "    <tr>\n",
       "      <th>3</th>\n",
       "      <td>4</td>\n",
       "      <td>Maruti</td>\n",
       "      <td>Auto</td>\n",
       "    </tr>\n",
       "    <tr>\n",
       "      <th>4</th>\n",
       "      <td>5</td>\n",
       "      <td>Sun Pharma</td>\n",
       "      <td>Pharma</td>\n",
       "    </tr>\n",
       "  </tbody>\n",
       "</table>\n",
       "</div>"
      ],
      "text/plain": [
       "   id       Company                Sector\n",
       "0   1       Infosys                    IT\n",
       "1   2           SBI                 Banks\n",
       "2   3  Asian Paints  Paints and Varnishes\n",
       "3   4        Maruti                  Auto\n",
       "4   5    Sun Pharma                Pharma"
      ]
     },
     "execution_count": 26,
     "metadata": {},
     "output_type": "execute_result"
    }
   ],
   "source": [
    "left_df"
   ]
  },
  {
   "cell_type": "code",
   "execution_count": 27,
   "metadata": {},
   "outputs": [
    {
     "data": {
      "text/html": [
       "<div>\n",
       "<style scoped>\n",
       "    .dataframe tbody tr th:only-of-type {\n",
       "        vertical-align: middle;\n",
       "    }\n",
       "\n",
       "    .dataframe tbody tr th {\n",
       "        vertical-align: top;\n",
       "    }\n",
       "\n",
       "    .dataframe thead th {\n",
       "        text-align: right;\n",
       "    }\n",
       "</style>\n",
       "<table border=\"1\" class=\"dataframe\">\n",
       "  <thead>\n",
       "    <tr style=\"text-align: right;\">\n",
       "      <th></th>\n",
       "      <th>id</th>\n",
       "      <th>Company</th>\n",
       "      <th>Sector</th>\n",
       "    </tr>\n",
       "  </thead>\n",
       "  <tbody>\n",
       "    <tr>\n",
       "      <th>0</th>\n",
       "      <td>1</td>\n",
       "      <td>NTPC</td>\n",
       "      <td>Power</td>\n",
       "    </tr>\n",
       "    <tr>\n",
       "      <th>1</th>\n",
       "      <td>2</td>\n",
       "      <td>TCS</td>\n",
       "      <td>IT</td>\n",
       "    </tr>\n",
       "    <tr>\n",
       "      <th>2</th>\n",
       "      <td>3</td>\n",
       "      <td>Lupin</td>\n",
       "      <td>Pharma</td>\n",
       "    </tr>\n",
       "    <tr>\n",
       "      <th>3</th>\n",
       "      <td>4</td>\n",
       "      <td>ICICI</td>\n",
       "      <td>Banks</td>\n",
       "    </tr>\n",
       "    <tr>\n",
       "      <th>4</th>\n",
       "      <td>5</td>\n",
       "      <td>M&amp;M</td>\n",
       "      <td>Auto</td>\n",
       "    </tr>\n",
       "  </tbody>\n",
       "</table>\n",
       "</div>"
      ],
      "text/plain": [
       "   id Company  Sector\n",
       "0   1    NTPC   Power\n",
       "1   2     TCS      IT\n",
       "2   3   Lupin  Pharma\n",
       "3   4   ICICI   Banks\n",
       "4   5     M&M    Auto"
      ]
     },
     "execution_count": 27,
     "metadata": {},
     "output_type": "execute_result"
    }
   ],
   "source": [
    "right_df"
   ]
  },
  {
   "cell_type": "markdown",
   "metadata": {},
   "source": [
    "# Join"
   ]
  },
  {
   "cell_type": "code",
   "execution_count": 28,
   "metadata": {},
   "outputs": [
    {
     "name": "stdout",
     "output_type": "stream",
     "text": [
      "   id     Company_x              Sector_x Company_y Sector_y\n",
      "0   1       Infosys                    IT      NTPC    Power\n",
      "1   2           SBI                 Banks       TCS       IT\n",
      "2   3  Asian Paints  Paints and Varnishes     Lupin   Pharma\n",
      "3   4        Maruti                  Auto     ICICI    Banks\n",
      "4   5    Sun Pharma                Pharma       M&M     Auto\n"
     ]
    }
   ],
   "source": [
    "print (pd.merge(left_df,right_df, on='id'))"
   ]
  },
  {
   "cell_type": "code",
   "execution_count": 29,
   "metadata": {},
   "outputs": [
    {
     "name": "stdout",
     "output_type": "stream",
     "text": [
      "   id_x   Company_x  Sector  id_y Company_y\n",
      "0     1     Infosys      IT     2       TCS\n",
      "1     2         SBI   Banks     4     ICICI\n",
      "2     4      Maruti    Auto     5       M&M\n",
      "3     5  Sun Pharma  Pharma     3     Lupin\n"
     ]
    }
   ],
   "source": [
    "print (pd.merge(left_df,right_df, on='Sector'))"
   ]
  },
  {
   "cell_type": "code",
   "execution_count": 30,
   "metadata": {},
   "outputs": [
    {
     "name": "stdout",
     "output_type": "stream",
     "text": [
      "Empty DataFrame\n",
      "Columns: [id_x, Company, Sector, id_y]\n",
      "Index: []\n"
     ]
    }
   ],
   "source": [
    "print (pd.merge(left_df,right_df,on=['Sector','Company']))"
   ]
  },
  {
   "cell_type": "code",
   "execution_count": 31,
   "metadata": {},
   "outputs": [
    {
     "name": "stdout",
     "output_type": "stream",
     "text": [
      "   id_x     Company_x                Sector  id_y Company_y\n",
      "0     1       Infosys                    IT   2.0       TCS\n",
      "1     2           SBI                 Banks   4.0     ICICI\n",
      "2     3  Asian Paints  Paints and Varnishes   NaN       NaN\n",
      "3     4        Maruti                  Auto   5.0       M&M\n",
      "4     5    Sun Pharma                Pharma   3.0     Lupin\n"
     ]
    }
   ],
   "source": [
    "# Left join\n",
    "\n",
    "print (pd.merge(left_df, right_df, on='Sector', how='left'))"
   ]
  },
  {
   "cell_type": "code",
   "execution_count": 34,
   "metadata": {},
   "outputs": [
    {
     "name": "stdout",
     "output_type": "stream",
     "text": [
      "   id_x     Company_x                Sector  id_y Company_y\n",
      "0   1.0       Infosys                    IT   2.0       TCS\n",
      "1   2.0           SBI                 Banks   4.0     ICICI\n",
      "2   3.0  Asian Paints  Paints and Varnishes   NaN       NaN\n",
      "3   4.0        Maruti                  Auto   5.0       M&M\n",
      "4   5.0    Sun Pharma                Pharma   3.0     Lupin\n",
      "5   NaN           NaN                 Power   1.0      NTPC\n"
     ]
    }
   ],
   "source": [
    "# Outer join\n",
    "\n",
    "print (pd.merge(left_df, right_df, how='outer', on='Sector'))"
   ]
  },
  {
   "cell_type": "code",
   "execution_count": 35,
   "metadata": {},
   "outputs": [
    {
     "name": "stdout",
     "output_type": "stream",
     "text": [
      "   id_x   Company_x  Sector  id_y Company_y\n",
      "0     1     Infosys      IT     2       TCS\n",
      "1     2         SBI   Banks     4     ICICI\n",
      "2     4      Maruti    Auto     5       M&M\n",
      "3     5  Sun Pharma  Pharma     3     Lupin\n"
     ]
    }
   ],
   "source": [
    "# Inner Join\n",
    "\n",
    "print (pd.merge(left_df, right_df, on='Sector', how='inner'))"
   ]
  },
  {
   "cell_type": "markdown",
   "metadata": {},
   "source": [
    "# Concatenate"
   ]
  },
  {
   "cell_type": "code",
   "execution_count": 36,
   "metadata": {},
   "outputs": [
    {
     "name": "stdout",
     "output_type": "stream",
     "text": [
      "   id       Company                Sector\n",
      "0   1       Infosys                    IT\n",
      "1   2           SBI                 Banks\n",
      "2   3  Asian Paints  Paints and Varnishes\n",
      "3   4        Maruti                  Auto\n",
      "4   5    Sun Pharma                Pharma\n",
      "0   1          NTPC                 Power\n",
      "1   2           TCS                    IT\n",
      "2   3         Lupin                Pharma\n",
      "3   4         ICICI                 Banks\n",
      "4   5           M&M                  Auto\n"
     ]
    }
   ],
   "source": [
    "print (pd.concat([left_df,right_df]))"
   ]
  },
  {
   "cell_type": "code",
   "execution_count": 37,
   "metadata": {},
   "outputs": [
    {
     "name": "stdout",
     "output_type": "stream",
     "text": [
      "     id       Company                Sector\n",
      "x 0   1       Infosys                    IT\n",
      "  1   2           SBI                 Banks\n",
      "  2   3  Asian Paints  Paints and Varnishes\n",
      "  3   4        Maruti                  Auto\n",
      "  4   5    Sun Pharma                Pharma\n",
      "y 0   1          NTPC                 Power\n",
      "  1   2           TCS                    IT\n",
      "  2   3         Lupin                Pharma\n",
      "  3   4         ICICI                 Banks\n",
      "  4   5           M&M                  Auto\n"
     ]
    }
   ],
   "source": [
    "print (pd.concat([left_df, right_df],keys=['x','y']))"
   ]
  },
  {
   "cell_type": "code",
   "execution_count": 38,
   "metadata": {},
   "outputs": [
    {
     "name": "stdout",
     "output_type": "stream",
     "text": [
      "   id       Company                Sector\n",
      "0   1       Infosys                    IT\n",
      "1   2           SBI                 Banks\n",
      "2   3  Asian Paints  Paints and Varnishes\n",
      "3   4        Maruti                  Auto\n",
      "4   5    Sun Pharma                Pharma\n",
      "5   1          NTPC                 Power\n",
      "6   2           TCS                    IT\n",
      "7   3         Lupin                Pharma\n",
      "8   4         ICICI                 Banks\n",
      "9   5           M&M                  Auto\n"
     ]
    }
   ],
   "source": [
    "print (pd.concat([left_df,right_df],ignore_index=True))"
   ]
  },
  {
   "cell_type": "code",
   "execution_count": 39,
   "metadata": {},
   "outputs": [
    {
     "name": "stdout",
     "output_type": "stream",
     "text": [
      "   id       Company                Sector  id Company  Sector\n",
      "0   1       Infosys                    IT   1    NTPC   Power\n",
      "1   2           SBI                 Banks   2     TCS      IT\n",
      "2   3  Asian Paints  Paints and Varnishes   3   Lupin  Pharma\n",
      "3   4        Maruti                  Auto   4   ICICI   Banks\n",
      "4   5    Sun Pharma                Pharma   5     M&M    Auto\n"
     ]
    }
   ],
   "source": [
    "print (pd.concat([left_df,right_df],axis=1))"
   ]
  },
  {
   "cell_type": "code",
   "execution_count": 40,
   "metadata": {},
   "outputs": [
    {
     "name": "stdout",
     "output_type": "stream",
     "text": [
      "   id       Company                Sector\n",
      "0   1       Infosys                    IT\n",
      "1   2           SBI                 Banks\n",
      "2   3  Asian Paints  Paints and Varnishes\n",
      "3   4        Maruti                  Auto\n",
      "4   5    Sun Pharma                Pharma\n",
      "0   1          NTPC                 Power\n",
      "1   2           TCS                    IT\n",
      "2   3         Lupin                Pharma\n",
      "3   4         ICICI                 Banks\n",
      "4   5           M&M                  Auto\n"
     ]
    }
   ],
   "source": [
    "print (left_df.append(right_df))"
   ]
  },
  {
   "cell_type": "code",
   "execution_count": 41,
   "metadata": {},
   "outputs": [
    {
     "name": "stdout",
     "output_type": "stream",
     "text": [
      "   id       Company                Sector\n",
      "0   1       Infosys                    IT\n",
      "1   2           SBI                 Banks\n",
      "2   3  Asian Paints  Paints and Varnishes\n",
      "3   4        Maruti                  Auto\n",
      "4   5    Sun Pharma                Pharma\n",
      "0   1          NTPC                 Power\n",
      "1   2           TCS                    IT\n",
      "2   3         Lupin                Pharma\n",
      "3   4         ICICI                 Banks\n",
      "4   5           M&M                  Auto\n",
      "0   1       Infosys                    IT\n",
      "1   2           SBI                 Banks\n",
      "2   3  Asian Paints  Paints and Varnishes\n",
      "3   4        Maruti                  Auto\n",
      "4   5    Sun Pharma                Pharma\n",
      "0   1          NTPC                 Power\n",
      "1   2           TCS                    IT\n",
      "2   3         Lupin                Pharma\n",
      "3   4         ICICI                 Banks\n",
      "4   5           M&M                  Auto\n"
     ]
    }
   ],
   "source": [
    "print (left_df.append([right_df,left_df, right_df]))"
   ]
  },
  {
   "cell_type": "code",
   "execution_count": null,
   "metadata": {},
   "outputs": [],
   "source": []
  }
 ],
 "metadata": {
  "kernelspec": {
   "display_name": "Python 3",
   "language": "python",
   "name": "python3"
  },
  "language_info": {
   "codemirror_mode": {
    "name": "ipython",
    "version": 3
   },
   "file_extension": ".py",
   "mimetype": "text/x-python",
   "name": "python",
   "nbconvert_exporter": "python",
   "pygments_lexer": "ipython3",
   "version": "3.5.5"
  }
 },
 "nbformat": 4,
 "nbformat_minor": 2
}
