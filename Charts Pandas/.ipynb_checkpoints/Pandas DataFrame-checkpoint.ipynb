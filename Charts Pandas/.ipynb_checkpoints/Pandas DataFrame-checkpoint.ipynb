{
 "cells": [
  {
   "cell_type": "code",
   "execution_count": 1,
   "metadata": {},
   "outputs": [
    {
     "data": {
      "text/html": [
       "<div>\n",
       "<style scoped>\n",
       "    .dataframe tbody tr th:only-of-type {\n",
       "        vertical-align: middle;\n",
       "    }\n",
       "\n",
       "    .dataframe tbody tr th {\n",
       "        vertical-align: top;\n",
       "    }\n",
       "\n",
       "    .dataframe thead th {\n",
       "        text-align: right;\n",
       "    }\n",
       "</style>\n",
       "<table border=\"1\" class=\"dataframe\">\n",
       "  <thead>\n",
       "    <tr style=\"text-align: right;\">\n",
       "      <th></th>\n",
       "      <th>stock_name</th>\n",
       "      <th>quantity_owned</th>\n",
       "      <th>average_buy_price</th>\n",
       "    </tr>\n",
       "  </thead>\n",
       "  <tbody>\n",
       "    <tr>\n",
       "      <th>0</th>\n",
       "      <td>Alphabet</td>\n",
       "      <td>1564</td>\n",
       "      <td>$950</td>\n",
       "    </tr>\n",
       "    <tr>\n",
       "      <th>1</th>\n",
       "      <td>Facebook</td>\n",
       "      <td>6546</td>\n",
       "      <td>$160</td>\n",
       "    </tr>\n",
       "    <tr>\n",
       "      <th>2</th>\n",
       "      <td>Apple</td>\n",
       "      <td>5464</td>\n",
       "      <td>$120</td>\n",
       "    </tr>\n",
       "    <tr>\n",
       "      <th>3</th>\n",
       "      <td>Tesla</td>\n",
       "      <td>6513</td>\n",
       "      <td>$270</td>\n",
       "    </tr>\n",
       "    <tr>\n",
       "      <th>4</th>\n",
       "      <td>Infosys</td>\n",
       "      <td>4155</td>\n",
       "      <td>$15</td>\n",
       "    </tr>\n",
       "  </tbody>\n",
       "</table>\n",
       "</div>"
      ],
      "text/plain": [
       "  stock_name  quantity_owned average_buy_price\n",
       "0   Alphabet            1564              $950\n",
       "1   Facebook            6546              $160\n",
       "2      Apple            5464              $120\n",
       "3      Tesla            6513              $270\n",
       "4    Infosys            4155               $15"
      ]
     },
     "execution_count": 1,
     "metadata": {},
     "output_type": "execute_result"
    }
   ],
   "source": [
    "import pandas as pd\n",
    "import numpy as np\n",
    "\n",
    "# A DataFrame has a row and a column index\n",
    "\n",
    "my_portfolio = {\n",
    "                \"stock_name\": [\"Alphabet\", \"Facebook\", \"Apple\", \"Tesla\", \"Infosys\"],\n",
    "                \"quantity_owned\": [1564, 6546, 5464, 6513, 4155],\n",
    "                \"average_buy_price\": [\"$950\", \"$160\", \"$120\", \"$270\", \"$15\"]\n",
    "               } \n",
    "\n",
    "my_portfolio_frame = pd.DataFrame (my_portfolio) # We have passed the 'data' argument in the Data Frame constructor\n",
    "\n",
    "my_portfolio_frame #This is a dataframe"
   ]
  },
  {
   "cell_type": "code",
   "execution_count": 2,
   "metadata": {},
   "outputs": [
    {
     "data": {
      "text/html": [
       "<div>\n",
       "<style scoped>\n",
       "    .dataframe tbody tr th:only-of-type {\n",
       "        vertical-align: middle;\n",
       "    }\n",
       "\n",
       "    .dataframe tbody tr th {\n",
       "        vertical-align: top;\n",
       "    }\n",
       "\n",
       "    .dataframe thead th {\n",
       "        text-align: right;\n",
       "    }\n",
       "</style>\n",
       "<table border=\"1\" class=\"dataframe\">\n",
       "  <thead>\n",
       "    <tr style=\"text-align: right;\">\n",
       "      <th></th>\n",
       "      <th>stock_name</th>\n",
       "      <th>quantity_owned</th>\n",
       "      <th>average_buy_price</th>\n",
       "    </tr>\n",
       "  </thead>\n",
       "  <tbody>\n",
       "    <tr>\n",
       "      <th>first</th>\n",
       "      <td>Alphabet</td>\n",
       "      <td>1564</td>\n",
       "      <td>$950</td>\n",
       "    </tr>\n",
       "    <tr>\n",
       "      <th>second</th>\n",
       "      <td>Facebook</td>\n",
       "      <td>6546</td>\n",
       "      <td>$160</td>\n",
       "    </tr>\n",
       "    <tr>\n",
       "      <th>third</th>\n",
       "      <td>Apple</td>\n",
       "      <td>5464</td>\n",
       "      <td>$120</td>\n",
       "    </tr>\n",
       "    <tr>\n",
       "      <th>fourth</th>\n",
       "      <td>Tesla</td>\n",
       "      <td>6513</td>\n",
       "      <td>$270</td>\n",
       "    </tr>\n",
       "    <tr>\n",
       "      <th>fifth</th>\n",
       "      <td>Infosys</td>\n",
       "      <td>4155</td>\n",
       "      <td>$15</td>\n",
       "    </tr>\n",
       "  </tbody>\n",
       "</table>\n",
       "</div>"
      ],
      "text/plain": [
       "       stock_name  quantity_owned average_buy_price\n",
       "first    Alphabet            1564              $950\n",
       "second   Facebook            6546              $160\n",
       "third       Apple            5464              $120\n",
       "fourth      Tesla            6513              $270\n",
       "fifth     Infosys            4155               $15"
      ]
     },
     "execution_count": 2,
     "metadata": {},
     "output_type": "execute_result"
    }
   ],
   "source": [
    "ordinals = [\"first\", \"second\", \"third\", \"fourth\", \"fifth\"] # list\n",
    "\n",
    "my_portfolio_frame = pd.DataFrame (my_portfolio, index=ordinals) #Please notice that we have not kept index as default i.e.'none'\n",
    "\n",
    "my_portfolio_frame"
   ]
  },
  {
   "cell_type": "code",
   "execution_count": 3,
   "metadata": {},
   "outputs": [
    {
     "data": {
      "text/html": [
       "<div>\n",
       "<style scoped>\n",
       "    .dataframe tbody tr th:only-of-type {\n",
       "        vertical-align: middle;\n",
       "    }\n",
       "\n",
       "    .dataframe tbody tr th {\n",
       "        vertical-align: top;\n",
       "    }\n",
       "\n",
       "    .dataframe thead th {\n",
       "        text-align: right;\n",
       "    }\n",
       "</style>\n",
       "<table border=\"1\" class=\"dataframe\">\n",
       "  <thead>\n",
       "    <tr style=\"text-align: right;\">\n",
       "      <th></th>\n",
       "      <th>stock_name</th>\n",
       "      <th>quantity_owned</th>\n",
       "      <th>average_buy_price</th>\n",
       "    </tr>\n",
       "  </thead>\n",
       "  <tbody>\n",
       "    <tr>\n",
       "      <th>first</th>\n",
       "      <td>Alphabet</td>\n",
       "      <td>1564</td>\n",
       "      <td>$950</td>\n",
       "    </tr>\n",
       "    <tr>\n",
       "      <th>second</th>\n",
       "      <td>Facebook</td>\n",
       "      <td>6546</td>\n",
       "      <td>$160</td>\n",
       "    </tr>\n",
       "    <tr>\n",
       "      <th>third</th>\n",
       "      <td>Apple</td>\n",
       "      <td>5464</td>\n",
       "      <td>$120</td>\n",
       "    </tr>\n",
       "    <tr>\n",
       "      <th>fourth</th>\n",
       "      <td>Tesla</td>\n",
       "      <td>6513</td>\n",
       "      <td>$270</td>\n",
       "    </tr>\n",
       "    <tr>\n",
       "      <th>fifth</th>\n",
       "      <td>Infosys</td>\n",
       "      <td>4155</td>\n",
       "      <td>$15</td>\n",
       "    </tr>\n",
       "  </tbody>\n",
       "</table>\n",
       "</div>"
      ],
      "text/plain": [
       "       stock_name  quantity_owned average_buy_price\n",
       "first    Alphabet            1564              $950\n",
       "second   Facebook            6546              $160\n",
       "third       Apple            5464              $120\n",
       "fourth      Tesla            6513              $270\n",
       "fifth     Infosys            4155               $15"
      ]
     },
     "execution_count": 3,
     "metadata": {},
     "output_type": "execute_result"
    }
   ],
   "source": [
    "my_portfolio_frame = pd.DataFrame(my_portfolio, columns=[\"stock_name\", \"quantity_owned\", \n",
    "                                                \"average_buy_price\"], index=ordinals)\n",
    "\n",
    "my_portfolio_frame"
   ]
  },
  {
   "cell_type": "code",
   "execution_count": 4,
   "metadata": {},
   "outputs": [
    {
     "data": {
      "text/html": [
       "<div>\n",
       "<style scoped>\n",
       "    .dataframe tbody tr th:only-of-type {\n",
       "        vertical-align: middle;\n",
       "    }\n",
       "\n",
       "    .dataframe tbody tr th {\n",
       "        vertical-align: top;\n",
       "    }\n",
       "\n",
       "    .dataframe thead th {\n",
       "        text-align: right;\n",
       "    }\n",
       "</style>\n",
       "<table border=\"1\" class=\"dataframe\">\n",
       "  <thead>\n",
       "    <tr style=\"text-align: right;\">\n",
       "      <th></th>\n",
       "      <th>quantity_owned</th>\n",
       "      <th>average_buy_price</th>\n",
       "    </tr>\n",
       "  </thead>\n",
       "  <tbody>\n",
       "    <tr>\n",
       "      <th>Alphabet</th>\n",
       "      <td>1564</td>\n",
       "      <td>$950</td>\n",
       "    </tr>\n",
       "    <tr>\n",
       "      <th>Facebook</th>\n",
       "      <td>6546</td>\n",
       "      <td>$160</td>\n",
       "    </tr>\n",
       "    <tr>\n",
       "      <th>Apple</th>\n",
       "      <td>5464</td>\n",
       "      <td>$120</td>\n",
       "    </tr>\n",
       "    <tr>\n",
       "      <th>Tesla</th>\n",
       "      <td>6513</td>\n",
       "      <td>$270</td>\n",
       "    </tr>\n",
       "    <tr>\n",
       "      <th>Infosys</th>\n",
       "      <td>4155</td>\n",
       "      <td>$15</td>\n",
       "    </tr>\n",
       "  </tbody>\n",
       "</table>\n",
       "</div>"
      ],
      "text/plain": [
       "          quantity_owned average_buy_price\n",
       "Alphabet            1564              $950\n",
       "Facebook            6546              $160\n",
       "Apple               5464              $120\n",
       "Tesla               6513              $270\n",
       "Infosys             4155               $15"
      ]
     },
     "execution_count": 4,
     "metadata": {},
     "output_type": "execute_result"
    }
   ],
   "source": [
    "my_portfolio_frame = pd.DataFrame (my_portfolio, \n",
    "                                   columns = [\"quantity_owned\",\"average_buy_price\"],\n",
    "                                   index = my_portfolio [\"stock_name\"])\n",
    "\n",
    "my_portfolio_frame"
   ]
  },
  {
   "cell_type": "code",
   "execution_count": 10,
   "metadata": {},
   "outputs": [
    {
     "data": {
      "text/html": [
       "<div>\n",
       "<style scoped>\n",
       "    .dataframe tbody tr th:only-of-type {\n",
       "        vertical-align: middle;\n",
       "    }\n",
       "\n",
       "    .dataframe tbody tr th {\n",
       "        vertical-align: top;\n",
       "    }\n",
       "\n",
       "    .dataframe thead th {\n",
       "        text-align: right;\n",
       "    }\n",
       "</style>\n",
       "<table border=\"1\" class=\"dataframe\">\n",
       "  <thead>\n",
       "    <tr style=\"text-align: right;\">\n",
       "      <th></th>\n",
       "      <th>QTY</th>\n",
       "      <th>Close</th>\n",
       "    </tr>\n",
       "  </thead>\n",
       "  <tbody>\n",
       "    <tr>\n",
       "      <th>Alphabet</th>\n",
       "      <td>1564</td>\n",
       "      <td>$950</td>\n",
       "    </tr>\n",
       "    <tr>\n",
       "      <th>Facebook</th>\n",
       "      <td>6546</td>\n",
       "      <td>$160</td>\n",
       "    </tr>\n",
       "    <tr>\n",
       "      <th>Apple</th>\n",
       "      <td>5464</td>\n",
       "      <td>$120</td>\n",
       "    </tr>\n",
       "    <tr>\n",
       "      <th>Tesla</th>\n",
       "      <td>6513</td>\n",
       "      <td>$270</td>\n",
       "    </tr>\n",
       "    <tr>\n",
       "      <th>Infosys</th>\n",
       "      <td>4155</td>\n",
       "      <td>$15</td>\n",
       "    </tr>\n",
       "  </tbody>\n",
       "</table>\n",
       "</div>"
      ],
      "text/plain": [
       "           QTY Close\n",
       "Alphabet  1564  $950\n",
       "Facebook  6546  $160\n",
       "Apple     5464  $120\n",
       "Tesla     6513  $270\n",
       "Infosys   4155   $15"
      ]
     },
     "execution_count": 10,
     "metadata": {},
     "output_type": "execute_result"
    }
   ],
   "source": [
    "my_portfolio_frame = \\\n",
    "my_portfolio_frame.rename(columns={'quantity_owned':'QTY','average_buy_price':'Close'})\n",
    "\n",
    "my_portfolio_frame"
   ]
  },
  {
   "cell_type": "code",
   "execution_count": 12,
   "metadata": {},
   "outputs": [
    {
     "data": {
      "text/html": [
       "<div>\n",
       "<style scoped>\n",
       "    .dataframe tbody tr th:only-of-type {\n",
       "        vertical-align: middle;\n",
       "    }\n",
       "\n",
       "    .dataframe tbody tr th {\n",
       "        vertical-align: top;\n",
       "    }\n",
       "\n",
       "    .dataframe thead th {\n",
       "        text-align: right;\n",
       "    }\n",
       "</style>\n",
       "<table border=\"1\" class=\"dataframe\">\n",
       "  <thead>\n",
       "    <tr style=\"text-align: right;\">\n",
       "      <th></th>\n",
       "      <th>QTY</th>\n",
       "      <th>Close</th>\n",
       "    </tr>\n",
       "  </thead>\n",
       "  <tbody>\n",
       "    <tr>\n",
       "      <th>Alphabet</th>\n",
       "      <td>1564</td>\n",
       "      <td>$950</td>\n",
       "    </tr>\n",
       "    <tr>\n",
       "      <th>Tesla</th>\n",
       "      <td>6513</td>\n",
       "      <td>$270</td>\n",
       "    </tr>\n",
       "    <tr>\n",
       "      <th>Facebook</th>\n",
       "      <td>6546</td>\n",
       "      <td>$160</td>\n",
       "    </tr>\n",
       "    <tr>\n",
       "      <th>Infosys</th>\n",
       "      <td>4155</td>\n",
       "      <td>$15</td>\n",
       "    </tr>\n",
       "    <tr>\n",
       "      <th>Apple</th>\n",
       "      <td>5464</td>\n",
       "      <td>$120</td>\n",
       "    </tr>\n",
       "  </tbody>\n",
       "</table>\n",
       "</div>"
      ],
      "text/plain": [
       "           QTY Close\n",
       "Alphabet  1564  $950\n",
       "Tesla     6513  $270\n",
       "Facebook  6546  $160\n",
       "Infosys   4155   $15\n",
       "Apple     5464  $120"
      ]
     },
     "execution_count": 12,
     "metadata": {},
     "output_type": "execute_result"
    }
   ],
   "source": [
    "my_portfolio_frame = my_portfolio_frame.sort_values(by=\"Close\", ascending=False)\n",
    "my_portfolio_frame"
   ]
  },
  {
   "cell_type": "code",
   "execution_count": 13,
   "metadata": {},
   "outputs": [
    {
     "data": {
      "text/html": [
       "<div>\n",
       "<style scoped>\n",
       "    .dataframe tbody tr th:only-of-type {\n",
       "        vertical-align: middle;\n",
       "    }\n",
       "\n",
       "    .dataframe tbody tr th {\n",
       "        vertical-align: top;\n",
       "    }\n",
       "\n",
       "    .dataframe thead th {\n",
       "        text-align: right;\n",
       "    }\n",
       "</style>\n",
       "<table border=\"1\" class=\"dataframe\">\n",
       "  <thead>\n",
       "    <tr style=\"text-align: right;\">\n",
       "      <th></th>\n",
       "      <th>Jay</th>\n",
       "      <th>Varun</th>\n",
       "      <th>Devang</th>\n",
       "      <th>Ishan</th>\n",
       "      <th>Vibhu</th>\n",
       "    </tr>\n",
       "  </thead>\n",
       "  <tbody>\n",
       "    <tr>\n",
       "      <th>January</th>\n",
       "      <td>14693.274053</td>\n",
       "      <td>-7450.619641</td>\n",
       "      <td>5057.655097</td>\n",
       "      <td>-6226.047978</td>\n",
       "      <td>6876.884606</td>\n",
       "    </tr>\n",
       "    <tr>\n",
       "      <th>February</th>\n",
       "      <td>4239.689104</td>\n",
       "      <td>-8852.589050</td>\n",
       "      <td>-2541.637125</td>\n",
       "      <td>-12903.622494</td>\n",
       "      <td>-12728.123339</td>\n",
       "    </tr>\n",
       "    <tr>\n",
       "      <th>March</th>\n",
       "      <td>-3348.413614</td>\n",
       "      <td>6876.079003</td>\n",
       "      <td>-3882.368846</td>\n",
       "      <td>-1988.330356</td>\n",
       "      <td>1250.079164</td>\n",
       "    </tr>\n",
       "    <tr>\n",
       "      <th>April</th>\n",
       "      <td>7203.014314</td>\n",
       "      <td>-3839.483788</td>\n",
       "      <td>-5262.730861</td>\n",
       "      <td>6266.939438</td>\n",
       "      <td>-15970.313562</td>\n",
       "    </tr>\n",
       "    <tr>\n",
       "      <th>May</th>\n",
       "      <td>-1610.422271</td>\n",
       "      <td>5457.446929</td>\n",
       "      <td>-4462.081689</td>\n",
       "      <td>3302.549065</td>\n",
       "      <td>-9252.596394</td>\n",
       "    </tr>\n",
       "    <tr>\n",
       "      <th>June</th>\n",
       "      <td>13650.369341</td>\n",
       "      <td>189.239838</td>\n",
       "      <td>16425.913912</td>\n",
       "      <td>1801.306231</td>\n",
       "      <td>-6612.701342</td>\n",
       "    </tr>\n",
       "    <tr>\n",
       "      <th>July</th>\n",
       "      <td>4806.212111</td>\n",
       "      <td>-42.617290</td>\n",
       "      <td>2392.143039</td>\n",
       "      <td>-4312.573496</td>\n",
       "      <td>12544.813811</td>\n",
       "    </tr>\n",
       "    <tr>\n",
       "      <th>August</th>\n",
       "      <td>-1299.360274</td>\n",
       "      <td>17856.285276</td>\n",
       "      <td>-4616.693926</td>\n",
       "      <td>-4006.743075</td>\n",
       "      <td>-26469.212385</td>\n",
       "    </tr>\n",
       "    <tr>\n",
       "      <th>September</th>\n",
       "      <td>-1992.744114</td>\n",
       "      <td>-2154.676265</td>\n",
       "      <td>11502.618687</td>\n",
       "      <td>9802.971985</td>\n",
       "      <td>8438.994597</td>\n",
       "    </tr>\n",
       "    <tr>\n",
       "      <th>October</th>\n",
       "      <td>12521.560986</td>\n",
       "      <td>-7017.782780</td>\n",
       "      <td>-7321.486956</td>\n",
       "      <td>-8595.838518</td>\n",
       "      <td>3702.723105</td>\n",
       "    </tr>\n",
       "    <tr>\n",
       "      <th>November</th>\n",
       "      <td>13617.278144</td>\n",
       "      <td>2883.846180</td>\n",
       "      <td>-3597.218003</td>\n",
       "      <td>-7905.728053</td>\n",
       "      <td>7698.622592</td>\n",
       "    </tr>\n",
       "    <tr>\n",
       "      <th>December</th>\n",
       "      <td>10481.647926</td>\n",
       "      <td>9159.743307</td>\n",
       "      <td>2171.845434</td>\n",
       "      <td>-13982.853921</td>\n",
       "      <td>-8314.962185</td>\n",
       "    </tr>\n",
       "  </tbody>\n",
       "</table>\n",
       "</div>"
      ],
      "text/plain": [
       "                    Jay         Varun        Devang         Ishan  \\\n",
       "January    14693.274053  -7450.619641   5057.655097  -6226.047978   \n",
       "February    4239.689104  -8852.589050  -2541.637125 -12903.622494   \n",
       "March      -3348.413614   6876.079003  -3882.368846  -1988.330356   \n",
       "April       7203.014314  -3839.483788  -5262.730861   6266.939438   \n",
       "May        -1610.422271   5457.446929  -4462.081689   3302.549065   \n",
       "June       13650.369341    189.239838  16425.913912   1801.306231   \n",
       "July        4806.212111    -42.617290   2392.143039  -4312.573496   \n",
       "August     -1299.360274  17856.285276  -4616.693926  -4006.743075   \n",
       "September  -1992.744114  -2154.676265  11502.618687   9802.971985   \n",
       "October    12521.560986  -7017.782780  -7321.486956  -8595.838518   \n",
       "November   13617.278144   2883.846180  -3597.218003  -7905.728053   \n",
       "December   10481.647926   9159.743307   2171.845434 -13982.853921   \n",
       "\n",
       "                  Vibhu  \n",
       "January     6876.884606  \n",
       "February  -12728.123339  \n",
       "March       1250.079164  \n",
       "April     -15970.313562  \n",
       "May        -9252.596394  \n",
       "June       -6612.701342  \n",
       "July       12544.813811  \n",
       "August    -26469.212385  \n",
       "September   8438.994597  \n",
       "October     3702.723105  \n",
       "November    7698.622592  \n",
       "December   -8314.962185  "
      ]
     },
     "execution_count": 13,
     "metadata": {},
     "output_type": "execute_result"
    }
   ],
   "source": [
    "import numpy as np\n",
    "names = ['Jay', 'Varun', 'Devang', 'Ishan', 'Vibhu']\n",
    "\n",
    "months = [\"January\", \"February\", \"March\",\n",
    "         \"April\", \"May\", \"June\",\n",
    "         \"July\", \"August\", \"September\",\n",
    "         \"October\", \"November\", \"December\"]\n",
    "\n",
    "df = pd.DataFrame(np.random.randn (12, 5)*10000, columns = names, index = months)\n",
    "\n",
    "df"
   ]
  },
  {
   "cell_type": "code",
   "execution_count": 14,
   "metadata": {},
   "outputs": [
    {
     "name": "stdout",
     "output_type": "stream",
     "text": [
      "Jay       12\n",
      "Varun     12\n",
      "Devang    12\n",
      "Ishan     12\n",
      "Vibhu     12\n",
      "dtype: int64\n"
     ]
    }
   ],
   "source": [
    "print (df.count())"
   ]
  },
  {
   "cell_type": "code",
   "execution_count": 15,
   "metadata": {},
   "outputs": [
    {
     "data": {
      "text/plain": [
       "-3348.41361445246"
      ]
     },
     "execution_count": 15,
     "metadata": {},
     "output_type": "execute_result"
    }
   ],
   "source": [
    "df.Jay.min()"
   ]
  },
  {
   "cell_type": "code",
   "execution_count": 16,
   "metadata": {},
   "outputs": [
    {
     "data": {
      "text/plain": [
       "January               NaN\n",
       "February    -10453.584949\n",
       "March        -7588.102719\n",
       "April        10551.427928\n",
       "May          -8813.436584\n",
       "June         15260.791612\n",
       "July         -8844.157230\n",
       "August       -6105.572385\n",
       "September     -693.383840\n",
       "October      14514.305099\n",
       "November      1095.717158\n",
       "December     -3135.630218\n",
       "Name: Jay, dtype: float64"
      ]
     },
     "execution_count": 16,
     "metadata": {},
     "output_type": "execute_result"
    }
   ],
   "source": [
    "df.Jay.diff()"
   ]
  },
  {
   "cell_type": "code",
   "execution_count": 17,
   "metadata": {},
   "outputs": [
    {
     "data": {
      "text/plain": [
       "January           NaN\n",
       "February    -0.711454\n",
       "March       -1.789778\n",
       "April       -3.151172\n",
       "May         -1.223576\n",
       "June        -9.476267\n",
       "July        -0.647906\n",
       "August      -1.270350\n",
       "September    0.533635\n",
       "October     -7.283577\n",
       "November     0.087506\n",
       "December    -0.230269\n",
       "Name: Jay, dtype: float64"
      ]
     },
     "execution_count": 17,
     "metadata": {},
     "output_type": "execute_result"
    }
   ],
   "source": [
    "df.Jay.pct_change()"
   ]
  },
  {
   "cell_type": "code",
   "execution_count": 19,
   "metadata": {},
   "outputs": [
    {
     "data": {
      "image/png": "[encoded data removed]",
      "text/plain": [
       "<Figure size 720x360 with 1 Axes>"
      ]
     },
     "metadata": {},
     "output_type": "display_data"
    }
   ],
   "source": [
    "import matplotlib.pyplot as plt\n",
    "%matplotlib inline\n",
    "import seaborn # a Package for better visualisation\n",
    "\n",
    "plt.figure(figsize = (10,5))\n",
    "plt.ylabel('Daily returns of Infosys')\n",
    "df[\"Jay\"].pct_change().plot()\n",
    "plt.show()"
   ]
  },
  {
   "cell_type": "code",
   "execution_count": 21,
   "metadata": {},
   "outputs": [
    {
     "data": {
      "text/html": [
       "<div>\n",
       "<style scoped>\n",
       "    .dataframe tbody tr th:only-of-type {\n",
       "        vertical-align: middle;\n",
       "    }\n",
       "\n",
       "    .dataframe tbody tr th {\n",
       "        vertical-align: top;\n",
       "    }\n",
       "\n",
       "    .dataframe thead th {\n",
       "        text-align: right;\n",
       "    }\n",
       "</style>\n",
       "<table border=\"1\" class=\"dataframe\">\n",
       "  <thead>\n",
       "    <tr style=\"text-align: right;\">\n",
       "      <th></th>\n",
       "      <th>open</th>\n",
       "      <th>high</th>\n",
       "      <th>low</th>\n",
       "      <th>close</th>\n",
       "      <th>volume</th>\n",
       "    </tr>\n",
       "    <tr>\n",
       "      <th>date</th>\n",
       "      <th></th>\n",
       "      <th></th>\n",
       "      <th></th>\n",
       "      <th></th>\n",
       "      <th></th>\n",
       "    </tr>\n",
       "  </thead>\n",
       "  <tbody>\n",
       "    <tr>\n",
       "      <th>2017-01-03</th>\n",
       "      <td>112.6732</td>\n",
       "      <td>113.1889</td>\n",
       "      <td>111.6613</td>\n",
       "      <td>113.0138</td>\n",
       "      <td>28781865</td>\n",
       "    </tr>\n",
       "    <tr>\n",
       "      <th>2017-01-04</th>\n",
       "      <td>112.7219</td>\n",
       "      <td>113.3641</td>\n",
       "      <td>112.6246</td>\n",
       "      <td>112.8873</td>\n",
       "      <td>21118116</td>\n",
       "    </tr>\n",
       "    <tr>\n",
       "      <th>2017-01-05</th>\n",
       "      <td>112.7900</td>\n",
       "      <td>113.7087</td>\n",
       "      <td>112.6830</td>\n",
       "      <td>113.4614</td>\n",
       "      <td>22193587</td>\n",
       "    </tr>\n",
       "    <tr>\n",
       "      <th>2017-01-06</th>\n",
       "      <td>113.6268</td>\n",
       "      <td>114.9695</td>\n",
       "      <td>113.3251</td>\n",
       "      <td>114.7263</td>\n",
       "      <td>31751900</td>\n",
       "    </tr>\n",
       "    <tr>\n",
       "      <th>2017-01-09</th>\n",
       "      <td>114.7652</td>\n",
       "      <td>116.2052</td>\n",
       "      <td>114.7554</td>\n",
       "      <td>115.7771</td>\n",
       "      <td>33561948</td>\n",
       "    </tr>\n",
       "  </tbody>\n",
       "</table>\n",
       "</div>"
      ],
      "text/plain": [
       "                open      high       low     close    volume\n",
       "date                                                        \n",
       "2017-01-03  112.6732  113.1889  111.6613  113.0138  28781865\n",
       "2017-01-04  112.7219  113.3641  112.6246  112.8873  21118116\n",
       "2017-01-05  112.7900  113.7087  112.6830  113.4614  22193587\n",
       "2017-01-06  113.6268  114.9695  113.3251  114.7263  31751900\n",
       "2017-01-09  114.7652  116.2052  114.7554  115.7771  33561948"
      ]
     },
     "execution_count": 21,
     "metadata": {},
     "output_type": "execute_result"
    }
   ],
   "source": [
    "from iexfinance import get_historical_data \n",
    "from datetime import datetime\n",
    "\n",
    "start = datetime(2017, 1, 1) # starting date: year-month-date\n",
    "end = datetime(2018, 1, 1) # ending date: year-month-date\n",
    "\n",
    "data = get_historical_data('AAPL', start=start, end=end, output_format='pandas') \n",
    "data.head()"
   ]
  },
  {
   "cell_type": "code",
   "execution_count": 24,
   "metadata": {},
   "outputs": [
    {
     "data": {
      "image/png": "[encoded data removed]",
      "text/plain": [
       "<Figure size 1440x720 with 1 Axes>"
      ]
     },
     "metadata": {},
     "output_type": "display_data"
    }
   ],
   "source": [
    "import matplotlib.pyplot as plt\n",
    "%matplotlib inline\n",
    "import seaborn\n",
    "\n",
    "plt.figure(figsize = (20,10))\n",
    "plt.ylabel('Close')\n",
    "\n",
    "data[\"close\"].rolling(window = 20).mean().plot() # for another pandas version\n",
    "\n",
    "data[\"close\"].plot()\n",
    "plt.show()"
   ]
  },
  {
   "cell_type": "code",
   "execution_count": 27,
   "metadata": {},
   "outputs": [],
   "source": [
    "tcs = data = get_historical_data('GOOG', start=start, end=end, output_format='pandas') "
   ]
  },
  {
   "cell_type": "code",
   "execution_count": 34,
   "metadata": {},
   "outputs": [
    {
     "name": "stdout",
     "output_type": "stream",
     "text": [
      "5964.934998247811\n",
      "1.0\n",
      "-1.0322028467899274\n",
      "-0.03629010146411962\n"
     ]
    }
   ],
   "source": [
    "print (data[\"close\"].cov(tcs[\"close\"]))\n",
    "print (data[\"close\"].corr(tcs[\"close\"]))\n",
    "print (tcs[\"close\"].kurt())\n",
    "print (tcs[\"close\"].skew())"
   ]
  },
  {
   "cell_type": "code",
   "execution_count": 36,
   "metadata": {},
   "outputs": [
    {
     "name": "stderr",
     "output_type": "stream",
     "text": [
      "/Users/ohyoengjae/miniconda3/envs/quant/lib/python3.6/site-packages/scipy/stats/stats.py:1713: FutureWarning: Using a non-tuple sequence for multidimensional indexing is deprecated; use `arr[tuple(seq)]` instead of `arr[seq]`. In the future this will be interpreted as an array index, `arr[np.array(seq)]`, which will result either in an error or a different result.\n",
      "  return np.add.reduce(sorted[indexer] * weights, axis=axis) / sumval\n"
     ]
    },
    {
     "data": {
      "image/png": "[encoded data removed]",
      "text/plain": [
       "<Figure size 432x288 with 1 Axes>"
      ]
     },
     "metadata": {},
     "output_type": "display_data"
    }
   ],
   "source": [
    "import seaborn as sns\n",
    "\n",
    "sns.set(color_codes = True)\n",
    "\n",
    "sns.distplot(data[\"close\"]);"
   ]
  },
  {
   "cell_type": "code",
   "execution_count": 37,
   "metadata": {},
   "outputs": [
    {
     "name": "stderr",
     "output_type": "stream",
     "text": [
      "/Users/ohyoengjae/miniconda3/envs/quant/lib/python3.6/site-packages/scipy/stats/stats.py:1713: FutureWarning: Using a non-tuple sequence for multidimensional indexing is deprecated; use `arr[tuple(seq)]` instead of `arr[seq]`. In the future this will be interpreted as an array index, `arr[np.array(seq)]`, which will result either in an error or a different result.\n",
      "  return np.add.reduce(sorted[indexer] * weights, axis=axis) / sumval\n"
     ]
    },
    {
     "data": {
      "image/png": "[encoded data removed]",
      "text/plain": [
       "<Figure size 432x288 with 1 Axes>"
      ]
     },
     "metadata": {},
     "output_type": "display_data"
    }
   ],
   "source": [
    "import seaborn as sns\n",
    "\n",
    "sns.set(color_codes = True)\n",
    "\n",
    "sns.distplot(tcs[\"close\"]);"
   ]
  },
  {
   "cell_type": "code",
   "execution_count": null,
   "metadata": {},
   "outputs": [],
   "source": []
  }
 ],
 "metadata": {
  "kernelspec": {
   "display_name": "Python 3",
   "language": "python",
   "name": "python3"
  },
  "language_info": {
   "codemirror_mode": {
    "name": "ipython",
    "version": 3
   },
   "file_extension": ".py",
   "mimetype": "text/x-python",
   "name": "python",
   "nbconvert_exporter": "python",
   "pygments_lexer": "ipython3",
   "version": "3.6.6"
  }
 },
 "nbformat": 4,
 "nbformat_minor": 2
}
