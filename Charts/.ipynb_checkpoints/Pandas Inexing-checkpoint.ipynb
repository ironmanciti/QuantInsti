{
 "cells": [
  {
   "cell_type": "code",
   "execution_count": 14,
   "metadata": {},
   "outputs": [
    {
     "data": {
      "text/html": [
       "<div>\n",
       "<style scoped>\n",
       "    .dataframe tbody tr th:only-of-type {\n",
       "        vertical-align: middle;\n",
       "    }\n",
       "\n",
       "    .dataframe tbody tr th {\n",
       "        vertical-align: top;\n",
       "    }\n",
       "\n",
       "    .dataframe thead th {\n",
       "        text-align: right;\n",
       "    }\n",
       "</style>\n",
       "<table border=\"1\" class=\"dataframe\">\n",
       "  <thead>\n",
       "    <tr style=\"text-align: right;\">\n",
       "      <th></th>\n",
       "      <th>Symbol</th>\n",
       "      <th>Series</th>\n",
       "      <th>Date</th>\n",
       "      <th>Prev Close</th>\n",
       "      <th>Open Price</th>\n",
       "      <th>High Price</th>\n",
       "      <th>Low Price</th>\n",
       "      <th>Last Price</th>\n",
       "      <th>Close Price</th>\n",
       "      <th>Average Price</th>\n",
       "      <th>Total Traded Quantity</th>\n",
       "      <th>No. of Trades</th>\n",
       "    </tr>\n",
       "  </thead>\n",
       "  <tbody>\n",
       "    <tr>\n",
       "      <th>0</th>\n",
       "      <td>INFY</td>\n",
       "      <td>EQ</td>\n",
       "      <td>2-Apr-18</td>\n",
       "      <td>1131.80</td>\n",
       "      <td>1141.00</td>\n",
       "      <td>1149.55</td>\n",
       "      <td>1121.3</td>\n",
       "      <td>1136.70</td>\n",
       "      <td>1137.15</td>\n",
       "      <td>1135.86</td>\n",
       "      <td>4036351</td>\n",
       "      <td>142078</td>\n",
       "    </tr>\n",
       "    <tr>\n",
       "      <th>1</th>\n",
       "      <td>INFY</td>\n",
       "      <td>EQ</td>\n",
       "      <td>3-Apr-18</td>\n",
       "      <td>1137.15</td>\n",
       "      <td>1134.70</td>\n",
       "      <td>1143.55</td>\n",
       "      <td>1128.1</td>\n",
       "      <td>1139.40</td>\n",
       "      <td>1140.45</td>\n",
       "      <td>1135.21</td>\n",
       "      <td>2038584</td>\n",
       "      <td>114034</td>\n",
       "    </tr>\n",
       "    <tr>\n",
       "      <th>2</th>\n",
       "      <td>INFY</td>\n",
       "      <td>EQ</td>\n",
       "      <td>4-Apr-18</td>\n",
       "      <td>1140.45</td>\n",
       "      <td>1144.00</td>\n",
       "      <td>1144.55</td>\n",
       "      <td>1120.0</td>\n",
       "      <td>1122.70</td>\n",
       "      <td>1124.20</td>\n",
       "      <td>1131.81</td>\n",
       "      <td>2406651</td>\n",
       "      <td>137029</td>\n",
       "    </tr>\n",
       "    <tr>\n",
       "      <th>3</th>\n",
       "      <td>INFY</td>\n",
       "      <td>EQ</td>\n",
       "      <td>5-Apr-18</td>\n",
       "      <td>1124.20</td>\n",
       "      <td>1139.55</td>\n",
       "      <td>1151.30</td>\n",
       "      <td>1129.1</td>\n",
       "      <td>1146.05</td>\n",
       "      <td>1147.55</td>\n",
       "      <td>1140.71</td>\n",
       "      <td>3881772</td>\n",
       "      <td>101745</td>\n",
       "    </tr>\n",
       "    <tr>\n",
       "      <th>4</th>\n",
       "      <td>INFY</td>\n",
       "      <td>EQ</td>\n",
       "      <td>6-Apr-18</td>\n",
       "      <td>1147.55</td>\n",
       "      <td>1143.00</td>\n",
       "      <td>1146.00</td>\n",
       "      <td>1122.1</td>\n",
       "      <td>1127.55</td>\n",
       "      <td>1127.00</td>\n",
       "      <td>1128.81</td>\n",
       "      <td>2968871</td>\n",
       "      <td>137277</td>\n",
       "    </tr>\n",
       "  </tbody>\n",
       "</table>\n",
       "</div>"
      ],
      "text/plain": [
       "  Symbol Series      Date  Prev Close  Open Price  High Price  Low Price  \\\n",
       "0   INFY     EQ  2-Apr-18     1131.80     1141.00     1149.55     1121.3   \n",
       "1   INFY     EQ  3-Apr-18     1137.15     1134.70     1143.55     1128.1   \n",
       "2   INFY     EQ  4-Apr-18     1140.45     1144.00     1144.55     1120.0   \n",
       "3   INFY     EQ  5-Apr-18     1124.20     1139.55     1151.30     1129.1   \n",
       "4   INFY     EQ  6-Apr-18     1147.55     1143.00     1146.00     1122.1   \n",
       "\n",
       "   Last Price  Close Price  Average Price  Total Traded Quantity  \\\n",
       "0     1136.70      1137.15        1135.86                4036351   \n",
       "1     1139.40      1140.45        1135.21                2038584   \n",
       "2     1122.70      1124.20        1131.81                2406651   \n",
       "3     1146.05      1147.55        1140.71                3881772   \n",
       "4     1127.55      1127.00        1128.81                2968871   \n",
       "\n",
       "   No. of Trades  \n",
       "0         142078  \n",
       "1         114034  \n",
       "2         137029  \n",
       "3         101745  \n",
       "4         137277  "
      ]
     },
     "execution_count": 14,
     "metadata": {},
     "output_type": "execute_result"
    }
   ],
   "source": [
    "import numpy as np\n",
    "import pandas as pd\n",
    "\n",
    "infy = pd.read_csv ('infy_twoweeks.csv')\n",
    "infy.head()"
   ]
  },
  {
   "cell_type": "code",
   "execution_count": 69,
   "metadata": {},
   "outputs": [
    {
     "name": "stdout",
     "output_type": "stream",
     "text": [
      "   Close Price\n",
      "0      1137.15\n",
      "1      1140.45\n"
     ]
    },
    {
     "data": {
      "text/plain": [
       "0    1137.15\n",
       "1    1140.45\n",
       "Name: Close Price, dtype: float64"
      ]
     },
     "execution_count": 69,
     "metadata": {},
     "output_type": "execute_result"
    }
   ],
   "source": [
    "print(infy.loc[:4, ['Close Price']].head(2))\n",
    "infy.iloc[:2,8]"
   ]
  },
  {
   "cell_type": "code",
   "execution_count": 70,
   "metadata": {},
   "outputs": [
    {
     "name": "stdout",
     "output_type": "stream",
     "text": [
      "0    1131.80\n",
      "1    1137.15\n",
      "Name: Prev Close, dtype: float64\n"
     ]
    },
    {
     "data": {
      "text/plain": [
       "0    1131.80\n",
       "1    1137.15\n",
       "Name: Prev Close, dtype: float64"
      ]
     },
     "execution_count": 70,
     "metadata": {},
     "output_type": "execute_result"
    }
   ],
   "source": [
    "print (infy.loc[:,'Prev Close'].head(2))\n",
    "infy.iloc[:2,3].head(2)"
   ]
  },
  {
   "cell_type": "code",
   "execution_count": 77,
   "metadata": {},
   "outputs": [
    {
     "name": "stdout",
     "output_type": "stream",
     "text": [
      "   Close Price  Open Price\n",
      "0      1137.15      1141.0\n",
      "1      1140.45      1134.7\n"
     ]
    },
    {
     "data": {
      "text/html": [
       "<div>\n",
       "<style scoped>\n",
       "    .dataframe tbody tr th:only-of-type {\n",
       "        vertical-align: middle;\n",
       "    }\n",
       "\n",
       "    .dataframe tbody tr th {\n",
       "        vertical-align: top;\n",
       "    }\n",
       "\n",
       "    .dataframe thead th {\n",
       "        text-align: right;\n",
       "    }\n",
       "</style>\n",
       "<table border=\"1\" class=\"dataframe\">\n",
       "  <thead>\n",
       "    <tr style=\"text-align: right;\">\n",
       "      <th></th>\n",
       "      <th>Close Price</th>\n",
       "      <th>Open Price</th>\n",
       "    </tr>\n",
       "  </thead>\n",
       "  <tbody>\n",
       "    <tr>\n",
       "      <th>0</th>\n",
       "      <td>1137.15</td>\n",
       "      <td>1141.0</td>\n",
       "    </tr>\n",
       "    <tr>\n",
       "      <th>1</th>\n",
       "      <td>1140.45</td>\n",
       "      <td>1134.7</td>\n",
       "    </tr>\n",
       "  </tbody>\n",
       "</table>\n",
       "</div>"
      ],
      "text/plain": [
       "   Close Price  Open Price\n",
       "0      1137.15      1141.0\n",
       "1      1140.45      1134.7"
      ]
     },
     "execution_count": 77,
     "metadata": {},
     "output_type": "execute_result"
    }
   ],
   "source": [
    "print (infy.loc[:, ['Close Price','Open Price']].head(2))\n",
    "infy.iloc[:,[infy.columns.get_loc('Close Price'),infy.columns.get_loc('Open Price')]].head(2)"
   ]
  },
  {
   "cell_type": "code",
   "execution_count": 80,
   "metadata": {},
   "outputs": [
    {
     "name": "stdout",
     "output_type": "stream",
     "text": [
      "   Close Price  Open Price\n",
      "0      1137.15      1141.0\n",
      "1      1140.45      1134.7\n"
     ]
    },
    {
     "data": {
      "text/html": [
       "<div>\n",
       "<style scoped>\n",
       "    .dataframe tbody tr th:only-of-type {\n",
       "        vertical-align: middle;\n",
       "    }\n",
       "\n",
       "    .dataframe tbody tr th {\n",
       "        vertical-align: top;\n",
       "    }\n",
       "\n",
       "    .dataframe thead th {\n",
       "        text-align: right;\n",
       "    }\n",
       "</style>\n",
       "<table border=\"1\" class=\"dataframe\">\n",
       "  <thead>\n",
       "    <tr style=\"text-align: right;\">\n",
       "      <th></th>\n",
       "      <th>Close Price</th>\n",
       "      <th>Open Price</th>\n",
       "    </tr>\n",
       "  </thead>\n",
       "  <tbody>\n",
       "    <tr>\n",
       "      <th>0</th>\n",
       "      <td>1137.15</td>\n",
       "      <td>1141.0</td>\n",
       "    </tr>\n",
       "    <tr>\n",
       "      <th>1</th>\n",
       "      <td>1140.45</td>\n",
       "      <td>1134.7</td>\n",
       "    </tr>\n",
       "  </tbody>\n",
       "</table>\n",
       "</div>"
      ],
      "text/plain": [
       "   Close Price  Open Price\n",
       "0      1137.15      1141.0\n",
       "1      1140.45      1134.7"
      ]
     },
     "execution_count": 80,
     "metadata": {},
     "output_type": "execute_result"
    }
   ],
   "source": [
    "print (infy.loc[:4,['Close Price','Open Price']].head(2))\n",
    "infy.iloc[:4,[infy.columns.get_loc('Close Price'),infy.columns.get_loc('Open Price')]].head(2)"
   ]
  },
  {
   "cell_type": "code",
   "execution_count": 83,
   "metadata": {},
   "outputs": [
    {
     "name": "stdout",
     "output_type": "stream",
     "text": [
      "  Symbol Series      Date  Prev Close  Open Price  High Price  Low Price  \\\n",
      "2   INFY     EQ  4-Apr-18     1140.45     1144.00     1144.55     1120.0   \n",
      "3   INFY     EQ  5-Apr-18     1124.20     1139.55     1151.30     1129.1   \n",
      "\n",
      "   Last Price  Close Price  Average Price  Total Traded Quantity  \\\n",
      "2     1122.70      1124.20        1131.81                2406651   \n",
      "3     1146.05      1147.55        1140.71                3881772   \n",
      "\n",
      "   No. of Trades  \n",
      "2         137029  \n",
      "3         101745  \n"
     ]
    },
    {
     "data": {
      "text/html": [
       "<div>\n",
       "<style scoped>\n",
       "    .dataframe tbody tr th:only-of-type {\n",
       "        vertical-align: middle;\n",
       "    }\n",
       "\n",
       "    .dataframe tbody tr th {\n",
       "        vertical-align: top;\n",
       "    }\n",
       "\n",
       "    .dataframe thead th {\n",
       "        text-align: right;\n",
       "    }\n",
       "</style>\n",
       "<table border=\"1\" class=\"dataframe\">\n",
       "  <thead>\n",
       "    <tr style=\"text-align: right;\">\n",
       "      <th></th>\n",
       "      <th>Symbol</th>\n",
       "      <th>Series</th>\n",
       "      <th>Date</th>\n",
       "      <th>Prev Close</th>\n",
       "      <th>Open Price</th>\n",
       "      <th>High Price</th>\n",
       "      <th>Low Price</th>\n",
       "      <th>Last Price</th>\n",
       "      <th>Close Price</th>\n",
       "      <th>Average Price</th>\n",
       "      <th>Total Traded Quantity</th>\n",
       "      <th>No. of Trades</th>\n",
       "    </tr>\n",
       "  </thead>\n",
       "  <tbody>\n",
       "    <tr>\n",
       "      <th>2</th>\n",
       "      <td>INFY</td>\n",
       "      <td>EQ</td>\n",
       "      <td>4-Apr-18</td>\n",
       "      <td>1140.45</td>\n",
       "      <td>1144.00</td>\n",
       "      <td>1144.55</td>\n",
       "      <td>1120.0</td>\n",
       "      <td>1122.70</td>\n",
       "      <td>1124.20</td>\n",
       "      <td>1131.81</td>\n",
       "      <td>2406651</td>\n",
       "      <td>137029</td>\n",
       "    </tr>\n",
       "    <tr>\n",
       "      <th>3</th>\n",
       "      <td>INFY</td>\n",
       "      <td>EQ</td>\n",
       "      <td>5-Apr-18</td>\n",
       "      <td>1124.20</td>\n",
       "      <td>1139.55</td>\n",
       "      <td>1151.30</td>\n",
       "      <td>1129.1</td>\n",
       "      <td>1146.05</td>\n",
       "      <td>1147.55</td>\n",
       "      <td>1140.71</td>\n",
       "      <td>3881772</td>\n",
       "      <td>101745</td>\n",
       "    </tr>\n",
       "  </tbody>\n",
       "</table>\n",
       "</div>"
      ],
      "text/plain": [
       "  Symbol Series      Date  Prev Close  Open Price  High Price  Low Price  \\\n",
       "2   INFY     EQ  4-Apr-18     1140.45     1144.00     1144.55     1120.0   \n",
       "3   INFY     EQ  5-Apr-18     1124.20     1139.55     1151.30     1129.1   \n",
       "\n",
       "   Last Price  Close Price  Average Price  Total Traded Quantity  \\\n",
       "2     1122.70      1124.20        1131.81                2406651   \n",
       "3     1146.05      1147.55        1140.71                3881772   \n",
       "\n",
       "   No. of Trades  \n",
       "2         137029  \n",
       "3         101745  "
      ]
     },
     "execution_count": 83,
     "metadata": {},
     "output_type": "execute_result"
    }
   ],
   "source": [
    "print (infy.loc[2:5].head(2))\n",
    "infy.iloc[2:5].head(2)"
   ]
  },
  {
   "cell_type": "code",
   "execution_count": 93,
   "metadata": {},
   "outputs": [
    {
     "name": "stdout",
     "output_type": "stream",
     "text": [
      "   Open Price  High Price  Low Price  Close Price\n",
      "0     1141.00     1149.55    1121.30      1137.15\n",
      "1     1134.70     1143.55    1128.10      1140.45\n",
      "2     1144.00     1144.55    1120.00      1124.20\n",
      "3     1139.55     1151.30    1129.10      1147.55\n",
      "4     1143.00     1146.00    1122.10      1127.00\n",
      "5     1125.00     1125.80    1106.55      1111.25\n"
     ]
    },
    {
     "data": {
      "text/html": [
       "<div>\n",
       "<style scoped>\n",
       "    .dataframe tbody tr th:only-of-type {\n",
       "        vertical-align: middle;\n",
       "    }\n",
       "\n",
       "    .dataframe tbody tr th {\n",
       "        vertical-align: top;\n",
       "    }\n",
       "\n",
       "    .dataframe thead th {\n",
       "        text-align: right;\n",
       "    }\n",
       "</style>\n",
       "<table border=\"1\" class=\"dataframe\">\n",
       "  <thead>\n",
       "    <tr style=\"text-align: right;\">\n",
       "      <th></th>\n",
       "      <th>Open Price</th>\n",
       "      <th>Low Price</th>\n",
       "    </tr>\n",
       "  </thead>\n",
       "  <tbody>\n",
       "    <tr>\n",
       "      <th>0</th>\n",
       "      <td>1141.00</td>\n",
       "      <td>1121.30</td>\n",
       "    </tr>\n",
       "    <tr>\n",
       "      <th>1</th>\n",
       "      <td>1134.70</td>\n",
       "      <td>1128.10</td>\n",
       "    </tr>\n",
       "    <tr>\n",
       "      <th>2</th>\n",
       "      <td>1144.00</td>\n",
       "      <td>1120.00</td>\n",
       "    </tr>\n",
       "    <tr>\n",
       "      <th>3</th>\n",
       "      <td>1139.55</td>\n",
       "      <td>1129.10</td>\n",
       "    </tr>\n",
       "    <tr>\n",
       "      <th>4</th>\n",
       "      <td>1143.00</td>\n",
       "      <td>1122.10</td>\n",
       "    </tr>\n",
       "    <tr>\n",
       "      <th>5</th>\n",
       "      <td>1125.00</td>\n",
       "      <td>1106.55</td>\n",
       "    </tr>\n",
       "  </tbody>\n",
       "</table>\n",
       "</div>"
      ],
      "text/plain": [
       "   Open Price  Low Price\n",
       "0     1141.00    1121.30\n",
       "1     1134.70    1128.10\n",
       "2     1144.00    1120.00\n",
       "3     1139.55    1129.10\n",
       "4     1143.00    1122.10\n",
       "5     1125.00    1106.55"
      ]
     },
     "execution_count": 93,
     "metadata": {},
     "output_type": "execute_result"
    }
   ],
   "source": [
    "print (infy.loc[[0,1,2,3,4,5],['Open Price', 'High Price', 'Low Price', 'Close Price']])\n",
    "infy.iloc[0:6,[infy.columns.get_loc('Open Price'), infy.columns.get_loc('Low Price')]]"
   ]
  },
  {
   "cell_type": "code",
   "execution_count": 94,
   "metadata": {},
   "outputs": [
    {
     "name": "stdout",
     "output_type": "stream",
     "text": [
      "  Symbol Series      Date  Prev Close  Open Price  High Price  Low Price  \\\n",
      "0   INFY     EQ  2-Apr-18     1131.80     1141.00     1149.55     1121.3   \n",
      "1   INFY     EQ  3-Apr-18     1137.15     1134.70     1143.55     1128.1   \n",
      "2   INFY     EQ  4-Apr-18     1140.45     1144.00     1144.55     1120.0   \n",
      "3   INFY     EQ  5-Apr-18     1124.20     1139.55     1151.30     1129.1   \n",
      "\n",
      "   Last Price  Close Price  Average Price  Total Traded Quantity  \\\n",
      "0     1136.70      1137.15        1135.86                4036351   \n",
      "1     1139.40      1140.45        1135.21                2038584   \n",
      "2     1122.70      1124.20        1131.81                2406651   \n",
      "3     1146.05      1147.55        1140.71                3881772   \n",
      "\n",
      "   No. of Trades  \n",
      "0         142078  \n",
      "1         114034  \n",
      "2         137029  \n",
      "3         101745  \n"
     ]
    }
   ],
   "source": [
    "print (infy.iloc[:4])"
   ]
  },
  {
   "cell_type": "code",
   "execution_count": 35,
   "metadata": {},
   "outputs": [
    {
     "name": "stdout",
     "output_type": "stream",
     "text": [
      "       Date  Prev Close\n",
      "1  3-Apr-18     1137.15\n",
      "2  4-Apr-18     1140.45\n",
      "3  5-Apr-18     1124.20\n",
      "4  6-Apr-18     1147.55\n"
     ]
    }
   ],
   "source": [
    "print (infy.iloc[1:5, 2:4])"
   ]
  },
  {
   "cell_type": "code",
   "execution_count": 36,
   "metadata": {},
   "outputs": [
    {
     "name": "stdout",
     "output_type": "stream",
     "text": [
      "  Series  Prev Close  High Price  Last Price  Average Price\n",
      "1     EQ     1137.15     1143.55     1139.40        1135.21\n",
      "3     EQ     1124.20     1151.30     1146.05        1140.71\n",
      "5     EQ     1127.00     1125.80     1111.45        1113.12\n",
      "7     EQ     1113.40     1131.50     1124.50        1124.78\n"
     ]
    }
   ],
   "source": [
    "print (infy.iloc[[1, 3, 5,7], [1, 3, 5, 7, 9]])"
   ]
  },
  {
   "cell_type": "code",
   "execution_count": 95,
   "metadata": {},
   "outputs": [
    {
     "name": "stdout",
     "output_type": "stream",
     "text": [
      "  Symbol Series      Date  Prev Close  Open Price  High Price  Low Price  \\\n",
      "1   INFY     EQ  3-Apr-18     1137.15      1134.7     1143.55     1128.1   \n",
      "2   INFY     EQ  4-Apr-18     1140.45      1144.0     1144.55     1120.0   \n",
      "\n",
      "   Last Price  Close Price  Average Price  Total Traded Quantity  \\\n",
      "1      1139.4      1140.45        1135.21                2038584   \n",
      "2      1122.7      1124.20        1131.81                2406651   \n",
      "\n",
      "   No. of Trades  \n",
      "1         114034  \n",
      "2         137029  \n"
     ]
    }
   ],
   "source": [
    "print (infy.iloc[1:3, :])"
   ]
  },
  {
   "cell_type": "code",
   "execution_count": 38,
   "metadata": {},
   "outputs": [
    {
     "name": "stdout",
     "output_type": "stream",
     "text": [
      "  Series       Date\n",
      "0     EQ   2-Apr-18\n",
      "1     EQ   3-Apr-18\n",
      "2     EQ   4-Apr-18\n",
      "3     EQ   5-Apr-18\n",
      "4     EQ   6-Apr-18\n",
      "5     EQ   9-Apr-18\n",
      "6     EQ  10-Apr-18\n",
      "7     EQ  11-Apr-18\n",
      "8     EQ  12-Apr-18\n",
      "9     EQ  13-Apr-18\n"
     ]
    }
   ],
   "source": [
    "print (infy.iloc[:,1:3])"
   ]
  },
  {
   "cell_type": "code",
   "execution_count": 39,
   "metadata": {},
   "outputs": [
    {
     "name": "stdout",
     "output_type": "stream",
     "text": [
      "0    False\n",
      "1    False\n",
      "2    False\n",
      "3    False\n",
      "4    False\n",
      "5    False\n",
      "6    False\n",
      "7    False\n",
      "8    False\n",
      "9    False\n",
      "Name: Close Price, dtype: bool\n"
     ]
    }
   ],
   "source": [
    "print (infy['Close Price'].isnull())"
   ]
  },
  {
   "cell_type": "code",
   "execution_count": 40,
   "metadata": {},
   "outputs": [
    {
     "name": "stdout",
     "output_type": "stream",
     "text": [
      "   Symbol  Series   Date  Prev Close  Open Price  High Price  Low Price  \\\n",
      "0   False   False  False       False       False       False      False   \n",
      "1   False   False  False       False       False       False      False   \n",
      "2   False   False  False       False       False       False      False   \n",
      "3   False   False  False       False       False       False      False   \n",
      "4   False   False  False       False       False       False      False   \n",
      "5   False   False  False       False       False       False      False   \n",
      "6   False   False  False       False       False       False      False   \n",
      "7   False   False  False       False       False       False      False   \n",
      "8   False   False  False       False       False       False      False   \n",
      "9   False   False  False       False       False       False      False   \n",
      "\n",
      "   Last Price  Close Price  Average Price  Total Traded Quantity  \\\n",
      "0       False        False          False                  False   \n",
      "1       False        False          False                  False   \n",
      "2       False        False          False                  False   \n",
      "3       False        False          False                  False   \n",
      "4       False        False          False                  False   \n",
      "5       False        False          False                  False   \n",
      "6       False        False          False                  False   \n",
      "7       False        False          False                  False   \n",
      "8       False        False          False                  False   \n",
      "9       False        False          False                  False   \n",
      "\n",
      "   No. of Trades  \n",
      "0          False  \n",
      "1          False  \n",
      "2          False  \n",
      "3          False  \n",
      "4          False  \n",
      "5          False  \n",
      "6          False  \n",
      "7          False  \n",
      "8          False  \n",
      "9          False  \n"
     ]
    }
   ],
   "source": [
    "print (infy.isnull())"
   ]
  },
  {
   "cell_type": "code",
   "execution_count": 41,
   "metadata": {},
   "outputs": [
    {
     "name": "stdout",
     "output_type": "stream",
     "text": [
      "0    True\n",
      "1    True\n",
      "2    True\n",
      "3    True\n",
      "4    True\n",
      "5    True\n",
      "6    True\n",
      "7    True\n",
      "8    True\n",
      "9    True\n",
      "Name: Close Price, dtype: bool\n"
     ]
    }
   ],
   "source": [
    "print (infy['Close Price'].notnull())"
   ]
  },
  {
   "cell_type": "code",
   "execution_count": 42,
   "metadata": {},
   "outputs": [
    {
     "name": "stdout",
     "output_type": "stream",
     "text": [
      "0    1137.15\n",
      "1    1140.45\n",
      "2    1124.20\n",
      "3    1147.55\n",
      "4    1127.00\n",
      "5    1111.25\n",
      "6    1113.40\n",
      "7    1124.25\n",
      "8    1162.60\n",
      "9    1171.45\n",
      "Name: Close Price, dtype: float64\n"
     ]
    }
   ],
   "source": [
    "print (infy['Close Price'].fillna(5))"
   ]
  },
  {
   "cell_type": "code",
   "execution_count": 43,
   "metadata": {},
   "outputs": [
    {
     "name": "stdout",
     "output_type": "stream",
     "text": [
      "0    1137.15\n",
      "1    1140.45\n",
      "2    1124.20\n",
      "3    1147.55\n",
      "4    1127.00\n",
      "5    1111.25\n",
      "6    1113.40\n",
      "7    1124.25\n",
      "8    1162.60\n",
      "9    1171.45\n",
      "Name: Close Price, dtype: float64\n"
     ]
    }
   ],
   "source": [
    "print (infy['Close Price'].fillna(method='backfill'))"
   ]
  },
  {
   "cell_type": "code",
   "execution_count": 44,
   "metadata": {},
   "outputs": [
    {
     "name": "stdout",
     "output_type": "stream",
     "text": [
      "  Symbol Series       Date  Prev Close  Open Price  High Price  Low Price  \\\n",
      "0   INFY     EQ   2-Apr-18     1131.80     1141.00     1149.55    1121.30   \n",
      "1   INFY     EQ   3-Apr-18     1137.15     1134.70     1143.55    1128.10   \n",
      "2   INFY     EQ   4-Apr-18     1140.45     1144.00     1144.55    1120.00   \n",
      "3   INFY     EQ   5-Apr-18     1124.20     1139.55     1151.30    1129.10   \n",
      "4   INFY     EQ   6-Apr-18     1147.55     1143.00     1146.00    1122.10   \n",
      "5   INFY     EQ   9-Apr-18     1127.00     1125.00     1125.80    1106.55   \n",
      "6   INFY     EQ  10-Apr-18     1111.25     1112.00     1124.50    1105.40   \n",
      "7   INFY     EQ  11-Apr-18     1113.40     1118.00     1131.50    1116.50   \n",
      "8   INFY     EQ  12-Apr-18     1124.25     1129.45     1172.75    1125.00   \n",
      "9   INFY     EQ  13-Apr-18     1162.60     1174.00     1185.90    1150.25   \n",
      "\n",
      "   Last Price  Close Price  Average Price  Total Traded Quantity  \\\n",
      "0     1136.70      1137.15        1135.86                4036351   \n",
      "1     1139.40      1140.45        1135.21                2038584   \n",
      "2     1122.70      1124.20        1131.81                2406651   \n",
      "3     1146.05      1147.55        1140.71                3881772   \n",
      "4     1127.55      1127.00        1128.81                2968871   \n",
      "5     1111.45      1111.25        1113.12                3601441   \n",
      "6     1114.65      1113.40        1115.77                4463029   \n",
      "7     1124.50      1124.25        1124.78                4512787   \n",
      "8     1164.05      1162.60        1157.71                8522183   \n",
      "9     1168.00      1171.45        1172.37               10613519   \n",
      "\n",
      "   No. of Trades  \n",
      "0         142078  \n",
      "1         114034  \n",
      "2         137029  \n",
      "3         101745  \n",
      "4         137277  \n",
      "5         171118  \n",
      "6         144468  \n",
      "7         102586  \n",
      "8         216130  \n",
      "9         180965  \n"
     ]
    }
   ],
   "source": [
    "print (infy.fillna(method='backfill'))"
   ]
  },
  {
   "cell_type": "code",
   "execution_count": 45,
   "metadata": {},
   "outputs": [
    {
     "name": "stdout",
     "output_type": "stream",
     "text": [
      "0    1137.15\n",
      "1    1140.45\n",
      "2    1124.20\n",
      "3    1147.55\n",
      "4    1127.00\n",
      "5    1111.25\n",
      "6    1113.40\n",
      "7    1124.25\n",
      "8    1162.60\n",
      "9    1171.45\n",
      "Name: Close Price, dtype: float64\n"
     ]
    }
   ],
   "source": [
    "print (infy['Close Price'].fillna(method='bfill'))"
   ]
  },
  {
   "cell_type": "code",
   "execution_count": 46,
   "metadata": {},
   "outputs": [
    {
     "name": "stdout",
     "output_type": "stream",
     "text": [
      "0    1137.15\n",
      "1    1140.45\n",
      "2    1124.20\n",
      "3    1147.55\n",
      "4    1127.00\n",
      "5    1111.25\n",
      "6    1113.40\n",
      "7    1124.25\n",
      "8    1162.60\n",
      "9    1171.45\n",
      "Name: Close Price, dtype: float64\n"
     ]
    }
   ],
   "source": [
    "print (infy['Close Price'].fillna(method='ffill'))"
   ]
  },
  {
   "cell_type": "code",
   "execution_count": 96,
   "metadata": {},
   "outputs": [
    {
     "name": "stdout",
     "output_type": "stream",
     "text": [
      "  Symbol Series       Date  Prev Close  Open Price  High Price  Low Price  \\\n",
      "0   INFY     EQ   2-Apr-18     1131.80     1141.00     1149.55    1121.30   \n",
      "1   INFY     EQ   3-Apr-18     1137.15     1134.70     1143.55    1128.10   \n",
      "2   INFY     EQ   4-Apr-18     1140.45     1144.00     1144.55    1120.00   \n",
      "3   INFY     EQ   5-Apr-18     1124.20     1139.55     1151.30    1129.10   \n",
      "4   INFY     EQ   6-Apr-18     1147.55     1143.00     1146.00    1122.10   \n",
      "5   INFY     EQ   9-Apr-18     1127.00     1125.00     1125.80    1106.55   \n",
      "6   INFY     EQ  10-Apr-18     1111.25     1112.00     1124.50    1105.40   \n",
      "7   INFY     EQ  11-Apr-18     1113.40     1118.00     1131.50    1116.50   \n",
      "8   INFY     EQ  12-Apr-18     1124.25     1129.45     1172.75    1125.00   \n",
      "9   INFY     EQ  13-Apr-18     1162.60     1174.00     1185.90    1150.25   \n",
      "\n",
      "   Last Price  Close Price  Average Price  Total Traded Quantity  \\\n",
      "0     1136.70      1137.15        1135.86                4036351   \n",
      "1     1139.40      1140.45        1135.21                2038584   \n",
      "2     1122.70      1124.20        1131.81                2406651   \n",
      "3     1146.05      1147.55        1140.71                3881772   \n",
      "4     1127.55      1127.00        1128.81                2968871   \n",
      "5     1111.45      1111.25        1113.12                3601441   \n",
      "6     1114.65      1113.40        1115.77                4463029   \n",
      "7     1124.50      1124.25        1124.78                4512787   \n",
      "8     1164.05      1162.60        1157.71                8522183   \n",
      "9     1168.00      1171.45        1172.37               10613519   \n",
      "\n",
      "   No. of Trades  \n",
      "0         142078  \n",
      "1         114034  \n",
      "2         137029  \n",
      "3         101745  \n",
      "4         137277  \n",
      "5         171118  \n",
      "6         144468  \n",
      "7         102586  \n",
      "8         216130  \n",
      "9         180965  \n"
     ]
    }
   ],
   "source": [
    "print (infy.replace({1000:10,2000:60}))"
   ]
  },
  {
   "cell_type": "code",
   "execution_count": null,
   "metadata": {},
   "outputs": [],
   "source": []
  }
 ],
 "metadata": {
  "kernelspec": {
   "display_name": "Python 3",
   "language": "python",
   "name": "python3"
  },
  "language_info": {
   "codemirror_mode": {
    "name": "ipython",
    "version": 3
   },
   "file_extension": ".py",
   "mimetype": "text/x-python",
   "name": "python",
   "nbconvert_exporter": "python",
   "pygments_lexer": "ipython3",
   "version": "3.6.6"
  }
 },
 "nbformat": 4,
 "nbformat_minor": 2
}
