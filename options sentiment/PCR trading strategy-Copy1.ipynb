{
 "cells": [
  {
   "cell_type": "code",
   "execution_count": 4,
   "metadata": {},
   "outputs": [],
   "source": [
    "import pandas as pd\n",
    "import quandl\n",
    "import matplotlib.pyplot as plt\n",
    "import math"
   ]
  },
  {
   "cell_type": "markdown",
   "metadata": {},
   "source": [
    "### Bolinger Band 그리기 위한 sigma 계산 helper function"
   ]
  },
  {
   "cell_type": "code",
   "execution_count": 5,
   "metadata": {},
   "outputs": [],
   "source": [
    "def variance_calculator(series,series_average,win_len):\n",
    "\tsma = win_len\n",
    "\ttemp = series.subtract(series_average)          # a-b\n",
    "\ttemp2 = temp.apply(lambda x: x**2)              #(a-b)^2\n",
    "\ttemp3 = temp2.rolling(sma-1).mean()             # summation[(a-b)^2 ]/ (sma - 1)\n",
    "\tsigma = temp3.apply(lambda x : math.sqrt(x))    #sigma is the standard deviation\n",
    "\treturn sigma\n",
    "\n",
    "def fetch_data(string1,string2,string3,filename):\n",
    "\tw = quandl.get(string1,authtoken = string2, start_date = string3)\n",
    "\tw.to_csv(filename)\n",
    "\tw = pd.read_csv(filename)\n",
    "\treturn w"
   ]
  },
  {
   "cell_type": "code",
   "execution_count": 6,
   "metadata": {},
   "outputs": [],
   "source": [
    "# S&P500 future data fetch from \"CHRIS/CME_SP1\" database\n",
    "Data1 = fetch_data(\"CHRIS/CME_SP1\", \"U_Gp39gZutpHmaFgC65Y\",\"2014-12-12\", \"local_future.csv\")\n",
    "Data = fetch_data(\"CBOE/SPX_PC\", \"U_Gp39gZutpHmaFgC65Y\", \"2014-12-12\", \"local_data.csv\")"
   ]
  },
  {
   "cell_type": "code",
   "execution_count": 7,
   "metadata": {},
   "outputs": [],
   "source": [
    "Data['future'] = Data1['Last']\n",
    "Data['PCR'] = Data['S&P PUT-CALL RATIO'] # PCR IS Put Call Ratio\n"
   ]
  },
  {
   "cell_type": "code",
   "execution_count": 8,
   "metadata": {},
   "outputs": [
    {
     "data": {
      "text/html": [
       "<div>\n",
       "<style scoped>\n",
       "    .dataframe tbody tr th:only-of-type {\n",
       "        vertical-align: middle;\n",
       "    }\n",
       "\n",
       "    .dataframe tbody tr th {\n",
       "        vertical-align: top;\n",
       "    }\n",
       "\n",
       "    .dataframe thead th {\n",
       "        text-align: right;\n",
       "    }\n",
       "</style>\n",
       "<table border=\"1\" class=\"dataframe\">\n",
       "  <thead>\n",
       "    <tr style=\"text-align: right;\">\n",
       "      <th></th>\n",
       "      <th>Date</th>\n",
       "      <th>S&amp;P PUT-CALL RATIO</th>\n",
       "      <th>S&amp;P PUT VOLUME</th>\n",
       "      <th>S&amp;P CALL VOLUME</th>\n",
       "      <th>PREV. DAY OPEN INTEREST</th>\n",
       "      <th>future</th>\n",
       "      <th>PCR</th>\n",
       "    </tr>\n",
       "  </thead>\n",
       "  <tbody>\n",
       "    <tr>\n",
       "      <th>0</th>\n",
       "      <td>2014-12-12</td>\n",
       "      <td>2.49</td>\n",
       "      <td>1072264.0</td>\n",
       "      <td>430079.0</td>\n",
       "      <td>1502343.0</td>\n",
       "      <td>1997.5</td>\n",
       "      <td>2.49</td>\n",
       "    </tr>\n",
       "    <tr>\n",
       "      <th>1</th>\n",
       "      <td>2014-12-15</td>\n",
       "      <td>2.46</td>\n",
       "      <td>913199.0</td>\n",
       "      <td>371125.0</td>\n",
       "      <td>1284324.0</td>\n",
       "      <td>1991.0</td>\n",
       "      <td>2.46</td>\n",
       "    </tr>\n",
       "  </tbody>\n",
       "</table>\n",
       "</div>"
      ],
      "text/plain": [
       "         Date  S&P PUT-CALL RATIO  S&P PUT VOLUME  S&P CALL VOLUME  \\\n",
       "0  2014-12-12                2.49       1072264.0         430079.0   \n",
       "1  2014-12-15                2.46        913199.0         371125.0   \n",
       "\n",
       "   PREV. DAY OPEN INTEREST  future   PCR  \n",
       "0                1502343.0  1997.5  2.49  \n",
       "1                1284324.0  1991.0  2.46  "
      ]
     },
     "execution_count": 8,
     "metadata": {},
     "output_type": "execute_result"
    }
   ],
   "source": [
    "Data.head(2)            "
   ]
  },
  {
   "cell_type": "markdown",
   "metadata": {},
   "source": [
    "### Initialize variables which will be used later"
   ]
  },
  {
   "cell_type": "code",
   "execution_count": 9,
   "metadata": {},
   "outputs": [],
   "source": [
    "sma = 20 #............................the moving average window length\n",
    "k = 1 # ..............................constant representing 'k' times sigma away from moving average(for Bollinger Bands)\n",
    "l = 1 #...............................constant representing 'l' times sigma away from Bollinger bands( for stoploss band)\n",
    "flag = 1 #............................flag is there to begin first transaction--- transaction should start with LBB/UBB crossing only\n",
    "pro = 0 #.............................profit variable\n",
    "transaction_start_price = 0\n",
    "buy_flag = False \n",
    "sell_flag = False\n",
    "abs_SL = 5\n",
    "mtm = list()\n",
    "order = list()#...........................order is  a list which contains the orders:- BUY/SELL/DO_Nothing\n",
    "profit = list()\n",
    "buy_sell = list()\n",
    "stoploss = list()\n",
    "trade_cause = list()\n",
    "order_details = list()\n"
   ]
  },
  {
   "cell_type": "code",
   "execution_count": 10,
   "metadata": {},
   "outputs": [],
   "source": [
    "\n",
    "Data['mAvg'] = Data['PCR'].rolling(sma).mean()   #calculating the moving average of the PCR\n",
    "Data['PCR_prev'] = Data['PCR'].shift(1)          #moving average shifted ahead to check for crossover\n",
    "\n",
    "\n",
    "sigma = variance_calculator(Data['PCR'],Data['mAvg'],sma)#calculating the standard deviation\n",
    "k_sigma = k*sigma\n",
    "l_sigma = l*sigma\n",
    "\n",
    "Data['UBB'] = Data['mAvg'].add(k_sigma) #.........upper bollinger band\n",
    "Data['USL'] = Data['UBB'].add(l_sigma)#...........upper stoploss band\n",
    "Data['LBB'] = Data['mAvg'].subtract(k_sigma)#.....lower bollinger band\n",
    "Data['LSL'] = Data['LBB'].subtract(l_sigma)#......lower stoploss band\n",
    "Data['order'] = pd.Series() #.....................order is  a list which contains the orders:- BUY/SELL/DO_Nothing\n",
    "\n",
    "s = Data['PCR'].size#.................size of the PCR series"
   ]
  },
  {
   "cell_type": "code",
   "execution_count": 16,
   "metadata": {
    "scrolled": true
   },
   "outputs": [],
   "source": [
    "for i in range(s):\n",
    "\tpro = 0 # profit at each trade\n",
    "\t#variables to be used for comarison\n",
    "\tfuture_cost = Data['future'][i]#...........cost of big S&P 500 futures bought\n",
    "\tPCR      =   Data['PCR'][i]#...............current putcall ratio value\n",
    "\tPCR_prev  =   Data['PCR_prev'][i]#.........previous day's put call ratio (for crossover check)\n",
    "\tLBB      =   Data['LBB'][i] #..............lower bollinger band\n",
    "\tUBB      =   Data['UBB'][i]#...............upper bollinger band\n",
    "\tmAvg     =   Data['mAvg'][i]#..............moving average\n",
    "\tUSL      =   Data['USL'][i]#...............upper stoploss band\n",
    "\tLSL      =   Data['LSL'][i] #..............lower stoploss band\n",
    "    \n",
    "    #comparisons stored as boolean variables to place order accordingly\n",
    "\tUBB_cross        =   (PCR > UBB) and (PCR_prev < UBB)# .......Check if PCR crosses upper bollinger band\n",
    "\tLBB_cross        =   (PCR < LBB) and (PCR_prev > LBB)# .......Check if PCR crosses lower bollinger band\n",
    "\tmAvg_cross_up    =   (PCR > mAvg) and (PCR_prev < mAvg)#......Check if PCR crosses moving average low to high\n",
    "\tmAvg_cross_down  =   (PCR < mAvg) and (PCR_prev > mAvg)#......Check if PCR crosses moving average high to low\n",
    "\tUSL_cross        =   (PCR > USL)  and  (PCR_prev < USL)#......Check if PCR crosses upper stoploss band\n",
    "\tLSL_cross        =   (PCR < LSL)  and  (PCR_prev > LSL)#......Check if PCR crosses lower stoploss band\n",
    "    \n",
    "\tif(UBB_cross and (not buy_flag) and flag ==1): #...........places \"BUY\" order if PCR crosses upper bollinger band to open a trade\n",
    "\t\tflag = 0\n",
    "\t\tbuy_flag = True      \n",
    "\t\tsell_flag = False\n",
    "\t\ttransaction_start_price = future_cost #............price at which S&P 500 future bought when order is placed\n",
    "\t\torder_details = [1,\"Buy\" , \"UBB crossed\" , \"0\" , \"position taken\"]\n",
    "\t\n",
    "\telif (LBB_cross and (not sell_flag) and flag ==1): #.......places \"SELL\" order if PCR crosses lower bollinger band to open a trade\n",
    "\t\tflag = 0\n",
    "\t\tsell_flag = True  \n",
    "\t\tbuy_flag = False\n",
    "\t\ttransaction_start_price = future_cost\n",
    "\t\torder_details = [-1,\"Sell\" , \"LBB crossed\" , \"0\" , \"position taken\"]\n",
    "\t\n",
    "\telif (mAvg_cross_up and flag==0 and (not buy_flag)) : #........places \"BUY\" order if PCR crosses mAvg from low to high to close a trade  \n",
    "\t\tflag = 1\n",
    "\t\tbuy_flag = False \n",
    "\t\tsell_flag = False\n",
    "\t\tpro = future_cost -transaction_start_price\n",
    "\t\torder_details = [1,\"Buy\" , \"mAvg crossed\" , \"0\" , \"position closed\"]\n",
    "\telif( LSL_cross and flag == 0 and (not buy_flag)):#......places \"BUY\" order if PCR crosses lower stoploss band to close a trade\n",
    "\t\tflag = 1\n",
    "\t\tbuy_flag = False\n",
    "\t\tsell_flag = False\n",
    "\t\tpro = future_cost - transaction_start_price\n",
    "\t\torder_details = [1,\"Buy\" , \"LSB crossed\" , \"stoploss executed\" , \"position closed\"]\n",
    "\telif( (future_cost - transaction_start_price) > abs_SL and flag == 0 and (not buy_flag)):#......places \"BUY \" order if PCR crosses lower stoploss absolute value\n",
    "\t\tflag = 1\n",
    "\t\tbuy_flag = False\n",
    "\t\tsell_flag = False\n",
    "\t\tpro = future_cost - transaction_start_price\n",
    "\t\torder_details = [1,\"Buy\" , \"LSB crossed\" , \"stoploss executed abs\" , \"position closed\"]\t\t\n",
    "\t\t\t\t\n",
    "\telif (mAvg_cross_down and flag==0 and (not sell_flag)):#.....places \"SELL\" order if PCR crosses mAvg from high to low to close a trade\n",
    "\t\tflag = 1\n",
    "\t\tsell_flag = False\n",
    "\t\tbuy_flag = False\n",
    "\t\tpro = -(Data['future'][i] - transaction_start_price)\n",
    "\t\torder_details = [-1,\"Sell\" , \"mAvg crossed (h to l)\" , \"0\" , \"position closed\"]\n",
    "\telif(USL_cross and flag==0 and (not sell_flag)):# ..places \"SELL\" order if PCR crosses upper stoploss band to close a trade\n",
    "\t\tflag = 1\n",
    "\t\tsell_flag = False\n",
    "\t\tbuy_flag = False\n",
    "\t\tpro = -(Data['future'][i] - transaction_start_price)\n",
    "\t\torder_details = [-1,\"Sell\" , \"USB crossed\" , \"stoploss executed\" , \"position closed\"]\n",
    "\t\n",
    "\telif((-future_cost + transaction_start_price) > abs_SL and flag==0 and (not sell_flag)):# ..places \"SELL\" order if PCR crosses upper stoploss absolute value\n",
    "\t\tflag = 1\n",
    "\t\tsell_flag = False\n",
    "\t\tbuy_flag = False\n",
    "\t\tpro = -(Data['future'][i] - transaction_start_price)\n",
    "\t\torder_details = [-1,\"Sell\" , \"USB crossed\" , \"stoploss executed_abs\" , \"position closed\"]\n",
    "\telse:\n",
    "\t\tif(buy_flag==0 and sell_flag==0): tempo = \"0\"\n",
    "\t\telse:\n",
    "\t\t\tif(buy_flag==1 and sell_flag==0): tempo = (Data['future'][i] -transaction_start_price) * 500\n",
    "\t\t\tif(buy_flag==0 and sell_flag==1): tempo= (-Data['future'][i] +transaction_start_price) * 500\n",
    "\t\torder_details = [0,\"No trade\" , \"no trade\" , \"0\" , tempo]\n",
    "\tprofit.append(pro)\n",
    "\torder.append(order_details[0])\n",
    "\tbuy_sell.append(order_details[1])\n",
    "\ttrade_cause.append(order_details[2])\n",
    "\tstoploss.append(order_details[3])\n",
    "\tmtm.append(order_details[4])\n"
   ]
  },
  {
   "cell_type": "code",
   "execution_count": 18,
   "metadata": {},
   "outputs": [
    {
     "name": "stdout",
     "output_type": "stream",
     "text": [
      "0           -0.0\n",
      "1           -0.0\n",
      "2           -0.0\n",
      "3           -0.0\n",
      "4           -0.0\n",
      "5           -0.0\n",
      "6           -0.0\n",
      "7           -0.0\n",
      "8           -0.0\n",
      "9           -0.0\n",
      "10          -0.0\n",
      "11          -0.0\n",
      "12          -0.0\n",
      "13          -0.0\n",
      "14          -0.0\n",
      "15          -0.0\n",
      "16          -0.0\n",
      "17          -0.0\n",
      "18          -0.0\n",
      "19          -0.0\n",
      "20          -0.0\n",
      "21          -0.0\n",
      "22          -0.0\n",
      "23          -0.0\n",
      "24          -0.0\n",
      "25          -0.0\n",
      "26          -0.0\n",
      "27          -0.0\n",
      "28          -0.0\n",
      "29          -0.0\n",
      "         ...    \n",
      "892    3727650.0\n",
      "893    5091150.0\n",
      "894    5091150.0\n",
      "895    5091150.0\n",
      "896    5091150.0\n",
      "897    5091150.0\n",
      "898    5091150.0\n",
      "899    5091150.0\n",
      "900    6490550.0\n",
      "901    6490550.0\n",
      "902    5092050.0\n",
      "903    6497550.0\n",
      "904    6497550.0\n",
      "905    6497550.0\n",
      "906    5097300.0\n",
      "907    5097300.0\n",
      "908    5097300.0\n",
      "909    6518050.0\n",
      "910    5096800.0\n",
      "911    5096800.0\n",
      "912    5096800.0\n",
      "913    5096800.0\n",
      "914    3691550.0\n",
      "915    3691550.0\n",
      "916    3691550.0\n",
      "917    5116600.0\n",
      "918    5116600.0\n",
      "919    5116600.0\n",
      "920    5116600.0\n",
      "921    3698350.0\n",
      "Name: out, Length: 922, dtype: float64\n"
     ]
    }
   ],
   "source": [
    "Data['placed_order'] = pd.Series(order) #...............................converting list to pandas series\n",
    "Data['cost'] = -(Data['placed_order'].multiply(Data['future'])) *500# ..cost at each transaction\n",
    "Data['out'] = Data['cost'].cumsum()# ...................................out is the cumulative cost profit/loss after transactions till now\n",
    "Data['buy_sell'] = pd.Series(buy_sell)\n",
    "Data['profit'] = -pd.Series(profit) * 500\n",
    "Data['stoploss'] = pd.Series(stoploss)\n",
    "Data['trade_cause']  = pd.Series(trade_cause)\n",
    "Data['mtm'] = pd.Series(mtm)\n",
    "print(Data['out'])\n"
   ]
  },
  {
   "cell_type": "code",
   "execution_count": 19,
   "metadata": {},
   "outputs": [],
   "source": [
    "\n",
    "output = pd.DataFrame() #....final output to be stored in excel file\n",
    "output['date'] = Data1['Date']\n",
    "output['Close'] = Data['future']\n",
    "output['PCR'] = Data['PCR']\n",
    "output['placed_order'] = Data['placed_order']\n",
    "output['buy_sell'] = Data['buy_sell']\n",
    "output['trade_cause'] =  Data['trade_cause']\n",
    "output['PnL'] = Data['profit']\n",
    "output['mtm'] = Data['mtm']\n",
    "output['stoploss'] = Data['stoploss']\n",
    "output['Cash Account'] = Data['out']\n",
    "output.to_excel('PCR_SL_output.xlsx', sheet_name='Sheet1')\n"
   ]
  },
  {
   "cell_type": "code",
   "execution_count": 20,
   "metadata": {},
   "outputs": [
    {
     "data": {
      "image/png": "[encoded data removed]",
      "text/plain": [
       "<Figure size 432x288 with 1 Axes>"
      ]
     },
     "metadata": {},
     "output_type": "display_data"
    }
   ],
   "source": [
    "\n",
    "#plt.plot(order)\n",
    "plt.plot(Data['PCR'])\n",
    "plt.plot(Data['mAvg'])\n",
    "plt.plot(Data['UBB'])\n",
    "plt.plot(Data['LBB'])\n",
    "#plt.plot(Data['out'])\n",
    "plt.show()"
   ]
  },
  {
   "cell_type": "code",
   "execution_count": null,
   "metadata": {},
   "outputs": [],
   "source": []
  }
 ],
 "metadata": {
  "kernelspec": {
   "display_name": "Python 3",
   "language": "python",
   "name": "python3"
  },
  "language_info": {
   "codemirror_mode": {
    "name": "ipython",
    "version": 3
   },
   "file_extension": ".py",
   "mimetype": "text/x-python",
   "name": "python",
   "nbconvert_exporter": "python",
   "pygments_lexer": "ipython3",
   "version": "3.6.4"
  }
 },
 "nbformat": 4,
 "nbformat_minor": 2
}
