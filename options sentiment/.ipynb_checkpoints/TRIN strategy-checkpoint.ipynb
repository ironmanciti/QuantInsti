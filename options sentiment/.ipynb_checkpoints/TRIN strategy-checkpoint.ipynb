{
 "cells": [
  {
   "cell_type": "code",
   "execution_count": 105,
   "metadata": {},
   "outputs": [],
   "source": [
    "import pandas as pd\n",
    "import quandl\n",
    "import matplotlib.pyplot as plt\n",
    "import math"
   ]
  },
  {
   "cell_type": "markdown",
   "metadata": {},
   "source": [
    "### Bolinger Band 그리기 위한 sigma 계산 helper function"
   ]
  },
  {
   "cell_type": "code",
   "execution_count": 192,
   "metadata": {},
   "outputs": [],
   "source": [
    "def variance_calculator(series, series_average, win_len):\n",
    "    sma = win_len\n",
    "    temp1 = series.subtract(series_average) # a-b\n",
    "    temp2 = temp1.apply(lambda x: x**2)    # (a-b)^2\n",
    "    temp3 = temp2.rolling(sma - 1).mean() # sum((a-b)^2) / (sma-1)\n",
    "    sigma = temp3.apply(lambda x: math.sqrt(x))  # standard deviation\n",
    "    return sigma"
   ]
  },
  {
   "cell_type": "markdown",
   "metadata": {},
   "source": [
    "### Quandl 에서 2015.1.1 부터의 매일의 S&P500 선물 지수 및 거래량 정보, 상승 주식 종목수/거래량, 하락 주식 종목수/거래량 download "
   ]
  },
  {
   "cell_type": "code",
   "execution_count": 142,
   "metadata": {},
   "outputs": [],
   "source": [
    "# S&P500 future data from \"CHRIS/CME_SP1\" database\n",
    "Data1 = quandl.get(\"CHRIS/CME_SP1\", authtoken=\"U_Gp39gZutpHmaFgC65Y\",\n",
    "                  start_date=\"2014-12-12\")\n",
    "# number of declining and advancing stocks\n",
    "declining = quandl.get(\"URC/NYSE_DEC\", authtoken=\"U_Gp39gZutpHmaFgC65Y\",\n",
    "                       start_date=\"2014-12-12\")\n",
    "advancing = quandl.get(\"URC/NYSE_ADV\", authtoken=\"U_Gp39gZutpHmaFgC65Y\",\n",
    "                       start_date=\"2014-12-12\")\n",
    "adv_vol = quandl.get(\"URC/NYSE_ADV_VOL\", authtoken=\"U_Gp39gZutpHmaFgC65Y\",\n",
    "                       start_date=\"2014-12-12\")\n",
    "dec_vol = quandl.get(\"URC/NYSE_DEC_VOL\", authtoken=\"U_Gp39gZutpHmaFgC65Y\",\n",
    "                       start_date=\"2014-12-12\")"
   ]
  },
  {
   "cell_type": "code",
   "execution_count": 143,
   "metadata": {},
   "outputs": [
    {
     "data": {
      "text/html": [
       "<div>\n",
       "<style scoped>\n",
       "    .dataframe tbody tr th:only-of-type {\n",
       "        vertical-align: middle;\n",
       "    }\n",
       "\n",
       "    .dataframe tbody tr th {\n",
       "        vertical-align: top;\n",
       "    }\n",
       "\n",
       "    .dataframe thead th {\n",
       "        text-align: right;\n",
       "    }\n",
       "</style>\n",
       "<table border=\"1\" class=\"dataframe\">\n",
       "  <thead>\n",
       "    <tr style=\"text-align: right;\">\n",
       "      <th></th>\n",
       "      <th>Open</th>\n",
       "      <th>High</th>\n",
       "      <th>Low</th>\n",
       "      <th>Last</th>\n",
       "      <th>Change</th>\n",
       "      <th>Settle</th>\n",
       "      <th>Volume</th>\n",
       "      <th>Previous Day Open Interest</th>\n",
       "    </tr>\n",
       "    <tr>\n",
       "      <th>Date</th>\n",
       "      <th></th>\n",
       "      <th></th>\n",
       "      <th></th>\n",
       "      <th></th>\n",
       "      <th></th>\n",
       "      <th></th>\n",
       "      <th></th>\n",
       "      <th></th>\n",
       "    </tr>\n",
       "  </thead>\n",
       "  <tbody>\n",
       "    <tr>\n",
       "      <th>2014-12-12</th>\n",
       "      <td>2020.5</td>\n",
       "      <td>2031.0</td>\n",
       "      <td>1997.5</td>\n",
       "      <td>1997.5</td>\n",
       "      <td>33.7</td>\n",
       "      <td>1997.2</td>\n",
       "      <td>28520.0</td>\n",
       "      <td>126742.0</td>\n",
       "    </tr>\n",
       "    <tr>\n",
       "      <th>2014-12-15</th>\n",
       "      <td>2013.5</td>\n",
       "      <td>2018.5</td>\n",
       "      <td>1982.0</td>\n",
       "      <td>1991.0</td>\n",
       "      <td>7.2</td>\n",
       "      <td>1990.0</td>\n",
       "      <td>18085.0</td>\n",
       "      <td>101988.0</td>\n",
       "    </tr>\n",
       "  </tbody>\n",
       "</table>\n",
       "</div>"
      ],
      "text/plain": [
       "              Open    High     Low    Last  Change  Settle   Volume  \\\n",
       "Date                                                                  \n",
       "2014-12-12  2020.5  2031.0  1997.5  1997.5    33.7  1997.2  28520.0   \n",
       "2014-12-15  2013.5  2018.5  1982.0  1991.0     7.2  1990.0  18085.0   \n",
       "\n",
       "            Previous Day Open Interest  \n",
       "Date                                    \n",
       "2014-12-12                    126742.0  \n",
       "2014-12-15                    101988.0  "
      ]
     },
     "execution_count": 143,
     "metadata": {},
     "output_type": "execute_result"
    }
   ],
   "source": [
    "Data1.head(2)"
   ]
  },
  {
   "cell_type": "code",
   "execution_count": 144,
   "metadata": {},
   "outputs": [
    {
     "data": {
      "text/html": [
       "<div>\n",
       "<style scoped>\n",
       "    .dataframe tbody tr th:only-of-type {\n",
       "        vertical-align: middle;\n",
       "    }\n",
       "\n",
       "    .dataframe tbody tr th {\n",
       "        vertical-align: top;\n",
       "    }\n",
       "\n",
       "    .dataframe thead th {\n",
       "        text-align: right;\n",
       "    }\n",
       "</style>\n",
       "<table border=\"1\" class=\"dataframe\">\n",
       "  <thead>\n",
       "    <tr style=\"text-align: right;\">\n",
       "      <th></th>\n",
       "      <th>Numbers of Stocks</th>\n",
       "    </tr>\n",
       "    <tr>\n",
       "      <th>Date</th>\n",
       "      <th></th>\n",
       "    </tr>\n",
       "  </thead>\n",
       "  <tbody>\n",
       "    <tr>\n",
       "      <th>2014-12-12</th>\n",
       "      <td>2519.0</td>\n",
       "    </tr>\n",
       "    <tr>\n",
       "      <th>2014-12-15</th>\n",
       "      <td>2407.0</td>\n",
       "    </tr>\n",
       "  </tbody>\n",
       "</table>\n",
       "</div>"
      ],
      "text/plain": [
       "            Numbers of Stocks\n",
       "Date                         \n",
       "2014-12-12             2519.0\n",
       "2014-12-15             2407.0"
      ]
     },
     "execution_count": 144,
     "metadata": {},
     "output_type": "execute_result"
    }
   ],
   "source": [
    "declining.head(2)"
   ]
  },
  {
   "cell_type": "code",
   "execution_count": 145,
   "metadata": {},
   "outputs": [
    {
     "data": {
      "text/html": [
       "<div>\n",
       "<style scoped>\n",
       "    .dataframe tbody tr th:only-of-type {\n",
       "        vertical-align: middle;\n",
       "    }\n",
       "\n",
       "    .dataframe tbody tr th {\n",
       "        vertical-align: top;\n",
       "    }\n",
       "\n",
       "    .dataframe thead th {\n",
       "        text-align: right;\n",
       "    }\n",
       "</style>\n",
       "<table border=\"1\" class=\"dataframe\">\n",
       "  <thead>\n",
       "    <tr style=\"text-align: right;\">\n",
       "      <th></th>\n",
       "      <th>Numbers of Stocks</th>\n",
       "    </tr>\n",
       "    <tr>\n",
       "      <th>Date</th>\n",
       "      <th></th>\n",
       "    </tr>\n",
       "  </thead>\n",
       "  <tbody>\n",
       "    <tr>\n",
       "      <th>2014-12-12</th>\n",
       "      <td>663.0</td>\n",
       "    </tr>\n",
       "    <tr>\n",
       "      <th>2014-12-15</th>\n",
       "      <td>778.0</td>\n",
       "    </tr>\n",
       "  </tbody>\n",
       "</table>\n",
       "</div>"
      ],
      "text/plain": [
       "            Numbers of Stocks\n",
       "Date                         \n",
       "2014-12-12              663.0\n",
       "2014-12-15              778.0"
      ]
     },
     "execution_count": 145,
     "metadata": {},
     "output_type": "execute_result"
    }
   ],
   "source": [
    "advancing.head(2)"
   ]
  },
  {
   "cell_type": "code",
   "execution_count": 146,
   "metadata": {},
   "outputs": [
    {
     "data": {
      "text/html": [
       "<div>\n",
       "<style scoped>\n",
       "    .dataframe tbody tr th:only-of-type {\n",
       "        vertical-align: middle;\n",
       "    }\n",
       "\n",
       "    .dataframe tbody tr th {\n",
       "        vertical-align: top;\n",
       "    }\n",
       "\n",
       "    .dataframe thead th {\n",
       "        text-align: right;\n",
       "    }\n",
       "</style>\n",
       "<table border=\"1\" class=\"dataframe\">\n",
       "  <thead>\n",
       "    <tr style=\"text-align: right;\">\n",
       "      <th></th>\n",
       "      <th>Numbers of Stocks</th>\n",
       "    </tr>\n",
       "    <tr>\n",
       "      <th>Date</th>\n",
       "      <th></th>\n",
       "    </tr>\n",
       "  </thead>\n",
       "  <tbody>\n",
       "    <tr>\n",
       "      <th>2014-12-12</th>\n",
       "      <td>713534163.0</td>\n",
       "    </tr>\n",
       "    <tr>\n",
       "      <th>2014-12-15</th>\n",
       "      <td>848258739.0</td>\n",
       "    </tr>\n",
       "  </tbody>\n",
       "</table>\n",
       "</div>"
      ],
      "text/plain": [
       "            Numbers of Stocks\n",
       "Date                         \n",
       "2014-12-12        713534163.0\n",
       "2014-12-15        848258739.0"
      ]
     },
     "execution_count": 146,
     "metadata": {},
     "output_type": "execute_result"
    }
   ],
   "source": [
    "adv_vol.head(2)"
   ]
  },
  {
   "cell_type": "code",
   "execution_count": 147,
   "metadata": {},
   "outputs": [
    {
     "data": {
      "text/html": [
       "<div>\n",
       "<style scoped>\n",
       "    .dataframe tbody tr th:only-of-type {\n",
       "        vertical-align: middle;\n",
       "    }\n",
       "\n",
       "    .dataframe tbody tr th {\n",
       "        vertical-align: top;\n",
       "    }\n",
       "\n",
       "    .dataframe thead th {\n",
       "        text-align: right;\n",
       "    }\n",
       "</style>\n",
       "<table border=\"1\" class=\"dataframe\">\n",
       "  <thead>\n",
       "    <tr style=\"text-align: right;\">\n",
       "      <th></th>\n",
       "      <th>Numbers of Stocks</th>\n",
       "    </tr>\n",
       "    <tr>\n",
       "      <th>Date</th>\n",
       "      <th></th>\n",
       "    </tr>\n",
       "  </thead>\n",
       "  <tbody>\n",
       "    <tr>\n",
       "      <th>2014-12-12</th>\n",
       "      <td>3.378800e+09</td>\n",
       "    </tr>\n",
       "    <tr>\n",
       "      <th>2014-12-15</th>\n",
       "      <td>3.433819e+09</td>\n",
       "    </tr>\n",
       "  </tbody>\n",
       "</table>\n",
       "</div>"
      ],
      "text/plain": [
       "            Numbers of Stocks\n",
       "Date                         \n",
       "2014-12-12       3.378800e+09\n",
       "2014-12-15       3.433819e+09"
      ]
     },
     "execution_count": 147,
     "metadata": {},
     "output_type": "execute_result"
    }
   ],
   "source": [
    "dec_vol.head(2)"
   ]
  },
  {
   "cell_type": "markdown",
   "metadata": {},
   "source": [
    "### merge all together"
   ]
  },
  {
   "cell_type": "code",
   "execution_count": 148,
   "metadata": {},
   "outputs": [],
   "source": [
    "Data = declining"
   ]
  },
  {
   "cell_type": "code",
   "execution_count": 149,
   "metadata": {},
   "outputs": [],
   "source": [
    "Data.columns = ['declining']"
   ]
  },
  {
   "cell_type": "code",
   "execution_count": 150,
   "metadata": {},
   "outputs": [],
   "source": [
    "Data['advancing'] = advancing['Numbers of Stocks']"
   ]
  },
  {
   "cell_type": "code",
   "execution_count": 151,
   "metadata": {},
   "outputs": [],
   "source": [
    "merged = Data.join(Data1)"
   ]
  },
  {
   "cell_type": "code",
   "execution_count": 152,
   "metadata": {},
   "outputs": [],
   "source": [
    "merged = merged.fillna(method='ffill')"
   ]
  },
  {
   "cell_type": "code",
   "execution_count": 153,
   "metadata": {},
   "outputs": [],
   "source": [
    "Data = merged"
   ]
  },
  {
   "cell_type": "code",
   "execution_count": 154,
   "metadata": {},
   "outputs": [
    {
     "data": {
      "text/html": [
       "<div>\n",
       "<style scoped>\n",
       "    .dataframe tbody tr th:only-of-type {\n",
       "        vertical-align: middle;\n",
       "    }\n",
       "\n",
       "    .dataframe tbody tr th {\n",
       "        vertical-align: top;\n",
       "    }\n",
       "\n",
       "    .dataframe thead th {\n",
       "        text-align: right;\n",
       "    }\n",
       "</style>\n",
       "<table border=\"1\" class=\"dataframe\">\n",
       "  <thead>\n",
       "    <tr style=\"text-align: right;\">\n",
       "      <th></th>\n",
       "      <th>declining</th>\n",
       "      <th>advancing</th>\n",
       "      <th>Open</th>\n",
       "      <th>High</th>\n",
       "      <th>Low</th>\n",
       "      <th>Last</th>\n",
       "      <th>Change</th>\n",
       "      <th>Settle</th>\n",
       "      <th>Volume</th>\n",
       "      <th>Previous Day Open Interest</th>\n",
       "    </tr>\n",
       "    <tr>\n",
       "      <th>Date</th>\n",
       "      <th></th>\n",
       "      <th></th>\n",
       "      <th></th>\n",
       "      <th></th>\n",
       "      <th></th>\n",
       "      <th></th>\n",
       "      <th></th>\n",
       "      <th></th>\n",
       "      <th></th>\n",
       "      <th></th>\n",
       "    </tr>\n",
       "  </thead>\n",
       "  <tbody>\n",
       "    <tr>\n",
       "      <th>2014-12-12</th>\n",
       "      <td>2519.0</td>\n",
       "      <td>663.0</td>\n",
       "      <td>2020.5</td>\n",
       "      <td>2031.0</td>\n",
       "      <td>1997.5</td>\n",
       "      <td>1997.5</td>\n",
       "      <td>33.7</td>\n",
       "      <td>1997.2</td>\n",
       "      <td>28520.0</td>\n",
       "      <td>126742.0</td>\n",
       "    </tr>\n",
       "    <tr>\n",
       "      <th>2014-12-15</th>\n",
       "      <td>2407.0</td>\n",
       "      <td>778.0</td>\n",
       "      <td>2013.5</td>\n",
       "      <td>2018.5</td>\n",
       "      <td>1982.0</td>\n",
       "      <td>1991.0</td>\n",
       "      <td>7.2</td>\n",
       "      <td>1990.0</td>\n",
       "      <td>18085.0</td>\n",
       "      <td>101988.0</td>\n",
       "    </tr>\n",
       "  </tbody>\n",
       "</table>\n",
       "</div>"
      ],
      "text/plain": [
       "            declining  advancing    Open    High     Low    Last  Change  \\\n",
       "Date                                                                       \n",
       "2014-12-12     2519.0      663.0  2020.5  2031.0  1997.5  1997.5    33.7   \n",
       "2014-12-15     2407.0      778.0  2013.5  2018.5  1982.0  1991.0     7.2   \n",
       "\n",
       "            Settle   Volume  Previous Day Open Interest  \n",
       "Date                                                     \n",
       "2014-12-12  1997.2  28520.0                    126742.0  \n",
       "2014-12-15  1990.0  18085.0                    101988.0  "
      ]
     },
     "execution_count": 154,
     "metadata": {},
     "output_type": "execute_result"
    }
   ],
   "source": [
    "Data.head(2)"
   ]
  },
  {
   "cell_type": "code",
   "execution_count": 155,
   "metadata": {},
   "outputs": [],
   "source": [
    "# find the TRIN value using the number and volume of advancing and declining stocks\n",
    "AD_ratio = Data['advancing'] / Data['declining']\n",
    "AD_vol_ratio = adv_vol['Numbers of Stocks'].divide(dec_vol['Numbers of Stocks'])"
   ]
  },
  {
   "cell_type": "code",
   "execution_count": 156,
   "metadata": {},
   "outputs": [],
   "source": [
    "TRIN = AD_ratio / AD_vol_ratio"
   ]
  },
  {
   "cell_type": "code",
   "execution_count": 157,
   "metadata": {},
   "outputs": [
    {
     "data": {
      "text/plain": [
       "Date\n",
       "2014-12-12    1.246330\n",
       "2014-12-15    1.308436\n",
       "dtype: float64"
      ]
     },
     "execution_count": 157,
     "metadata": {},
     "output_type": "execute_result"
    }
   ],
   "source": [
    "TRIN.head(2)"
   ]
  },
  {
   "cell_type": "code",
   "execution_count": 158,
   "metadata": {},
   "outputs": [],
   "source": [
    "Data['TRIN'] = TRIN"
   ]
  },
  {
   "cell_type": "code",
   "execution_count": 159,
   "metadata": {},
   "outputs": [
    {
     "data": {
      "text/html": [
       "<div>\n",
       "<style scoped>\n",
       "    .dataframe tbody tr th:only-of-type {\n",
       "        vertical-align: middle;\n",
       "    }\n",
       "\n",
       "    .dataframe tbody tr th {\n",
       "        vertical-align: top;\n",
       "    }\n",
       "\n",
       "    .dataframe thead th {\n",
       "        text-align: right;\n",
       "    }\n",
       "</style>\n",
       "<table border=\"1\" class=\"dataframe\">\n",
       "  <thead>\n",
       "    <tr style=\"text-align: right;\">\n",
       "      <th></th>\n",
       "      <th>declining</th>\n",
       "      <th>advancing</th>\n",
       "      <th>Open</th>\n",
       "      <th>High</th>\n",
       "      <th>Low</th>\n",
       "      <th>Last</th>\n",
       "      <th>Change</th>\n",
       "      <th>Settle</th>\n",
       "      <th>Volume</th>\n",
       "      <th>Previous Day Open Interest</th>\n",
       "      <th>TRIN</th>\n",
       "    </tr>\n",
       "    <tr>\n",
       "      <th>Date</th>\n",
       "      <th></th>\n",
       "      <th></th>\n",
       "      <th></th>\n",
       "      <th></th>\n",
       "      <th></th>\n",
       "      <th></th>\n",
       "      <th></th>\n",
       "      <th></th>\n",
       "      <th></th>\n",
       "      <th></th>\n",
       "      <th></th>\n",
       "    </tr>\n",
       "  </thead>\n",
       "  <tbody>\n",
       "    <tr>\n",
       "      <th>2014-12-12</th>\n",
       "      <td>2519.0</td>\n",
       "      <td>663.0</td>\n",
       "      <td>2020.5</td>\n",
       "      <td>2031.0</td>\n",
       "      <td>1997.5</td>\n",
       "      <td>1997.5</td>\n",
       "      <td>33.7</td>\n",
       "      <td>1997.2</td>\n",
       "      <td>28520.0</td>\n",
       "      <td>126742.0</td>\n",
       "      <td>1.246330</td>\n",
       "    </tr>\n",
       "    <tr>\n",
       "      <th>2014-12-15</th>\n",
       "      <td>2407.0</td>\n",
       "      <td>778.0</td>\n",
       "      <td>2013.5</td>\n",
       "      <td>2018.5</td>\n",
       "      <td>1982.0</td>\n",
       "      <td>1991.0</td>\n",
       "      <td>7.2</td>\n",
       "      <td>1990.0</td>\n",
       "      <td>18085.0</td>\n",
       "      <td>101988.0</td>\n",
       "      <td>1.308436</td>\n",
       "    </tr>\n",
       "  </tbody>\n",
       "</table>\n",
       "</div>"
      ],
      "text/plain": [
       "            declining  advancing    Open    High     Low    Last  Change  \\\n",
       "Date                                                                       \n",
       "2014-12-12     2519.0      663.0  2020.5  2031.0  1997.5  1997.5    33.7   \n",
       "2014-12-15     2407.0      778.0  2013.5  2018.5  1982.0  1991.0     7.2   \n",
       "\n",
       "            Settle   Volume  Previous Day Open Interest      TRIN  \n",
       "Date                                                               \n",
       "2014-12-12  1997.2  28520.0                    126742.0  1.246330  \n",
       "2014-12-15  1990.0  18085.0                    101988.0  1.308436  "
      ]
     },
     "execution_count": 159,
     "metadata": {},
     "output_type": "execute_result"
    }
   ],
   "source": [
    "Data.head(2)"
   ]
  },
  {
   "cell_type": "markdown",
   "metadata": {},
   "source": [
    "### TRIN 은 lopsided 한 속성이 있으므로 log 를 취해 normalize 해 준다"
   ]
  },
  {
   "cell_type": "code",
   "execution_count": 160,
   "metadata": {},
   "outputs": [],
   "source": [
    "Data['TRIN'] = Data['TRIN'].apply(lambda x: math.log(x))"
   ]
  },
  {
   "cell_type": "code",
   "execution_count": 161,
   "metadata": {},
   "outputs": [
    {
     "data": {
      "text/html": [
       "<div>\n",
       "<style scoped>\n",
       "    .dataframe tbody tr th:only-of-type {\n",
       "        vertical-align: middle;\n",
       "    }\n",
       "\n",
       "    .dataframe tbody tr th {\n",
       "        vertical-align: top;\n",
       "    }\n",
       "\n",
       "    .dataframe thead th {\n",
       "        text-align: right;\n",
       "    }\n",
       "</style>\n",
       "<table border=\"1\" class=\"dataframe\">\n",
       "  <thead>\n",
       "    <tr style=\"text-align: right;\">\n",
       "      <th></th>\n",
       "      <th>declining</th>\n",
       "      <th>advancing</th>\n",
       "      <th>Open</th>\n",
       "      <th>High</th>\n",
       "      <th>Low</th>\n",
       "      <th>Last</th>\n",
       "      <th>Change</th>\n",
       "      <th>Settle</th>\n",
       "      <th>Volume</th>\n",
       "      <th>Previous Day Open Interest</th>\n",
       "      <th>TRIN</th>\n",
       "    </tr>\n",
       "    <tr>\n",
       "      <th>Date</th>\n",
       "      <th></th>\n",
       "      <th></th>\n",
       "      <th></th>\n",
       "      <th></th>\n",
       "      <th></th>\n",
       "      <th></th>\n",
       "      <th></th>\n",
       "      <th></th>\n",
       "      <th></th>\n",
       "      <th></th>\n",
       "      <th></th>\n",
       "    </tr>\n",
       "  </thead>\n",
       "  <tbody>\n",
       "    <tr>\n",
       "      <th>2014-12-12</th>\n",
       "      <td>2519.0</td>\n",
       "      <td>663.0</td>\n",
       "      <td>2020.5</td>\n",
       "      <td>2031.0</td>\n",
       "      <td>1997.5</td>\n",
       "      <td>1997.5</td>\n",
       "      <td>33.7</td>\n",
       "      <td>1997.2</td>\n",
       "      <td>28520.0</td>\n",
       "      <td>126742.0</td>\n",
       "      <td>0.220203</td>\n",
       "    </tr>\n",
       "    <tr>\n",
       "      <th>2014-12-15</th>\n",
       "      <td>2407.0</td>\n",
       "      <td>778.0</td>\n",
       "      <td>2013.5</td>\n",
       "      <td>2018.5</td>\n",
       "      <td>1982.0</td>\n",
       "      <td>1991.0</td>\n",
       "      <td>7.2</td>\n",
       "      <td>1990.0</td>\n",
       "      <td>18085.0</td>\n",
       "      <td>101988.0</td>\n",
       "      <td>0.268833</td>\n",
       "    </tr>\n",
       "  </tbody>\n",
       "</table>\n",
       "</div>"
      ],
      "text/plain": [
       "            declining  advancing    Open    High     Low    Last  Change  \\\n",
       "Date                                                                       \n",
       "2014-12-12     2519.0      663.0  2020.5  2031.0  1997.5  1997.5    33.7   \n",
       "2014-12-15     2407.0      778.0  2013.5  2018.5  1982.0  1991.0     7.2   \n",
       "\n",
       "            Settle   Volume  Previous Day Open Interest      TRIN  \n",
       "Date                                                               \n",
       "2014-12-12  1997.2  28520.0                    126742.0  0.220203  \n",
       "2014-12-15  1990.0  18085.0                    101988.0  0.268833  "
      ]
     },
     "execution_count": 161,
     "metadata": {},
     "output_type": "execute_result"
    }
   ],
   "source": [
    "Data.head(2)"
   ]
  },
  {
   "cell_type": "markdown",
   "metadata": {},
   "source": [
    "### S&P500 선물의 closing value (Last) 를 buy/sell order 시의 선물 가격으로 사용하기 위해 새로운 future column 생성하고 완성된 Data 를 csv file 로 저장함"
   ]
  },
  {
   "cell_type": "code",
   "execution_count": 162,
   "metadata": {},
   "outputs": [],
   "source": [
    "Data['future'] = Data['Last']"
   ]
  },
  {
   "cell_type": "code",
   "execution_count": 163,
   "metadata": {},
   "outputs": [
    {
     "data": {
      "text/html": [
       "<div>\n",
       "<style scoped>\n",
       "    .dataframe tbody tr th:only-of-type {\n",
       "        vertical-align: middle;\n",
       "    }\n",
       "\n",
       "    .dataframe tbody tr th {\n",
       "        vertical-align: top;\n",
       "    }\n",
       "\n",
       "    .dataframe thead th {\n",
       "        text-align: right;\n",
       "    }\n",
       "</style>\n",
       "<table border=\"1\" class=\"dataframe\">\n",
       "  <thead>\n",
       "    <tr style=\"text-align: right;\">\n",
       "      <th></th>\n",
       "      <th>declining</th>\n",
       "      <th>advancing</th>\n",
       "      <th>Open</th>\n",
       "      <th>High</th>\n",
       "      <th>Low</th>\n",
       "      <th>Last</th>\n",
       "      <th>Change</th>\n",
       "      <th>Settle</th>\n",
       "      <th>Volume</th>\n",
       "      <th>Previous Day Open Interest</th>\n",
       "      <th>TRIN</th>\n",
       "      <th>future</th>\n",
       "    </tr>\n",
       "    <tr>\n",
       "      <th>Date</th>\n",
       "      <th></th>\n",
       "      <th></th>\n",
       "      <th></th>\n",
       "      <th></th>\n",
       "      <th></th>\n",
       "      <th></th>\n",
       "      <th></th>\n",
       "      <th></th>\n",
       "      <th></th>\n",
       "      <th></th>\n",
       "      <th></th>\n",
       "      <th></th>\n",
       "    </tr>\n",
       "  </thead>\n",
       "  <tbody>\n",
       "    <tr>\n",
       "      <th>2014-12-12</th>\n",
       "      <td>2519.0</td>\n",
       "      <td>663.0</td>\n",
       "      <td>2020.5</td>\n",
       "      <td>2031.0</td>\n",
       "      <td>1997.5</td>\n",
       "      <td>1997.5</td>\n",
       "      <td>33.7</td>\n",
       "      <td>1997.2</td>\n",
       "      <td>28520.0</td>\n",
       "      <td>126742.0</td>\n",
       "      <td>0.220203</td>\n",
       "      <td>1997.5</td>\n",
       "    </tr>\n",
       "    <tr>\n",
       "      <th>2014-12-15</th>\n",
       "      <td>2407.0</td>\n",
       "      <td>778.0</td>\n",
       "      <td>2013.5</td>\n",
       "      <td>2018.5</td>\n",
       "      <td>1982.0</td>\n",
       "      <td>1991.0</td>\n",
       "      <td>7.2</td>\n",
       "      <td>1990.0</td>\n",
       "      <td>18085.0</td>\n",
       "      <td>101988.0</td>\n",
       "      <td>0.268833</td>\n",
       "      <td>1991.0</td>\n",
       "    </tr>\n",
       "  </tbody>\n",
       "</table>\n",
       "</div>"
      ],
      "text/plain": [
       "            declining  advancing    Open    High     Low    Last  Change  \\\n",
       "Date                                                                       \n",
       "2014-12-12     2519.0      663.0  2020.5  2031.0  1997.5  1997.5    33.7   \n",
       "2014-12-15     2407.0      778.0  2013.5  2018.5  1982.0  1991.0     7.2   \n",
       "\n",
       "            Settle   Volume  Previous Day Open Interest      TRIN  future  \n",
       "Date                                                                       \n",
       "2014-12-12  1997.2  28520.0                    126742.0  0.220203  1997.5  \n",
       "2014-12-15  1990.0  18085.0                    101988.0  0.268833  1991.0  "
      ]
     },
     "execution_count": 163,
     "metadata": {},
     "output_type": "execute_result"
    }
   ],
   "source": [
    "Data.head(2)"
   ]
  },
  {
   "cell_type": "code",
   "execution_count": 171,
   "metadata": {},
   "outputs": [],
   "source": [
    "Data.to_csv('tempr.csv')"
   ]
  },
  {
   "cell_type": "code",
   "execution_count": 172,
   "metadata": {},
   "outputs": [],
   "source": [
    "Data = pd.read_csv('tempr.csv', index_col='Date')"
   ]
  },
  {
   "cell_type": "code",
   "execution_count": 173,
   "metadata": {},
   "outputs": [
    {
     "data": {
      "text/html": [
       "<div>\n",
       "<style scoped>\n",
       "    .dataframe tbody tr th:only-of-type {\n",
       "        vertical-align: middle;\n",
       "    }\n",
       "\n",
       "    .dataframe tbody tr th {\n",
       "        vertical-align: top;\n",
       "    }\n",
       "\n",
       "    .dataframe thead th {\n",
       "        text-align: right;\n",
       "    }\n",
       "</style>\n",
       "<table border=\"1\" class=\"dataframe\">\n",
       "  <thead>\n",
       "    <tr style=\"text-align: right;\">\n",
       "      <th></th>\n",
       "      <th>declining</th>\n",
       "      <th>advancing</th>\n",
       "      <th>Open</th>\n",
       "      <th>High</th>\n",
       "      <th>Low</th>\n",
       "      <th>Last</th>\n",
       "      <th>Change</th>\n",
       "      <th>Settle</th>\n",
       "      <th>Volume</th>\n",
       "      <th>Previous Day Open Interest</th>\n",
       "      <th>TRIN</th>\n",
       "      <th>future</th>\n",
       "    </tr>\n",
       "    <tr>\n",
       "      <th>Date</th>\n",
       "      <th></th>\n",
       "      <th></th>\n",
       "      <th></th>\n",
       "      <th></th>\n",
       "      <th></th>\n",
       "      <th></th>\n",
       "      <th></th>\n",
       "      <th></th>\n",
       "      <th></th>\n",
       "      <th></th>\n",
       "      <th></th>\n",
       "      <th></th>\n",
       "    </tr>\n",
       "  </thead>\n",
       "  <tbody>\n",
       "    <tr>\n",
       "      <th>2014-12-12</th>\n",
       "      <td>2519.0</td>\n",
       "      <td>663.0</td>\n",
       "      <td>2020.5</td>\n",
       "      <td>2031.0</td>\n",
       "      <td>1997.5</td>\n",
       "      <td>1997.5</td>\n",
       "      <td>33.7</td>\n",
       "      <td>1997.2</td>\n",
       "      <td>28520.0</td>\n",
       "      <td>126742.0</td>\n",
       "      <td>0.220203</td>\n",
       "      <td>1997.5</td>\n",
       "    </tr>\n",
       "    <tr>\n",
       "      <th>2014-12-15</th>\n",
       "      <td>2407.0</td>\n",
       "      <td>778.0</td>\n",
       "      <td>2013.5</td>\n",
       "      <td>2018.5</td>\n",
       "      <td>1982.0</td>\n",
       "      <td>1991.0</td>\n",
       "      <td>7.2</td>\n",
       "      <td>1990.0</td>\n",
       "      <td>18085.0</td>\n",
       "      <td>101988.0</td>\n",
       "      <td>0.268833</td>\n",
       "      <td>1991.0</td>\n",
       "    </tr>\n",
       "  </tbody>\n",
       "</table>\n",
       "</div>"
      ],
      "text/plain": [
       "            declining  advancing    Open    High     Low    Last  Change  \\\n",
       "Date                                                                       \n",
       "2014-12-12     2519.0      663.0  2020.5  2031.0  1997.5  1997.5    33.7   \n",
       "2014-12-15     2407.0      778.0  2013.5  2018.5  1982.0  1991.0     7.2   \n",
       "\n",
       "            Settle   Volume  Previous Day Open Interest      TRIN  future  \n",
       "Date                                                                       \n",
       "2014-12-12  1997.2  28520.0                    126742.0  0.220203  1997.5  \n",
       "2014-12-15  1990.0  18085.0                    101988.0  0.268833  1991.0  "
      ]
     },
     "execution_count": 173,
     "metadata": {},
     "output_type": "execute_result"
    }
   ],
   "source": [
    "Data.head(2)"
   ]
  },
  {
   "cell_type": "markdown",
   "metadata": {},
   "source": [
    "### Initialize variables which will be used later"
   ]
  },
  {
   "cell_type": "code",
   "execution_count": 174,
   "metadata": {},
   "outputs": [],
   "source": [
    "sma = 22 # moving average window length\n",
    "k = 1.5  # Bollinger band 작성시 sigma 의 몇배를 적용할 것인가 하는 상수\n",
    "l = 2    # Bollinger band 에서 sigma 의 몇배에서 stop loss 할 것인지 정하는 상수\n",
    "pro = 0  # profit\n",
    "flag = 1 # first transaction 을 하기 위한 flag. 거래는 LBB/UBB crossing over 에서만 시작함\n",
    "buy_flag = False\n",
    "sell_flag = False\n",
    "transaction_start_price = 0\n",
    "abs_SL = 25 # absolute stop loss 값\n",
    "mtm = list()\n",
    "order_details = list()\n",
    "order = list()  # orders list : BUY/SELL/DO_nothing\n",
    "profit = list()\n",
    "buy_sell = list()\n",
    "stop_loss = list()\n",
    "trade_cause = list()"
   ]
  },
  {
   "cell_type": "code",
   "execution_count": 175,
   "metadata": {},
   "outputs": [],
   "source": [
    "Data['mAvg'] = Data['TRIN'].rolling(sma).mean()   # moving average of TRIN"
   ]
  },
  {
   "cell_type": "code",
   "execution_count": 176,
   "metadata": {},
   "outputs": [],
   "source": [
    "Data['TRIN_prev'] = Data['TRIN'].shift(1)"
   ]
  },
  {
   "cell_type": "code",
   "execution_count": 177,
   "metadata": {},
   "outputs": [
    {
     "data": {
      "text/html": [
       "<div>\n",
       "<style scoped>\n",
       "    .dataframe tbody tr th:only-of-type {\n",
       "        vertical-align: middle;\n",
       "    }\n",
       "\n",
       "    .dataframe tbody tr th {\n",
       "        vertical-align: top;\n",
       "    }\n",
       "\n",
       "    .dataframe thead th {\n",
       "        text-align: right;\n",
       "    }\n",
       "</style>\n",
       "<table border=\"1\" class=\"dataframe\">\n",
       "  <thead>\n",
       "    <tr style=\"text-align: right;\">\n",
       "      <th></th>\n",
       "      <th>declining</th>\n",
       "      <th>advancing</th>\n",
       "      <th>Open</th>\n",
       "      <th>High</th>\n",
       "      <th>Low</th>\n",
       "      <th>Last</th>\n",
       "      <th>Change</th>\n",
       "      <th>Settle</th>\n",
       "      <th>Volume</th>\n",
       "      <th>Previous Day Open Interest</th>\n",
       "      <th>TRIN</th>\n",
       "      <th>future</th>\n",
       "      <th>mAvg</th>\n",
       "      <th>TRIN_prev</th>\n",
       "    </tr>\n",
       "    <tr>\n",
       "      <th>Date</th>\n",
       "      <th></th>\n",
       "      <th></th>\n",
       "      <th></th>\n",
       "      <th></th>\n",
       "      <th></th>\n",
       "      <th></th>\n",
       "      <th></th>\n",
       "      <th></th>\n",
       "      <th></th>\n",
       "      <th></th>\n",
       "      <th></th>\n",
       "      <th></th>\n",
       "      <th></th>\n",
       "      <th></th>\n",
       "    </tr>\n",
       "  </thead>\n",
       "  <tbody>\n",
       "    <tr>\n",
       "      <th>2014-12-12</th>\n",
       "      <td>2519.0</td>\n",
       "      <td>663.0</td>\n",
       "      <td>2020.5</td>\n",
       "      <td>2031.0</td>\n",
       "      <td>1997.5</td>\n",
       "      <td>1997.5</td>\n",
       "      <td>33.7</td>\n",
       "      <td>1997.2</td>\n",
       "      <td>28520.0</td>\n",
       "      <td>126742.0</td>\n",
       "      <td>0.220203</td>\n",
       "      <td>1997.5</td>\n",
       "      <td>NaN</td>\n",
       "      <td>NaN</td>\n",
       "    </tr>\n",
       "    <tr>\n",
       "      <th>2014-12-15</th>\n",
       "      <td>2407.0</td>\n",
       "      <td>778.0</td>\n",
       "      <td>2013.5</td>\n",
       "      <td>2018.5</td>\n",
       "      <td>1982.0</td>\n",
       "      <td>1991.0</td>\n",
       "      <td>7.2</td>\n",
       "      <td>1990.0</td>\n",
       "      <td>18085.0</td>\n",
       "      <td>101988.0</td>\n",
       "      <td>0.268833</td>\n",
       "      <td>1991.0</td>\n",
       "      <td>NaN</td>\n",
       "      <td>0.220203</td>\n",
       "    </tr>\n",
       "  </tbody>\n",
       "</table>\n",
       "</div>"
      ],
      "text/plain": [
       "            declining  advancing    Open    High     Low    Last  Change  \\\n",
       "Date                                                                       \n",
       "2014-12-12     2519.0      663.0  2020.5  2031.0  1997.5  1997.5    33.7   \n",
       "2014-12-15     2407.0      778.0  2013.5  2018.5  1982.0  1991.0     7.2   \n",
       "\n",
       "            Settle   Volume  Previous Day Open Interest      TRIN  future  \\\n",
       "Date                                                                        \n",
       "2014-12-12  1997.2  28520.0                    126742.0  0.220203  1997.5   \n",
       "2014-12-15  1990.0  18085.0                    101988.0  0.268833  1991.0   \n",
       "\n",
       "            mAvg  TRIN_prev  \n",
       "Date                         \n",
       "2014-12-12   NaN        NaN  \n",
       "2014-12-15   NaN   0.220203  "
      ]
     },
     "execution_count": 177,
     "metadata": {},
     "output_type": "execute_result"
    }
   ],
   "source": [
    "Data.head(2)"
   ]
  },
  {
   "cell_type": "code",
   "execution_count": 178,
   "metadata": {},
   "outputs": [],
   "source": [
    "Data.to_csv('tempr.csv')"
   ]
  },
  {
   "cell_type": "code",
   "execution_count": 180,
   "metadata": {},
   "outputs": [],
   "source": [
    "Data = pd.read_csv('tempr.csv', index_col='Date')"
   ]
  },
  {
   "cell_type": "code",
   "execution_count": 193,
   "metadata": {},
   "outputs": [],
   "source": [
    "sigma = variance_calculator(Data['TRIN'], Data['mAvg'], sma)  # standard deviation"
   ]
  },
  {
   "cell_type": "code",
   "execution_count": 195,
   "metadata": {},
   "outputs": [],
   "source": [
    "k_sigma = k * sigma\n",
    "l_sigma = l * sigma"
   ]
  },
  {
   "cell_type": "code",
   "execution_count": 205,
   "metadata": {},
   "outputs": [],
   "source": [
    "Data['UBB'] = Data['mAvg'].add(k_sigma)       # Upper Bolinger Band\n",
    "Data['LBB'] = Data['mAvg'].subtract(k_sigma)  # Lower Bolinger Band\n",
    "Data['USL'] = Data['UBB'].add(l_sigma)        # Upper Stop Loss Band\n",
    "Data['LSL'] = Data['LBB'].subtract(l_sigma)   # Lower Stop Loss Band"
   ]
  },
  {
   "cell_type": "code",
   "execution_count": 216,
   "metadata": {},
   "outputs": [
    {
     "data": {
      "text/html": [
       "<div>\n",
       "<style scoped>\n",
       "    .dataframe tbody tr th:only-of-type {\n",
       "        vertical-align: middle;\n",
       "    }\n",
       "\n",
       "    .dataframe tbody tr th {\n",
       "        vertical-align: top;\n",
       "    }\n",
       "\n",
       "    .dataframe thead th {\n",
       "        text-align: right;\n",
       "    }\n",
       "</style>\n",
       "<table border=\"1\" class=\"dataframe\">\n",
       "  <thead>\n",
       "    <tr style=\"text-align: right;\">\n",
       "      <th></th>\n",
       "      <th>declining</th>\n",
       "      <th>advancing</th>\n",
       "      <th>Open</th>\n",
       "      <th>High</th>\n",
       "      <th>Low</th>\n",
       "      <th>Last</th>\n",
       "      <th>Change</th>\n",
       "      <th>Settle</th>\n",
       "      <th>Volume</th>\n",
       "      <th>Previous Day Open Interest</th>\n",
       "      <th>TRIN</th>\n",
       "      <th>future</th>\n",
       "      <th>mAvg</th>\n",
       "      <th>TRIN_prev</th>\n",
       "      <th>UBB</th>\n",
       "      <th>LBB</th>\n",
       "      <th>USL</th>\n",
       "      <th>LSL</th>\n",
       "      <th>order</th>\n",
       "    </tr>\n",
       "    <tr>\n",
       "      <th>Date</th>\n",
       "      <th></th>\n",
       "      <th></th>\n",
       "      <th></th>\n",
       "      <th></th>\n",
       "      <th></th>\n",
       "      <th></th>\n",
       "      <th></th>\n",
       "      <th></th>\n",
       "      <th></th>\n",
       "      <th></th>\n",
       "      <th></th>\n",
       "      <th></th>\n",
       "      <th></th>\n",
       "      <th></th>\n",
       "      <th></th>\n",
       "      <th></th>\n",
       "      <th></th>\n",
       "      <th></th>\n",
       "      <th></th>\n",
       "    </tr>\n",
       "  </thead>\n",
       "  <tbody>\n",
       "    <tr>\n",
       "      <th>2018-08-06</th>\n",
       "      <td>1194.0</td>\n",
       "      <td>1767.0</td>\n",
       "      <td>2842.2</td>\n",
       "      <td>2852.3</td>\n",
       "      <td>2835.5</td>\n",
       "      <td>2850.1</td>\n",
       "      <td>10.6</td>\n",
       "      <td>2850.1</td>\n",
       "      <td>1123.0</td>\n",
       "      <td>63576.0</td>\n",
       "      <td>0.146224</td>\n",
       "      <td>2850.1</td>\n",
       "      <td>-0.051993</td>\n",
       "      <td>-0.270526</td>\n",
       "      <td>0.315712</td>\n",
       "      <td>-0.419697</td>\n",
       "      <td>0.805984</td>\n",
       "      <td>-0.909969</td>\n",
       "      <td>NaN</td>\n",
       "    </tr>\n",
       "    <tr>\n",
       "      <th>2018-08-07</th>\n",
       "      <td>1382.0</td>\n",
       "      <td>1566.0</td>\n",
       "      <td>2851.5</td>\n",
       "      <td>2863.0</td>\n",
       "      <td>2848.5</td>\n",
       "      <td>2860.0</td>\n",
       "      <td>9.6</td>\n",
       "      <td>2859.7</td>\n",
       "      <td>1282.0</td>\n",
       "      <td>64489.0</td>\n",
       "      <td>-0.073758</td>\n",
       "      <td>2860.0</td>\n",
       "      <td>-0.031113</td>\n",
       "      <td>0.146224</td>\n",
       "      <td>0.324332</td>\n",
       "      <td>-0.386559</td>\n",
       "      <td>0.798260</td>\n",
       "      <td>-0.860486</td>\n",
       "      <td>NaN</td>\n",
       "    </tr>\n",
       "  </tbody>\n",
       "</table>\n",
       "</div>"
      ],
      "text/plain": [
       "            declining  advancing    Open    High     Low    Last  Change  \\\n",
       "Date                                                                       \n",
       "2018-08-06     1194.0     1767.0  2842.2  2852.3  2835.5  2850.1    10.6   \n",
       "2018-08-07     1382.0     1566.0  2851.5  2863.0  2848.5  2860.0     9.6   \n",
       "\n",
       "            Settle  Volume  Previous Day Open Interest      TRIN  future  \\\n",
       "Date                                                                       \n",
       "2018-08-06  2850.1  1123.0                     63576.0  0.146224  2850.1   \n",
       "2018-08-07  2859.7  1282.0                     64489.0 -0.073758  2860.0   \n",
       "\n",
       "                mAvg  TRIN_prev       UBB       LBB       USL       LSL  order  \n",
       "Date                                                                            \n",
       "2018-08-06 -0.051993  -0.270526  0.315712 -0.419697  0.805984 -0.909969    NaN  \n",
       "2018-08-07 -0.031113   0.146224  0.324332 -0.386559  0.798260 -0.860486    NaN  "
      ]
     },
     "execution_count": 216,
     "metadata": {},
     "output_type": "execute_result"
    }
   ],
   "source": [
    "Data.tail(2)"
   ]
  },
  {
   "cell_type": "code",
   "execution_count": 218,
   "metadata": {},
   "outputs": [
    {
     "data": {
      "text/html": [
       "<div>\n",
       "<style scoped>\n",
       "    .dataframe tbody tr th:only-of-type {\n",
       "        vertical-align: middle;\n",
       "    }\n",
       "\n",
       "    .dataframe tbody tr th {\n",
       "        vertical-align: top;\n",
       "    }\n",
       "\n",
       "    .dataframe thead th {\n",
       "        text-align: right;\n",
       "    }\n",
       "</style>\n",
       "<table border=\"1\" class=\"dataframe\">\n",
       "  <thead>\n",
       "    <tr style=\"text-align: right;\">\n",
       "      <th></th>\n",
       "      <th>declining</th>\n",
       "      <th>advancing</th>\n",
       "      <th>Open</th>\n",
       "      <th>High</th>\n",
       "      <th>Low</th>\n",
       "      <th>Last</th>\n",
       "      <th>Change</th>\n",
       "      <th>Settle</th>\n",
       "      <th>Volume</th>\n",
       "      <th>Previous Day Open Interest</th>\n",
       "      <th>TRIN</th>\n",
       "      <th>future</th>\n",
       "      <th>mAvg</th>\n",
       "      <th>TRIN_prev</th>\n",
       "      <th>UBB</th>\n",
       "      <th>LBB</th>\n",
       "      <th>USL</th>\n",
       "      <th>LSL</th>\n",
       "      <th>order</th>\n",
       "    </tr>\n",
       "    <tr>\n",
       "      <th>Date</th>\n",
       "      <th></th>\n",
       "      <th></th>\n",
       "      <th></th>\n",
       "      <th></th>\n",
       "      <th></th>\n",
       "      <th></th>\n",
       "      <th></th>\n",
       "      <th></th>\n",
       "      <th></th>\n",
       "      <th></th>\n",
       "      <th></th>\n",
       "      <th></th>\n",
       "      <th></th>\n",
       "      <th></th>\n",
       "      <th></th>\n",
       "      <th></th>\n",
       "      <th></th>\n",
       "      <th></th>\n",
       "      <th></th>\n",
       "    </tr>\n",
       "  </thead>\n",
       "  <tbody>\n",
       "    <tr>\n",
       "      <th>2018-08-06</th>\n",
       "      <td>1194.0</td>\n",
       "      <td>1767.0</td>\n",
       "      <td>2842.2</td>\n",
       "      <td>2852.3</td>\n",
       "      <td>2835.5</td>\n",
       "      <td>2850.1</td>\n",
       "      <td>10.6</td>\n",
       "      <td>2850.1</td>\n",
       "      <td>1123.0</td>\n",
       "      <td>63576.0</td>\n",
       "      <td>0.146224</td>\n",
       "      <td>2850.1</td>\n",
       "      <td>-0.051993</td>\n",
       "      <td>-0.270526</td>\n",
       "      <td>0.315712</td>\n",
       "      <td>-0.419697</td>\n",
       "      <td>0.805984</td>\n",
       "      <td>-0.909969</td>\n",
       "      <td>NaN</td>\n",
       "    </tr>\n",
       "    <tr>\n",
       "      <th>2018-08-07</th>\n",
       "      <td>1382.0</td>\n",
       "      <td>1566.0</td>\n",
       "      <td>2851.5</td>\n",
       "      <td>2863.0</td>\n",
       "      <td>2848.5</td>\n",
       "      <td>2860.0</td>\n",
       "      <td>9.6</td>\n",
       "      <td>2859.7</td>\n",
       "      <td>1282.0</td>\n",
       "      <td>64489.0</td>\n",
       "      <td>-0.073758</td>\n",
       "      <td>2860.0</td>\n",
       "      <td>-0.031113</td>\n",
       "      <td>0.146224</td>\n",
       "      <td>0.324332</td>\n",
       "      <td>-0.386559</td>\n",
       "      <td>0.798260</td>\n",
       "      <td>-0.860486</td>\n",
       "      <td>NaN</td>\n",
       "    </tr>\n",
       "  </tbody>\n",
       "</table>\n",
       "</div>"
      ],
      "text/plain": [
       "            declining  advancing    Open    High     Low    Last  Change  \\\n",
       "Date                                                                       \n",
       "2018-08-06     1194.0     1767.0  2842.2  2852.3  2835.5  2850.1    10.6   \n",
       "2018-08-07     1382.0     1566.0  2851.5  2863.0  2848.5  2860.0     9.6   \n",
       "\n",
       "            Settle  Volume  Previous Day Open Interest      TRIN  future  \\\n",
       "Date                                                                       \n",
       "2018-08-06  2850.1  1123.0                     63576.0  0.146224  2850.1   \n",
       "2018-08-07  2859.7  1282.0                     64489.0 -0.073758  2860.0   \n",
       "\n",
       "                mAvg  TRIN_prev       UBB       LBB       USL       LSL  order  \n",
       "Date                                                                            \n",
       "2018-08-06 -0.051993  -0.270526  0.315712 -0.419697  0.805984 -0.909969    NaN  \n",
       "2018-08-07 -0.031113   0.146224  0.324332 -0.386559  0.798260 -0.860486    NaN  "
      ]
     },
     "execution_count": 218,
     "metadata": {},
     "output_type": "execute_result"
    }
   ],
   "source": [
    "Data.tail(2)"
   ]
  },
  {
   "cell_type": "code",
   "execution_count": 207,
   "metadata": {},
   "outputs": [],
   "source": [
    "Data['order'] = pd.Series()   # list of orders - BUY/SELL/DO_nothing"
   ]
  },
  {
   "cell_type": "code",
   "execution_count": 208,
   "metadata": {},
   "outputs": [],
   "source": [
    "s = Data['TRIN'].size"
   ]
  },
  {
   "cell_type": "code",
   "execution_count": 221,
   "metadata": {},
   "outputs": [],
   "source": [
    "for i in range(s):\n",
    "    pro = 0\n",
    "    future_cost = Data['future'][i]\n",
    "    TRIN = Data['TRIN'][i]\n",
    "    TRIN_prev = Data['TRIN_prev'][i]\n",
    "    LBB = Data['LBB'][i]\n",
    "    UBB = Data['UBB'][i]\n",
    "    mAvg = Data['mAvg'][i]\n",
    "    LSL = Data['LSL'][i]\n",
    "    USL = Data['USL'][i]\n",
    "    \n",
    "    UBB_cross = (TRIN > UBB) and (TRIN_prev < UBB)  # TRIN 이 UBB 를 상향 돌파했는지 check\n",
    "    LBB_cross = (TRIN < LBB) and (TRIN_prev > LBB)  # TRIN 이 LBB 를 하향 돌파했는지 check\n",
    "    mAvg_cross_up = (TRIN > mAvg) and (TRIN_prev < mAvg)  # TRIN 이 mAvg 를 상향 돌파 ?\n",
    "    mAvg_cross_down = (TRIN < mAvg) and (TRIN_prev > mAvg) # TRIN 이 mAvg 를 하향 돌파 ?\n",
    "    USL_cross = (TRIN > USL) and (TRIN_prev < USL)  # TRIN 이 upper stop loss 를 상향 돌파 ?\n",
    "    LSL_cross = (TRIN < LSL) and (TRIN_prev > LSL)  # TRIN 이 lower stop loss 를 하향 돌파 ?\n",
    "    \n",
    "    if (UBB_cross and (not buy_flag) and flag == 1): # UBB 를 상향 돌파하고 buy order 가능\n",
    "        flag = 0 # 거래가 시작됨\n",
    "        buy_flag = True   # 이전 transaction 이 buy 였음을 표시\n",
    "        sell_flag = False\n",
    "        transaction_start_price = future_cost  # 매수가격\n",
    "        # order type, order generated, reason of order, 0 - stop loss not triggered\n",
    "        order_details = [1, \"BUY\", \"UBB crossed\", \"0\", \"position taken\"]\n",
    "    elif (LBB_cross and (not sell_flag) and flag == 1): # LBB 를 하향 돌파하고 sell order 가능\n",
    "        flag = 0\n",
    "        buy_flag = False\n",
    "        sell_flag = True   # 이전 transaction 이 sell 이었음을 표시\n",
    "        transaction_start_price = future_cost\n",
    "        order_details = [-1, \"SELL\", \"LBB crossed\", \"0\", \"position taken\"]\n",
    "    elif (mAvg_cross_up and flag == 0 and (not buy_flag)) # \n",
    "        "
   ]
  },
  {
   "cell_type": "code",
   "execution_count": null,
   "metadata": {},
   "outputs": [],
   "source": []
  }
 ],
 "metadata": {
  "kernelspec": {
   "display_name": "Python 3",
   "language": "python",
   "name": "python3"
  },
  "language_info": {
   "codemirror_mode": {
    "name": "ipython",
    "version": 3
   },
   "file_extension": ".py",
   "mimetype": "text/x-python",
   "name": "python",
   "nbconvert_exporter": "python",
   "pygments_lexer": "ipython3",
   "version": "3.6.0"
  }
 },
 "nbformat": 4,
 "nbformat_minor": 2
}
